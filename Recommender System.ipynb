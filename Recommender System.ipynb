{
 "cells": [
  {
   "cell_type": "markdown",
   "metadata": {},
   "source": [
    "### Importing Libraries"
   ]
  },
  {
   "cell_type": "code",
   "execution_count": 314,
   "metadata": {},
   "outputs": [],
   "source": [
    "import numpy as np\n",
    "import pandas as pd\n",
    "import os  "
   ]
  },
  {
   "cell_type": "code",
   "execution_count": 315,
   "metadata": {},
   "outputs": [],
   "source": [
    "import matplotlib.pyplot as plt\n",
    "import seaborn as sns  \n",
    "# %matplotlib inline\n",
    "plt.style.use(\"ggplot\")\n",
    "plt.rc(\"font\", size=14)\n",
    "\n"
   ]
  },
  {
   "cell_type": "code",
   "execution_count": 316,
   "metadata": {},
   "outputs": [],
   "source": [
    "import sklearn\n",
    "from sklearn.decomposition import TruncatedSVD\n",
    "from sklearn.linear_model import LogisticRegression      \n",
    "from sklearn import preprocessing                                           \n",
    "from sklearn.model_selection import train_test_split, cross_val_score      \n",
    "from sklearn.impute import SimpleImputer                                   \n",
    "\n",
    "from sklearn.metrics import confusion_matrix                                \n",
    "from sklearn.metrics import precision_recall_curve                          \n",
    "from sklearn.metrics import roc_curve                                       \n",
    "from sklearn.metrics import auc                                             \n",
    "from sklearn.metrics import log_loss                                        \n",
    "from sklearn.metrics import roc_auc_score                                   \n",
    "from sklearn.metrics import classification_report                         "
   ]
  },
  {
   "cell_type": "code",
   "execution_count": 317,
   "metadata": {},
   "outputs": [],
   "source": [
    "from sklearn import preprocessing "
   ]
  },
  {
   "cell_type": "markdown",
   "metadata": {},
   "source": [
    "### Reading data"
   ]
  },
  {
   "cell_type": "code",
   "execution_count": 318,
   "metadata": {},
   "outputs": [],
   "source": [
    "dfOrdersItems = pd.read_csv('olist_order_items_dataset.csv')\n",
    "\n",
    "dfOrders = pd.read_csv('olist_orders_dataset.csv')\n",
    "\n",
    "dforder_payments = pd.read_csv(\"olist_order_payments_dataset.csv\")\n",
    "\n",
    "dfProducts = pd.read_csv('olist_products_dataset.csv')\n",
    "\n",
    "dfOrdersReviews = pd.read_csv('olist_order_reviews_dataset.csv')\n",
    "\n",
    "dfSellers = pd.read_csv('olist_sellers_dataset.csv')\n",
    "\n",
    "dfCustomers = pd.read_csv('olist_customers_dataset.csv')\n",
    "\n",
    "dfGeolocation = pd.read_csv('olist_geolocation_dataset.csv')\n",
    "\n",
    "dfTranslation = pd.read_csv('product_category_name_translation.csv')\n"
   ]
  },
  {
   "cell_type": "code",
   "execution_count": 319,
   "metadata": {},
   "outputs": [
    {
     "data": {
      "text/html": [
       "<div>\n",
       "<style scoped>\n",
       "    .dataframe tbody tr th:only-of-type {\n",
       "        vertical-align: middle;\n",
       "    }\n",
       "\n",
       "    .dataframe tbody tr th {\n",
       "        vertical-align: top;\n",
       "    }\n",
       "\n",
       "    .dataframe thead th {\n",
       "        text-align: right;\n",
       "    }\n",
       "</style>\n",
       "<table border=\"1\" class=\"dataframe\">\n",
       "  <thead>\n",
       "    <tr style=\"text-align: right;\">\n",
       "      <th></th>\n",
       "      <th>product_category_name</th>\n",
       "      <th>product_category_name_english</th>\n",
       "    </tr>\n",
       "  </thead>\n",
       "  <tbody>\n",
       "    <tr>\n",
       "      <th>0</th>\n",
       "      <td>beleza_saude</td>\n",
       "      <td>health_beauty</td>\n",
       "    </tr>\n",
       "    <tr>\n",
       "      <th>1</th>\n",
       "      <td>informatica_acessorios</td>\n",
       "      <td>computers_accessories</td>\n",
       "    </tr>\n",
       "  </tbody>\n",
       "</table>\n",
       "</div>"
      ],
      "text/plain": [
       "    product_category_name product_category_name_english\n",
       "0            beleza_saude                 health_beauty\n",
       "1  informatica_acessorios         computers_accessories"
      ]
     },
     "execution_count": 319,
     "metadata": {},
     "output_type": "execute_result"
    }
   ],
   "source": [
    "dfTranslation.head(2)"
   ]
  },
  {
   "cell_type": "code",
   "execution_count": 320,
   "metadata": {},
   "outputs": [
    {
     "data": {
      "text/html": [
       "<div>\n",
       "<style scoped>\n",
       "    .dataframe tbody tr th:only-of-type {\n",
       "        vertical-align: middle;\n",
       "    }\n",
       "\n",
       "    .dataframe tbody tr th {\n",
       "        vertical-align: top;\n",
       "    }\n",
       "\n",
       "    .dataframe thead th {\n",
       "        text-align: right;\n",
       "    }\n",
       "</style>\n",
       "<table border=\"1\" class=\"dataframe\">\n",
       "  <thead>\n",
       "    <tr style=\"text-align: right;\">\n",
       "      <th></th>\n",
       "      <th>product_id</th>\n",
       "      <th>product_category_name</th>\n",
       "      <th>product_name_lenght</th>\n",
       "      <th>product_description_lenght</th>\n",
       "      <th>product_photos_qty</th>\n",
       "      <th>product_weight_g</th>\n",
       "      <th>product_length_cm</th>\n",
       "      <th>product_height_cm</th>\n",
       "      <th>product_width_cm</th>\n",
       "    </tr>\n",
       "  </thead>\n",
       "  <tbody>\n",
       "    <tr>\n",
       "      <th>0</th>\n",
       "      <td>1e9e8ef04dbcff4541ed26657ea517e5</td>\n",
       "      <td>perfumaria</td>\n",
       "      <td>40.0</td>\n",
       "      <td>287.0</td>\n",
       "      <td>1.0</td>\n",
       "      <td>225.0</td>\n",
       "      <td>16.0</td>\n",
       "      <td>10.0</td>\n",
       "      <td>14.0</td>\n",
       "    </tr>\n",
       "    <tr>\n",
       "      <th>1</th>\n",
       "      <td>3aa071139cb16b67ca9e5dea641aaa2f</td>\n",
       "      <td>artes</td>\n",
       "      <td>44.0</td>\n",
       "      <td>276.0</td>\n",
       "      <td>1.0</td>\n",
       "      <td>1000.0</td>\n",
       "      <td>30.0</td>\n",
       "      <td>18.0</td>\n",
       "      <td>20.0</td>\n",
       "    </tr>\n",
       "  </tbody>\n",
       "</table>\n",
       "</div>"
      ],
      "text/plain": [
       "                         product_id product_category_name  \\\n",
       "0  1e9e8ef04dbcff4541ed26657ea517e5            perfumaria   \n",
       "1  3aa071139cb16b67ca9e5dea641aaa2f                 artes   \n",
       "\n",
       "   product_name_lenght  product_description_lenght  product_photos_qty  \\\n",
       "0                 40.0                       287.0                 1.0   \n",
       "1                 44.0                       276.0                 1.0   \n",
       "\n",
       "   product_weight_g  product_length_cm  product_height_cm  product_width_cm  \n",
       "0             225.0               16.0               10.0              14.0  \n",
       "1            1000.0               30.0               18.0              20.0  "
      ]
     },
     "execution_count": 320,
     "metadata": {},
     "output_type": "execute_result"
    }
   ],
   "source": [
    "dfProducts.head(2)"
   ]
  },
  {
   "cell_type": "markdown",
   "metadata": {},
   "source": [
    "### Product data"
   ]
  },
  {
   "cell_type": "code",
   "execution_count": 321,
   "metadata": {},
   "outputs": [
    {
     "data": {
      "text/html": [
       "<div>\n",
       "<style scoped>\n",
       "    .dataframe tbody tr th:only-of-type {\n",
       "        vertical-align: middle;\n",
       "    }\n",
       "\n",
       "    .dataframe tbody tr th {\n",
       "        vertical-align: top;\n",
       "    }\n",
       "\n",
       "    .dataframe thead th {\n",
       "        text-align: right;\n",
       "    }\n",
       "</style>\n",
       "<table border=\"1\" class=\"dataframe\">\n",
       "  <thead>\n",
       "    <tr style=\"text-align: right;\">\n",
       "      <th></th>\n",
       "      <th>product_id</th>\n",
       "      <th>product_category</th>\n",
       "    </tr>\n",
       "  </thead>\n",
       "  <tbody>\n",
       "    <tr>\n",
       "      <th>0</th>\n",
       "      <td>1e9e8ef04dbcff4541ed26657ea517e5</td>\n",
       "      <td>perfumery</td>\n",
       "    </tr>\n",
       "    <tr>\n",
       "      <th>1</th>\n",
       "      <td>6a2fb4dd53d2cdb88e0432f1284a004c</td>\n",
       "      <td>perfumery</td>\n",
       "    </tr>\n",
       "    <tr>\n",
       "      <th>2</th>\n",
       "      <td>0d009643171aee696f4733340bc2fdd0</td>\n",
       "      <td>perfumery</td>\n",
       "    </tr>\n",
       "    <tr>\n",
       "      <th>3</th>\n",
       "      <td>b1eae565a61935e0011ee7682fef9dc9</td>\n",
       "      <td>perfumery</td>\n",
       "    </tr>\n",
       "    <tr>\n",
       "      <th>4</th>\n",
       "      <td>8da90b37f0fb171b4877c124f965b1f6</td>\n",
       "      <td>perfumery</td>\n",
       "    </tr>\n",
       "  </tbody>\n",
       "</table>\n",
       "</div>"
      ],
      "text/plain": [
       "                         product_id product_category\n",
       "0  1e9e8ef04dbcff4541ed26657ea517e5        perfumery\n",
       "1  6a2fb4dd53d2cdb88e0432f1284a004c        perfumery\n",
       "2  0d009643171aee696f4733340bc2fdd0        perfumery\n",
       "3  b1eae565a61935e0011ee7682fef9dc9        perfumery\n",
       "4  8da90b37f0fb171b4877c124f965b1f6        perfumery"
      ]
     },
     "execution_count": 321,
     "metadata": {},
     "output_type": "execute_result"
    }
   ],
   "source": [
    "dfProducts = dfProducts.merge(dfTranslation, on='product_category_name')\n",
    "\n",
    "dfProducts.drop('product_category_name', axis=1, inplace=True)\n",
    "\n",
    "dfProducts.rename(columns={\n",
    "    'product_category_name_english' : 'product_category'\n",
    "}, inplace=True)\n",
    "\n",
    "dfProducts = dfProducts[['product_id','product_category']]\n",
    "dfProducts.head()"
   ]
  },
  {
   "cell_type": "code",
   "execution_count": 322,
   "metadata": {},
   "outputs": [
    {
     "data": {
      "text/plain": [
       "32328"
      ]
     },
     "execution_count": 322,
     "metadata": {},
     "output_type": "execute_result"
    }
   ],
   "source": [
    "len(dfProducts)"
   ]
  },
  {
   "cell_type": "code",
   "execution_count": 323,
   "metadata": {},
   "outputs": [
    {
     "data": {
      "text/html": [
       "<div>\n",
       "<style scoped>\n",
       "    .dataframe tbody tr th:only-of-type {\n",
       "        vertical-align: middle;\n",
       "    }\n",
       "\n",
       "    .dataframe tbody tr th {\n",
       "        vertical-align: top;\n",
       "    }\n",
       "\n",
       "    .dataframe thead th {\n",
       "        text-align: right;\n",
       "    }\n",
       "</style>\n",
       "<table border=\"1\" class=\"dataframe\">\n",
       "  <thead>\n",
       "    <tr style=\"text-align: right;\">\n",
       "      <th></th>\n",
       "      <th>geolocation_zip_code_prefix</th>\n",
       "      <th>geolocation_lat</th>\n",
       "      <th>geolocation_lng</th>\n",
       "      <th>geolocation_city</th>\n",
       "      <th>geolocation_state</th>\n",
       "    </tr>\n",
       "  </thead>\n",
       "  <tbody>\n",
       "    <tr>\n",
       "      <th>0</th>\n",
       "      <td>1037</td>\n",
       "      <td>-23.545621</td>\n",
       "      <td>-46.639292</td>\n",
       "      <td>sao paulo</td>\n",
       "      <td>SP</td>\n",
       "    </tr>\n",
       "    <tr>\n",
       "      <th>1</th>\n",
       "      <td>1046</td>\n",
       "      <td>-23.546081</td>\n",
       "      <td>-46.644820</td>\n",
       "      <td>sao paulo</td>\n",
       "      <td>SP</td>\n",
       "    </tr>\n",
       "  </tbody>\n",
       "</table>\n",
       "</div>"
      ],
      "text/plain": [
       "   geolocation_zip_code_prefix  geolocation_lat  geolocation_lng  \\\n",
       "0                         1037       -23.545621       -46.639292   \n",
       "1                         1046       -23.546081       -46.644820   \n",
       "\n",
       "  geolocation_city geolocation_state  \n",
       "0        sao paulo                SP  \n",
       "1        sao paulo                SP  "
      ]
     },
     "execution_count": 323,
     "metadata": {},
     "output_type": "execute_result"
    }
   ],
   "source": [
    "dfGeolocation.head(2)"
   ]
  },
  {
   "cell_type": "code",
   "execution_count": 324,
   "metadata": {},
   "outputs": [
    {
     "data": {
      "text/html": [
       "<div>\n",
       "<style scoped>\n",
       "    .dataframe tbody tr th:only-of-type {\n",
       "        vertical-align: middle;\n",
       "    }\n",
       "\n",
       "    .dataframe tbody tr th {\n",
       "        vertical-align: top;\n",
       "    }\n",
       "\n",
       "    .dataframe thead th {\n",
       "        text-align: right;\n",
       "    }\n",
       "</style>\n",
       "<table border=\"1\" class=\"dataframe\">\n",
       "  <thead>\n",
       "    <tr style=\"text-align: right;\">\n",
       "      <th></th>\n",
       "      <th>seller_id</th>\n",
       "      <th>seller_zip_code_prefix</th>\n",
       "      <th>seller_city</th>\n",
       "      <th>seller_state</th>\n",
       "    </tr>\n",
       "  </thead>\n",
       "  <tbody>\n",
       "    <tr>\n",
       "      <th>0</th>\n",
       "      <td>3442f8959a84dea7ee197c632cb2df15</td>\n",
       "      <td>13023</td>\n",
       "      <td>campinas</td>\n",
       "      <td>SP</td>\n",
       "    </tr>\n",
       "    <tr>\n",
       "      <th>1</th>\n",
       "      <td>d1b65fc7debc3361ea86b5f14c68d2e2</td>\n",
       "      <td>13844</td>\n",
       "      <td>mogi guacu</td>\n",
       "      <td>SP</td>\n",
       "    </tr>\n",
       "  </tbody>\n",
       "</table>\n",
       "</div>"
      ],
      "text/plain": [
       "                          seller_id  seller_zip_code_prefix seller_city  \\\n",
       "0  3442f8959a84dea7ee197c632cb2df15                   13023    campinas   \n",
       "1  d1b65fc7debc3361ea86b5f14c68d2e2                   13844  mogi guacu   \n",
       "\n",
       "  seller_state  \n",
       "0           SP  \n",
       "1           SP  "
      ]
     },
     "execution_count": 324,
     "metadata": {},
     "output_type": "execute_result"
    }
   ],
   "source": [
    "dfSellers.head(2)"
   ]
  },
  {
   "cell_type": "markdown",
   "metadata": {},
   "source": [
    "### Seller data"
   ]
  },
  {
   "cell_type": "code",
   "execution_count": 325,
   "metadata": {},
   "outputs": [
    {
     "data": {
      "text/html": [
       "<div>\n",
       "<style scoped>\n",
       "    .dataframe tbody tr th:only-of-type {\n",
       "        vertical-align: middle;\n",
       "    }\n",
       "\n",
       "    .dataframe tbody tr th {\n",
       "        vertical-align: top;\n",
       "    }\n",
       "\n",
       "    .dataframe thead th {\n",
       "        text-align: right;\n",
       "    }\n",
       "</style>\n",
       "<table border=\"1\" class=\"dataframe\">\n",
       "  <thead>\n",
       "    <tr style=\"text-align: right;\">\n",
       "      <th></th>\n",
       "      <th>seller_id</th>\n",
       "      <th>seller_lat</th>\n",
       "      <th>sellet_lng</th>\n",
       "    </tr>\n",
       "  </thead>\n",
       "  <tbody>\n",
       "    <tr>\n",
       "      <th>0</th>\n",
       "      <td>3442f8959a84dea7ee197c632cb2df15</td>\n",
       "      <td>-22.898536</td>\n",
       "      <td>-47.063125</td>\n",
       "    </tr>\n",
       "    <tr>\n",
       "      <th>1</th>\n",
       "      <td>3442f8959a84dea7ee197c632cb2df15</td>\n",
       "      <td>-22.895499</td>\n",
       "      <td>-47.061944</td>\n",
       "    </tr>\n",
       "    <tr>\n",
       "      <th>2</th>\n",
       "      <td>3442f8959a84dea7ee197c632cb2df15</td>\n",
       "      <td>-22.891740</td>\n",
       "      <td>-47.060820</td>\n",
       "    </tr>\n",
       "    <tr>\n",
       "      <th>3</th>\n",
       "      <td>3442f8959a84dea7ee197c632cb2df15</td>\n",
       "      <td>-22.895762</td>\n",
       "      <td>-47.066144</td>\n",
       "    </tr>\n",
       "    <tr>\n",
       "      <th>4</th>\n",
       "      <td>3442f8959a84dea7ee197c632cb2df15</td>\n",
       "      <td>-22.896154</td>\n",
       "      <td>-47.062431</td>\n",
       "    </tr>\n",
       "  </tbody>\n",
       "</table>\n",
       "</div>"
      ],
      "text/plain": [
       "                          seller_id  seller_lat  sellet_lng\n",
       "0  3442f8959a84dea7ee197c632cb2df15  -22.898536  -47.063125\n",
       "1  3442f8959a84dea7ee197c632cb2df15  -22.895499  -47.061944\n",
       "2  3442f8959a84dea7ee197c632cb2df15  -22.891740  -47.060820\n",
       "3  3442f8959a84dea7ee197c632cb2df15  -22.895762  -47.066144\n",
       "4  3442f8959a84dea7ee197c632cb2df15  -22.896154  -47.062431"
      ]
     },
     "execution_count": 325,
     "metadata": {},
     "output_type": "execute_result"
    }
   ],
   "source": [
    "dfSellerx = pd.merge(dfSellers, dfGeolocation, left_on='seller_zip_code_prefix', right_on='geolocation_zip_code_prefix')\n",
    "dfSellerx.rename(columns={\n",
    "    'geolocation_lat' : 'seller_lat',\n",
    "    'geolocation_lng' : 'sellet_lng',\n",
    "}, inplace=True)\n",
    "dfSellerx = dfSellerx[['seller_id','seller_lat','sellet_lng']]\n",
    "dfSellerx.head()\n"
   ]
  },
  {
   "cell_type": "code",
   "execution_count": 326,
   "metadata": {},
   "outputs": [
    {
     "data": {
      "text/plain": [
       "435087"
      ]
     },
     "execution_count": 326,
     "metadata": {},
     "output_type": "execute_result"
    }
   ],
   "source": [
    "len(dfSellerx)"
   ]
  },
  {
   "cell_type": "code",
   "execution_count": 327,
   "metadata": {},
   "outputs": [
    {
     "data": {
      "text/html": [
       "<div>\n",
       "<style scoped>\n",
       "    .dataframe tbody tr th:only-of-type {\n",
       "        vertical-align: middle;\n",
       "    }\n",
       "\n",
       "    .dataframe tbody tr th {\n",
       "        vertical-align: top;\n",
       "    }\n",
       "\n",
       "    .dataframe thead th {\n",
       "        text-align: right;\n",
       "    }\n",
       "</style>\n",
       "<table border=\"1\" class=\"dataframe\">\n",
       "  <thead>\n",
       "    <tr style=\"text-align: right;\">\n",
       "      <th></th>\n",
       "      <th>customer_id</th>\n",
       "      <th>customer_unique_id</th>\n",
       "      <th>customer_zip_code_prefix</th>\n",
       "      <th>customer_city</th>\n",
       "      <th>customer_state</th>\n",
       "    </tr>\n",
       "  </thead>\n",
       "  <tbody>\n",
       "    <tr>\n",
       "      <th>0</th>\n",
       "      <td>06b8999e2fba1a1fbc88172c00ba8bc7</td>\n",
       "      <td>861eff4711a542e4b93843c6dd7febb0</td>\n",
       "      <td>14409</td>\n",
       "      <td>franca</td>\n",
       "      <td>SP</td>\n",
       "    </tr>\n",
       "    <tr>\n",
       "      <th>1</th>\n",
       "      <td>18955e83d337fd6b2def6b18a428ac77</td>\n",
       "      <td>290c77bc529b7ac935b93aa66c333dc3</td>\n",
       "      <td>9790</td>\n",
       "      <td>sao bernardo do campo</td>\n",
       "      <td>SP</td>\n",
       "    </tr>\n",
       "  </tbody>\n",
       "</table>\n",
       "</div>"
      ],
      "text/plain": [
       "                        customer_id                customer_unique_id  \\\n",
       "0  06b8999e2fba1a1fbc88172c00ba8bc7  861eff4711a542e4b93843c6dd7febb0   \n",
       "1  18955e83d337fd6b2def6b18a428ac77  290c77bc529b7ac935b93aa66c333dc3   \n",
       "\n",
       "   customer_zip_code_prefix          customer_city customer_state  \n",
       "0                     14409                 franca             SP  \n",
       "1                      9790  sao bernardo do campo             SP  "
      ]
     },
     "execution_count": 327,
     "metadata": {},
     "output_type": "execute_result"
    }
   ],
   "source": [
    "dfCustomers.head(2)"
   ]
  },
  {
   "cell_type": "code",
   "execution_count": 328,
   "metadata": {},
   "outputs": [
    {
     "data": {
      "text/html": [
       "<div>\n",
       "<style scoped>\n",
       "    .dataframe tbody tr th:only-of-type {\n",
       "        vertical-align: middle;\n",
       "    }\n",
       "\n",
       "    .dataframe tbody tr th {\n",
       "        vertical-align: top;\n",
       "    }\n",
       "\n",
       "    .dataframe thead th {\n",
       "        text-align: right;\n",
       "    }\n",
       "</style>\n",
       "<table border=\"1\" class=\"dataframe\">\n",
       "  <thead>\n",
       "    <tr style=\"text-align: right;\">\n",
       "      <th></th>\n",
       "      <th>geolocation_zip_code_prefix</th>\n",
       "      <th>geolocation_lat</th>\n",
       "      <th>geolocation_lng</th>\n",
       "      <th>geolocation_city</th>\n",
       "      <th>geolocation_state</th>\n",
       "    </tr>\n",
       "  </thead>\n",
       "  <tbody>\n",
       "    <tr>\n",
       "      <th>0</th>\n",
       "      <td>1037</td>\n",
       "      <td>-23.545621</td>\n",
       "      <td>-46.639292</td>\n",
       "      <td>sao paulo</td>\n",
       "      <td>SP</td>\n",
       "    </tr>\n",
       "    <tr>\n",
       "      <th>1</th>\n",
       "      <td>1046</td>\n",
       "      <td>-23.546081</td>\n",
       "      <td>-46.644820</td>\n",
       "      <td>sao paulo</td>\n",
       "      <td>SP</td>\n",
       "    </tr>\n",
       "  </tbody>\n",
       "</table>\n",
       "</div>"
      ],
      "text/plain": [
       "   geolocation_zip_code_prefix  geolocation_lat  geolocation_lng  \\\n",
       "0                         1037       -23.545621       -46.639292   \n",
       "1                         1046       -23.546081       -46.644820   \n",
       "\n",
       "  geolocation_city geolocation_state  \n",
       "0        sao paulo                SP  \n",
       "1        sao paulo                SP  "
      ]
     },
     "execution_count": 328,
     "metadata": {},
     "output_type": "execute_result"
    }
   ],
   "source": [
    "dfGeolocation.head(2)"
   ]
  },
  {
   "cell_type": "markdown",
   "metadata": {},
   "source": [
    "### Customer data"
   ]
  },
  {
   "cell_type": "code",
   "execution_count": 329,
   "metadata": {},
   "outputs": [
    {
     "data": {
      "text/html": [
       "<div>\n",
       "<style scoped>\n",
       "    .dataframe tbody tr th:only-of-type {\n",
       "        vertical-align: middle;\n",
       "    }\n",
       "\n",
       "    .dataframe tbody tr th {\n",
       "        vertical-align: top;\n",
       "    }\n",
       "\n",
       "    .dataframe thead th {\n",
       "        text-align: right;\n",
       "    }\n",
       "</style>\n",
       "<table border=\"1\" class=\"dataframe\">\n",
       "  <thead>\n",
       "    <tr style=\"text-align: right;\">\n",
       "      <th></th>\n",
       "      <th>customer_id</th>\n",
       "      <th>customer_lat</th>\n",
       "      <th>customer_lng</th>\n",
       "    </tr>\n",
       "  </thead>\n",
       "  <tbody>\n",
       "    <tr>\n",
       "      <th>0</th>\n",
       "      <td>06b8999e2fba1a1fbc88172c00ba8bc7</td>\n",
       "      <td>-20.509897</td>\n",
       "      <td>-47.397866</td>\n",
       "    </tr>\n",
       "    <tr>\n",
       "      <th>1</th>\n",
       "      <td>06b8999e2fba1a1fbc88172c00ba8bc7</td>\n",
       "      <td>-20.497396</td>\n",
       "      <td>-47.399241</td>\n",
       "    </tr>\n",
       "    <tr>\n",
       "      <th>2</th>\n",
       "      <td>06b8999e2fba1a1fbc88172c00ba8bc7</td>\n",
       "      <td>-20.510459</td>\n",
       "      <td>-47.399553</td>\n",
       "    </tr>\n",
       "    <tr>\n",
       "      <th>3</th>\n",
       "      <td>06b8999e2fba1a1fbc88172c00ba8bc7</td>\n",
       "      <td>-20.480940</td>\n",
       "      <td>-47.394161</td>\n",
       "    </tr>\n",
       "    <tr>\n",
       "      <th>4</th>\n",
       "      <td>06b8999e2fba1a1fbc88172c00ba8bc7</td>\n",
       "      <td>-20.515413</td>\n",
       "      <td>-47.398194</td>\n",
       "    </tr>\n",
       "  </tbody>\n",
       "</table>\n",
       "</div>"
      ],
      "text/plain": [
       "                        customer_id  customer_lat  customer_lng\n",
       "0  06b8999e2fba1a1fbc88172c00ba8bc7    -20.509897    -47.397866\n",
       "1  06b8999e2fba1a1fbc88172c00ba8bc7    -20.497396    -47.399241\n",
       "2  06b8999e2fba1a1fbc88172c00ba8bc7    -20.510459    -47.399553\n",
       "3  06b8999e2fba1a1fbc88172c00ba8bc7    -20.480940    -47.394161\n",
       "4  06b8999e2fba1a1fbc88172c00ba8bc7    -20.515413    -47.398194"
      ]
     },
     "execution_count": 329,
     "metadata": {},
     "output_type": "execute_result"
    }
   ],
   "source": [
    "dfCustomerx = pd.merge(dfCustomers, dfGeolocation, left_on='customer_zip_code_prefix', right_on='geolocation_zip_code_prefix')\n",
    "dfCustomerx.rename(columns={\n",
    "    'geolocation_lat' : 'customer_lat',\n",
    "    'geolocation_lng' : 'customer_lng',\n",
    "}, inplace=True)\n",
    "dfCustomerx = dfCustomerx[['customer_id','customer_lat','customer_lng']]\n",
    "dfCustomerx.head()"
   ]
  },
  {
   "cell_type": "markdown",
   "metadata": {},
   "source": [
    "### Merging the data"
   ]
  },
  {
   "cell_type": "code",
   "execution_count": 331,
   "metadata": {},
   "outputs": [],
   "source": [
    "df_order= pd.merge(dfOrders, dfOrdersItems, on='order_id', how='right')"
   ]
  },
  {
   "cell_type": "code",
   "execution_count": 332,
   "metadata": {},
   "outputs": [],
   "source": [
    "df_prd= df_order.merge(dfProducts, on='product_id')"
   ]
  },
  {
   "cell_type": "code",
   "execution_count": 333,
   "metadata": {},
   "outputs": [],
   "source": [
    "df_rev= df_prd.merge(dfOrdersReviews, on='order_id')"
   ]
  },
  {
   "cell_type": "code",
   "execution_count": 334,
   "metadata": {},
   "outputs": [],
   "source": [
    "df_sel = df_rev.merge(dfSellerx, on='seller_id')"
   ]
  },
  {
   "cell_type": "code",
   "execution_count": 335,
   "metadata": {},
   "outputs": [
    {
     "data": {
      "text/html": [
       "<div>\n",
       "<style scoped>\n",
       "    .dataframe tbody tr th:only-of-type {\n",
       "        vertical-align: middle;\n",
       "    }\n",
       "\n",
       "    .dataframe tbody tr th {\n",
       "        vertical-align: top;\n",
       "    }\n",
       "\n",
       "    .dataframe thead th {\n",
       "        text-align: right;\n",
       "    }\n",
       "</style>\n",
       "<table border=\"1\" class=\"dataframe\">\n",
       "  <thead>\n",
       "    <tr style=\"text-align: right;\">\n",
       "      <th></th>\n",
       "      <th>order_id</th>\n",
       "      <th>customer_id</th>\n",
       "      <th>order_status</th>\n",
       "      <th>order_purchase_timestamp</th>\n",
       "      <th>order_approved_at</th>\n",
       "      <th>order_delivered_carrier_date</th>\n",
       "      <th>order_delivered_customer_date</th>\n",
       "      <th>order_estimated_delivery_date</th>\n",
       "      <th>order_item_id</th>\n",
       "      <th>product_id</th>\n",
       "      <th>...</th>\n",
       "      <th>freight_value</th>\n",
       "      <th>product_category</th>\n",
       "      <th>review_id</th>\n",
       "      <th>review_score</th>\n",
       "      <th>review_comment_title</th>\n",
       "      <th>review_comment_message</th>\n",
       "      <th>review_creation_date</th>\n",
       "      <th>review_answer_timestamp</th>\n",
       "      <th>seller_lat</th>\n",
       "      <th>sellet_lng</th>\n",
       "    </tr>\n",
       "  </thead>\n",
       "  <tbody>\n",
       "    <tr>\n",
       "      <th>0</th>\n",
       "      <td>e481f51cbdc54678b7cc49136f2d6af7</td>\n",
       "      <td>9ef432eb6251297304e76186b10a928d</td>\n",
       "      <td>delivered</td>\n",
       "      <td>2017-10-02 10:56:33</td>\n",
       "      <td>2017-10-02 11:07:15</td>\n",
       "      <td>2017-10-04 19:55:00</td>\n",
       "      <td>2017-10-10 21:25:13</td>\n",
       "      <td>2017-10-18 00:00:00</td>\n",
       "      <td>1</td>\n",
       "      <td>87285b34884572647811a353c7ac498a</td>\n",
       "      <td>...</td>\n",
       "      <td>8.72</td>\n",
       "      <td>housewares</td>\n",
       "      <td>a54f0611adc9ed256b57ede6b6eb5114</td>\n",
       "      <td>4</td>\n",
       "      <td>NaN</td>\n",
       "      <td>Não testei o produto ainda, mas ele veio corre...</td>\n",
       "      <td>2017-10-11 00:00:00</td>\n",
       "      <td>2017-10-12 03:43:48</td>\n",
       "      <td>-23.680114</td>\n",
       "      <td>-46.452454</td>\n",
       "    </tr>\n",
       "    <tr>\n",
       "      <th>1</th>\n",
       "      <td>e481f51cbdc54678b7cc49136f2d6af7</td>\n",
       "      <td>9ef432eb6251297304e76186b10a928d</td>\n",
       "      <td>delivered</td>\n",
       "      <td>2017-10-02 10:56:33</td>\n",
       "      <td>2017-10-02 11:07:15</td>\n",
       "      <td>2017-10-04 19:55:00</td>\n",
       "      <td>2017-10-10 21:25:13</td>\n",
       "      <td>2017-10-18 00:00:00</td>\n",
       "      <td>1</td>\n",
       "      <td>87285b34884572647811a353c7ac498a</td>\n",
       "      <td>...</td>\n",
       "      <td>8.72</td>\n",
       "      <td>housewares</td>\n",
       "      <td>a54f0611adc9ed256b57ede6b6eb5114</td>\n",
       "      <td>4</td>\n",
       "      <td>NaN</td>\n",
       "      <td>Não testei o produto ainda, mas ele veio corre...</td>\n",
       "      <td>2017-10-11 00:00:00</td>\n",
       "      <td>2017-10-12 03:43:48</td>\n",
       "      <td>-23.675223</td>\n",
       "      <td>-46.441038</td>\n",
       "    </tr>\n",
       "  </tbody>\n",
       "</table>\n",
       "<p>2 rows × 23 columns</p>\n",
       "</div>"
      ],
      "text/plain": [
       "                           order_id                       customer_id  \\\n",
       "0  e481f51cbdc54678b7cc49136f2d6af7  9ef432eb6251297304e76186b10a928d   \n",
       "1  e481f51cbdc54678b7cc49136f2d6af7  9ef432eb6251297304e76186b10a928d   \n",
       "\n",
       "  order_status order_purchase_timestamp    order_approved_at  \\\n",
       "0    delivered      2017-10-02 10:56:33  2017-10-02 11:07:15   \n",
       "1    delivered      2017-10-02 10:56:33  2017-10-02 11:07:15   \n",
       "\n",
       "  order_delivered_carrier_date order_delivered_customer_date  \\\n",
       "0          2017-10-04 19:55:00           2017-10-10 21:25:13   \n",
       "1          2017-10-04 19:55:00           2017-10-10 21:25:13   \n",
       "\n",
       "  order_estimated_delivery_date  order_item_id  \\\n",
       "0           2017-10-18 00:00:00              1   \n",
       "1           2017-10-18 00:00:00              1   \n",
       "\n",
       "                         product_id  ... freight_value product_category  \\\n",
       "0  87285b34884572647811a353c7ac498a  ...          8.72       housewares   \n",
       "1  87285b34884572647811a353c7ac498a  ...          8.72       housewares   \n",
       "\n",
       "                          review_id  review_score review_comment_title  \\\n",
       "0  a54f0611adc9ed256b57ede6b6eb5114             4                  NaN   \n",
       "1  a54f0611adc9ed256b57ede6b6eb5114             4                  NaN   \n",
       "\n",
       "                              review_comment_message  review_creation_date  \\\n",
       "0  Não testei o produto ainda, mas ele veio corre...   2017-10-11 00:00:00   \n",
       "1  Não testei o produto ainda, mas ele veio corre...   2017-10-11 00:00:00   \n",
       "\n",
       "  review_answer_timestamp seller_lat sellet_lng  \n",
       "0     2017-10-12 03:43:48 -23.680114 -46.452454  \n",
       "1     2017-10-12 03:43:48 -23.675223 -46.441038  \n",
       "\n",
       "[2 rows x 23 columns]"
      ]
     },
     "execution_count": 335,
     "metadata": {},
     "output_type": "execute_result"
    }
   ],
   "source": [
    "df_sel.head(2)"
   ]
  },
  {
   "cell_type": "code",
   "execution_count": 336,
   "metadata": {},
   "outputs": [
    {
     "data": {
      "text/plain": [
       "16144263"
      ]
     },
     "execution_count": 336,
     "metadata": {},
     "output_type": "execute_result"
    }
   ],
   "source": [
    "len(df_sel)"
   ]
  },
  {
   "cell_type": "code",
   "execution_count": 337,
   "metadata": {},
   "outputs": [
    {
     "data": {
      "text/plain": [
       "15083455"
      ]
     },
     "execution_count": 337,
     "metadata": {},
     "output_type": "execute_result"
    }
   ],
   "source": [
    "len(dfCustomerx)"
   ]
  },
  {
   "cell_type": "code",
   "execution_count": 338,
   "metadata": {},
   "outputs": [
    {
     "name": "stdout",
     "output_type": "stream",
     "text": [
      "161442\n"
     ]
    }
   ],
   "source": [
    "df_sel = df_sel[:161442]\n",
    "print(len(df_sel))"
   ]
  },
  {
   "cell_type": "code",
   "execution_count": 339,
   "metadata": {},
   "outputs": [
    {
     "name": "stdout",
     "output_type": "stream",
     "text": [
      "150834\n"
     ]
    }
   ],
   "source": [
    "dfCustomerx = dfCustomerx[:150834]\n",
    "print(len(dfCustomerx))"
   ]
  },
  {
   "cell_type": "code",
   "execution_count": 340,
   "metadata": {},
   "outputs": [],
   "source": [
    "df_cus = df_sel.merge(dfCustomerx, on='customer_id')"
   ]
  },
  {
   "cell_type": "code",
   "execution_count": null,
   "metadata": {},
   "outputs": [],
   "source": []
  },
  {
   "cell_type": "code",
   "execution_count": 341,
   "metadata": {},
   "outputs": [],
   "source": [
    "df = df_cus.rename(columns={'price':'product_price','order_item_id':'quantity'})"
   ]
  },
  {
   "cell_type": "code",
   "execution_count": 342,
   "metadata": {},
   "outputs": [
    {
     "data": {
      "text/plain": [
       "Index(['order_id', 'order_status', 'order_purchase_timestamp',\n",
       "       'order_approved_at', 'order_delivered_carrier_date',\n",
       "       'order_delivered_customer_date', 'order_estimated_delivery_date',\n",
       "       'quantity', 'product_id', 'seller_id', 'shipping_limit_date',\n",
       "       'product_price', 'freight_value', 'product_category', 'review_score',\n",
       "       'seller_lat', 'sellet_lng', 'customer_lat', 'customer_lng'],\n",
       "      dtype='object')"
      ]
     },
     "execution_count": 342,
     "metadata": {},
     "output_type": "execute_result"
    }
   ],
   "source": [
    "df = df.drop(['review_id', 'review_creation_date','review_answer_timestamp','review_comment_title','review_comment_message','customer_id',], axis=1)\n",
    "df.columns"
   ]
  },
  {
   "cell_type": "code",
   "execution_count": 343,
   "metadata": {},
   "outputs": [
    {
     "data": {
      "text/plain": [
       "118150"
      ]
     },
     "execution_count": 343,
     "metadata": {},
     "output_type": "execute_result"
    }
   ],
   "source": [
    "len(df)"
   ]
  },
  {
   "cell_type": "code",
   "execution_count": 344,
   "metadata": {},
   "outputs": [
    {
     "data": {
      "text/html": [
       "<div>\n",
       "<style scoped>\n",
       "    .dataframe tbody tr th:only-of-type {\n",
       "        vertical-align: middle;\n",
       "    }\n",
       "\n",
       "    .dataframe tbody tr th {\n",
       "        vertical-align: top;\n",
       "    }\n",
       "\n",
       "    .dataframe thead th {\n",
       "        text-align: right;\n",
       "    }\n",
       "</style>\n",
       "<table border=\"1\" class=\"dataframe\">\n",
       "  <thead>\n",
       "    <tr style=\"text-align: right;\">\n",
       "      <th></th>\n",
       "      <th>order_id</th>\n",
       "      <th>order_status</th>\n",
       "      <th>order_purchase_timestamp</th>\n",
       "      <th>order_approved_at</th>\n",
       "      <th>order_delivered_carrier_date</th>\n",
       "      <th>order_delivered_customer_date</th>\n",
       "      <th>order_estimated_delivery_date</th>\n",
       "      <th>quantity</th>\n",
       "      <th>product_id</th>\n",
       "      <th>seller_id</th>\n",
       "      <th>shipping_limit_date</th>\n",
       "      <th>product_price</th>\n",
       "      <th>freight_value</th>\n",
       "      <th>product_category</th>\n",
       "      <th>review_score</th>\n",
       "      <th>seller_lat</th>\n",
       "      <th>sellet_lng</th>\n",
       "      <th>customer_lat</th>\n",
       "      <th>customer_lng</th>\n",
       "    </tr>\n",
       "  </thead>\n",
       "  <tbody>\n",
       "    <tr>\n",
       "      <th>0</th>\n",
       "      <td>577b745a85120419fe27073e3c9e1a76</td>\n",
       "      <td>delivered</td>\n",
       "      <td>2018-04-26 21:57:27</td>\n",
       "      <td>2018-04-27 13:30:54</td>\n",
       "      <td>2018-04-28 07:58:00</td>\n",
       "      <td>2018-05-07 13:22:01</td>\n",
       "      <td>2018-06-08 00:00:00</td>\n",
       "      <td>1</td>\n",
       "      <td>7a10781637204d8d10485c71a6108a2e</td>\n",
       "      <td>4869f7a5dfa277a7dca6462dcf3b52b2</td>\n",
       "      <td>2018-05-04 13:30:47</td>\n",
       "      <td>199.0</td>\n",
       "      <td>0.0</td>\n",
       "      <td>watches_gifts</td>\n",
       "      <td>5</td>\n",
       "      <td>-21.362358</td>\n",
       "      <td>-48.232976</td>\n",
       "      <td>-22.947654</td>\n",
       "      <td>-43.338606</td>\n",
       "    </tr>\n",
       "    <tr>\n",
       "      <th>1</th>\n",
       "      <td>577b745a85120419fe27073e3c9e1a76</td>\n",
       "      <td>delivered</td>\n",
       "      <td>2018-04-26 21:57:27</td>\n",
       "      <td>2018-04-27 13:30:54</td>\n",
       "      <td>2018-04-28 07:58:00</td>\n",
       "      <td>2018-05-07 13:22:01</td>\n",
       "      <td>2018-06-08 00:00:00</td>\n",
       "      <td>1</td>\n",
       "      <td>7a10781637204d8d10485c71a6108a2e</td>\n",
       "      <td>4869f7a5dfa277a7dca6462dcf3b52b2</td>\n",
       "      <td>2018-05-04 13:30:47</td>\n",
       "      <td>199.0</td>\n",
       "      <td>0.0</td>\n",
       "      <td>watches_gifts</td>\n",
       "      <td>5</td>\n",
       "      <td>-21.362358</td>\n",
       "      <td>-48.232976</td>\n",
       "      <td>-22.937662</td>\n",
       "      <td>-43.332860</td>\n",
       "    </tr>\n",
       "    <tr>\n",
       "      <th>2</th>\n",
       "      <td>577b745a85120419fe27073e3c9e1a76</td>\n",
       "      <td>delivered</td>\n",
       "      <td>2018-04-26 21:57:27</td>\n",
       "      <td>2018-04-27 13:30:54</td>\n",
       "      <td>2018-04-28 07:58:00</td>\n",
       "      <td>2018-05-07 13:22:01</td>\n",
       "      <td>2018-06-08 00:00:00</td>\n",
       "      <td>1</td>\n",
       "      <td>7a10781637204d8d10485c71a6108a2e</td>\n",
       "      <td>4869f7a5dfa277a7dca6462dcf3b52b2</td>\n",
       "      <td>2018-05-04 13:30:47</td>\n",
       "      <td>199.0</td>\n",
       "      <td>0.0</td>\n",
       "      <td>watches_gifts</td>\n",
       "      <td>5</td>\n",
       "      <td>-21.362358</td>\n",
       "      <td>-48.232976</td>\n",
       "      <td>-22.942264</td>\n",
       "      <td>-43.332343</td>\n",
       "    </tr>\n",
       "    <tr>\n",
       "      <th>3</th>\n",
       "      <td>577b745a85120419fe27073e3c9e1a76</td>\n",
       "      <td>delivered</td>\n",
       "      <td>2018-04-26 21:57:27</td>\n",
       "      <td>2018-04-27 13:30:54</td>\n",
       "      <td>2018-04-28 07:58:00</td>\n",
       "      <td>2018-05-07 13:22:01</td>\n",
       "      <td>2018-06-08 00:00:00</td>\n",
       "      <td>1</td>\n",
       "      <td>7a10781637204d8d10485c71a6108a2e</td>\n",
       "      <td>4869f7a5dfa277a7dca6462dcf3b52b2</td>\n",
       "      <td>2018-05-04 13:30:47</td>\n",
       "      <td>199.0</td>\n",
       "      <td>0.0</td>\n",
       "      <td>watches_gifts</td>\n",
       "      <td>5</td>\n",
       "      <td>-21.362358</td>\n",
       "      <td>-48.232976</td>\n",
       "      <td>-22.950595</td>\n",
       "      <td>-43.335693</td>\n",
       "    </tr>\n",
       "    <tr>\n",
       "      <th>4</th>\n",
       "      <td>577b745a85120419fe27073e3c9e1a76</td>\n",
       "      <td>delivered</td>\n",
       "      <td>2018-04-26 21:57:27</td>\n",
       "      <td>2018-04-27 13:30:54</td>\n",
       "      <td>2018-04-28 07:58:00</td>\n",
       "      <td>2018-05-07 13:22:01</td>\n",
       "      <td>2018-06-08 00:00:00</td>\n",
       "      <td>1</td>\n",
       "      <td>7a10781637204d8d10485c71a6108a2e</td>\n",
       "      <td>4869f7a5dfa277a7dca6462dcf3b52b2</td>\n",
       "      <td>2018-05-04 13:30:47</td>\n",
       "      <td>199.0</td>\n",
       "      <td>0.0</td>\n",
       "      <td>watches_gifts</td>\n",
       "      <td>5</td>\n",
       "      <td>-21.362358</td>\n",
       "      <td>-48.232976</td>\n",
       "      <td>-22.941005</td>\n",
       "      <td>-43.339955</td>\n",
       "    </tr>\n",
       "  </tbody>\n",
       "</table>\n",
       "</div>"
      ],
      "text/plain": [
       "                           order_id order_status order_purchase_timestamp  \\\n",
       "0  577b745a85120419fe27073e3c9e1a76    delivered      2018-04-26 21:57:27   \n",
       "1  577b745a85120419fe27073e3c9e1a76    delivered      2018-04-26 21:57:27   \n",
       "2  577b745a85120419fe27073e3c9e1a76    delivered      2018-04-26 21:57:27   \n",
       "3  577b745a85120419fe27073e3c9e1a76    delivered      2018-04-26 21:57:27   \n",
       "4  577b745a85120419fe27073e3c9e1a76    delivered      2018-04-26 21:57:27   \n",
       "\n",
       "     order_approved_at order_delivered_carrier_date  \\\n",
       "0  2018-04-27 13:30:54          2018-04-28 07:58:00   \n",
       "1  2018-04-27 13:30:54          2018-04-28 07:58:00   \n",
       "2  2018-04-27 13:30:54          2018-04-28 07:58:00   \n",
       "3  2018-04-27 13:30:54          2018-04-28 07:58:00   \n",
       "4  2018-04-27 13:30:54          2018-04-28 07:58:00   \n",
       "\n",
       "  order_delivered_customer_date order_estimated_delivery_date  quantity  \\\n",
       "0           2018-05-07 13:22:01           2018-06-08 00:00:00         1   \n",
       "1           2018-05-07 13:22:01           2018-06-08 00:00:00         1   \n",
       "2           2018-05-07 13:22:01           2018-06-08 00:00:00         1   \n",
       "3           2018-05-07 13:22:01           2018-06-08 00:00:00         1   \n",
       "4           2018-05-07 13:22:01           2018-06-08 00:00:00         1   \n",
       "\n",
       "                         product_id                         seller_id  \\\n",
       "0  7a10781637204d8d10485c71a6108a2e  4869f7a5dfa277a7dca6462dcf3b52b2   \n",
       "1  7a10781637204d8d10485c71a6108a2e  4869f7a5dfa277a7dca6462dcf3b52b2   \n",
       "2  7a10781637204d8d10485c71a6108a2e  4869f7a5dfa277a7dca6462dcf3b52b2   \n",
       "3  7a10781637204d8d10485c71a6108a2e  4869f7a5dfa277a7dca6462dcf3b52b2   \n",
       "4  7a10781637204d8d10485c71a6108a2e  4869f7a5dfa277a7dca6462dcf3b52b2   \n",
       "\n",
       "   shipping_limit_date  product_price  freight_value product_category  \\\n",
       "0  2018-05-04 13:30:47          199.0            0.0    watches_gifts   \n",
       "1  2018-05-04 13:30:47          199.0            0.0    watches_gifts   \n",
       "2  2018-05-04 13:30:47          199.0            0.0    watches_gifts   \n",
       "3  2018-05-04 13:30:47          199.0            0.0    watches_gifts   \n",
       "4  2018-05-04 13:30:47          199.0            0.0    watches_gifts   \n",
       "\n",
       "   review_score  seller_lat  sellet_lng  customer_lat  customer_lng  \n",
       "0             5  -21.362358  -48.232976    -22.947654    -43.338606  \n",
       "1             5  -21.362358  -48.232976    -22.937662    -43.332860  \n",
       "2             5  -21.362358  -48.232976    -22.942264    -43.332343  \n",
       "3             5  -21.362358  -48.232976    -22.950595    -43.335693  \n",
       "4             5  -21.362358  -48.232976    -22.941005    -43.339955  "
      ]
     },
     "execution_count": 344,
     "metadata": {},
     "output_type": "execute_result"
    }
   ],
   "source": [
    "df.head()"
   ]
  },
  {
   "cell_type": "code",
   "execution_count": 345,
   "metadata": {},
   "outputs": [
    {
     "data": {
      "text/html": [
       "<div>\n",
       "<style scoped>\n",
       "    .dataframe tbody tr th:only-of-type {\n",
       "        vertical-align: middle;\n",
       "    }\n",
       "\n",
       "    .dataframe tbody tr th {\n",
       "        vertical-align: top;\n",
       "    }\n",
       "\n",
       "    .dataframe thead th {\n",
       "        text-align: right;\n",
       "    }\n",
       "</style>\n",
       "<table border=\"1\" class=\"dataframe\">\n",
       "  <thead>\n",
       "    <tr style=\"text-align: right;\">\n",
       "      <th></th>\n",
       "      <th>quantity</th>\n",
       "      <th>product_price</th>\n",
       "      <th>freight_value</th>\n",
       "      <th>review_score</th>\n",
       "      <th>seller_lat</th>\n",
       "      <th>sellet_lng</th>\n",
       "      <th>customer_lat</th>\n",
       "      <th>customer_lng</th>\n",
       "    </tr>\n",
       "  </thead>\n",
       "  <tbody>\n",
       "    <tr>\n",
       "      <th>count</th>\n",
       "      <td>118150.0</td>\n",
       "      <td>118150.000000</td>\n",
       "      <td>118150.000000</td>\n",
       "      <td>118150.000000</td>\n",
       "      <td>118150.000000</td>\n",
       "      <td>118150.000000</td>\n",
       "      <td>118150.000000</td>\n",
       "      <td>118150.000000</td>\n",
       "    </tr>\n",
       "    <tr>\n",
       "      <th>mean</th>\n",
       "      <td>1.0</td>\n",
       "      <td>188.108345</td>\n",
       "      <td>9.975036</td>\n",
       "      <td>3.779856</td>\n",
       "      <td>-21.363502</td>\n",
       "      <td>-48.229601</td>\n",
       "      <td>-23.083842</td>\n",
       "      <td>-46.124553</td>\n",
       "    </tr>\n",
       "    <tr>\n",
       "      <th>std</th>\n",
       "      <td>0.0</td>\n",
       "      <td>37.187817</td>\n",
       "      <td>7.052532</td>\n",
       "      <td>1.311448</td>\n",
       "      <td>0.006742</td>\n",
       "      <td>0.007339</td>\n",
       "      <td>0.400970</td>\n",
       "      <td>2.044609</td>\n",
       "    </tr>\n",
       "    <tr>\n",
       "      <th>min</th>\n",
       "      <td>1.0</td>\n",
       "      <td>146.000000</td>\n",
       "      <td>0.000000</td>\n",
       "      <td>2.000000</td>\n",
       "      <td>-21.396342</td>\n",
       "      <td>-48.245580</td>\n",
       "      <td>-23.735663</td>\n",
       "      <td>-48.806225</td>\n",
       "    </tr>\n",
       "    <tr>\n",
       "      <th>25%</th>\n",
       "      <td>1.0</td>\n",
       "      <td>151.900000</td>\n",
       "      <td>0.000000</td>\n",
       "      <td>2.000000</td>\n",
       "      <td>-21.368331</td>\n",
       "      <td>-48.234968</td>\n",
       "      <td>-23.702918</td>\n",
       "      <td>-47.148067</td>\n",
       "    </tr>\n",
       "    <tr>\n",
       "      <th>50%</th>\n",
       "      <td>1.0</td>\n",
       "      <td>199.000000</td>\n",
       "      <td>12.520000</td>\n",
       "      <td>5.000000</td>\n",
       "      <td>-21.364020</td>\n",
       "      <td>-48.228831</td>\n",
       "      <td>-22.949633</td>\n",
       "      <td>-46.546756</td>\n",
       "    </tr>\n",
       "    <tr>\n",
       "      <th>75%</th>\n",
       "      <td>1.0</td>\n",
       "      <td>240.000000</td>\n",
       "      <td>13.180000</td>\n",
       "      <td>5.000000</td>\n",
       "      <td>-21.359286</td>\n",
       "      <td>-48.223943</td>\n",
       "      <td>-22.939784</td>\n",
       "      <td>-43.337237</td>\n",
       "    </tr>\n",
       "    <tr>\n",
       "      <th>max</th>\n",
       "      <td>1.0</td>\n",
       "      <td>240.000000</td>\n",
       "      <td>17.970000</td>\n",
       "      <td>5.000000</td>\n",
       "      <td>-21.348961</td>\n",
       "      <td>-48.216215</td>\n",
       "      <td>-22.598655</td>\n",
       "      <td>-43.324086</td>\n",
       "    </tr>\n",
       "  </tbody>\n",
       "</table>\n",
       "</div>"
      ],
      "text/plain": [
       "       quantity  product_price  freight_value   review_score     seller_lat  \\\n",
       "count  118150.0  118150.000000  118150.000000  118150.000000  118150.000000   \n",
       "mean        1.0     188.108345       9.975036       3.779856     -21.363502   \n",
       "std         0.0      37.187817       7.052532       1.311448       0.006742   \n",
       "min         1.0     146.000000       0.000000       2.000000     -21.396342   \n",
       "25%         1.0     151.900000       0.000000       2.000000     -21.368331   \n",
       "50%         1.0     199.000000      12.520000       5.000000     -21.364020   \n",
       "75%         1.0     240.000000      13.180000       5.000000     -21.359286   \n",
       "max         1.0     240.000000      17.970000       5.000000     -21.348961   \n",
       "\n",
       "          sellet_lng   customer_lat   customer_lng  \n",
       "count  118150.000000  118150.000000  118150.000000  \n",
       "mean      -48.229601     -23.083842     -46.124553  \n",
       "std         0.007339       0.400970       2.044609  \n",
       "min       -48.245580     -23.735663     -48.806225  \n",
       "25%       -48.234968     -23.702918     -47.148067  \n",
       "50%       -48.228831     -22.949633     -46.546756  \n",
       "75%       -48.223943     -22.939784     -43.337237  \n",
       "max       -48.216215     -22.598655     -43.324086  "
      ]
     },
     "execution_count": 345,
     "metadata": {},
     "output_type": "execute_result"
    }
   ],
   "source": [
    "df.describe()"
   ]
  },
  {
   "cell_type": "code",
   "execution_count": 346,
   "metadata": {},
   "outputs": [],
   "source": [
    "# df.to_csv(\"data.csv\")"
   ]
  },
  {
   "cell_type": "markdown",
   "metadata": {},
   "source": [
    "### Filtering"
   ]
  },
  {
   "cell_type": "code",
   "execution_count": 347,
   "metadata": {},
   "outputs": [
    {
     "data": {
      "text/html": [
       "<div>\n",
       "<style scoped>\n",
       "    .dataframe tbody tr th:only-of-type {\n",
       "        vertical-align: middle;\n",
       "    }\n",
       "\n",
       "    .dataframe tbody tr th {\n",
       "        vertical-align: top;\n",
       "    }\n",
       "\n",
       "    .dataframe thead th {\n",
       "        text-align: right;\n",
       "    }\n",
       "</style>\n",
       "<table border=\"1\" class=\"dataframe\">\n",
       "  <thead>\n",
       "    <tr style=\"text-align: right;\">\n",
       "      <th></th>\n",
       "      <th>order_id</th>\n",
       "      <th>order_status</th>\n",
       "      <th>order_purchase_timestamp</th>\n",
       "      <th>order_approved_at</th>\n",
       "      <th>order_delivered_carrier_date</th>\n",
       "      <th>order_delivered_customer_date</th>\n",
       "      <th>order_estimated_delivery_date</th>\n",
       "      <th>quantity</th>\n",
       "      <th>product_id</th>\n",
       "      <th>seller_id</th>\n",
       "      <th>shipping_limit_date</th>\n",
       "      <th>product_price</th>\n",
       "      <th>freight_value</th>\n",
       "      <th>product_category</th>\n",
       "      <th>review_score</th>\n",
       "      <th>seller_lat</th>\n",
       "      <th>sellet_lng</th>\n",
       "      <th>customer_lat</th>\n",
       "      <th>customer_lng</th>\n",
       "    </tr>\n",
       "  </thead>\n",
       "  <tbody>\n",
       "    <tr>\n",
       "      <th>0</th>\n",
       "      <td>577b745a85120419fe27073e3c9e1a76</td>\n",
       "      <td>delivered</td>\n",
       "      <td>2018-04-26 21:57:27</td>\n",
       "      <td>2018-04-27 13:30:54</td>\n",
       "      <td>2018-04-28 07:58:00</td>\n",
       "      <td>2018-05-07 13:22:01</td>\n",
       "      <td>2018-06-08 00:00:00</td>\n",
       "      <td>1</td>\n",
       "      <td>7a10781637204d8d10485c71a6108a2e</td>\n",
       "      <td>4869f7a5dfa277a7dca6462dcf3b52b2</td>\n",
       "      <td>2018-05-04 13:30:47</td>\n",
       "      <td>199.0</td>\n",
       "      <td>0.0</td>\n",
       "      <td>watches_gifts</td>\n",
       "      <td>5</td>\n",
       "      <td>-21.362358</td>\n",
       "      <td>-48.232976</td>\n",
       "      <td>-22.947654</td>\n",
       "      <td>-43.338606</td>\n",
       "    </tr>\n",
       "    <tr>\n",
       "      <th>1</th>\n",
       "      <td>577b745a85120419fe27073e3c9e1a76</td>\n",
       "      <td>delivered</td>\n",
       "      <td>2018-04-26 21:57:27</td>\n",
       "      <td>2018-04-27 13:30:54</td>\n",
       "      <td>2018-04-28 07:58:00</td>\n",
       "      <td>2018-05-07 13:22:01</td>\n",
       "      <td>2018-06-08 00:00:00</td>\n",
       "      <td>1</td>\n",
       "      <td>7a10781637204d8d10485c71a6108a2e</td>\n",
       "      <td>4869f7a5dfa277a7dca6462dcf3b52b2</td>\n",
       "      <td>2018-05-04 13:30:47</td>\n",
       "      <td>199.0</td>\n",
       "      <td>0.0</td>\n",
       "      <td>watches_gifts</td>\n",
       "      <td>5</td>\n",
       "      <td>-21.362358</td>\n",
       "      <td>-48.232976</td>\n",
       "      <td>-22.937662</td>\n",
       "      <td>-43.332860</td>\n",
       "    </tr>\n",
       "    <tr>\n",
       "      <th>2</th>\n",
       "      <td>577b745a85120419fe27073e3c9e1a76</td>\n",
       "      <td>delivered</td>\n",
       "      <td>2018-04-26 21:57:27</td>\n",
       "      <td>2018-04-27 13:30:54</td>\n",
       "      <td>2018-04-28 07:58:00</td>\n",
       "      <td>2018-05-07 13:22:01</td>\n",
       "      <td>2018-06-08 00:00:00</td>\n",
       "      <td>1</td>\n",
       "      <td>7a10781637204d8d10485c71a6108a2e</td>\n",
       "      <td>4869f7a5dfa277a7dca6462dcf3b52b2</td>\n",
       "      <td>2018-05-04 13:30:47</td>\n",
       "      <td>199.0</td>\n",
       "      <td>0.0</td>\n",
       "      <td>watches_gifts</td>\n",
       "      <td>5</td>\n",
       "      <td>-21.362358</td>\n",
       "      <td>-48.232976</td>\n",
       "      <td>-22.942264</td>\n",
       "      <td>-43.332343</td>\n",
       "    </tr>\n",
       "    <tr>\n",
       "      <th>3</th>\n",
       "      <td>577b745a85120419fe27073e3c9e1a76</td>\n",
       "      <td>delivered</td>\n",
       "      <td>2018-04-26 21:57:27</td>\n",
       "      <td>2018-04-27 13:30:54</td>\n",
       "      <td>2018-04-28 07:58:00</td>\n",
       "      <td>2018-05-07 13:22:01</td>\n",
       "      <td>2018-06-08 00:00:00</td>\n",
       "      <td>1</td>\n",
       "      <td>7a10781637204d8d10485c71a6108a2e</td>\n",
       "      <td>4869f7a5dfa277a7dca6462dcf3b52b2</td>\n",
       "      <td>2018-05-04 13:30:47</td>\n",
       "      <td>199.0</td>\n",
       "      <td>0.0</td>\n",
       "      <td>watches_gifts</td>\n",
       "      <td>5</td>\n",
       "      <td>-21.362358</td>\n",
       "      <td>-48.232976</td>\n",
       "      <td>-22.950595</td>\n",
       "      <td>-43.335693</td>\n",
       "    </tr>\n",
       "    <tr>\n",
       "      <th>4</th>\n",
       "      <td>577b745a85120419fe27073e3c9e1a76</td>\n",
       "      <td>delivered</td>\n",
       "      <td>2018-04-26 21:57:27</td>\n",
       "      <td>2018-04-27 13:30:54</td>\n",
       "      <td>2018-04-28 07:58:00</td>\n",
       "      <td>2018-05-07 13:22:01</td>\n",
       "      <td>2018-06-08 00:00:00</td>\n",
       "      <td>1</td>\n",
       "      <td>7a10781637204d8d10485c71a6108a2e</td>\n",
       "      <td>4869f7a5dfa277a7dca6462dcf3b52b2</td>\n",
       "      <td>2018-05-04 13:30:47</td>\n",
       "      <td>199.0</td>\n",
       "      <td>0.0</td>\n",
       "      <td>watches_gifts</td>\n",
       "      <td>5</td>\n",
       "      <td>-21.362358</td>\n",
       "      <td>-48.232976</td>\n",
       "      <td>-22.941005</td>\n",
       "      <td>-43.339955</td>\n",
       "    </tr>\n",
       "  </tbody>\n",
       "</table>\n",
       "</div>"
      ],
      "text/plain": [
       "                           order_id order_status order_purchase_timestamp  \\\n",
       "0  577b745a85120419fe27073e3c9e1a76    delivered      2018-04-26 21:57:27   \n",
       "1  577b745a85120419fe27073e3c9e1a76    delivered      2018-04-26 21:57:27   \n",
       "2  577b745a85120419fe27073e3c9e1a76    delivered      2018-04-26 21:57:27   \n",
       "3  577b745a85120419fe27073e3c9e1a76    delivered      2018-04-26 21:57:27   \n",
       "4  577b745a85120419fe27073e3c9e1a76    delivered      2018-04-26 21:57:27   \n",
       "\n",
       "     order_approved_at order_delivered_carrier_date  \\\n",
       "0  2018-04-27 13:30:54          2018-04-28 07:58:00   \n",
       "1  2018-04-27 13:30:54          2018-04-28 07:58:00   \n",
       "2  2018-04-27 13:30:54          2018-04-28 07:58:00   \n",
       "3  2018-04-27 13:30:54          2018-04-28 07:58:00   \n",
       "4  2018-04-27 13:30:54          2018-04-28 07:58:00   \n",
       "\n",
       "  order_delivered_customer_date order_estimated_delivery_date  quantity  \\\n",
       "0           2018-05-07 13:22:01           2018-06-08 00:00:00         1   \n",
       "1           2018-05-07 13:22:01           2018-06-08 00:00:00         1   \n",
       "2           2018-05-07 13:22:01           2018-06-08 00:00:00         1   \n",
       "3           2018-05-07 13:22:01           2018-06-08 00:00:00         1   \n",
       "4           2018-05-07 13:22:01           2018-06-08 00:00:00         1   \n",
       "\n",
       "                         product_id                         seller_id  \\\n",
       "0  7a10781637204d8d10485c71a6108a2e  4869f7a5dfa277a7dca6462dcf3b52b2   \n",
       "1  7a10781637204d8d10485c71a6108a2e  4869f7a5dfa277a7dca6462dcf3b52b2   \n",
       "2  7a10781637204d8d10485c71a6108a2e  4869f7a5dfa277a7dca6462dcf3b52b2   \n",
       "3  7a10781637204d8d10485c71a6108a2e  4869f7a5dfa277a7dca6462dcf3b52b2   \n",
       "4  7a10781637204d8d10485c71a6108a2e  4869f7a5dfa277a7dca6462dcf3b52b2   \n",
       "\n",
       "   shipping_limit_date  product_price  freight_value product_category  \\\n",
       "0  2018-05-04 13:30:47          199.0            0.0    watches_gifts   \n",
       "1  2018-05-04 13:30:47          199.0            0.0    watches_gifts   \n",
       "2  2018-05-04 13:30:47          199.0            0.0    watches_gifts   \n",
       "3  2018-05-04 13:30:47          199.0            0.0    watches_gifts   \n",
       "4  2018-05-04 13:30:47          199.0            0.0    watches_gifts   \n",
       "\n",
       "   review_score  seller_lat  sellet_lng  customer_lat  customer_lng  \n",
       "0             5  -21.362358  -48.232976    -22.947654    -43.338606  \n",
       "1             5  -21.362358  -48.232976    -22.937662    -43.332860  \n",
       "2             5  -21.362358  -48.232976    -22.942264    -43.332343  \n",
       "3             5  -21.362358  -48.232976    -22.950595    -43.335693  \n",
       "4             5  -21.362358  -48.232976    -22.941005    -43.339955  "
      ]
     },
     "execution_count": 347,
     "metadata": {},
     "output_type": "execute_result"
    }
   ],
   "source": [
    "df = df[df['order_status'] == 'delivered']\n",
    "df.head()"
   ]
  },
  {
   "cell_type": "code",
   "execution_count": 348,
   "metadata": {},
   "outputs": [
    {
     "data": {
      "text/plain": [
       "array(['watches_gifts', 'health_beauty'], dtype=object)"
      ]
     },
     "execution_count": 348,
     "metadata": {},
     "output_type": "execute_result"
    }
   ],
   "source": [
    "df['product_category'].unique() "
   ]
  },
  {
   "cell_type": "code",
   "execution_count": 349,
   "metadata": {},
   "outputs": [
    {
     "data": {
      "text/plain": [
       "array([1, 0])"
      ]
     },
     "execution_count": 349,
     "metadata": {},
     "output_type": "execute_result"
    }
   ],
   "source": [
    " # label_encoder object knows how to understand word labels. \n",
    "label_encoder = preprocessing.LabelEncoder() \n",
    "  \n",
    "# Encode labels in column 'species'. \n",
    "df['product_category']= label_encoder.fit_transform(df['product_category']) \n",
    "  \n",
    "df['product_category'].unique() "
   ]
  },
  {
   "cell_type": "code",
   "execution_count": 350,
   "metadata": {},
   "outputs": [],
   "source": [
    "df.to_csv(\"data.csv\")"
   ]
  },
  {
   "cell_type": "code",
   "execution_count": 351,
   "metadata": {},
   "outputs": [
    {
     "data": {
      "text/plain": [
       "Index(['order_id', 'order_status', 'order_purchase_timestamp',\n",
       "       'order_approved_at', 'order_delivered_carrier_date',\n",
       "       'order_delivered_customer_date', 'order_estimated_delivery_date',\n",
       "       'quantity', 'product_id', 'seller_id', 'shipping_limit_date',\n",
       "       'product_price', 'freight_value', 'product_category', 'review_score',\n",
       "       'seller_lat', 'sellet_lng', 'customer_lat', 'customer_lng'],\n",
       "      dtype='object')"
      ]
     },
     "execution_count": 351,
     "metadata": {},
     "output_type": "execute_result"
    }
   ],
   "source": [
    "df.columns"
   ]
  },
  {
   "cell_type": "markdown",
   "metadata": {},
   "source": [
    "### Checking Correlation "
   ]
  },
  {
   "cell_type": "code",
   "execution_count": 352,
   "metadata": {},
   "outputs": [],
   "source": [
    "corr = df.corr()"
   ]
  },
  {
   "cell_type": "code",
   "execution_count": 353,
   "metadata": {},
   "outputs": [
    {
     "data": {
      "text/plain": [
       "quantity                     NaN\n",
       "product_price      -4.821013e-01\n",
       "freight_value      -6.567914e-01\n",
       "product_category    7.963432e-01\n",
       "review_score        1.000000e+00\n",
       "seller_lat         -4.185521e-16\n",
       "sellet_lng         -1.313071e-15\n",
       "customer_lat        8.477753e-01\n",
       "customer_lng        2.914523e-01\n",
       "Name: review_score, dtype: float64"
      ]
     },
     "execution_count": 353,
     "metadata": {},
     "output_type": "execute_result"
    }
   ],
   "source": [
    "corr['review_score']"
   ]
  },
  {
   "cell_type": "code",
   "execution_count": 354,
   "metadata": {},
   "outputs": [
    {
     "data": {
      "text/plain": [
       "quantity                     NaN\n",
       "product_price       1.000000e+00\n",
       "freight_value      -3.003653e-01\n",
       "product_category   -8.187728e-01\n",
       "review_score       -4.821013e-01\n",
       "seller_lat         -2.106510e-15\n",
       "sellet_lng          2.405542e-15\n",
       "customer_lat       -8.729833e-01\n",
       "customer_lng        4.625602e-01\n",
       "Name: product_price, dtype: float64"
      ]
     },
     "execution_count": 354,
     "metadata": {},
     "output_type": "execute_result"
    }
   ],
   "source": [
    "corr['product_price']"
   ]
  },
  {
   "cell_type": "code",
   "execution_count": 355,
   "metadata": {},
   "outputs": [
    {
     "data": {
      "text/plain": [
       "quantity                     NaN\n",
       "product_price      -8.187728e-01\n",
       "freight_value      -2.666519e-01\n",
       "product_category    1.000000e+00\n",
       "review_score        7.963432e-01\n",
       "seller_lat          2.095127e-15\n",
       "sellet_lng          1.077235e-15\n",
       "customer_lat        9.426303e-01\n",
       "customer_lng        1.200434e-01\n",
       "Name: product_category, dtype: float64"
      ]
     },
     "execution_count": 355,
     "metadata": {},
     "output_type": "execute_result"
    }
   ],
   "source": [
    "corr['product_category']"
   ]
  },
  {
   "cell_type": "code",
   "execution_count": 356,
   "metadata": {},
   "outputs": [
    {
     "data": {
      "image/png": "[encoded data removed]",
      "text/plain": [
       "<Figure size 1440x1080 with 2 Axes>"
      ]
     },
     "metadata": {},
     "output_type": "display_data"
    }
   ],
   "source": [
    "plt.subplots(figsize=(20,15))\n",
    "ax = sns.heatmap(corr,cmap='coolwarm', annot = True)\n",
    "plt.yticks(rotation = 0)\n",
    "ax.invert_yaxis()\n",
    "plt.show()"
   ]
  },
  {
   "cell_type": "code",
   "execution_count": null,
   "metadata": {},
   "outputs": [],
   "source": []
  },
  {
   "cell_type": "markdown",
   "metadata": {},
   "source": [
    "## Data Pre-Processing"
   ]
  },
  {
   "cell_type": "markdown",
   "metadata": {},
   "source": [
    "### Checking null values"
   ]
  },
  {
   "cell_type": "code",
   "execution_count": 357,
   "metadata": {},
   "outputs": [
    {
     "data": {
      "text/plain": [
       "<matplotlib.axes._subplots.AxesSubplot at 0x1d5c601c5f8>"
      ]
     },
     "execution_count": 357,
     "metadata": {},
     "output_type": "execute_result"
    },
    {
     "data": {
      "image/png": "[encoded data removed]",
      "text/plain": [
       "<Figure size 432x288 with 1 Axes>"
      ]
     },
     "metadata": {},
     "output_type": "display_data"
    }
   ],
   "source": [
    "sns.heatmap(df.isnull(),yticklabels=False,cbar=False,cmap='viridis')"
   ]
  },
  {
   "cell_type": "code",
   "execution_count": 358,
   "metadata": {},
   "outputs": [
    {
     "name": "stdout",
     "output_type": "stream",
     "text": [
      "<class 'pandas.core.frame.DataFrame'>\n",
      "Int64Index: 118150 entries, 0 to 118149\n",
      "Data columns (total 19 columns):\n",
      " #   Column                         Non-Null Count   Dtype  \n",
      "---  ------                         --------------   -----  \n",
      " 0   order_id                       118150 non-null  object \n",
      " 1   order_status                   118150 non-null  object \n",
      " 2   order_purchase_timestamp       118150 non-null  object \n",
      " 3   order_approved_at              118150 non-null  object \n",
      " 4   order_delivered_carrier_date   118150 non-null  object \n",
      " 5   order_delivered_customer_date  118150 non-null  object \n",
      " 6   order_estimated_delivery_date  118150 non-null  object \n",
      " 7   quantity                       118150 non-null  int64  \n",
      " 8   product_id                     118150 non-null  object \n",
      " 9   seller_id                      118150 non-null  object \n",
      " 10  shipping_limit_date            118150 non-null  object \n",
      " 11  product_price                  118150 non-null  float64\n",
      " 12  freight_value                  118150 non-null  float64\n",
      " 13  product_category               118150 non-null  int32  \n",
      " 14  review_score                   118150 non-null  int64  \n",
      " 15  seller_lat                     118150 non-null  float64\n",
      " 16  sellet_lng                     118150 non-null  float64\n",
      " 17  customer_lat                   118150 non-null  float64\n",
      " 18  customer_lng                   118150 non-null  float64\n",
      "dtypes: float64(6), int32(1), int64(2), object(10)\n",
      "memory usage: 17.6+ MB\n"
     ]
    }
   ],
   "source": [
    "df.info()"
   ]
  },
  {
   "cell_type": "markdown",
   "metadata": {},
   "source": [
    "### Dropping some columns"
   ]
  },
  {
   "cell_type": "code",
   "execution_count": 359,
   "metadata": {},
   "outputs": [],
   "source": [
    "new_df = df.drop([\"shipping_limit_date\",\"order_estimated_delivery_date\",\"order_delivered_customer_date\",\"order_delivered_carrier_date\",\"order_approved_at\",\"order_purchase_timestamp\"],axis=1)"
   ]
  },
  {
   "cell_type": "code",
   "execution_count": 360,
   "metadata": {},
   "outputs": [
    {
     "data": {
      "text/html": [
       "<div>\n",
       "<style scoped>\n",
       "    .dataframe tbody tr th:only-of-type {\n",
       "        vertical-align: middle;\n",
       "    }\n",
       "\n",
       "    .dataframe tbody tr th {\n",
       "        vertical-align: top;\n",
       "    }\n",
       "\n",
       "    .dataframe thead th {\n",
       "        text-align: right;\n",
       "    }\n",
       "</style>\n",
       "<table border=\"1\" class=\"dataframe\">\n",
       "  <thead>\n",
       "    <tr style=\"text-align: right;\">\n",
       "      <th></th>\n",
       "      <th>order_id</th>\n",
       "      <th>order_status</th>\n",
       "      <th>quantity</th>\n",
       "      <th>product_id</th>\n",
       "      <th>seller_id</th>\n",
       "      <th>product_price</th>\n",
       "      <th>freight_value</th>\n",
       "      <th>product_category</th>\n",
       "      <th>review_score</th>\n",
       "      <th>seller_lat</th>\n",
       "      <th>sellet_lng</th>\n",
       "      <th>customer_lat</th>\n",
       "      <th>customer_lng</th>\n",
       "    </tr>\n",
       "  </thead>\n",
       "  <tbody>\n",
       "    <tr>\n",
       "      <th>0</th>\n",
       "      <td>577b745a85120419fe27073e3c9e1a76</td>\n",
       "      <td>delivered</td>\n",
       "      <td>1</td>\n",
       "      <td>7a10781637204d8d10485c71a6108a2e</td>\n",
       "      <td>4869f7a5dfa277a7dca6462dcf3b52b2</td>\n",
       "      <td>199.0</td>\n",
       "      <td>0.0</td>\n",
       "      <td>1</td>\n",
       "      <td>5</td>\n",
       "      <td>-21.362358</td>\n",
       "      <td>-48.232976</td>\n",
       "      <td>-22.947654</td>\n",
       "      <td>-43.338606</td>\n",
       "    </tr>\n",
       "    <tr>\n",
       "      <th>1</th>\n",
       "      <td>577b745a85120419fe27073e3c9e1a76</td>\n",
       "      <td>delivered</td>\n",
       "      <td>1</td>\n",
       "      <td>7a10781637204d8d10485c71a6108a2e</td>\n",
       "      <td>4869f7a5dfa277a7dca6462dcf3b52b2</td>\n",
       "      <td>199.0</td>\n",
       "      <td>0.0</td>\n",
       "      <td>1</td>\n",
       "      <td>5</td>\n",
       "      <td>-21.362358</td>\n",
       "      <td>-48.232976</td>\n",
       "      <td>-22.937662</td>\n",
       "      <td>-43.332860</td>\n",
       "    </tr>\n",
       "    <tr>\n",
       "      <th>2</th>\n",
       "      <td>577b745a85120419fe27073e3c9e1a76</td>\n",
       "      <td>delivered</td>\n",
       "      <td>1</td>\n",
       "      <td>7a10781637204d8d10485c71a6108a2e</td>\n",
       "      <td>4869f7a5dfa277a7dca6462dcf3b52b2</td>\n",
       "      <td>199.0</td>\n",
       "      <td>0.0</td>\n",
       "      <td>1</td>\n",
       "      <td>5</td>\n",
       "      <td>-21.362358</td>\n",
       "      <td>-48.232976</td>\n",
       "      <td>-22.942264</td>\n",
       "      <td>-43.332343</td>\n",
       "    </tr>\n",
       "    <tr>\n",
       "      <th>3</th>\n",
       "      <td>577b745a85120419fe27073e3c9e1a76</td>\n",
       "      <td>delivered</td>\n",
       "      <td>1</td>\n",
       "      <td>7a10781637204d8d10485c71a6108a2e</td>\n",
       "      <td>4869f7a5dfa277a7dca6462dcf3b52b2</td>\n",
       "      <td>199.0</td>\n",
       "      <td>0.0</td>\n",
       "      <td>1</td>\n",
       "      <td>5</td>\n",
       "      <td>-21.362358</td>\n",
       "      <td>-48.232976</td>\n",
       "      <td>-22.950595</td>\n",
       "      <td>-43.335693</td>\n",
       "    </tr>\n",
       "    <tr>\n",
       "      <th>4</th>\n",
       "      <td>577b745a85120419fe27073e3c9e1a76</td>\n",
       "      <td>delivered</td>\n",
       "      <td>1</td>\n",
       "      <td>7a10781637204d8d10485c71a6108a2e</td>\n",
       "      <td>4869f7a5dfa277a7dca6462dcf3b52b2</td>\n",
       "      <td>199.0</td>\n",
       "      <td>0.0</td>\n",
       "      <td>1</td>\n",
       "      <td>5</td>\n",
       "      <td>-21.362358</td>\n",
       "      <td>-48.232976</td>\n",
       "      <td>-22.941005</td>\n",
       "      <td>-43.339955</td>\n",
       "    </tr>\n",
       "  </tbody>\n",
       "</table>\n",
       "</div>"
      ],
      "text/plain": [
       "                           order_id order_status  quantity  \\\n",
       "0  577b745a85120419fe27073e3c9e1a76    delivered         1   \n",
       "1  577b745a85120419fe27073e3c9e1a76    delivered         1   \n",
       "2  577b745a85120419fe27073e3c9e1a76    delivered         1   \n",
       "3  577b745a85120419fe27073e3c9e1a76    delivered         1   \n",
       "4  577b745a85120419fe27073e3c9e1a76    delivered         1   \n",
       "\n",
       "                         product_id                         seller_id  \\\n",
       "0  7a10781637204d8d10485c71a6108a2e  4869f7a5dfa277a7dca6462dcf3b52b2   \n",
       "1  7a10781637204d8d10485c71a6108a2e  4869f7a5dfa277a7dca6462dcf3b52b2   \n",
       "2  7a10781637204d8d10485c71a6108a2e  4869f7a5dfa277a7dca6462dcf3b52b2   \n",
       "3  7a10781637204d8d10485c71a6108a2e  4869f7a5dfa277a7dca6462dcf3b52b2   \n",
       "4  7a10781637204d8d10485c71a6108a2e  4869f7a5dfa277a7dca6462dcf3b52b2   \n",
       "\n",
       "   product_price  freight_value  product_category  review_score  seller_lat  \\\n",
       "0          199.0            0.0                 1             5  -21.362358   \n",
       "1          199.0            0.0                 1             5  -21.362358   \n",
       "2          199.0            0.0                 1             5  -21.362358   \n",
       "3          199.0            0.0                 1             5  -21.362358   \n",
       "4          199.0            0.0                 1             5  -21.362358   \n",
       "\n",
       "   sellet_lng  customer_lat  customer_lng  \n",
       "0  -48.232976    -22.947654    -43.338606  \n",
       "1  -48.232976    -22.937662    -43.332860  \n",
       "2  -48.232976    -22.942264    -43.332343  \n",
       "3  -48.232976    -22.950595    -43.335693  \n",
       "4  -48.232976    -22.941005    -43.339955  "
      ]
     },
     "execution_count": 360,
     "metadata": {},
     "output_type": "execute_result"
    }
   ],
   "source": [
    "new_df.head()"
   ]
  },
  {
   "cell_type": "code",
   "execution_count": 361,
   "metadata": {},
   "outputs": [
    {
     "data": {
      "text/plain": [
       "118150"
      ]
     },
     "execution_count": 361,
     "metadata": {},
     "output_type": "execute_result"
    }
   ],
   "source": [
    "len(new_df)"
   ]
  },
  {
   "cell_type": "markdown",
   "metadata": {},
   "source": [
    "### Label encodings for some columns"
   ]
  },
  {
   "cell_type": "code",
   "execution_count": 362,
   "metadata": {},
   "outputs": [
    {
     "data": {
      "text/plain": [
       "array(['577b745a85120419fe27073e3c9e1a76',\n",
       "       'e885304ec221dd09a24101f0dd920504',\n",
       "       'b2d88e5f45a8f1f5215146eeb66d49c7',\n",
       "       '8dcedca18bb1b1f7a5db3ebb636f372e'], dtype=object)"
      ]
     },
     "execution_count": 362,
     "metadata": {},
     "output_type": "execute_result"
    }
   ],
   "source": [
    "new_df['order_id'].unique() "
   ]
  },
  {
   "cell_type": "code",
   "execution_count": 363,
   "metadata": {},
   "outputs": [
    {
     "data": {
      "text/plain": [
       "array([0, 3, 2, 1])"
      ]
     },
     "execution_count": 363,
     "metadata": {},
     "output_type": "execute_result"
    }
   ],
   "source": [
    " # label_encoder object knows how to understand word labels. \n",
    "label_encoder = preprocessing.LabelEncoder() \n",
    "  \n",
    "# Encode labels in column 'species'. \n",
    "new_df['order_id']= label_encoder.fit_transform(new_df['order_id']) \n",
    "  \n",
    "new_df['order_id'].unique() "
   ]
  },
  {
   "cell_type": "code",
   "execution_count": 364,
   "metadata": {},
   "outputs": [
    {
     "data": {
      "text/html": [
       "<div>\n",
       "<style scoped>\n",
       "    .dataframe tbody tr th:only-of-type {\n",
       "        vertical-align: middle;\n",
       "    }\n",
       "\n",
       "    .dataframe tbody tr th {\n",
       "        vertical-align: top;\n",
       "    }\n",
       "\n",
       "    .dataframe thead th {\n",
       "        text-align: right;\n",
       "    }\n",
       "</style>\n",
       "<table border=\"1\" class=\"dataframe\">\n",
       "  <thead>\n",
       "    <tr style=\"text-align: right;\">\n",
       "      <th></th>\n",
       "      <th>order_id</th>\n",
       "      <th>order_status</th>\n",
       "      <th>quantity</th>\n",
       "      <th>product_id</th>\n",
       "      <th>seller_id</th>\n",
       "      <th>product_price</th>\n",
       "      <th>freight_value</th>\n",
       "      <th>product_category</th>\n",
       "      <th>review_score</th>\n",
       "      <th>seller_lat</th>\n",
       "      <th>sellet_lng</th>\n",
       "      <th>customer_lat</th>\n",
       "      <th>customer_lng</th>\n",
       "    </tr>\n",
       "  </thead>\n",
       "  <tbody>\n",
       "    <tr>\n",
       "      <th>0</th>\n",
       "      <td>0</td>\n",
       "      <td>delivered</td>\n",
       "      <td>1</td>\n",
       "      <td>7a10781637204d8d10485c71a6108a2e</td>\n",
       "      <td>4869f7a5dfa277a7dca6462dcf3b52b2</td>\n",
       "      <td>199.0</td>\n",
       "      <td>0.0</td>\n",
       "      <td>1</td>\n",
       "      <td>5</td>\n",
       "      <td>-21.362358</td>\n",
       "      <td>-48.232976</td>\n",
       "      <td>-22.947654</td>\n",
       "      <td>-43.338606</td>\n",
       "    </tr>\n",
       "    <tr>\n",
       "      <th>1</th>\n",
       "      <td>0</td>\n",
       "      <td>delivered</td>\n",
       "      <td>1</td>\n",
       "      <td>7a10781637204d8d10485c71a6108a2e</td>\n",
       "      <td>4869f7a5dfa277a7dca6462dcf3b52b2</td>\n",
       "      <td>199.0</td>\n",
       "      <td>0.0</td>\n",
       "      <td>1</td>\n",
       "      <td>5</td>\n",
       "      <td>-21.362358</td>\n",
       "      <td>-48.232976</td>\n",
       "      <td>-22.937662</td>\n",
       "      <td>-43.332860</td>\n",
       "    </tr>\n",
       "  </tbody>\n",
       "</table>\n",
       "</div>"
      ],
      "text/plain": [
       "   order_id order_status  quantity                        product_id  \\\n",
       "0         0    delivered         1  7a10781637204d8d10485c71a6108a2e   \n",
       "1         0    delivered         1  7a10781637204d8d10485c71a6108a2e   \n",
       "\n",
       "                          seller_id  product_price  freight_value  \\\n",
       "0  4869f7a5dfa277a7dca6462dcf3b52b2          199.0            0.0   \n",
       "1  4869f7a5dfa277a7dca6462dcf3b52b2          199.0            0.0   \n",
       "\n",
       "   product_category  review_score  seller_lat  sellet_lng  customer_lat  \\\n",
       "0                 1             5  -21.362358  -48.232976    -22.947654   \n",
       "1                 1             5  -21.362358  -48.232976    -22.937662   \n",
       "\n",
       "   customer_lng  \n",
       "0    -43.338606  \n",
       "1    -43.332860  "
      ]
     },
     "execution_count": 364,
     "metadata": {},
     "output_type": "execute_result"
    }
   ],
   "source": [
    "new_df.head(2)"
   ]
  },
  {
   "cell_type": "code",
   "execution_count": 365,
   "metadata": {},
   "outputs": [
    {
     "data": {
      "text/plain": [
       "array(['7a10781637204d8d10485c71a6108a2e',\n",
       "       'e0d64dcfaa3b6db5c54ca298ae101d05',\n",
       "       '461f43be3bdf8844e65b62d9ac2c7a5a',\n",
       "       'bc74f63361c15c1a5baa5b97ac432e62'], dtype=object)"
      ]
     },
     "execution_count": 365,
     "metadata": {},
     "output_type": "execute_result"
    }
   ],
   "source": [
    "new_df['product_id'].unique() "
   ]
  },
  {
   "cell_type": "code",
   "execution_count": 366,
   "metadata": {},
   "outputs": [
    {
     "data": {
      "text/plain": [
       "array([1, 3, 0, 2])"
      ]
     },
     "execution_count": 366,
     "metadata": {},
     "output_type": "execute_result"
    }
   ],
   "source": [
    " # label_encoder object knows how to understand word labels. \n",
    "label_encoder = preprocessing.LabelEncoder() \n",
    "  \n",
    "# Encode labels in column 'species'. \n",
    "new_df['product_id']= label_encoder.fit_transform(new_df['product_id']) \n",
    "  \n",
    "new_df['product_id'].unique() "
   ]
  },
  {
   "cell_type": "code",
   "execution_count": 367,
   "metadata": {},
   "outputs": [
    {
     "data": {
      "text/html": [
       "<div>\n",
       "<style scoped>\n",
       "    .dataframe tbody tr th:only-of-type {\n",
       "        vertical-align: middle;\n",
       "    }\n",
       "\n",
       "    .dataframe tbody tr th {\n",
       "        vertical-align: top;\n",
       "    }\n",
       "\n",
       "    .dataframe thead th {\n",
       "        text-align: right;\n",
       "    }\n",
       "</style>\n",
       "<table border=\"1\" class=\"dataframe\">\n",
       "  <thead>\n",
       "    <tr style=\"text-align: right;\">\n",
       "      <th></th>\n",
       "      <th>order_id</th>\n",
       "      <th>order_status</th>\n",
       "      <th>quantity</th>\n",
       "      <th>product_id</th>\n",
       "      <th>seller_id</th>\n",
       "      <th>product_price</th>\n",
       "      <th>freight_value</th>\n",
       "      <th>product_category</th>\n",
       "      <th>review_score</th>\n",
       "      <th>seller_lat</th>\n",
       "      <th>sellet_lng</th>\n",
       "      <th>customer_lat</th>\n",
       "      <th>customer_lng</th>\n",
       "    </tr>\n",
       "  </thead>\n",
       "  <tbody>\n",
       "    <tr>\n",
       "      <th>0</th>\n",
       "      <td>0</td>\n",
       "      <td>delivered</td>\n",
       "      <td>1</td>\n",
       "      <td>1</td>\n",
       "      <td>4869f7a5dfa277a7dca6462dcf3b52b2</td>\n",
       "      <td>199.0</td>\n",
       "      <td>0.0</td>\n",
       "      <td>1</td>\n",
       "      <td>5</td>\n",
       "      <td>-21.362358</td>\n",
       "      <td>-48.232976</td>\n",
       "      <td>-22.947654</td>\n",
       "      <td>-43.338606</td>\n",
       "    </tr>\n",
       "    <tr>\n",
       "      <th>1</th>\n",
       "      <td>0</td>\n",
       "      <td>delivered</td>\n",
       "      <td>1</td>\n",
       "      <td>1</td>\n",
       "      <td>4869f7a5dfa277a7dca6462dcf3b52b2</td>\n",
       "      <td>199.0</td>\n",
       "      <td>0.0</td>\n",
       "      <td>1</td>\n",
       "      <td>5</td>\n",
       "      <td>-21.362358</td>\n",
       "      <td>-48.232976</td>\n",
       "      <td>-22.937662</td>\n",
       "      <td>-43.332860</td>\n",
       "    </tr>\n",
       "  </tbody>\n",
       "</table>\n",
       "</div>"
      ],
      "text/plain": [
       "   order_id order_status  quantity  product_id  \\\n",
       "0         0    delivered         1           1   \n",
       "1         0    delivered         1           1   \n",
       "\n",
       "                          seller_id  product_price  freight_value  \\\n",
       "0  4869f7a5dfa277a7dca6462dcf3b52b2          199.0            0.0   \n",
       "1  4869f7a5dfa277a7dca6462dcf3b52b2          199.0            0.0   \n",
       "\n",
       "   product_category  review_score  seller_lat  sellet_lng  customer_lat  \\\n",
       "0                 1             5  -21.362358  -48.232976    -22.947654   \n",
       "1                 1             5  -21.362358  -48.232976    -22.937662   \n",
       "\n",
       "   customer_lng  \n",
       "0    -43.338606  \n",
       "1    -43.332860  "
      ]
     },
     "execution_count": 367,
     "metadata": {},
     "output_type": "execute_result"
    }
   ],
   "source": [
    "new_df.head(2)"
   ]
  },
  {
   "cell_type": "code",
   "execution_count": 368,
   "metadata": {},
   "outputs": [
    {
     "data": {
      "text/plain": [
       "array(['4869f7a5dfa277a7dca6462dcf3b52b2'], dtype=object)"
      ]
     },
     "execution_count": 368,
     "metadata": {},
     "output_type": "execute_result"
    }
   ],
   "source": [
    "new_df['seller_id'].unique() "
   ]
  },
  {
   "cell_type": "code",
   "execution_count": 369,
   "metadata": {},
   "outputs": [
    {
     "data": {
      "text/plain": [
       "array([0])"
      ]
     },
     "execution_count": 369,
     "metadata": {},
     "output_type": "execute_result"
    }
   ],
   "source": [
    " # label_encoder object knows how to understand word labels. \n",
    "label_encoder = preprocessing.LabelEncoder() \n",
    "  \n",
    "# Encode labels in column 'species'. \n",
    "new_df['seller_id']= label_encoder.fit_transform(new_df['seller_id']) \n",
    "  \n",
    "new_df['seller_id'].unique() "
   ]
  },
  {
   "cell_type": "code",
   "execution_count": 370,
   "metadata": {},
   "outputs": [
    {
     "data": {
      "text/plain": [
       "array(['delivered'], dtype=object)"
      ]
     },
     "execution_count": 370,
     "metadata": {},
     "output_type": "execute_result"
    }
   ],
   "source": [
    "new_df['order_status'].unique() "
   ]
  },
  {
   "cell_type": "code",
   "execution_count": 371,
   "metadata": {},
   "outputs": [
    {
     "data": {
      "text/plain": [
       "array([0])"
      ]
     },
     "execution_count": 371,
     "metadata": {},
     "output_type": "execute_result"
    }
   ],
   "source": [
    " # label_encoder object knows how to understand word labels. \n",
    "label_encoder = preprocessing.LabelEncoder() \n",
    "  \n",
    "# Encode labels in column 'species'. \n",
    "new_df['order_status']= label_encoder.fit_transform(new_df['order_status']) \n",
    "  \n",
    "new_df['order_status'].unique() "
   ]
  },
  {
   "cell_type": "code",
   "execution_count": null,
   "metadata": {},
   "outputs": [],
   "source": []
  },
  {
   "cell_type": "code",
   "execution_count": 372,
   "metadata": {},
   "outputs": [
    {
     "data": {
      "text/html": [
       "<div>\n",
       "<style scoped>\n",
       "    .dataframe tbody tr th:only-of-type {\n",
       "        vertical-align: middle;\n",
       "    }\n",
       "\n",
       "    .dataframe tbody tr th {\n",
       "        vertical-align: top;\n",
       "    }\n",
       "\n",
       "    .dataframe thead th {\n",
       "        text-align: right;\n",
       "    }\n",
       "</style>\n",
       "<table border=\"1\" class=\"dataframe\">\n",
       "  <thead>\n",
       "    <tr style=\"text-align: right;\">\n",
       "      <th></th>\n",
       "      <th>order_id</th>\n",
       "      <th>order_status</th>\n",
       "      <th>quantity</th>\n",
       "      <th>product_id</th>\n",
       "      <th>seller_id</th>\n",
       "      <th>product_price</th>\n",
       "      <th>freight_value</th>\n",
       "      <th>product_category</th>\n",
       "      <th>review_score</th>\n",
       "      <th>seller_lat</th>\n",
       "      <th>sellet_lng</th>\n",
       "      <th>customer_lat</th>\n",
       "      <th>customer_lng</th>\n",
       "    </tr>\n",
       "  </thead>\n",
       "  <tbody>\n",
       "    <tr>\n",
       "      <th>0</th>\n",
       "      <td>0</td>\n",
       "      <td>0</td>\n",
       "      <td>1</td>\n",
       "      <td>1</td>\n",
       "      <td>0</td>\n",
       "      <td>199.0</td>\n",
       "      <td>0.0</td>\n",
       "      <td>1</td>\n",
       "      <td>5</td>\n",
       "      <td>-21.362358</td>\n",
       "      <td>-48.232976</td>\n",
       "      <td>-22.947654</td>\n",
       "      <td>-43.338606</td>\n",
       "    </tr>\n",
       "    <tr>\n",
       "      <th>1</th>\n",
       "      <td>0</td>\n",
       "      <td>0</td>\n",
       "      <td>1</td>\n",
       "      <td>1</td>\n",
       "      <td>0</td>\n",
       "      <td>199.0</td>\n",
       "      <td>0.0</td>\n",
       "      <td>1</td>\n",
       "      <td>5</td>\n",
       "      <td>-21.362358</td>\n",
       "      <td>-48.232976</td>\n",
       "      <td>-22.937662</td>\n",
       "      <td>-43.332860</td>\n",
       "    </tr>\n",
       "    <tr>\n",
       "      <th>2</th>\n",
       "      <td>0</td>\n",
       "      <td>0</td>\n",
       "      <td>1</td>\n",
       "      <td>1</td>\n",
       "      <td>0</td>\n",
       "      <td>199.0</td>\n",
       "      <td>0.0</td>\n",
       "      <td>1</td>\n",
       "      <td>5</td>\n",
       "      <td>-21.362358</td>\n",
       "      <td>-48.232976</td>\n",
       "      <td>-22.942264</td>\n",
       "      <td>-43.332343</td>\n",
       "    </tr>\n",
       "    <tr>\n",
       "      <th>3</th>\n",
       "      <td>0</td>\n",
       "      <td>0</td>\n",
       "      <td>1</td>\n",
       "      <td>1</td>\n",
       "      <td>0</td>\n",
       "      <td>199.0</td>\n",
       "      <td>0.0</td>\n",
       "      <td>1</td>\n",
       "      <td>5</td>\n",
       "      <td>-21.362358</td>\n",
       "      <td>-48.232976</td>\n",
       "      <td>-22.950595</td>\n",
       "      <td>-43.335693</td>\n",
       "    </tr>\n",
       "    <tr>\n",
       "      <th>4</th>\n",
       "      <td>0</td>\n",
       "      <td>0</td>\n",
       "      <td>1</td>\n",
       "      <td>1</td>\n",
       "      <td>0</td>\n",
       "      <td>199.0</td>\n",
       "      <td>0.0</td>\n",
       "      <td>1</td>\n",
       "      <td>5</td>\n",
       "      <td>-21.362358</td>\n",
       "      <td>-48.232976</td>\n",
       "      <td>-22.941005</td>\n",
       "      <td>-43.339955</td>\n",
       "    </tr>\n",
       "  </tbody>\n",
       "</table>\n",
       "</div>"
      ],
      "text/plain": [
       "   order_id  order_status  quantity  product_id  seller_id  product_price  \\\n",
       "0         0             0         1           1          0          199.0   \n",
       "1         0             0         1           1          0          199.0   \n",
       "2         0             0         1           1          0          199.0   \n",
       "3         0             0         1           1          0          199.0   \n",
       "4         0             0         1           1          0          199.0   \n",
       "\n",
       "   freight_value  product_category  review_score  seller_lat  sellet_lng  \\\n",
       "0            0.0                 1             5  -21.362358  -48.232976   \n",
       "1            0.0                 1             5  -21.362358  -48.232976   \n",
       "2            0.0                 1             5  -21.362358  -48.232976   \n",
       "3            0.0                 1             5  -21.362358  -48.232976   \n",
       "4            0.0                 1             5  -21.362358  -48.232976   \n",
       "\n",
       "   customer_lat  customer_lng  \n",
       "0    -22.947654    -43.338606  \n",
       "1    -22.937662    -43.332860  \n",
       "2    -22.942264    -43.332343  \n",
       "3    -22.950595    -43.335693  \n",
       "4    -22.941005    -43.339955  "
      ]
     },
     "execution_count": 372,
     "metadata": {},
     "output_type": "execute_result"
    }
   ],
   "source": [
    "new_df.head()"
   ]
  },
  {
   "cell_type": "code",
   "execution_count": 373,
   "metadata": {},
   "outputs": [
    {
     "data": {
      "text/plain": [
       "118150"
      ]
     },
     "execution_count": 373,
     "metadata": {},
     "output_type": "execute_result"
    }
   ],
   "source": [
    "len(new_df)"
   ]
  },
  {
   "cell_type": "code",
   "execution_count": 374,
   "metadata": {},
   "outputs": [
    {
     "name": "stdout",
     "output_type": "stream",
     "text": [
      "<class 'pandas.core.frame.DataFrame'>\n",
      "Int64Index: 118150 entries, 0 to 118149\n",
      "Data columns (total 13 columns):\n",
      " #   Column            Non-Null Count   Dtype  \n",
      "---  ------            --------------   -----  \n",
      " 0   order_id          118150 non-null  int32  \n",
      " 1   order_status      118150 non-null  int32  \n",
      " 2   quantity          118150 non-null  int64  \n",
      " 3   product_id        118150 non-null  int32  \n",
      " 4   seller_id         118150 non-null  int32  \n",
      " 5   product_price     118150 non-null  float64\n",
      " 6   freight_value     118150 non-null  float64\n",
      " 7   product_category  118150 non-null  int32  \n",
      " 8   review_score      118150 non-null  int64  \n",
      " 9   seller_lat        118150 non-null  float64\n",
      " 10  sellet_lng        118150 non-null  float64\n",
      " 11  customer_lat      118150 non-null  float64\n",
      " 12  customer_lng      118150 non-null  float64\n",
      "dtypes: float64(6), int32(5), int64(2)\n",
      "memory usage: 10.4 MB\n"
     ]
    }
   ],
   "source": [
    "new_df.info()"
   ]
  },
  {
   "cell_type": "code",
   "execution_count": 375,
   "metadata": {},
   "outputs": [
    {
     "data": {
      "text/html": [
       "<div>\n",
       "<style scoped>\n",
       "    .dataframe tbody tr th:only-of-type {\n",
       "        vertical-align: middle;\n",
       "    }\n",
       "\n",
       "    .dataframe tbody tr th {\n",
       "        vertical-align: top;\n",
       "    }\n",
       "\n",
       "    .dataframe thead th {\n",
       "        text-align: right;\n",
       "    }\n",
       "</style>\n",
       "<table border=\"1\" class=\"dataframe\">\n",
       "  <thead>\n",
       "    <tr style=\"text-align: right;\">\n",
       "      <th></th>\n",
       "      <th>order_id</th>\n",
       "      <th>order_status</th>\n",
       "      <th>quantity</th>\n",
       "      <th>product_id</th>\n",
       "      <th>seller_id</th>\n",
       "      <th>product_price</th>\n",
       "      <th>freight_value</th>\n",
       "      <th>product_category</th>\n",
       "      <th>review_score</th>\n",
       "      <th>seller_lat</th>\n",
       "      <th>sellet_lng</th>\n",
       "      <th>customer_lat</th>\n",
       "      <th>customer_lng</th>\n",
       "    </tr>\n",
       "  </thead>\n",
       "  <tbody>\n",
       "    <tr>\n",
       "      <th>count</th>\n",
       "      <td>118150.000000</td>\n",
       "      <td>118150.0</td>\n",
       "      <td>118150.0</td>\n",
       "      <td>118150.000000</td>\n",
       "      <td>118150.0</td>\n",
       "      <td>118150.000000</td>\n",
       "      <td>118150.000000</td>\n",
       "      <td>118150.000000</td>\n",
       "      <td>118150.000000</td>\n",
       "      <td>118150.000000</td>\n",
       "      <td>118150.000000</td>\n",
       "      <td>118150.000000</td>\n",
       "      <td>118150.000000</td>\n",
       "    </tr>\n",
       "    <tr>\n",
       "      <th>mean</th>\n",
       "      <td>1.339568</td>\n",
       "      <td>0.0</td>\n",
       "      <td>1.0</td>\n",
       "      <td>1.505036</td>\n",
       "      <td>0.0</td>\n",
       "      <td>188.108345</td>\n",
       "      <td>9.975036</td>\n",
       "      <td>0.743885</td>\n",
       "      <td>3.779856</td>\n",
       "      <td>-21.363502</td>\n",
       "      <td>-48.229601</td>\n",
       "      <td>-23.083842</td>\n",
       "      <td>-46.124553</td>\n",
       "    </tr>\n",
       "    <tr>\n",
       "      <th>std</th>\n",
       "      <td>1.142929</td>\n",
       "      <td>0.0</td>\n",
       "      <td>0.0</td>\n",
       "      <td>1.052396</td>\n",
       "      <td>0.0</td>\n",
       "      <td>37.187817</td>\n",
       "      <td>7.052532</td>\n",
       "      <td>0.436488</td>\n",
       "      <td>1.311448</td>\n",
       "      <td>0.006742</td>\n",
       "      <td>0.007339</td>\n",
       "      <td>0.400970</td>\n",
       "      <td>2.044609</td>\n",
       "    </tr>\n",
       "    <tr>\n",
       "      <th>min</th>\n",
       "      <td>0.000000</td>\n",
       "      <td>0.0</td>\n",
       "      <td>1.0</td>\n",
       "      <td>0.000000</td>\n",
       "      <td>0.0</td>\n",
       "      <td>146.000000</td>\n",
       "      <td>0.000000</td>\n",
       "      <td>0.000000</td>\n",
       "      <td>2.000000</td>\n",
       "      <td>-21.396342</td>\n",
       "      <td>-48.245580</td>\n",
       "      <td>-23.735663</td>\n",
       "      <td>-48.806225</td>\n",
       "    </tr>\n",
       "    <tr>\n",
       "      <th>25%</th>\n",
       "      <td>0.000000</td>\n",
       "      <td>0.0</td>\n",
       "      <td>1.0</td>\n",
       "      <td>1.000000</td>\n",
       "      <td>0.0</td>\n",
       "      <td>151.900000</td>\n",
       "      <td>0.000000</td>\n",
       "      <td>0.000000</td>\n",
       "      <td>2.000000</td>\n",
       "      <td>-21.368331</td>\n",
       "      <td>-48.234968</td>\n",
       "      <td>-23.702918</td>\n",
       "      <td>-47.148067</td>\n",
       "    </tr>\n",
       "    <tr>\n",
       "      <th>50%</th>\n",
       "      <td>1.000000</td>\n",
       "      <td>0.0</td>\n",
       "      <td>1.0</td>\n",
       "      <td>1.000000</td>\n",
       "      <td>0.0</td>\n",
       "      <td>199.000000</td>\n",
       "      <td>12.520000</td>\n",
       "      <td>1.000000</td>\n",
       "      <td>5.000000</td>\n",
       "      <td>-21.364020</td>\n",
       "      <td>-48.228831</td>\n",
       "      <td>-22.949633</td>\n",
       "      <td>-46.546756</td>\n",
       "    </tr>\n",
       "    <tr>\n",
       "      <th>75%</th>\n",
       "      <td>2.000000</td>\n",
       "      <td>0.0</td>\n",
       "      <td>1.0</td>\n",
       "      <td>2.000000</td>\n",
       "      <td>0.0</td>\n",
       "      <td>240.000000</td>\n",
       "      <td>13.180000</td>\n",
       "      <td>1.000000</td>\n",
       "      <td>5.000000</td>\n",
       "      <td>-21.359286</td>\n",
       "      <td>-48.223943</td>\n",
       "      <td>-22.939784</td>\n",
       "      <td>-43.337237</td>\n",
       "    </tr>\n",
       "    <tr>\n",
       "      <th>max</th>\n",
       "      <td>3.000000</td>\n",
       "      <td>0.0</td>\n",
       "      <td>1.0</td>\n",
       "      <td>3.000000</td>\n",
       "      <td>0.0</td>\n",
       "      <td>240.000000</td>\n",
       "      <td>17.970000</td>\n",
       "      <td>1.000000</td>\n",
       "      <td>5.000000</td>\n",
       "      <td>-21.348961</td>\n",
       "      <td>-48.216215</td>\n",
       "      <td>-22.598655</td>\n",
       "      <td>-43.324086</td>\n",
       "    </tr>\n",
       "  </tbody>\n",
       "</table>\n",
       "</div>"
      ],
      "text/plain": [
       "            order_id  order_status  quantity     product_id  seller_id  \\\n",
       "count  118150.000000      118150.0  118150.0  118150.000000   118150.0   \n",
       "mean        1.339568           0.0       1.0       1.505036        0.0   \n",
       "std         1.142929           0.0       0.0       1.052396        0.0   \n",
       "min         0.000000           0.0       1.0       0.000000        0.0   \n",
       "25%         0.000000           0.0       1.0       1.000000        0.0   \n",
       "50%         1.000000           0.0       1.0       1.000000        0.0   \n",
       "75%         2.000000           0.0       1.0       2.000000        0.0   \n",
       "max         3.000000           0.0       1.0       3.000000        0.0   \n",
       "\n",
       "       product_price  freight_value  product_category   review_score  \\\n",
       "count  118150.000000  118150.000000     118150.000000  118150.000000   \n",
       "mean      188.108345       9.975036          0.743885       3.779856   \n",
       "std        37.187817       7.052532          0.436488       1.311448   \n",
       "min       146.000000       0.000000          0.000000       2.000000   \n",
       "25%       151.900000       0.000000          0.000000       2.000000   \n",
       "50%       199.000000      12.520000          1.000000       5.000000   \n",
       "75%       240.000000      13.180000          1.000000       5.000000   \n",
       "max       240.000000      17.970000          1.000000       5.000000   \n",
       "\n",
       "          seller_lat     sellet_lng   customer_lat   customer_lng  \n",
       "count  118150.000000  118150.000000  118150.000000  118150.000000  \n",
       "mean      -21.363502     -48.229601     -23.083842     -46.124553  \n",
       "std         0.006742       0.007339       0.400970       2.044609  \n",
       "min       -21.396342     -48.245580     -23.735663     -48.806225  \n",
       "25%       -21.368331     -48.234968     -23.702918     -47.148067  \n",
       "50%       -21.364020     -48.228831     -22.949633     -46.546756  \n",
       "75%       -21.359286     -48.223943     -22.939784     -43.337237  \n",
       "max       -21.348961     -48.216215     -22.598655     -43.324086  "
      ]
     },
     "execution_count": 375,
     "metadata": {},
     "output_type": "execute_result"
    }
   ],
   "source": [
    "new_df.describe()"
   ]
  },
  {
   "cell_type": "code",
   "execution_count": 376,
   "metadata": {},
   "outputs": [
    {
     "data": {
      "text/plain": [
       "Index(['order_id', 'order_status', 'quantity', 'product_id', 'seller_id',\n",
       "       'product_price', 'freight_value', 'product_category', 'review_score',\n",
       "       'seller_lat', 'sellet_lng', 'customer_lat', 'customer_lng'],\n",
       "      dtype='object')"
      ]
     },
     "execution_count": 376,
     "metadata": {},
     "output_type": "execute_result"
    }
   ],
   "source": [
    "new_df.columns"
   ]
  },
  {
   "cell_type": "markdown",
   "metadata": {},
   "source": [
    "### Outlier Checking And Handling"
   ]
  },
  {
   "cell_type": "code",
   "execution_count": 377,
   "metadata": {},
   "outputs": [
    {
     "data": {
      "image/png": "[encoded data removed]",
      "text/plain": [
       "<Figure size 1296x1080 with 8 Axes>"
      ]
     },
     "metadata": {},
     "output_type": "display_data"
    }
   ],
   "source": [
    "fig = plt.figure(figsize = (18,15))\n",
    "for i, item in enumerate (new_df.drop(['order_id', 'order_status', 'quantity', 'product_id', 'seller_id'],axis=1)):\n",
    "    plt.subplot(3,3,i+1)\n",
    "    sns.boxplot(new_df[item])"
   ]
  },
  {
   "cell_type": "code",
   "execution_count": 378,
   "metadata": {},
   "outputs": [
    {
     "data": {
      "text/plain": [
       "<matplotlib.axes._subplots.AxesSubplot at 0x1d5b77ccda0>"
      ]
     },
     "execution_count": 378,
     "metadata": {},
     "output_type": "execute_result"
    },
    {
     "data": {
      "image/png": "[encoded data removed]",
      "text/plain": [
       "<Figure size 432x288 with 1 Axes>"
      ]
     },
     "metadata": {},
     "output_type": "display_data"
    }
   ],
   "source": [
    "sns.boxplot(new_df['seller_lat'])"
   ]
  },
  {
   "cell_type": "code",
   "execution_count": 379,
   "metadata": {},
   "outputs": [],
   "source": [
    "Q1 =  new_df['seller_lat'].quantile(0.25)\n",
    "Q3 = new_df['seller_lat'].quantile(0.75)\n",
    "IQR = Q3 - Q1"
   ]
  },
  {
   "cell_type": "code",
   "execution_count": 380,
   "metadata": {},
   "outputs": [
    {
     "name": "stdout",
     "output_type": "stream",
     "text": [
      "36792    -21.396342\n",
      "36793    -21.396342\n",
      "36794    -21.396342\n",
      "36795    -21.396342\n",
      "36796    -21.396342\n",
      "            ...    \n",
      "117967   -21.396342\n",
      "117968   -21.396342\n",
      "117969   -21.396342\n",
      "117970   -21.396342\n",
      "117971   -21.396342\n",
      "Name: seller_lat, Length: 695, dtype: float64\n"
     ]
    }
   ],
   "source": [
    "outliers_df =new_df[(new_df['seller_lat'] < Q1-1.5*IQR ) | (new_df['seller_lat'] > Q3+1.5*IQR)]['seller_lat']\n",
    "print(outliers_df)"
   ]
  },
  {
   "cell_type": "code",
   "execution_count": 381,
   "metadata": {},
   "outputs": [
    {
     "name": "stderr",
     "output_type": "stream",
     "text": [
      "C:\\ProgramData\\Anaconda3\\lib\\site-packages\\ipykernel_launcher.py:2: SettingWithCopyWarning: \n",
      "A value is trying to be set on a copy of a slice from a DataFrame\n",
      "\n",
      "See the caveats in the documentation: https://pandas.pydata.org/pandas-docs/stable/user_guide/indexing.html#returning-a-view-versus-a-copy\n",
      "  \n"
     ]
    },
    {
     "name": "stdout",
     "output_type": "stream",
     "text": [
      "36792    -21.364020\n",
      "36793    -21.363997\n",
      "36794    -21.363986\n",
      "36795    -21.363980\n",
      "36796    -21.363977\n",
      "            ...    \n",
      "117967   -21.363974\n",
      "117968   -21.363974\n",
      "117969   -21.363974\n",
      "117970   -21.363974\n",
      "117971   -21.363974\n",
      "Name: seller_lat, Length: 695, dtype: float64\n"
     ]
    }
   ],
   "source": [
    "for i in range(len(outliers_df)):\n",
    "    new_df['seller_lat'][outliers_df.index[i]]  = new_df.seller_lat.median()\n",
    "print(new_df['seller_lat'][outliers_df.index])"
   ]
  },
  {
   "cell_type": "code",
   "execution_count": 382,
   "metadata": {},
   "outputs": [
    {
     "data": {
      "text/plain": [
       "<matplotlib.axes._subplots.AxesSubplot at 0x1d5c8d10be0>"
      ]
     },
     "execution_count": 382,
     "metadata": {},
     "output_type": "execute_result"
    },
    {
     "data": {
      "image/png": "[encoded data removed]",
      "text/plain": [
       "<Figure size 432x288 with 1 Axes>"
      ]
     },
     "metadata": {},
     "output_type": "display_data"
    }
   ],
   "source": [
    "sns.boxplot(new_df['seller_lat'])"
   ]
  },
  {
   "cell_type": "code",
   "execution_count": 383,
   "metadata": {},
   "outputs": [],
   "source": [
    "new_df.to_csv(\"update_data.csv\")"
   ]
  },
  {
   "cell_type": "markdown",
   "metadata": {},
   "source": [
    "### Checking Correlation After Data Pre-Processing"
   ]
  },
  {
   "cell_type": "code",
   "execution_count": 384,
   "metadata": {},
   "outputs": [],
   "source": [
    "new_corr = new_df.corr()"
   ]
  },
  {
   "cell_type": "code",
   "execution_count": 385,
   "metadata": {},
   "outputs": [
    {
     "data": {
      "image/png": "[encoded data removed]",
      "text/plain": [
       "<Figure size 1440x1080 with 2 Axes>"
      ]
     },
     "metadata": {},
     "output_type": "display_data"
    }
   ],
   "source": [
    "plt.subplots(figsize=(20,15))\n",
    "ax = sns.heatmap(new_corr,cmap='coolwarm', annot = True)\n",
    "plt.yticks(rotation = 0)\n",
    "ax.invert_yaxis()\n",
    "plt.show()"
   ]
  },
  {
   "cell_type": "code",
   "execution_count": 386,
   "metadata": {},
   "outputs": [],
   "source": [
    "new_df = new_df.drop(['order_status','quantity','seller_id'],axis=1)"
   ]
  },
  {
   "cell_type": "code",
   "execution_count": 387,
   "metadata": {},
   "outputs": [],
   "source": [
    "new_corr = new_df.corr()"
   ]
  },
  {
   "cell_type": "code",
   "execution_count": 388,
   "metadata": {},
   "outputs": [
    {
     "data": {
      "image/png": "[encoded data removed]",
      "text/plain": [
       "<Figure size 1440x1080 with 2 Axes>"
      ]
     },
     "metadata": {},
     "output_type": "display_data"
    }
   ],
   "source": [
    "plt.subplots(figsize=(20,15))\n",
    "ax = sns.heatmap(new_corr,cmap='coolwarm', annot = True)\n",
    "plt.yticks(rotation = 0)\n",
    "ax.invert_yaxis()\n",
    "plt.show()"
   ]
  },
  {
   "cell_type": "code",
   "execution_count": 389,
   "metadata": {},
   "outputs": [],
   "source": [
    "new_df.to_csv(\"update_data.csv\")"
   ]
  },
  {
   "cell_type": "markdown",
   "metadata": {},
   "source": [
    "### Splitting Data After Cleaning"
   ]
  },
  {
   "cell_type": "markdown",
   "metadata": {},
   "source": [
    "#### Model 1 for Predicting 'review_score'"
   ]
  },
  {
   "cell_type": "code",
   "execution_count": 390,
   "metadata": {},
   "outputs": [],
   "source": [
    "from sklearn.model_selection import train_test_split"
   ]
  },
  {
   "cell_type": "code",
   "execution_count": 391,
   "metadata": {},
   "outputs": [
    {
     "data": {
      "text/plain": [
       "Index(['order_id', 'product_id', 'product_price', 'freight_value',\n",
       "       'product_category', 'review_score', 'seller_lat', 'sellet_lng',\n",
       "       'customer_lat', 'customer_lng'],\n",
       "      dtype='object')"
      ]
     },
     "execution_count": 391,
     "metadata": {},
     "output_type": "execute_result"
    }
   ],
   "source": [
    "new_df.columns"
   ]
  },
  {
   "cell_type": "code",
   "execution_count": 392,
   "metadata": {},
   "outputs": [],
   "source": [
    "X1 = new_df.drop(['review_score','product_category','product_price'], axis=1)\n",
    "y1 = new_df['review_score']"
   ]
  },
  {
   "cell_type": "code",
   "execution_count": 393,
   "metadata": {},
   "outputs": [],
   "source": [
    "xTrain1, xTest1, yTrain1, yTest1 = train_test_split(\n",
    "    X1,\n",
    "    y1,\n",
    "    test_size = .1\n",
    ")"
   ]
  },
  {
   "cell_type": "code",
   "execution_count": 394,
   "metadata": {},
   "outputs": [
    {
     "name": "stdout",
     "output_type": "stream",
     "text": [
      "118150 118150\n"
     ]
    }
   ],
   "source": [
    "print(len(X1),len(y1))"
   ]
  },
  {
   "cell_type": "code",
   "execution_count": 395,
   "metadata": {},
   "outputs": [
    {
     "name": "stdout",
     "output_type": "stream",
     "text": [
      "106335 106335 11815 11815\n"
     ]
    }
   ],
   "source": [
    "print(len(xTrain1),len(yTrain1),len(xTest1),len(yTest1))"
   ]
  },
  {
   "cell_type": "code",
   "execution_count": 396,
   "metadata": {},
   "outputs": [
    {
     "data": {
      "text/plain": [
       "Index(['order_id', 'product_id', 'freight_value', 'seller_lat', 'sellet_lng',\n",
       "       'customer_lat', 'customer_lng'],\n",
       "      dtype='object')"
      ]
     },
     "execution_count": 396,
     "metadata": {},
     "output_type": "execute_result"
    }
   ],
   "source": [
    "xTrain1.columns"
   ]
  },
  {
   "cell_type": "code",
   "execution_count": 397,
   "metadata": {},
   "outputs": [
    {
     "data": {
      "text/plain": [
       "116421    2\n",
       "74041     5\n",
       "29231     5\n",
       "64128     5\n",
       "83815     5\n",
       "         ..\n",
       "111417    2\n",
       "20890     5\n",
       "113519    2\n",
       "40919     3\n",
       "54418     3\n",
       "Name: review_score, Length: 106335, dtype: int64"
      ]
     },
     "execution_count": 397,
     "metadata": {},
     "output_type": "execute_result"
    }
   ],
   "source": [
    "yTrain1"
   ]
  },
  {
   "cell_type": "markdown",
   "metadata": {},
   "source": [
    "### Decision Tree Model"
   ]
  },
  {
   "cell_type": "code",
   "execution_count": 398,
   "metadata": {},
   "outputs": [],
   "source": [
    "from sklearn import tree "
   ]
  },
  {
   "cell_type": "code",
   "execution_count": 399,
   "metadata": {},
   "outputs": [],
   "source": [
    "import seaborn as sns"
   ]
  },
  {
   "cell_type": "code",
   "execution_count": 400,
   "metadata": {},
   "outputs": [
    {
     "name": "stdout",
     "output_type": "stream",
     "text": [
      "model score = 1.0\n"
     ]
    }
   ],
   "source": [
    "model1 = tree.DecisionTreeClassifier()\n",
    "model1.fit(xTrain1,yTrain1)\n",
    "print('model score =',model1.score(xTrain1,yTrain1))"
   ]
  },
  {
   "cell_type": "markdown",
   "metadata": {},
   "source": [
    "#### Testing Accuracy"
   ]
  },
  {
   "cell_type": "code",
   "execution_count": 401,
   "metadata": {},
   "outputs": [],
   "source": [
    "from sklearn.metrics import accuracy_score\n",
    "from sklearn.metrics import confusion_matrix \n",
    "from sklearn.metrics import classification_report"
   ]
  },
  {
   "cell_type": "code",
   "execution_count": 402,
   "metadata": {},
   "outputs": [
    {
     "name": "stdout",
     "output_type": "stream",
     "text": [
      "accuracy = 100.0 %\n"
     ]
    }
   ],
   "source": [
    "prediction1 = model1.predict(xTest1)\n",
    "print('accuracy =',accuracy_score(yTest1, prediction1)*100,'%')"
   ]
  },
  {
   "cell_type": "code",
   "execution_count": 403,
   "metadata": {},
   "outputs": [
    {
     "name": "stdout",
     "output_type": "stream",
     "text": [
      "Confusion Matrix:  [[2998    0    0]\n",
      " [   0 2667    0]\n",
      " [   0    0 6150]]\n",
      "Model Accuracy:  1.0\n",
      "\n",
      "\n",
      "              precision    recall  f1-score   support\n",
      "\n",
      "           2       1.00      1.00      1.00      2998\n",
      "           3       1.00      1.00      1.00      2667\n",
      "           5       1.00      1.00      1.00      6150\n",
      "\n",
      "   micro avg       1.00      1.00      1.00     11815\n",
      "   macro avg       1.00      1.00      1.00     11815\n",
      "weighted avg       1.00      1.00      1.00     11815\n",
      "\n"
     ]
    }
   ],
   "source": [
    "results1 = confusion_matrix(yTest1, prediction1)\n",
    "accuracy=accuracy_score(yTest1, prediction1)\n",
    "report=classification_report(yTest1, prediction1) \n",
    "print(\"Confusion Matrix: \",results1)\n",
    "print('Model Accuracy: ',accuracy)\n",
    "print('\\n')\n",
    "print(report)"
   ]
  },
  {
   "cell_type": "code",
   "execution_count": 404,
   "metadata": {},
   "outputs": [],
   "source": [
    "def plot_confusion_matrix(cm, classes,\n",
    "                          normalize=False,\n",
    "                          title='Confusion matrix',\n",
    "                          cmap=plt.cm.Blues):\n",
    "    \"\"\"\n",
    "    This function prints and plots the confusion matrix.\n",
    "    Normalization can be applied by setting `normalize=True`.\n",
    "    \"\"\"\n",
    "    import itertools\n",
    "    if normalize:\n",
    "        cm = cm.astype('float') / cm.sum(axis=1)[:, np.newaxis]\n",
    "        print(\"Normalized confusion matrix\")\n",
    "    else:\n",
    "        print('Confusion matrix, without normalization')\n",
    "\n",
    "    print(cm)\n",
    "\n",
    "    plt.imshow(cm, interpolation='nearest', cmap=cmap)\n",
    "    plt.title(title)\n",
    "    plt.colorbar()\n",
    "    tick_marks = np.arange(len(classes))\n",
    "    plt.xticks(tick_marks, classes, rotation=45)\n",
    "    plt.yticks(tick_marks, classes)\n",
    "\n",
    "    fmt = '.2f' if normalize else 'd'\n",
    "    thresh = cm.max() / 2.\n",
    "    for i, j in itertools.product(range(cm.shape[0]), range(cm.shape[1])):\n",
    "        plt.text(j, i, format(cm[i, j], fmt),\n",
    "                 horizontalalignment=\"center\",\n",
    "                 color=\"white\" if cm[i, j] > thresh else \"black\")\n",
    "\n",
    "    plt.ylabel('True label')\n",
    "    plt.xlabel('Predicted label')\n",
    "    plt.tight_layout()"
   ]
  },
  {
   "cell_type": "code",
   "execution_count": 405,
   "metadata": {},
   "outputs": [
    {
     "name": "stdout",
     "output_type": "stream",
     "text": [
      "Confusion matrix, without normalization\n",
      "[[2998    0    0]\n",
      " [   0 2667    0]\n",
      " [   0    0 6150]]\n"
     ]
    },
    {
     "data": {
      "image/png": "[encoded data removed]",
      "text/plain": [
       "<Figure size 432x288 with 2 Axes>"
      ]
     },
     "metadata": {},
     "output_type": "display_data"
    }
   ],
   "source": [
    "cnf_matrix = confusion_matrix(yTest1, prediction1,labels=[2, 3, 5])\n",
    "np.set_printoptions(precision=2)\n",
    "\n",
    "# Plot non-normalized confusion matrix\n",
    "plt.figure()\n",
    "plot_confusion_matrix(cnf_matrix, classes=['2', '3', '5'],\n",
    "                      title='Confusion matrix')"
   ]
  },
  {
   "cell_type": "markdown",
   "metadata": {},
   "source": [
    "#### Model 1 for Predicting 'product_category'"
   ]
  },
  {
   "cell_type": "code",
   "execution_count": 406,
   "metadata": {},
   "outputs": [],
   "source": [
    "X2 = new_df.drop(['review_score','product_category','product_price'], axis=1)\n",
    "y2 = new_df['product_category']"
   ]
  },
  {
   "cell_type": "code",
   "execution_count": 407,
   "metadata": {},
   "outputs": [],
   "source": [
    "xTrain2, xTest2, yTrain2, yTest2 = train_test_split(\n",
    "    X2,\n",
    "    y2,\n",
    "    test_size = .1\n",
    ")"
   ]
  },
  {
   "cell_type": "code",
   "execution_count": 408,
   "metadata": {},
   "outputs": [
    {
     "name": "stdout",
     "output_type": "stream",
     "text": [
      "118150 118150\n"
     ]
    }
   ],
   "source": [
    "print(len(X2),len(y2))"
   ]
  },
  {
   "cell_type": "code",
   "execution_count": 409,
   "metadata": {},
   "outputs": [
    {
     "name": "stdout",
     "output_type": "stream",
     "text": [
      "106335 106335 11815 11815\n"
     ]
    }
   ],
   "source": [
    "print(len(xTrain2),len(yTrain2),len(xTest2),len(yTest2))"
   ]
  },
  {
   "cell_type": "code",
   "execution_count": 410,
   "metadata": {},
   "outputs": [
    {
     "data": {
      "text/plain": [
       "Index(['order_id', 'product_id', 'freight_value', 'seller_lat', 'sellet_lng',\n",
       "       'customer_lat', 'customer_lng'],\n",
       "      dtype='object')"
      ]
     },
     "execution_count": 410,
     "metadata": {},
     "output_type": "execute_result"
    }
   ],
   "source": [
    "xTrain2.columns"
   ]
  },
  {
   "cell_type": "code",
   "execution_count": 411,
   "metadata": {},
   "outputs": [
    {
     "data": {
      "text/plain": [
       "25542     1\n",
       "52912     1\n",
       "25479     1\n",
       "28330     1\n",
       "38403     1\n",
       "         ..\n",
       "18188     1\n",
       "102813    0\n",
       "24520     1\n",
       "68360     1\n",
       "109765    0\n",
       "Name: product_category, Length: 106335, dtype: int32"
      ]
     },
     "execution_count": 411,
     "metadata": {},
     "output_type": "execute_result"
    }
   ],
   "source": [
    "yTrain2"
   ]
  },
  {
   "cell_type": "code",
   "execution_count": 412,
   "metadata": {},
   "outputs": [
    {
     "name": "stdout",
     "output_type": "stream",
     "text": [
      "model score = 1.0\n"
     ]
    }
   ],
   "source": [
    "model2 = tree.DecisionTreeClassifier()\n",
    "model2.fit(xTrain2,yTrain2)\n",
    "print('model score =',model2.score(xTrain2,yTrain2))"
   ]
  },
  {
   "cell_type": "markdown",
   "metadata": {},
   "source": [
    "### Testing accuracy"
   ]
  },
  {
   "cell_type": "code",
   "execution_count": 413,
   "metadata": {},
   "outputs": [
    {
     "name": "stdout",
     "output_type": "stream",
     "text": [
      "accuracy = 100.0 %\n"
     ]
    }
   ],
   "source": [
    "prediction2 = model2.predict(xTest2)\n",
    "print('accuracy =',accuracy_score(yTest2, prediction2)*100,'%')"
   ]
  },
  {
   "cell_type": "code",
   "execution_count": 414,
   "metadata": {},
   "outputs": [
    {
     "name": "stdout",
     "output_type": "stream",
     "text": [
      "[[3028    0]\n",
      " [   0 8787]]\n",
      "Model Accuracy:  1.0\n",
      "\n",
      "\n",
      "              precision    recall  f1-score   support\n",
      "\n",
      "           0       1.00      1.00      1.00      3028\n",
      "           1       1.00      1.00      1.00      8787\n",
      "\n",
      "   micro avg       1.00      1.00      1.00     11815\n",
      "   macro avg       1.00      1.00      1.00     11815\n",
      "weighted avg       1.00      1.00      1.00     11815\n",
      "\n"
     ]
    }
   ],
   "source": [
    "results = confusion_matrix(yTest2, prediction2)\n",
    "accuracy=accuracy_score(yTest2, prediction2)\n",
    "report=classification_report(yTest2, prediction2) \n",
    "print(results)\n",
    "print('Model Accuracy: ',accuracy)\n",
    "print('\\n')\n",
    "print(report)"
   ]
  },
  {
   "cell_type": "code",
   "execution_count": 415,
   "metadata": {},
   "outputs": [
    {
     "data": {
      "text/plain": [
       "<matplotlib.axes._subplots.AxesSubplot at 0x1d5ced522e8>"
      ]
     },
     "execution_count": 415,
     "metadata": {},
     "output_type": "execute_result"
    },
    {
     "data": {
      "image/png": "[encoded data removed]",
      "text/plain": [
       "<Figure size 432x288 with 2 Axes>"
      ]
     },
     "metadata": {},
     "output_type": "display_data"
    }
   ],
   "source": [
    "group_names = [\"True Neg\",\"False Pos\",\"False Neg\",\"True Pos\"]\n",
    "group_counts = [\"{0:0.0f}\".format(value) for value in\n",
    "                results.flatten()]\n",
    "group_percentages = [\"{0:.2%}\".format(value) for value in\n",
    "                     results.flatten()/np.sum(results)]\n",
    "labels = [f\"{v1}\\n{v2}\\n{v3}\" for v1, v2, v3 in\n",
    "          zip(group_names,group_counts,group_percentages)]\n",
    "labels = np.asarray(labels).reshape(2,2)\n",
    "sns.heatmap(results, annot=labels, fmt=\"\", cmap='Blues')"
   ]
  },
  {
   "cell_type": "code",
   "execution_count": null,
   "metadata": {},
   "outputs": [],
   "source": []
  },
  {
   "cell_type": "markdown",
   "metadata": {},
   "source": [
    "#### Model 1 for Predicting 'product_price'"
   ]
  },
  {
   "cell_type": "code",
   "execution_count": 416,
   "metadata": {},
   "outputs": [],
   "source": [
    "X3 = new_df.drop(['review_score','product_category','product_price'], axis=1)\n",
    "y3 = new_df['product_price']"
   ]
  },
  {
   "cell_type": "code",
   "execution_count": 417,
   "metadata": {},
   "outputs": [],
   "source": [
    "xTrain3, xTest3, yTrain3, yTest3 = train_test_split(\n",
    "    X3,\n",
    "    y3,\n",
    "    test_size = .1\n",
    ")"
   ]
  },
  {
   "cell_type": "code",
   "execution_count": 418,
   "metadata": {},
   "outputs": [
    {
     "name": "stdout",
     "output_type": "stream",
     "text": [
      "118150 118150\n"
     ]
    }
   ],
   "source": [
    "print(len(X3),len(y3))"
   ]
  },
  {
   "cell_type": "code",
   "execution_count": 419,
   "metadata": {},
   "outputs": [
    {
     "name": "stdout",
     "output_type": "stream",
     "text": [
      "106335 106335 11815 11815\n"
     ]
    }
   ],
   "source": [
    "print(len(xTrain3),len(yTrain3),len(xTest3),len(yTest3))"
   ]
  },
  {
   "cell_type": "code",
   "execution_count": 420,
   "metadata": {},
   "outputs": [
    {
     "data": {
      "text/plain": [
       "Index(['order_id', 'product_id', 'freight_value', 'seller_lat', 'sellet_lng',\n",
       "       'customer_lat', 'customer_lng'],\n",
       "      dtype='object')"
      ]
     },
     "execution_count": 420,
     "metadata": {},
     "output_type": "execute_result"
    }
   ],
   "source": [
    "xTrain3.columns"
   ]
  },
  {
   "cell_type": "code",
   "execution_count": 421,
   "metadata": {},
   "outputs": [
    {
     "data": {
      "text/plain": [
       "43078     151.9\n",
       "56018     151.9\n",
       "113911    240.0\n",
       "76765     146.0\n",
       "14255     199.0\n",
       "          ...  \n",
       "100442    240.0\n",
       "81265     146.0\n",
       "76326     146.0\n",
       "99569     240.0\n",
       "21150     199.0\n",
       "Name: product_price, Length: 106335, dtype: float64"
      ]
     },
     "execution_count": 421,
     "metadata": {},
     "output_type": "execute_result"
    }
   ],
   "source": [
    "yTrain3"
   ]
  },
  {
   "cell_type": "code",
   "execution_count": 422,
   "metadata": {},
   "outputs": [],
   "source": [
    "# model3 = tree.DecisionTreeClassifier()\n",
    "# model3.fit(xTrain3,yTrain3)\n",
    "# print('model score =',model3.score(xTrain3,yTrain3))"
   ]
  },
  {
   "cell_type": "code",
   "execution_count": 423,
   "metadata": {},
   "outputs": [],
   "source": [
    "import tensorflow as tf"
   ]
  },
  {
   "cell_type": "code",
   "execution_count": 424,
   "metadata": {},
   "outputs": [],
   "source": [
    "model=tf.keras.models.Sequential([\n",
    "tf.keras.layers.Dense(10,input_dim=7,kernel_initializer=\"normal\",activation=\"relu\"),\n",
    "tf.keras.layers.Dense(10,kernel_initializer=\"normal\",activation=\"relu\"),\n",
    "tf.keras.layers.Dense(6,kernel_initializer=\"normal\",activation=\"relu\"),\n",
    "tf.keras.layers.Dense(1)\n",
    "])\n",
    "model.compile(loss=\"mean_squared_error\",optimizer=\"adam\",metrics=[\"mse\"])"
   ]
  },
  {
   "cell_type": "code",
   "execution_count": 425,
   "metadata": {},
   "outputs": [
    {
     "name": "stdout",
     "output_type": "stream",
     "text": [
      "Model: \"sequential_2\"\n",
      "_________________________________________________________________\n",
      "Layer (type)                 Output Shape              Param #   \n",
      "=================================================================\n",
      "dense_7 (Dense)              (None, 10)                80        \n",
      "_________________________________________________________________\n",
      "dense_8 (Dense)              (None, 10)                110       \n",
      "_________________________________________________________________\n",
      "dense_9 (Dense)              (None, 6)                 66        \n",
      "_________________________________________________________________\n",
      "dense_10 (Dense)             (None, 1)                 7         \n",
      "=================================================================\n",
      "Total params: 263\n",
      "Trainable params: 263\n",
      "Non-trainable params: 0\n",
      "_________________________________________________________________\n"
     ]
    }
   ],
   "source": [
    "model.summary()"
   ]
  },
  {
   "cell_type": "code",
   "execution_count": 426,
   "metadata": {},
   "outputs": [
    {
     "name": "stdout",
     "output_type": "stream",
     "text": [
      "WARNING:tensorflow:Falling back from v2 loop because of error: Failed to find data adapter that can handle input: <class 'pandas.core.frame.DataFrame'>, <class 'NoneType'>\n",
      "Train on 106335 samples\n",
      "Epoch 1/3\n",
      "106335/106335 [==============================] - 15s 142us/sample - loss: 2327.8506 - mse: 2327.8472\n",
      "Epoch 2/3\n",
      "106335/106335 [==============================] - 12s 115us/sample - loss: 96.3743 - mse: 96.3737\n",
      "Epoch 3/3\n",
      "106335/106335 [==============================] - 10s 96us/sample - loss: 0.0023 - mse: 0.0023\n"
     ]
    },
    {
     "data": {
      "text/plain": [
       "<tensorflow.python.keras.callbacks.History at 0x1d5c775c898>"
      ]
     },
     "execution_count": 426,
     "metadata": {},
     "output_type": "execute_result"
    }
   ],
   "source": [
    "model.fit(xTrain3,yTrain3,epochs=3)"
   ]
  },
  {
   "cell_type": "code",
   "execution_count": 427,
   "metadata": {},
   "outputs": [
    {
     "name": "stdout",
     "output_type": "stream",
     "text": [
      "Evaluate on test data\n",
      "WARNING:tensorflow:Falling back from v2 loop because of error: Failed to find data adapter that can handle input: <class 'pandas.core.frame.DataFrame'>, <class 'NoneType'>\n",
      "11815/11815 [==============================] - 1s 85us/sample - loss: 0.0033 - mse: 0.0033\n",
      "test loss, test acc: [0.0033033616394293266, 0.0033033597]\n"
     ]
    }
   ],
   "source": [
    "# Evaluate the model on the test data using `evaluate`\n",
    "print(\"Evaluate on test data\")\n",
    "results = model.evaluate(xTest3, yTest3)\n",
    "print(\"test loss, test mse:\", results)"
   ]
  },
  {
   "cell_type": "code",
   "execution_count": 428,
   "metadata": {},
   "outputs": [
    {
     "name": "stdout",
     "output_type": "stream",
     "text": [
      "Generate predictions for 3 samples\n",
      "WARNING:tensorflow:Falling back from v2 loop because of error: Failed to find data adapter that can handle input: <class 'pandas.core.frame.DataFrame'>, <class 'NoneType'>\n",
      "predictions shape: (3, 1)\n"
     ]
    }
   ],
   "source": [
    "print(\"Generate predictions for 3 samples\")\n",
    "predictions3 = model.predict(xTest3[:3])\n",
    "print(\"predictions shape:\", predictions3.shape)"
   ]
  },
  {
   "cell_type": "code",
   "execution_count": 433,
   "metadata": {},
   "outputs": [
    {
     "name": "stdout",
     "output_type": "stream",
     "text": [
      "WARNING:tensorflow:Falling back from v2 loop because of error: Failed to find data adapter that can handle input: <class 'pandas.core.frame.DataFrame'>, <class 'NoneType'>\n"
     ]
    }
   ],
   "source": [
    "yTest3_pred = model.predict(xTest3)"
   ]
  },
  {
   "cell_type": "code",
   "execution_count": 434,
   "metadata": {},
   "outputs": [
    {
     "name": "stdout",
     "output_type": "stream",
     "text": [
      "11815 11815\n"
     ]
    }
   ],
   "source": [
    "print(len(yTest3),len(yTest3_pred))"
   ]
  },
  {
   "cell_type": "code",
   "execution_count": 435,
   "metadata": {},
   "outputs": [
    {
     "name": "stdout",
     "output_type": "stream",
     "text": [
      "Mean absolute error = 0.05\n",
      "Mean squared error = 0.0\n",
      "Explain variance score = 1.0\n",
      "R2 score = 1.0\n"
     ]
    }
   ],
   "source": [
    "import sklearn.metrics as sm\n",
    "print(\"Mean absolute error =\", round(sm.mean_absolute_error(yTest3, yTest3_pred), 2)) \n",
    "print(\"Mean squared error =\", round(sm.mean_squared_error(yTest3, yTest3_pred), 2)) \n",
    "print(\"Explain variance score =\", round(sm.explained_variance_score(yTest3, yTest3_pred), 2)) \n",
    "print(\"R2 score =\", round(sm.r2_score(yTest3, yTest3_pred), 2))"
   ]
  },
  {
   "cell_type": "code",
   "execution_count": 429,
   "metadata": {},
   "outputs": [
    {
     "name": "stdout",
     "output_type": "stream",
     "text": [
      "[[199.02]\n",
      " [199.  ]\n",
      " [239.94]]\n"
     ]
    }
   ],
   "source": [
    "print(predictions3)"
   ]
  },
  {
   "cell_type": "code",
   "execution_count": null,
   "metadata": {},
   "outputs": [],
   "source": []
  },
  {
   "cell_type": "code",
   "execution_count": 430,
   "metadata": {},
   "outputs": [
    {
     "name": "stdout",
     "output_type": "stream",
     "text": [
      "20492     199.0\n",
      "14347     199.0\n",
      "110389    240.0\n",
      "Name: product_price, dtype: float64\n"
     ]
    }
   ],
   "source": [
    "print(yTest3[:3])"
   ]
  },
  {
   "cell_type": "code",
   "execution_count": 431,
   "metadata": {},
   "outputs": [
    {
     "name": "stdout",
     "output_type": "stream",
     "text": [
      "        order_id  product_id  freight_value  seller_lat  sellet_lng  \\\n",
      "20492          0           1           0.00  -21.369332  -48.225907   \n",
      "14347          0           1           0.00  -21.370439  -48.233463   \n",
      "110389         1           2          13.18  -21.372817  -48.218548   \n",
      "\n",
      "        customer_lat  customer_lng  \n",
      "20492     -22.950129    -43.336057  \n",
      "14347     -22.947452    -43.332513  \n",
      "110389    -23.725600    -46.544829  \n"
     ]
    }
   ],
   "source": [
    "print(xTest3[:3])"
   ]
  },
  {
   "cell_type": "code",
   "execution_count": 445,
   "metadata": {},
   "outputs": [
    {
     "name": "stdout",
     "output_type": "stream",
     "text": [
      "       order_id  product_id  freight_value  seller_lat  sellet_lng  \\\n",
      "20492         0           1            0.0  -21.369332  -48.225907   \n",
      "\n",
      "       customer_lat  customer_lng  \n",
      "20492    -22.950129    -43.336057   <class 'pandas.core.frame.DataFrame'>\n"
     ]
    }
   ],
   "source": [
    "print(xTest3[:1],type(xTest3[:1]))"
   ]
  },
  {
   "cell_type": "code",
   "execution_count": 456,
   "metadata": {},
   "outputs": [
    {
     "name": "stdout",
     "output_type": "stream",
     "text": [
      "20492    199.0\n",
      "Name: product_price, dtype: float64 12441    1\n",
      "Name: product_category, dtype: int32 19302    5\n",
      "Name: review_score, dtype: int64\n"
     ]
    }
   ],
   "source": [
    "print(yTest3[:1],yTest2[:1],yTest1[:1])"
   ]
  },
  {
   "cell_type": "code",
   "execution_count": 436,
   "metadata": {},
   "outputs": [],
   "source": [
    "import h5py,pickle"
   ]
  },
  {
   "cell_type": "code",
   "execution_count": 438,
   "metadata": {},
   "outputs": [],
   "source": [
    "model.save(\"NN_model.h5\")"
   ]
  },
  {
   "cell_type": "code",
   "execution_count": 439,
   "metadata": {},
   "outputs": [],
   "source": [
    "pickle_out=open(\"model1.pickle\",\"wb\")\n",
    "pickle.dump(model1,pickle_out)\n",
    "pickle_out.close()\n",
    "\n",
    "pickle_out=open(\"model2.pickle\",\"wb\")\n",
    "pickle.dump(model2,pickle_out)\n",
    "pickle_out.close()"
   ]
  },
  {
   "cell_type": "code",
   "execution_count": null,
   "metadata": {},
   "outputs": [],
   "source": []
  },
  {
   "cell_type": "code",
   "execution_count": 469,
   "metadata": {},
   "outputs": [],
   "source": [
    "def get_predictions(order_id, product_id, freight_value, seller_lat, sellet_lng,\n",
    "       customer_lat, customer_lng):\n",
    "    df = pd.DataFrame(columns=['order_id', 'product_id', 'freight_value', 'seller_lat', 'sellet_lng',\n",
    "       'customer_lat', 'customer_lng'])\n",
    "    \n",
    "    df.loc[0,'order_id'] = order_id\n",
    "    df.loc[0,'product_id'] = product_id\n",
    "    df.loc[0,'freight_value'] = freight_value\n",
    "    df.loc[0,'seller_lat'] = seller_lat\n",
    "    df.loc[0,'sellet_lng'] = sellet_lng\n",
    "    df.loc[0,'customer_lat'] = customer_lat\n",
    "    df.loc[0,'customer_lng'] = customer_lng\n",
    "    \n",
    "    \n",
    "    product_price = model.predict(df[:1])[0]\n",
    "    product_category = model2.predict(df[:1])\n",
    "    review_score = model1.predict(df[:1])\n",
    "    \n",
    "    return product_price[0],product_category[0],review_score[0]\n",
    "    "
   ]
  },
  {
   "cell_type": "code",
   "execution_count": 470,
   "metadata": {},
   "outputs": [],
   "source": [
    "# 0           1            0.0  -21.369332  -48.225907 -22.950129    -43.336057"
   ]
  },
  {
   "cell_type": "code",
   "execution_count": 471,
   "metadata": {},
   "outputs": [
    {
     "name": "stdout",
     "output_type": "stream",
     "text": [
      "WARNING:tensorflow:Falling back from v2 loop because of error: Failed to find data adapter that can handle input: <class 'pandas.core.frame.DataFrame'>, <class 'NoneType'>\n"
     ]
    }
   ],
   "source": [
    "product_price,product_category,review_score = get_predictions(0, 1, 0.0, -21.369332, -48.225907,\n",
    "       -22.950129, -43.336057)"
   ]
  },
  {
   "cell_type": "code",
   "execution_count": 472,
   "metadata": {},
   "outputs": [
    {
     "name": "stdout",
     "output_type": "stream",
     "text": [
      "Product Price:  199.01767\n",
      "Product Category:  1\n",
      "Review Score:  5\n"
     ]
    }
   ],
   "source": [
    "print(\"Product Price: \",product_price)\n",
    "print(\"Product Category: \",product_category)\n",
    "print(\"Review Score: \",review_score)"
   ]
  },
  {
   "cell_type": "code",
   "execution_count": null,
   "metadata": {},
   "outputs": [],
   "source": []
  }
 ],
 "metadata": {
  "kernelspec": {
   "display_name": "Python 3",
   "language": "python",
   "name": "python3"
  },
  "language_info": {
   "codemirror_mode": {
    "name": "ipython",
    "version": 3
   },
   "file_extension": ".py",
   "mimetype": "text/x-python",
   "name": "python",
   "nbconvert_exporter": "python",
   "pygments_lexer": "ipython3",
   "version": "3.7.3"
  }
 },
 "nbformat": 4,
 "nbformat_minor": 4
}
