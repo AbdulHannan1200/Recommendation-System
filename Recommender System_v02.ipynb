{
 "cells": [
  {
   "cell_type": "markdown",
   "metadata": {},
   "source": [
    "### Importing Libraries"
   ]
  },
  {
   "cell_type": "code",
   "execution_count": 1,
   "metadata": {},
   "outputs": [],
   "source": [
    "import numpy as np\n",
    "import pandas as pd\n",
    "import os  "
   ]
  },
  {
   "cell_type": "code",
   "execution_count": 2,
   "metadata": {},
   "outputs": [],
   "source": [
    "import matplotlib.pyplot as plt\n",
    "import seaborn as sns  \n",
    "# %matplotlib inline\n",
    "plt.style.use(\"ggplot\")\n",
    "plt.rc(\"font\", size=14)\n",
    "\n"
   ]
  },
  {
   "cell_type": "code",
   "execution_count": 3,
   "metadata": {},
   "outputs": [],
   "source": [
    "import sklearn\n",
    "from sklearn.decomposition import TruncatedSVD\n",
    "from sklearn.linear_model import LogisticRegression      \n",
    "from sklearn import preprocessing                                           \n",
    "from sklearn.model_selection import train_test_split, cross_val_score      \n",
    "from sklearn.impute import SimpleImputer                                   \n",
    "\n",
    "from sklearn.metrics import confusion_matrix                                \n",
    "from sklearn.metrics import precision_recall_curve                          \n",
    "from sklearn.metrics import roc_curve                                       \n",
    "from sklearn.metrics import auc                                             \n",
    "from sklearn.metrics import log_loss                                        \n",
    "from sklearn.metrics import roc_auc_score                                   \n",
    "from sklearn.metrics import classification_report                         "
   ]
  },
  {
   "cell_type": "code",
   "execution_count": 4,
   "metadata": {},
   "outputs": [],
   "source": [
    "from sklearn import preprocessing "
   ]
  },
  {
   "cell_type": "markdown",
   "metadata": {},
   "source": [
    "### Reading data"
   ]
  },
  {
   "cell_type": "code",
   "execution_count": 5,
   "metadata": {},
   "outputs": [],
   "source": [
    "dfOrdersItems = pd.read_csv('olist_order_items_dataset.csv')\n",
    "\n",
    "dfOrders = pd.read_csv('olist_orders_dataset.csv')\n",
    "\n",
    "dforder_payments = pd.read_csv(\"olist_order_payments_dataset.csv\")\n",
    "\n",
    "dfProducts = pd.read_csv('olist_products_dataset.csv')\n",
    "\n",
    "dfOrdersReviews = pd.read_csv('olist_order_reviews_dataset.csv')\n",
    "\n",
    "dfSellers = pd.read_csv('olist_sellers_dataset.csv')\n",
    "\n",
    "dfCustomers = pd.read_csv('olist_customers_dataset.csv')\n",
    "\n",
    "dfGeolocation = pd.read_csv('olist_geolocation_dataset.csv')\n",
    "\n",
    "dfTranslation = pd.read_csv('product_category_name_translation.csv')\n"
   ]
  },
  {
   "cell_type": "code",
   "execution_count": 6,
   "metadata": {},
   "outputs": [
    {
     "data": {
      "text/html": [
       "<div>\n",
       "<style scoped>\n",
       "    .dataframe tbody tr th:only-of-type {\n",
       "        vertical-align: middle;\n",
       "    }\n",
       "\n",
       "    .dataframe tbody tr th {\n",
       "        vertical-align: top;\n",
       "    }\n",
       "\n",
       "    .dataframe thead th {\n",
       "        text-align: right;\n",
       "    }\n",
       "</style>\n",
       "<table border=\"1\" class=\"dataframe\">\n",
       "  <thead>\n",
       "    <tr style=\"text-align: right;\">\n",
       "      <th></th>\n",
       "      <th>product_category_name</th>\n",
       "      <th>product_category_name_english</th>\n",
       "    </tr>\n",
       "  </thead>\n",
       "  <tbody>\n",
       "    <tr>\n",
       "      <th>0</th>\n",
       "      <td>beleza_saude</td>\n",
       "      <td>health_beauty</td>\n",
       "    </tr>\n",
       "    <tr>\n",
       "      <th>1</th>\n",
       "      <td>informatica_acessorios</td>\n",
       "      <td>computers_accessories</td>\n",
       "    </tr>\n",
       "  </tbody>\n",
       "</table>\n",
       "</div>"
      ],
      "text/plain": [
       "    product_category_name product_category_name_english\n",
       "0            beleza_saude                 health_beauty\n",
       "1  informatica_acessorios         computers_accessories"
      ]
     },
     "execution_count": 6,
     "metadata": {},
     "output_type": "execute_result"
    }
   ],
   "source": [
    "dfTranslation.head(2)"
   ]
  },
  {
   "cell_type": "code",
   "execution_count": 7,
   "metadata": {},
   "outputs": [
    {
     "data": {
      "text/html": [
       "<div>\n",
       "<style scoped>\n",
       "    .dataframe tbody tr th:only-of-type {\n",
       "        vertical-align: middle;\n",
       "    }\n",
       "\n",
       "    .dataframe tbody tr th {\n",
       "        vertical-align: top;\n",
       "    }\n",
       "\n",
       "    .dataframe thead th {\n",
       "        text-align: right;\n",
       "    }\n",
       "</style>\n",
       "<table border=\"1\" class=\"dataframe\">\n",
       "  <thead>\n",
       "    <tr style=\"text-align: right;\">\n",
       "      <th></th>\n",
       "      <th>product_id</th>\n",
       "      <th>product_category_name</th>\n",
       "      <th>product_name_lenght</th>\n",
       "      <th>product_description_lenght</th>\n",
       "      <th>product_photos_qty</th>\n",
       "      <th>product_weight_g</th>\n",
       "      <th>product_length_cm</th>\n",
       "      <th>product_height_cm</th>\n",
       "      <th>product_width_cm</th>\n",
       "    </tr>\n",
       "  </thead>\n",
       "  <tbody>\n",
       "    <tr>\n",
       "      <th>0</th>\n",
       "      <td>1e9e8ef04dbcff4541ed26657ea517e5</td>\n",
       "      <td>perfumaria</td>\n",
       "      <td>40.0</td>\n",
       "      <td>287.0</td>\n",
       "      <td>1.0</td>\n",
       "      <td>225.0</td>\n",
       "      <td>16.0</td>\n",
       "      <td>10.0</td>\n",
       "      <td>14.0</td>\n",
       "    </tr>\n",
       "    <tr>\n",
       "      <th>1</th>\n",
       "      <td>3aa071139cb16b67ca9e5dea641aaa2f</td>\n",
       "      <td>artes</td>\n",
       "      <td>44.0</td>\n",
       "      <td>276.0</td>\n",
       "      <td>1.0</td>\n",
       "      <td>1000.0</td>\n",
       "      <td>30.0</td>\n",
       "      <td>18.0</td>\n",
       "      <td>20.0</td>\n",
       "    </tr>\n",
       "  </tbody>\n",
       "</table>\n",
       "</div>"
      ],
      "text/plain": [
       "                         product_id product_category_name  \\\n",
       "0  1e9e8ef04dbcff4541ed26657ea517e5            perfumaria   \n",
       "1  3aa071139cb16b67ca9e5dea641aaa2f                 artes   \n",
       "\n",
       "   product_name_lenght  product_description_lenght  product_photos_qty  \\\n",
       "0                 40.0                       287.0                 1.0   \n",
       "1                 44.0                       276.0                 1.0   \n",
       "\n",
       "   product_weight_g  product_length_cm  product_height_cm  product_width_cm  \n",
       "0             225.0               16.0               10.0              14.0  \n",
       "1            1000.0               30.0               18.0              20.0  "
      ]
     },
     "execution_count": 7,
     "metadata": {},
     "output_type": "execute_result"
    }
   ],
   "source": [
    "dfProducts.head(2)"
   ]
  },
  {
   "cell_type": "markdown",
   "metadata": {},
   "source": [
    "### Product data"
   ]
  },
  {
   "cell_type": "code",
   "execution_count": 8,
   "metadata": {},
   "outputs": [
    {
     "data": {
      "text/html": [
       "<div>\n",
       "<style scoped>\n",
       "    .dataframe tbody tr th:only-of-type {\n",
       "        vertical-align: middle;\n",
       "    }\n",
       "\n",
       "    .dataframe tbody tr th {\n",
       "        vertical-align: top;\n",
       "    }\n",
       "\n",
       "    .dataframe thead th {\n",
       "        text-align: right;\n",
       "    }\n",
       "</style>\n",
       "<table border=\"1\" class=\"dataframe\">\n",
       "  <thead>\n",
       "    <tr style=\"text-align: right;\">\n",
       "      <th></th>\n",
       "      <th>product_id</th>\n",
       "      <th>product_category</th>\n",
       "    </tr>\n",
       "  </thead>\n",
       "  <tbody>\n",
       "    <tr>\n",
       "      <th>0</th>\n",
       "      <td>1e9e8ef04dbcff4541ed26657ea517e5</td>\n",
       "      <td>perfumery</td>\n",
       "    </tr>\n",
       "    <tr>\n",
       "      <th>1</th>\n",
       "      <td>6a2fb4dd53d2cdb88e0432f1284a004c</td>\n",
       "      <td>perfumery</td>\n",
       "    </tr>\n",
       "    <tr>\n",
       "      <th>2</th>\n",
       "      <td>0d009643171aee696f4733340bc2fdd0</td>\n",
       "      <td>perfumery</td>\n",
       "    </tr>\n",
       "    <tr>\n",
       "      <th>3</th>\n",
       "      <td>b1eae565a61935e0011ee7682fef9dc9</td>\n",
       "      <td>perfumery</td>\n",
       "    </tr>\n",
       "    <tr>\n",
       "      <th>4</th>\n",
       "      <td>8da90b37f0fb171b4877c124f965b1f6</td>\n",
       "      <td>perfumery</td>\n",
       "    </tr>\n",
       "  </tbody>\n",
       "</table>\n",
       "</div>"
      ],
      "text/plain": [
       "                         product_id product_category\n",
       "0  1e9e8ef04dbcff4541ed26657ea517e5        perfumery\n",
       "1  6a2fb4dd53d2cdb88e0432f1284a004c        perfumery\n",
       "2  0d009643171aee696f4733340bc2fdd0        perfumery\n",
       "3  b1eae565a61935e0011ee7682fef9dc9        perfumery\n",
       "4  8da90b37f0fb171b4877c124f965b1f6        perfumery"
      ]
     },
     "execution_count": 8,
     "metadata": {},
     "output_type": "execute_result"
    }
   ],
   "source": [
    "dfProducts = dfProducts.merge(dfTranslation, on='product_category_name')\n",
    "\n",
    "dfProducts.drop('product_category_name', axis=1, inplace=True)\n",
    "\n",
    "dfProducts.rename(columns={\n",
    "    'product_category_name_english' : 'product_category'\n",
    "}, inplace=True)\n",
    "\n",
    "dfProducts = dfProducts[['product_id','product_category']]\n",
    "dfProducts.head()"
   ]
  },
  {
   "cell_type": "code",
   "execution_count": 9,
   "metadata": {},
   "outputs": [
    {
     "data": {
      "text/plain": [
       "32328"
      ]
     },
     "execution_count": 9,
     "metadata": {},
     "output_type": "execute_result"
    }
   ],
   "source": [
    "len(dfProducts)"
   ]
  },
  {
   "cell_type": "code",
   "execution_count": 10,
   "metadata": {},
   "outputs": [
    {
     "data": {
      "text/html": [
       "<div>\n",
       "<style scoped>\n",
       "    .dataframe tbody tr th:only-of-type {\n",
       "        vertical-align: middle;\n",
       "    }\n",
       "\n",
       "    .dataframe tbody tr th {\n",
       "        vertical-align: top;\n",
       "    }\n",
       "\n",
       "    .dataframe thead th {\n",
       "        text-align: right;\n",
       "    }\n",
       "</style>\n",
       "<table border=\"1\" class=\"dataframe\">\n",
       "  <thead>\n",
       "    <tr style=\"text-align: right;\">\n",
       "      <th></th>\n",
       "      <th>geolocation_zip_code_prefix</th>\n",
       "      <th>geolocation_lat</th>\n",
       "      <th>geolocation_lng</th>\n",
       "      <th>geolocation_city</th>\n",
       "      <th>geolocation_state</th>\n",
       "    </tr>\n",
       "  </thead>\n",
       "  <tbody>\n",
       "    <tr>\n",
       "      <th>0</th>\n",
       "      <td>1037</td>\n",
       "      <td>-23.545621</td>\n",
       "      <td>-46.639292</td>\n",
       "      <td>sao paulo</td>\n",
       "      <td>SP</td>\n",
       "    </tr>\n",
       "    <tr>\n",
       "      <th>1</th>\n",
       "      <td>1046</td>\n",
       "      <td>-23.546081</td>\n",
       "      <td>-46.644820</td>\n",
       "      <td>sao paulo</td>\n",
       "      <td>SP</td>\n",
       "    </tr>\n",
       "  </tbody>\n",
       "</table>\n",
       "</div>"
      ],
      "text/plain": [
       "   geolocation_zip_code_prefix  geolocation_lat  geolocation_lng  \\\n",
       "0                         1037       -23.545621       -46.639292   \n",
       "1                         1046       -23.546081       -46.644820   \n",
       "\n",
       "  geolocation_city geolocation_state  \n",
       "0        sao paulo                SP  \n",
       "1        sao paulo                SP  "
      ]
     },
     "execution_count": 10,
     "metadata": {},
     "output_type": "execute_result"
    }
   ],
   "source": [
    "dfGeolocation.head(2)"
   ]
  },
  {
   "cell_type": "code",
   "execution_count": 11,
   "metadata": {},
   "outputs": [
    {
     "data": {
      "text/html": [
       "<div>\n",
       "<style scoped>\n",
       "    .dataframe tbody tr th:only-of-type {\n",
       "        vertical-align: middle;\n",
       "    }\n",
       "\n",
       "    .dataframe tbody tr th {\n",
       "        vertical-align: top;\n",
       "    }\n",
       "\n",
       "    .dataframe thead th {\n",
       "        text-align: right;\n",
       "    }\n",
       "</style>\n",
       "<table border=\"1\" class=\"dataframe\">\n",
       "  <thead>\n",
       "    <tr style=\"text-align: right;\">\n",
       "      <th></th>\n",
       "      <th>geolocation_lat</th>\n",
       "      <th>geolocation_lng</th>\n",
       "    </tr>\n",
       "    <tr>\n",
       "      <th>geolocation_city</th>\n",
       "      <th></th>\n",
       "      <th></th>\n",
       "    </tr>\n",
       "  </thead>\n",
       "  <tbody>\n",
       "    <tr>\n",
       "      <th>* cidade</th>\n",
       "      <td>-25.571748</td>\n",
       "      <td>-49.334374</td>\n",
       "    </tr>\n",
       "    <tr>\n",
       "      <th>...arraial do cabo</th>\n",
       "      <td>-22.969370</td>\n",
       "      <td>-42.029834</td>\n",
       "    </tr>\n",
       "    <tr>\n",
       "      <th>4o. centenario</th>\n",
       "      <td>-24.271860</td>\n",
       "      <td>-53.069433</td>\n",
       "    </tr>\n",
       "    <tr>\n",
       "      <th>4º centenario</th>\n",
       "      <td>-24.279801</td>\n",
       "      <td>-53.074723</td>\n",
       "    </tr>\n",
       "    <tr>\n",
       "      <th>abadia de goias</th>\n",
       "      <td>-16.767063</td>\n",
       "      <td>-49.438089</td>\n",
       "    </tr>\n",
       "    <tr>\n",
       "      <th>...</th>\n",
       "      <td>...</td>\n",
       "      <td>...</td>\n",
       "    </tr>\n",
       "    <tr>\n",
       "      <th>áurea</th>\n",
       "      <td>-27.695009</td>\n",
       "      <td>-52.055076</td>\n",
       "    </tr>\n",
       "    <tr>\n",
       "      <th>ângulo</th>\n",
       "      <td>-23.195024</td>\n",
       "      <td>-51.917294</td>\n",
       "    </tr>\n",
       "    <tr>\n",
       "      <th>érico cardoso</th>\n",
       "      <td>-13.393047</td>\n",
       "      <td>-42.134282</td>\n",
       "    </tr>\n",
       "    <tr>\n",
       "      <th>óbidos</th>\n",
       "      <td>-1.907183</td>\n",
       "      <td>-55.516370</td>\n",
       "    </tr>\n",
       "    <tr>\n",
       "      <th>óleo</th>\n",
       "      <td>-22.940222</td>\n",
       "      <td>-49.339676</td>\n",
       "    </tr>\n",
       "  </tbody>\n",
       "</table>\n",
       "<p>8011 rows × 2 columns</p>\n",
       "</div>"
      ],
      "text/plain": [
       "                    geolocation_lat  geolocation_lng\n",
       "geolocation_city                                    \n",
       "* cidade                 -25.571748       -49.334374\n",
       "...arraial do cabo       -22.969370       -42.029834\n",
       "4o. centenario           -24.271860       -53.069433\n",
       "4º centenario            -24.279801       -53.074723\n",
       "abadia de goias          -16.767063       -49.438089\n",
       "...                             ...              ...\n",
       "áurea                    -27.695009       -52.055076\n",
       "ângulo                   -23.195024       -51.917294\n",
       "érico cardoso            -13.393047       -42.134282\n",
       "óbidos                    -1.907183       -55.516370\n",
       "óleo                     -22.940222       -49.339676\n",
       "\n",
       "[8011 rows x 2 columns]"
      ]
     },
     "execution_count": 11,
     "metadata": {},
     "output_type": "execute_result"
    }
   ],
   "source": [
    "#dfGeolocation = dfGeolocation.drop(\"geolocation_zip_code_prefix\", axis=1)\n",
    "#dfGeolocation.groupby['geolocation_city'](['geolocation_lat', 'geolocation_lng']).mean().reset_index()\n",
    "\n",
    "dfGeolocation[['geolocation_city','geolocation_lat','geolocation_lng']].groupby(['geolocation_city']).mean()"
   ]
  },
  {
   "cell_type": "code",
   "execution_count": 12,
   "metadata": {},
   "outputs": [
    {
     "data": {
      "text/html": [
       "<div>\n",
       "<style scoped>\n",
       "    .dataframe tbody tr th:only-of-type {\n",
       "        vertical-align: middle;\n",
       "    }\n",
       "\n",
       "    .dataframe tbody tr th {\n",
       "        vertical-align: top;\n",
       "    }\n",
       "\n",
       "    .dataframe thead th {\n",
       "        text-align: right;\n",
       "    }\n",
       "</style>\n",
       "<table border=\"1\" class=\"dataframe\">\n",
       "  <thead>\n",
       "    <tr style=\"text-align: right;\">\n",
       "      <th></th>\n",
       "      <th>seller_id</th>\n",
       "      <th>seller_zip_code_prefix</th>\n",
       "      <th>seller_city</th>\n",
       "      <th>seller_state</th>\n",
       "    </tr>\n",
       "  </thead>\n",
       "  <tbody>\n",
       "    <tr>\n",
       "      <th>0</th>\n",
       "      <td>3442f8959a84dea7ee197c632cb2df15</td>\n",
       "      <td>13023</td>\n",
       "      <td>campinas</td>\n",
       "      <td>SP</td>\n",
       "    </tr>\n",
       "    <tr>\n",
       "      <th>1</th>\n",
       "      <td>d1b65fc7debc3361ea86b5f14c68d2e2</td>\n",
       "      <td>13844</td>\n",
       "      <td>mogi guacu</td>\n",
       "      <td>SP</td>\n",
       "    </tr>\n",
       "  </tbody>\n",
       "</table>\n",
       "</div>"
      ],
      "text/plain": [
       "                          seller_id  seller_zip_code_prefix seller_city  \\\n",
       "0  3442f8959a84dea7ee197c632cb2df15                   13023    campinas   \n",
       "1  d1b65fc7debc3361ea86b5f14c68d2e2                   13844  mogi guacu   \n",
       "\n",
       "  seller_state  \n",
       "0           SP  \n",
       "1           SP  "
      ]
     },
     "execution_count": 12,
     "metadata": {},
     "output_type": "execute_result"
    }
   ],
   "source": [
    "dfSellers.head(2)"
   ]
  },
  {
   "cell_type": "markdown",
   "metadata": {},
   "source": [
    "### Seller data"
   ]
  },
  {
   "cell_type": "code",
   "execution_count": 13,
   "metadata": {},
   "outputs": [],
   "source": [
    "dfSellerx = pd.merge(dfSellers, dfGeolocation, left_on='seller_zip_code_prefix', right_on='geolocation_zip_code_prefix')\n",
    "dfSellerx.rename(columns={\n",
    "    'geolocation_lat' : 'seller_lat',\n",
    "    'geolocation_lng' : 'sellet_lng',\n",
    "}, inplace=True)\n",
    "dfSellerx = dfSellerx[['seller_id','seller_lat','sellet_lng']]\n",
    "dfSellerx.head()\n",
    "\n",
    "dfSellerx = dfSellerx[['seller_id','seller_lat','sellet_lng']].groupby(['seller_id']).mean()"
   ]
  },
  {
   "cell_type": "code",
   "execution_count": 14,
   "metadata": {},
   "outputs": [
    {
     "data": {
      "text/html": [
       "<div>\n",
       "<style scoped>\n",
       "    .dataframe tbody tr th:only-of-type {\n",
       "        vertical-align: middle;\n",
       "    }\n",
       "\n",
       "    .dataframe tbody tr th {\n",
       "        vertical-align: top;\n",
       "    }\n",
       "\n",
       "    .dataframe thead th {\n",
       "        text-align: right;\n",
       "    }\n",
       "</style>\n",
       "<table border=\"1\" class=\"dataframe\">\n",
       "  <thead>\n",
       "    <tr style=\"text-align: right;\">\n",
       "      <th></th>\n",
       "      <th>seller_lat</th>\n",
       "      <th>sellet_lng</th>\n",
       "    </tr>\n",
       "    <tr>\n",
       "      <th>seller_id</th>\n",
       "      <th></th>\n",
       "      <th></th>\n",
       "    </tr>\n",
       "  </thead>\n",
       "  <tbody>\n",
       "    <tr>\n",
       "      <th>0015a82c2db000af6aaaf3ae2ecb0532</th>\n",
       "      <td>-23.640444</td>\n",
       "      <td>-46.541742</td>\n",
       "    </tr>\n",
       "  </tbody>\n",
       "</table>\n",
       "</div>"
      ],
      "text/plain": [
       "                                  seller_lat  sellet_lng\n",
       "seller_id                                               \n",
       "0015a82c2db000af6aaaf3ae2ecb0532  -23.640444  -46.541742"
      ]
     },
     "execution_count": 14,
     "metadata": {},
     "output_type": "execute_result"
    }
   ],
   "source": [
    "dfSellerx.head(1)"
   ]
  },
  {
   "cell_type": "code",
   "execution_count": 15,
   "metadata": {},
   "outputs": [
    {
     "data": {
      "text/html": [
       "<div>\n",
       "<style scoped>\n",
       "    .dataframe tbody tr th:only-of-type {\n",
       "        vertical-align: middle;\n",
       "    }\n",
       "\n",
       "    .dataframe tbody tr th {\n",
       "        vertical-align: top;\n",
       "    }\n",
       "\n",
       "    .dataframe thead th {\n",
       "        text-align: right;\n",
       "    }\n",
       "</style>\n",
       "<table border=\"1\" class=\"dataframe\">\n",
       "  <thead>\n",
       "    <tr style=\"text-align: right;\">\n",
       "      <th></th>\n",
       "      <th>customer_id</th>\n",
       "      <th>customer_unique_id</th>\n",
       "      <th>customer_zip_code_prefix</th>\n",
       "      <th>customer_city</th>\n",
       "      <th>customer_state</th>\n",
       "    </tr>\n",
       "  </thead>\n",
       "  <tbody>\n",
       "    <tr>\n",
       "      <th>0</th>\n",
       "      <td>06b8999e2fba1a1fbc88172c00ba8bc7</td>\n",
       "      <td>861eff4711a542e4b93843c6dd7febb0</td>\n",
       "      <td>14409</td>\n",
       "      <td>franca</td>\n",
       "      <td>SP</td>\n",
       "    </tr>\n",
       "    <tr>\n",
       "      <th>1</th>\n",
       "      <td>18955e83d337fd6b2def6b18a428ac77</td>\n",
       "      <td>290c77bc529b7ac935b93aa66c333dc3</td>\n",
       "      <td>9790</td>\n",
       "      <td>sao bernardo do campo</td>\n",
       "      <td>SP</td>\n",
       "    </tr>\n",
       "  </tbody>\n",
       "</table>\n",
       "</div>"
      ],
      "text/plain": [
       "                        customer_id                customer_unique_id  \\\n",
       "0  06b8999e2fba1a1fbc88172c00ba8bc7  861eff4711a542e4b93843c6dd7febb0   \n",
       "1  18955e83d337fd6b2def6b18a428ac77  290c77bc529b7ac935b93aa66c333dc3   \n",
       "\n",
       "   customer_zip_code_prefix          customer_city customer_state  \n",
       "0                     14409                 franca             SP  \n",
       "1                      9790  sao bernardo do campo             SP  "
      ]
     },
     "execution_count": 15,
     "metadata": {},
     "output_type": "execute_result"
    }
   ],
   "source": [
    "dfCustomers.head(2)"
   ]
  },
  {
   "cell_type": "code",
   "execution_count": 16,
   "metadata": {},
   "outputs": [
    {
     "data": {
      "text/html": [
       "<div>\n",
       "<style scoped>\n",
       "    .dataframe tbody tr th:only-of-type {\n",
       "        vertical-align: middle;\n",
       "    }\n",
       "\n",
       "    .dataframe tbody tr th {\n",
       "        vertical-align: top;\n",
       "    }\n",
       "\n",
       "    .dataframe thead th {\n",
       "        text-align: right;\n",
       "    }\n",
       "</style>\n",
       "<table border=\"1\" class=\"dataframe\">\n",
       "  <thead>\n",
       "    <tr style=\"text-align: right;\">\n",
       "      <th></th>\n",
       "      <th>geolocation_zip_code_prefix</th>\n",
       "      <th>geolocation_lat</th>\n",
       "      <th>geolocation_lng</th>\n",
       "      <th>geolocation_city</th>\n",
       "      <th>geolocation_state</th>\n",
       "    </tr>\n",
       "  </thead>\n",
       "  <tbody>\n",
       "    <tr>\n",
       "      <th>0</th>\n",
       "      <td>1037</td>\n",
       "      <td>-23.545621</td>\n",
       "      <td>-46.639292</td>\n",
       "      <td>sao paulo</td>\n",
       "      <td>SP</td>\n",
       "    </tr>\n",
       "    <tr>\n",
       "      <th>1</th>\n",
       "      <td>1046</td>\n",
       "      <td>-23.546081</td>\n",
       "      <td>-46.644820</td>\n",
       "      <td>sao paulo</td>\n",
       "      <td>SP</td>\n",
       "    </tr>\n",
       "  </tbody>\n",
       "</table>\n",
       "</div>"
      ],
      "text/plain": [
       "   geolocation_zip_code_prefix  geolocation_lat  geolocation_lng  \\\n",
       "0                         1037       -23.545621       -46.639292   \n",
       "1                         1046       -23.546081       -46.644820   \n",
       "\n",
       "  geolocation_city geolocation_state  \n",
       "0        sao paulo                SP  \n",
       "1        sao paulo                SP  "
      ]
     },
     "execution_count": 16,
     "metadata": {},
     "output_type": "execute_result"
    }
   ],
   "source": [
    "dfGeolocation.head(2)"
   ]
  },
  {
   "cell_type": "markdown",
   "metadata": {},
   "source": [
    "### Customer data"
   ]
  },
  {
   "cell_type": "code",
   "execution_count": 17,
   "metadata": {},
   "outputs": [],
   "source": [
    "dfCustomerx = pd.merge(dfCustomers, dfGeolocation, left_on='customer_zip_code_prefix', right_on='geolocation_zip_code_prefix')\n",
    "dfCustomerx.rename(columns={\n",
    "    'geolocation_lat' : 'customer_lat',\n",
    "    'geolocation_lng' : 'customer_lng',\n",
    "}, inplace=True)\n",
    "dfCustomerx = dfCustomerx[['customer_id','customer_lat','customer_lng']]\n",
    "dfCustomerx.head()\n",
    "dfCustomerx = dfCustomerx[['customer_id','customer_lat','customer_lng']].groupby(['customer_id']).mean()"
   ]
  },
  {
   "cell_type": "code",
   "execution_count": 18,
   "metadata": {},
   "outputs": [
    {
     "data": {
      "text/html": [
       "<div>\n",
       "<style scoped>\n",
       "    .dataframe tbody tr th:only-of-type {\n",
       "        vertical-align: middle;\n",
       "    }\n",
       "\n",
       "    .dataframe tbody tr th {\n",
       "        vertical-align: top;\n",
       "    }\n",
       "\n",
       "    .dataframe thead th {\n",
       "        text-align: right;\n",
       "    }\n",
       "</style>\n",
       "<table border=\"1\" class=\"dataframe\">\n",
       "  <thead>\n",
       "    <tr style=\"text-align: right;\">\n",
       "      <th></th>\n",
       "      <th>customer_lat</th>\n",
       "      <th>customer_lng</th>\n",
       "    </tr>\n",
       "    <tr>\n",
       "      <th>customer_id</th>\n",
       "      <th></th>\n",
       "      <th></th>\n",
       "    </tr>\n",
       "  </thead>\n",
       "  <tbody>\n",
       "    <tr>\n",
       "      <th>00012a2ce6f8dcda20d059ce98491703</th>\n",
       "      <td>-23.499063</td>\n",
       "      <td>-46.767939</td>\n",
       "    </tr>\n",
       "    <tr>\n",
       "      <th>000161a058600d5901f007fab4c27140</th>\n",
       "      <td>-20.469754</td>\n",
       "      <td>-45.123242</td>\n",
       "    </tr>\n",
       "    <tr>\n",
       "      <th>0001fd6190edaaf884bcaf3d49edf079</th>\n",
       "      <td>-18.706581</td>\n",
       "      <td>-40.406384</td>\n",
       "    </tr>\n",
       "    <tr>\n",
       "      <th>0002414f95344307404f0ace7a26f1d5</th>\n",
       "      <td>-21.770599</td>\n",
       "      <td>-43.355230</td>\n",
       "    </tr>\n",
       "    <tr>\n",
       "      <th>000379cdec625522490c315e70c7a9fb</th>\n",
       "      <td>-23.738709</td>\n",
       "      <td>-46.689333</td>\n",
       "    </tr>\n",
       "  </tbody>\n",
       "</table>\n",
       "</div>"
      ],
      "text/plain": [
       "                                  customer_lat  customer_lng\n",
       "customer_id                                                 \n",
       "00012a2ce6f8dcda20d059ce98491703    -23.499063    -46.767939\n",
       "000161a058600d5901f007fab4c27140    -20.469754    -45.123242\n",
       "0001fd6190edaaf884bcaf3d49edf079    -18.706581    -40.406384\n",
       "0002414f95344307404f0ace7a26f1d5    -21.770599    -43.355230\n",
       "000379cdec625522490c315e70c7a9fb    -23.738709    -46.689333"
      ]
     },
     "execution_count": 18,
     "metadata": {},
     "output_type": "execute_result"
    }
   ],
   "source": [
    "dfCustomerx.head()"
   ]
  },
  {
   "cell_type": "code",
   "execution_count": null,
   "metadata": {},
   "outputs": [],
   "source": []
  },
  {
   "cell_type": "markdown",
   "metadata": {},
   "source": [
    "### Merging the data"
   ]
  },
  {
   "cell_type": "code",
   "execution_count": 19,
   "metadata": {},
   "outputs": [],
   "source": [
    "df_order= pd.merge(dfOrders, dfOrdersItems, on='order_id', how='right')"
   ]
  },
  {
   "cell_type": "code",
   "execution_count": 20,
   "metadata": {},
   "outputs": [],
   "source": [
    "df_prd= df_order.merge(dfProducts, on='product_id')"
   ]
  },
  {
   "cell_type": "code",
   "execution_count": 21,
   "metadata": {},
   "outputs": [],
   "source": [
    "df_rev= df_prd.merge(dfOrdersReviews, on='order_id')"
   ]
  },
  {
   "cell_type": "code",
   "execution_count": 22,
   "metadata": {},
   "outputs": [],
   "source": [
    "df_sel = df_rev.merge(dfSellerx, on='seller_id')"
   ]
  },
  {
   "cell_type": "code",
   "execution_count": 23,
   "metadata": {},
   "outputs": [
    {
     "data": {
      "text/html": [
       "<div>\n",
       "<style scoped>\n",
       "    .dataframe tbody tr th:only-of-type {\n",
       "        vertical-align: middle;\n",
       "    }\n",
       "\n",
       "    .dataframe tbody tr th {\n",
       "        vertical-align: top;\n",
       "    }\n",
       "\n",
       "    .dataframe thead th {\n",
       "        text-align: right;\n",
       "    }\n",
       "</style>\n",
       "<table border=\"1\" class=\"dataframe\">\n",
       "  <thead>\n",
       "    <tr style=\"text-align: right;\">\n",
       "      <th></th>\n",
       "      <th>order_id</th>\n",
       "      <th>customer_id</th>\n",
       "      <th>order_status</th>\n",
       "      <th>order_purchase_timestamp</th>\n",
       "      <th>order_approved_at</th>\n",
       "      <th>order_delivered_carrier_date</th>\n",
       "      <th>order_delivered_customer_date</th>\n",
       "      <th>order_estimated_delivery_date</th>\n",
       "      <th>order_item_id</th>\n",
       "      <th>product_id</th>\n",
       "      <th>...</th>\n",
       "      <th>freight_value</th>\n",
       "      <th>product_category</th>\n",
       "      <th>review_id</th>\n",
       "      <th>review_score</th>\n",
       "      <th>review_comment_title</th>\n",
       "      <th>review_comment_message</th>\n",
       "      <th>review_creation_date</th>\n",
       "      <th>review_answer_timestamp</th>\n",
       "      <th>seller_lat</th>\n",
       "      <th>sellet_lng</th>\n",
       "    </tr>\n",
       "  </thead>\n",
       "  <tbody>\n",
       "    <tr>\n",
       "      <th>0</th>\n",
       "      <td>e481f51cbdc54678b7cc49136f2d6af7</td>\n",
       "      <td>9ef432eb6251297304e76186b10a928d</td>\n",
       "      <td>delivered</td>\n",
       "      <td>2017-10-02 10:56:33</td>\n",
       "      <td>2017-10-02 11:07:15</td>\n",
       "      <td>2017-10-04 19:55:00</td>\n",
       "      <td>2017-10-10 21:25:13</td>\n",
       "      <td>2017-10-18 00:00:00</td>\n",
       "      <td>1</td>\n",
       "      <td>87285b34884572647811a353c7ac498a</td>\n",
       "      <td>...</td>\n",
       "      <td>8.72</td>\n",
       "      <td>housewares</td>\n",
       "      <td>a54f0611adc9ed256b57ede6b6eb5114</td>\n",
       "      <td>4</td>\n",
       "      <td>NaN</td>\n",
       "      <td>Não testei o produto ainda, mas ele veio corre...</td>\n",
       "      <td>2017-10-11 00:00:00</td>\n",
       "      <td>2017-10-12 03:43:48</td>\n",
       "      <td>-23.680729</td>\n",
       "      <td>-46.444238</td>\n",
       "    </tr>\n",
       "    <tr>\n",
       "      <th>1</th>\n",
       "      <td>128e10d95713541c87cd1a2e48201934</td>\n",
       "      <td>a20e8105f23924cd00833fd87daa0831</td>\n",
       "      <td>delivered</td>\n",
       "      <td>2017-08-15 18:29:31</td>\n",
       "      <td>2017-08-15 20:05:16</td>\n",
       "      <td>2017-08-17 15:28:33</td>\n",
       "      <td>2017-08-18 14:44:43</td>\n",
       "      <td>2017-08-28 00:00:00</td>\n",
       "      <td>1</td>\n",
       "      <td>87285b34884572647811a353c7ac498a</td>\n",
       "      <td>...</td>\n",
       "      <td>7.78</td>\n",
       "      <td>housewares</td>\n",
       "      <td>b46f1e34512b0f4c74a72398b03ca788</td>\n",
       "      <td>4</td>\n",
       "      <td>NaN</td>\n",
       "      <td>Deveriam embalar melhor o produto. A caixa vei...</td>\n",
       "      <td>2017-08-19 00:00:00</td>\n",
       "      <td>2017-08-20 15:16:36</td>\n",
       "      <td>-23.680729</td>\n",
       "      <td>-46.444238</td>\n",
       "    </tr>\n",
       "  </tbody>\n",
       "</table>\n",
       "<p>2 rows × 23 columns</p>\n",
       "</div>"
      ],
      "text/plain": [
       "                           order_id                       customer_id  \\\n",
       "0  e481f51cbdc54678b7cc49136f2d6af7  9ef432eb6251297304e76186b10a928d   \n",
       "1  128e10d95713541c87cd1a2e48201934  a20e8105f23924cd00833fd87daa0831   \n",
       "\n",
       "  order_status order_purchase_timestamp    order_approved_at  \\\n",
       "0    delivered      2017-10-02 10:56:33  2017-10-02 11:07:15   \n",
       "1    delivered      2017-08-15 18:29:31  2017-08-15 20:05:16   \n",
       "\n",
       "  order_delivered_carrier_date order_delivered_customer_date  \\\n",
       "0          2017-10-04 19:55:00           2017-10-10 21:25:13   \n",
       "1          2017-08-17 15:28:33           2017-08-18 14:44:43   \n",
       "\n",
       "  order_estimated_delivery_date  order_item_id  \\\n",
       "0           2017-10-18 00:00:00              1   \n",
       "1           2017-08-28 00:00:00              1   \n",
       "\n",
       "                         product_id  ... freight_value product_category  \\\n",
       "0  87285b34884572647811a353c7ac498a  ...          8.72       housewares   \n",
       "1  87285b34884572647811a353c7ac498a  ...          7.78       housewares   \n",
       "\n",
       "                          review_id  review_score review_comment_title  \\\n",
       "0  a54f0611adc9ed256b57ede6b6eb5114             4                  NaN   \n",
       "1  b46f1e34512b0f4c74a72398b03ca788             4                  NaN   \n",
       "\n",
       "                              review_comment_message  review_creation_date  \\\n",
       "0  Não testei o produto ainda, mas ele veio corre...   2017-10-11 00:00:00   \n",
       "1  Deveriam embalar melhor o produto. A caixa vei...   2017-08-19 00:00:00   \n",
       "\n",
       "  review_answer_timestamp seller_lat sellet_lng  \n",
       "0     2017-10-12 03:43:48 -23.680729 -46.444238  \n",
       "1     2017-08-20 15:16:36 -23.680729 -46.444238  \n",
       "\n",
       "[2 rows x 23 columns]"
      ]
     },
     "execution_count": 23,
     "metadata": {},
     "output_type": "execute_result"
    }
   ],
   "source": [
    "df_sel.head(2)"
   ]
  },
  {
   "cell_type": "code",
   "execution_count": 24,
   "metadata": {},
   "outputs": [
    {
     "data": {
      "text/plain": [
       "111430"
      ]
     },
     "execution_count": 24,
     "metadata": {},
     "output_type": "execute_result"
    }
   ],
   "source": [
    "len(df_sel)"
   ]
  },
  {
   "cell_type": "code",
   "execution_count": 25,
   "metadata": {},
   "outputs": [
    {
     "data": {
      "text/plain": [
       "99163"
      ]
     },
     "execution_count": 25,
     "metadata": {},
     "output_type": "execute_result"
    }
   ],
   "source": [
    "len(dfCustomerx)"
   ]
  },
  {
   "cell_type": "code",
   "execution_count": 26,
   "metadata": {},
   "outputs": [],
   "source": [
    "#df_sel = df_sel[:161442]\n",
    "#print(len(df_sel))"
   ]
  },
  {
   "cell_type": "code",
   "execution_count": 27,
   "metadata": {},
   "outputs": [
    {
     "name": "stdout",
     "output_type": "stream",
     "text": [
      "99163\n"
     ]
    }
   ],
   "source": [
    "dfCustomerx = dfCustomerx[:150834]\n",
    "print(len(dfCustomerx))"
   ]
  },
  {
   "cell_type": "code",
   "execution_count": 28,
   "metadata": {},
   "outputs": [],
   "source": [
    "df_cus = df_sel.merge(dfCustomerx, on='customer_id')"
   ]
  },
  {
   "cell_type": "code",
   "execution_count": null,
   "metadata": {},
   "outputs": [],
   "source": []
  },
  {
   "cell_type": "code",
   "execution_count": 29,
   "metadata": {},
   "outputs": [],
   "source": [
    "df = df_cus.rename(columns={'price':'product_price','order_item_id':'quantity'})"
   ]
  },
  {
   "cell_type": "code",
   "execution_count": 30,
   "metadata": {},
   "outputs": [
    {
     "data": {
      "text/plain": [
       "Index(['order_id', 'customer_id', 'order_status', 'order_purchase_timestamp',\n",
       "       'order_approved_at', 'order_delivered_carrier_date',\n",
       "       'order_delivered_customer_date', 'order_estimated_delivery_date',\n",
       "       'quantity', 'product_id', 'seller_id', 'shipping_limit_date',\n",
       "       'product_price', 'freight_value', 'product_category', 'review_score',\n",
       "       'seller_lat', 'sellet_lng', 'customer_lat', 'customer_lng'],\n",
       "      dtype='object')"
      ]
     },
     "execution_count": 30,
     "metadata": {},
     "output_type": "execute_result"
    }
   ],
   "source": [
    "df = df.drop(['review_id', 'review_creation_date','review_answer_timestamp','review_comment_title','review_comment_message',], axis=1)\n",
    "df.columns"
   ]
  },
  {
   "cell_type": "code",
   "execution_count": 31,
   "metadata": {},
   "outputs": [
    {
     "data": {
      "text/plain": [
       "111130"
      ]
     },
     "execution_count": 31,
     "metadata": {},
     "output_type": "execute_result"
    }
   ],
   "source": [
    "len(df)"
   ]
  },
  {
   "cell_type": "code",
   "execution_count": 32,
   "metadata": {},
   "outputs": [
    {
     "data": {
      "text/html": [
       "<div>\n",
       "<style scoped>\n",
       "    .dataframe tbody tr th:only-of-type {\n",
       "        vertical-align: middle;\n",
       "    }\n",
       "\n",
       "    .dataframe tbody tr th {\n",
       "        vertical-align: top;\n",
       "    }\n",
       "\n",
       "    .dataframe thead th {\n",
       "        text-align: right;\n",
       "    }\n",
       "</style>\n",
       "<table border=\"1\" class=\"dataframe\">\n",
       "  <thead>\n",
       "    <tr style=\"text-align: right;\">\n",
       "      <th></th>\n",
       "      <th>order_id</th>\n",
       "      <th>customer_id</th>\n",
       "      <th>order_status</th>\n",
       "      <th>order_purchase_timestamp</th>\n",
       "      <th>order_approved_at</th>\n",
       "      <th>order_delivered_carrier_date</th>\n",
       "      <th>order_delivered_customer_date</th>\n",
       "      <th>order_estimated_delivery_date</th>\n",
       "      <th>quantity</th>\n",
       "      <th>product_id</th>\n",
       "      <th>seller_id</th>\n",
       "      <th>shipping_limit_date</th>\n",
       "      <th>product_price</th>\n",
       "      <th>freight_value</th>\n",
       "      <th>product_category</th>\n",
       "      <th>review_score</th>\n",
       "      <th>seller_lat</th>\n",
       "      <th>sellet_lng</th>\n",
       "      <th>customer_lat</th>\n",
       "      <th>customer_lng</th>\n",
       "    </tr>\n",
       "  </thead>\n",
       "  <tbody>\n",
       "    <tr>\n",
       "      <th>0</th>\n",
       "      <td>e481f51cbdc54678b7cc49136f2d6af7</td>\n",
       "      <td>9ef432eb6251297304e76186b10a928d</td>\n",
       "      <td>delivered</td>\n",
       "      <td>2017-10-02 10:56:33</td>\n",
       "      <td>2017-10-02 11:07:15</td>\n",
       "      <td>2017-10-04 19:55:00</td>\n",
       "      <td>2017-10-10 21:25:13</td>\n",
       "      <td>2017-10-18 00:00:00</td>\n",
       "      <td>1</td>\n",
       "      <td>87285b34884572647811a353c7ac498a</td>\n",
       "      <td>3504c0cb71d7fa48d967e0e4c94d59d9</td>\n",
       "      <td>2017-10-06 11:07:15</td>\n",
       "      <td>29.99</td>\n",
       "      <td>8.72</td>\n",
       "      <td>housewares</td>\n",
       "      <td>4</td>\n",
       "      <td>-23.680729</td>\n",
       "      <td>-46.444238</td>\n",
       "      <td>-23.576983</td>\n",
       "      <td>-46.587161</td>\n",
       "    </tr>\n",
       "    <tr>\n",
       "      <th>1</th>\n",
       "      <td>128e10d95713541c87cd1a2e48201934</td>\n",
       "      <td>a20e8105f23924cd00833fd87daa0831</td>\n",
       "      <td>delivered</td>\n",
       "      <td>2017-08-15 18:29:31</td>\n",
       "      <td>2017-08-15 20:05:16</td>\n",
       "      <td>2017-08-17 15:28:33</td>\n",
       "      <td>2017-08-18 14:44:43</td>\n",
       "      <td>2017-08-28 00:00:00</td>\n",
       "      <td>1</td>\n",
       "      <td>87285b34884572647811a353c7ac498a</td>\n",
       "      <td>3504c0cb71d7fa48d967e0e4c94d59d9</td>\n",
       "      <td>2017-08-21 20:05:16</td>\n",
       "      <td>29.99</td>\n",
       "      <td>7.78</td>\n",
       "      <td>housewares</td>\n",
       "      <td>4</td>\n",
       "      <td>-23.680729</td>\n",
       "      <td>-46.444238</td>\n",
       "      <td>-23.564630</td>\n",
       "      <td>-46.534268</td>\n",
       "    </tr>\n",
       "    <tr>\n",
       "      <th>2</th>\n",
       "      <td>0e7e841ddf8f8f2de2bad69267ecfbcf</td>\n",
       "      <td>26c7ac168e1433912a51b924fbd34d34</td>\n",
       "      <td>delivered</td>\n",
       "      <td>2017-08-02 18:24:47</td>\n",
       "      <td>2017-08-02 18:43:15</td>\n",
       "      <td>2017-08-04 17:35:43</td>\n",
       "      <td>2017-08-07 18:30:01</td>\n",
       "      <td>2017-08-15 00:00:00</td>\n",
       "      <td>1</td>\n",
       "      <td>87285b34884572647811a353c7ac498a</td>\n",
       "      <td>3504c0cb71d7fa48d967e0e4c94d59d9</td>\n",
       "      <td>2017-08-08 18:37:31</td>\n",
       "      <td>29.99</td>\n",
       "      <td>7.78</td>\n",
       "      <td>housewares</td>\n",
       "      <td>5</td>\n",
       "      <td>-23.680729</td>\n",
       "      <td>-46.444238</td>\n",
       "      <td>-23.600462</td>\n",
       "      <td>-46.655318</td>\n",
       "    </tr>\n",
       "    <tr>\n",
       "      <th>3</th>\n",
       "      <td>bfc39df4f36c3693ff3b63fcbea9e90a</td>\n",
       "      <td>53904ddbea91e1e92b2b3f1d09a7af86</td>\n",
       "      <td>delivered</td>\n",
       "      <td>2017-10-23 23:26:46</td>\n",
       "      <td>2017-10-25 02:14:11</td>\n",
       "      <td>2017-10-27 16:48:46</td>\n",
       "      <td>2017-11-07 18:04:59</td>\n",
       "      <td>2017-11-13 00:00:00</td>\n",
       "      <td>1</td>\n",
       "      <td>87285b34884572647811a353c7ac498a</td>\n",
       "      <td>3504c0cb71d7fa48d967e0e4c94d59d9</td>\n",
       "      <td>2017-10-31 02:14:11</td>\n",
       "      <td>29.99</td>\n",
       "      <td>14.10</td>\n",
       "      <td>housewares</td>\n",
       "      <td>3</td>\n",
       "      <td>-23.680729</td>\n",
       "      <td>-46.444238</td>\n",
       "      <td>-27.528367</td>\n",
       "      <td>-48.491914</td>\n",
       "    </tr>\n",
       "    <tr>\n",
       "      <th>4</th>\n",
       "      <td>8736140c61ea584cb4250074756d8f3b</td>\n",
       "      <td>ab8844663ae049fda8baf15fc928f47f</td>\n",
       "      <td>delivered</td>\n",
       "      <td>2017-08-10 13:35:55</td>\n",
       "      <td>2017-08-10 13:50:09</td>\n",
       "      <td>2017-08-11 13:52:35</td>\n",
       "      <td>2017-08-16 19:03:36</td>\n",
       "      <td>2017-08-23 00:00:00</td>\n",
       "      <td>1</td>\n",
       "      <td>b00a32a0b42fd65efb58a5822009f629</td>\n",
       "      <td>3504c0cb71d7fa48d967e0e4c94d59d9</td>\n",
       "      <td>2017-08-16 13:50:09</td>\n",
       "      <td>75.90</td>\n",
       "      <td>7.79</td>\n",
       "      <td>baby</td>\n",
       "      <td>5</td>\n",
       "      <td>-23.680729</td>\n",
       "      <td>-46.444238</td>\n",
       "      <td>-23.486111</td>\n",
       "      <td>-46.366721</td>\n",
       "    </tr>\n",
       "  </tbody>\n",
       "</table>\n",
       "</div>"
      ],
      "text/plain": [
       "                           order_id                       customer_id  \\\n",
       "0  e481f51cbdc54678b7cc49136f2d6af7  9ef432eb6251297304e76186b10a928d   \n",
       "1  128e10d95713541c87cd1a2e48201934  a20e8105f23924cd00833fd87daa0831   \n",
       "2  0e7e841ddf8f8f2de2bad69267ecfbcf  26c7ac168e1433912a51b924fbd34d34   \n",
       "3  bfc39df4f36c3693ff3b63fcbea9e90a  53904ddbea91e1e92b2b3f1d09a7af86   \n",
       "4  8736140c61ea584cb4250074756d8f3b  ab8844663ae049fda8baf15fc928f47f   \n",
       "\n",
       "  order_status order_purchase_timestamp    order_approved_at  \\\n",
       "0    delivered      2017-10-02 10:56:33  2017-10-02 11:07:15   \n",
       "1    delivered      2017-08-15 18:29:31  2017-08-15 20:05:16   \n",
       "2    delivered      2017-08-02 18:24:47  2017-08-02 18:43:15   \n",
       "3    delivered      2017-10-23 23:26:46  2017-10-25 02:14:11   \n",
       "4    delivered      2017-08-10 13:35:55  2017-08-10 13:50:09   \n",
       "\n",
       "  order_delivered_carrier_date order_delivered_customer_date  \\\n",
       "0          2017-10-04 19:55:00           2017-10-10 21:25:13   \n",
       "1          2017-08-17 15:28:33           2017-08-18 14:44:43   \n",
       "2          2017-08-04 17:35:43           2017-08-07 18:30:01   \n",
       "3          2017-10-27 16:48:46           2017-11-07 18:04:59   \n",
       "4          2017-08-11 13:52:35           2017-08-16 19:03:36   \n",
       "\n",
       "  order_estimated_delivery_date  quantity                        product_id  \\\n",
       "0           2017-10-18 00:00:00         1  87285b34884572647811a353c7ac498a   \n",
       "1           2017-08-28 00:00:00         1  87285b34884572647811a353c7ac498a   \n",
       "2           2017-08-15 00:00:00         1  87285b34884572647811a353c7ac498a   \n",
       "3           2017-11-13 00:00:00         1  87285b34884572647811a353c7ac498a   \n",
       "4           2017-08-23 00:00:00         1  b00a32a0b42fd65efb58a5822009f629   \n",
       "\n",
       "                          seller_id  shipping_limit_date  product_price  \\\n",
       "0  3504c0cb71d7fa48d967e0e4c94d59d9  2017-10-06 11:07:15          29.99   \n",
       "1  3504c0cb71d7fa48d967e0e4c94d59d9  2017-08-21 20:05:16          29.99   \n",
       "2  3504c0cb71d7fa48d967e0e4c94d59d9  2017-08-08 18:37:31          29.99   \n",
       "3  3504c0cb71d7fa48d967e0e4c94d59d9  2017-10-31 02:14:11          29.99   \n",
       "4  3504c0cb71d7fa48d967e0e4c94d59d9  2017-08-16 13:50:09          75.90   \n",
       "\n",
       "   freight_value product_category  review_score  seller_lat  sellet_lng  \\\n",
       "0           8.72       housewares             4  -23.680729  -46.444238   \n",
       "1           7.78       housewares             4  -23.680729  -46.444238   \n",
       "2           7.78       housewares             5  -23.680729  -46.444238   \n",
       "3          14.10       housewares             3  -23.680729  -46.444238   \n",
       "4           7.79             baby             5  -23.680729  -46.444238   \n",
       "\n",
       "   customer_lat  customer_lng  \n",
       "0    -23.576983    -46.587161  \n",
       "1    -23.564630    -46.534268  \n",
       "2    -23.600462    -46.655318  \n",
       "3    -27.528367    -48.491914  \n",
       "4    -23.486111    -46.366721  "
      ]
     },
     "execution_count": 32,
     "metadata": {},
     "output_type": "execute_result"
    }
   ],
   "source": [
    "df.head()"
   ]
  },
  {
   "cell_type": "code",
   "execution_count": 33,
   "metadata": {},
   "outputs": [
    {
     "data": {
      "text/html": [
       "<div>\n",
       "<style scoped>\n",
       "    .dataframe tbody tr th:only-of-type {\n",
       "        vertical-align: middle;\n",
       "    }\n",
       "\n",
       "    .dataframe tbody tr th {\n",
       "        vertical-align: top;\n",
       "    }\n",
       "\n",
       "    .dataframe thead th {\n",
       "        text-align: right;\n",
       "    }\n",
       "</style>\n",
       "<table border=\"1\" class=\"dataframe\">\n",
       "  <thead>\n",
       "    <tr style=\"text-align: right;\">\n",
       "      <th></th>\n",
       "      <th>quantity</th>\n",
       "      <th>product_price</th>\n",
       "      <th>freight_value</th>\n",
       "      <th>review_score</th>\n",
       "      <th>seller_lat</th>\n",
       "      <th>sellet_lng</th>\n",
       "      <th>customer_lat</th>\n",
       "      <th>customer_lng</th>\n",
       "    </tr>\n",
       "  </thead>\n",
       "  <tbody>\n",
       "    <tr>\n",
       "      <th>count</th>\n",
       "      <td>111130.000000</td>\n",
       "      <td>111130.000000</td>\n",
       "      <td>111130.000000</td>\n",
       "      <td>111130.000000</td>\n",
       "      <td>111130.000000</td>\n",
       "      <td>111130.000000</td>\n",
       "      <td>111130.000000</td>\n",
       "      <td>111130.000000</td>\n",
       "    </tr>\n",
       "    <tr>\n",
       "      <th>mean</th>\n",
       "      <td>1.199118</td>\n",
       "      <td>120.611087</td>\n",
       "      <td>20.006397</td>\n",
       "      <td>4.018375</td>\n",
       "      <td>-22.795907</td>\n",
       "      <td>-47.248280</td>\n",
       "      <td>-21.233961</td>\n",
       "      <td>-46.200481</td>\n",
       "    </tr>\n",
       "    <tr>\n",
       "      <th>std</th>\n",
       "      <td>0.709682</td>\n",
       "      <td>183.217109</td>\n",
       "      <td>15.830799</td>\n",
       "      <td>1.397728</td>\n",
       "      <td>2.700105</td>\n",
       "      <td>2.343690</td>\n",
       "      <td>5.568828</td>\n",
       "      <td>4.036446</td>\n",
       "    </tr>\n",
       "    <tr>\n",
       "      <th>min</th>\n",
       "      <td>1.000000</td>\n",
       "      <td>0.850000</td>\n",
       "      <td>0.000000</td>\n",
       "      <td>1.000000</td>\n",
       "      <td>-32.079231</td>\n",
       "      <td>-67.813284</td>\n",
       "      <td>-33.689948</td>\n",
       "      <td>-72.668881</td>\n",
       "    </tr>\n",
       "    <tr>\n",
       "      <th>25%</th>\n",
       "      <td>1.000000</td>\n",
       "      <td>39.900000</td>\n",
       "      <td>13.080000</td>\n",
       "      <td>4.000000</td>\n",
       "      <td>-23.609430</td>\n",
       "      <td>-48.829744</td>\n",
       "      <td>-23.590637</td>\n",
       "      <td>-48.108023</td>\n",
       "    </tr>\n",
       "    <tr>\n",
       "      <th>50%</th>\n",
       "      <td>1.000000</td>\n",
       "      <td>74.900000</td>\n",
       "      <td>16.280000</td>\n",
       "      <td>5.000000</td>\n",
       "      <td>-23.424944</td>\n",
       "      <td>-46.755753</td>\n",
       "      <td>-22.928999</td>\n",
       "      <td>-46.633554</td>\n",
       "    </tr>\n",
       "    <tr>\n",
       "      <th>75%</th>\n",
       "      <td>1.000000</td>\n",
       "      <td>134.900000</td>\n",
       "      <td>21.160000</td>\n",
       "      <td>5.000000</td>\n",
       "      <td>-21.757321</td>\n",
       "      <td>-46.522287</td>\n",
       "      <td>-20.179524</td>\n",
       "      <td>-43.635297</td>\n",
       "    </tr>\n",
       "    <tr>\n",
       "      <th>max</th>\n",
       "      <td>21.000000</td>\n",
       "      <td>6735.000000</td>\n",
       "      <td>409.680000</td>\n",
       "      <td>5.000000</td>\n",
       "      <td>-2.501242</td>\n",
       "      <td>-34.855616</td>\n",
       "      <td>42.184003</td>\n",
       "      <td>-8.723762</td>\n",
       "    </tr>\n",
       "  </tbody>\n",
       "</table>\n",
       "</div>"
      ],
      "text/plain": [
       "            quantity  product_price  freight_value   review_score  \\\n",
       "count  111130.000000  111130.000000  111130.000000  111130.000000   \n",
       "mean        1.199118     120.611087      20.006397       4.018375   \n",
       "std         0.709682     183.217109      15.830799       1.397728   \n",
       "min         1.000000       0.850000       0.000000       1.000000   \n",
       "25%         1.000000      39.900000      13.080000       4.000000   \n",
       "50%         1.000000      74.900000      16.280000       5.000000   \n",
       "75%         1.000000     134.900000      21.160000       5.000000   \n",
       "max        21.000000    6735.000000     409.680000       5.000000   \n",
       "\n",
       "          seller_lat     sellet_lng   customer_lat   customer_lng  \n",
       "count  111130.000000  111130.000000  111130.000000  111130.000000  \n",
       "mean      -22.795907     -47.248280     -21.233961     -46.200481  \n",
       "std         2.700105       2.343690       5.568828       4.036446  \n",
       "min       -32.079231     -67.813284     -33.689948     -72.668881  \n",
       "25%       -23.609430     -48.829744     -23.590637     -48.108023  \n",
       "50%       -23.424944     -46.755753     -22.928999     -46.633554  \n",
       "75%       -21.757321     -46.522287     -20.179524     -43.635297  \n",
       "max        -2.501242     -34.855616      42.184003      -8.723762  "
      ]
     },
     "execution_count": 33,
     "metadata": {},
     "output_type": "execute_result"
    }
   ],
   "source": [
    "df.describe()"
   ]
  },
  {
   "cell_type": "code",
   "execution_count": 34,
   "metadata": {},
   "outputs": [],
   "source": [
    "# df.to_csv(\"data.csv\")"
   ]
  },
  {
   "cell_type": "markdown",
   "metadata": {},
   "source": [
    "### Filtering"
   ]
  },
  {
   "cell_type": "code",
   "execution_count": 35,
   "metadata": {},
   "outputs": [
    {
     "data": {
      "text/html": [
       "<div>\n",
       "<style scoped>\n",
       "    .dataframe tbody tr th:only-of-type {\n",
       "        vertical-align: middle;\n",
       "    }\n",
       "\n",
       "    .dataframe tbody tr th {\n",
       "        vertical-align: top;\n",
       "    }\n",
       "\n",
       "    .dataframe thead th {\n",
       "        text-align: right;\n",
       "    }\n",
       "</style>\n",
       "<table border=\"1\" class=\"dataframe\">\n",
       "  <thead>\n",
       "    <tr style=\"text-align: right;\">\n",
       "      <th></th>\n",
       "      <th>order_id</th>\n",
       "      <th>customer_id</th>\n",
       "      <th>order_status</th>\n",
       "      <th>order_purchase_timestamp</th>\n",
       "      <th>order_approved_at</th>\n",
       "      <th>order_delivered_carrier_date</th>\n",
       "      <th>order_delivered_customer_date</th>\n",
       "      <th>order_estimated_delivery_date</th>\n",
       "      <th>quantity</th>\n",
       "      <th>product_id</th>\n",
       "      <th>seller_id</th>\n",
       "      <th>shipping_limit_date</th>\n",
       "      <th>product_price</th>\n",
       "      <th>freight_value</th>\n",
       "      <th>product_category</th>\n",
       "      <th>review_score</th>\n",
       "      <th>seller_lat</th>\n",
       "      <th>sellet_lng</th>\n",
       "      <th>customer_lat</th>\n",
       "      <th>customer_lng</th>\n",
       "    </tr>\n",
       "  </thead>\n",
       "  <tbody>\n",
       "    <tr>\n",
       "      <th>0</th>\n",
       "      <td>e481f51cbdc54678b7cc49136f2d6af7</td>\n",
       "      <td>9ef432eb6251297304e76186b10a928d</td>\n",
       "      <td>delivered</td>\n",
       "      <td>2017-10-02 10:56:33</td>\n",
       "      <td>2017-10-02 11:07:15</td>\n",
       "      <td>2017-10-04 19:55:00</td>\n",
       "      <td>2017-10-10 21:25:13</td>\n",
       "      <td>2017-10-18 00:00:00</td>\n",
       "      <td>1</td>\n",
       "      <td>87285b34884572647811a353c7ac498a</td>\n",
       "      <td>3504c0cb71d7fa48d967e0e4c94d59d9</td>\n",
       "      <td>2017-10-06 11:07:15</td>\n",
       "      <td>29.99</td>\n",
       "      <td>8.72</td>\n",
       "      <td>housewares</td>\n",
       "      <td>4</td>\n",
       "      <td>-23.680729</td>\n",
       "      <td>-46.444238</td>\n",
       "      <td>-23.576983</td>\n",
       "      <td>-46.587161</td>\n",
       "    </tr>\n",
       "    <tr>\n",
       "      <th>1</th>\n",
       "      <td>128e10d95713541c87cd1a2e48201934</td>\n",
       "      <td>a20e8105f23924cd00833fd87daa0831</td>\n",
       "      <td>delivered</td>\n",
       "      <td>2017-08-15 18:29:31</td>\n",
       "      <td>2017-08-15 20:05:16</td>\n",
       "      <td>2017-08-17 15:28:33</td>\n",
       "      <td>2017-08-18 14:44:43</td>\n",
       "      <td>2017-08-28 00:00:00</td>\n",
       "      <td>1</td>\n",
       "      <td>87285b34884572647811a353c7ac498a</td>\n",
       "      <td>3504c0cb71d7fa48d967e0e4c94d59d9</td>\n",
       "      <td>2017-08-21 20:05:16</td>\n",
       "      <td>29.99</td>\n",
       "      <td>7.78</td>\n",
       "      <td>housewares</td>\n",
       "      <td>4</td>\n",
       "      <td>-23.680729</td>\n",
       "      <td>-46.444238</td>\n",
       "      <td>-23.564630</td>\n",
       "      <td>-46.534268</td>\n",
       "    </tr>\n",
       "    <tr>\n",
       "      <th>2</th>\n",
       "      <td>0e7e841ddf8f8f2de2bad69267ecfbcf</td>\n",
       "      <td>26c7ac168e1433912a51b924fbd34d34</td>\n",
       "      <td>delivered</td>\n",
       "      <td>2017-08-02 18:24:47</td>\n",
       "      <td>2017-08-02 18:43:15</td>\n",
       "      <td>2017-08-04 17:35:43</td>\n",
       "      <td>2017-08-07 18:30:01</td>\n",
       "      <td>2017-08-15 00:00:00</td>\n",
       "      <td>1</td>\n",
       "      <td>87285b34884572647811a353c7ac498a</td>\n",
       "      <td>3504c0cb71d7fa48d967e0e4c94d59d9</td>\n",
       "      <td>2017-08-08 18:37:31</td>\n",
       "      <td>29.99</td>\n",
       "      <td>7.78</td>\n",
       "      <td>housewares</td>\n",
       "      <td>5</td>\n",
       "      <td>-23.680729</td>\n",
       "      <td>-46.444238</td>\n",
       "      <td>-23.600462</td>\n",
       "      <td>-46.655318</td>\n",
       "    </tr>\n",
       "    <tr>\n",
       "      <th>3</th>\n",
       "      <td>bfc39df4f36c3693ff3b63fcbea9e90a</td>\n",
       "      <td>53904ddbea91e1e92b2b3f1d09a7af86</td>\n",
       "      <td>delivered</td>\n",
       "      <td>2017-10-23 23:26:46</td>\n",
       "      <td>2017-10-25 02:14:11</td>\n",
       "      <td>2017-10-27 16:48:46</td>\n",
       "      <td>2017-11-07 18:04:59</td>\n",
       "      <td>2017-11-13 00:00:00</td>\n",
       "      <td>1</td>\n",
       "      <td>87285b34884572647811a353c7ac498a</td>\n",
       "      <td>3504c0cb71d7fa48d967e0e4c94d59d9</td>\n",
       "      <td>2017-10-31 02:14:11</td>\n",
       "      <td>29.99</td>\n",
       "      <td>14.10</td>\n",
       "      <td>housewares</td>\n",
       "      <td>3</td>\n",
       "      <td>-23.680729</td>\n",
       "      <td>-46.444238</td>\n",
       "      <td>-27.528367</td>\n",
       "      <td>-48.491914</td>\n",
       "    </tr>\n",
       "    <tr>\n",
       "      <th>4</th>\n",
       "      <td>8736140c61ea584cb4250074756d8f3b</td>\n",
       "      <td>ab8844663ae049fda8baf15fc928f47f</td>\n",
       "      <td>delivered</td>\n",
       "      <td>2017-08-10 13:35:55</td>\n",
       "      <td>2017-08-10 13:50:09</td>\n",
       "      <td>2017-08-11 13:52:35</td>\n",
       "      <td>2017-08-16 19:03:36</td>\n",
       "      <td>2017-08-23 00:00:00</td>\n",
       "      <td>1</td>\n",
       "      <td>b00a32a0b42fd65efb58a5822009f629</td>\n",
       "      <td>3504c0cb71d7fa48d967e0e4c94d59d9</td>\n",
       "      <td>2017-08-16 13:50:09</td>\n",
       "      <td>75.90</td>\n",
       "      <td>7.79</td>\n",
       "      <td>baby</td>\n",
       "      <td>5</td>\n",
       "      <td>-23.680729</td>\n",
       "      <td>-46.444238</td>\n",
       "      <td>-23.486111</td>\n",
       "      <td>-46.366721</td>\n",
       "    </tr>\n",
       "  </tbody>\n",
       "</table>\n",
       "</div>"
      ],
      "text/plain": [
       "                           order_id                       customer_id  \\\n",
       "0  e481f51cbdc54678b7cc49136f2d6af7  9ef432eb6251297304e76186b10a928d   \n",
       "1  128e10d95713541c87cd1a2e48201934  a20e8105f23924cd00833fd87daa0831   \n",
       "2  0e7e841ddf8f8f2de2bad69267ecfbcf  26c7ac168e1433912a51b924fbd34d34   \n",
       "3  bfc39df4f36c3693ff3b63fcbea9e90a  53904ddbea91e1e92b2b3f1d09a7af86   \n",
       "4  8736140c61ea584cb4250074756d8f3b  ab8844663ae049fda8baf15fc928f47f   \n",
       "\n",
       "  order_status order_purchase_timestamp    order_approved_at  \\\n",
       "0    delivered      2017-10-02 10:56:33  2017-10-02 11:07:15   \n",
       "1    delivered      2017-08-15 18:29:31  2017-08-15 20:05:16   \n",
       "2    delivered      2017-08-02 18:24:47  2017-08-02 18:43:15   \n",
       "3    delivered      2017-10-23 23:26:46  2017-10-25 02:14:11   \n",
       "4    delivered      2017-08-10 13:35:55  2017-08-10 13:50:09   \n",
       "\n",
       "  order_delivered_carrier_date order_delivered_customer_date  \\\n",
       "0          2017-10-04 19:55:00           2017-10-10 21:25:13   \n",
       "1          2017-08-17 15:28:33           2017-08-18 14:44:43   \n",
       "2          2017-08-04 17:35:43           2017-08-07 18:30:01   \n",
       "3          2017-10-27 16:48:46           2017-11-07 18:04:59   \n",
       "4          2017-08-11 13:52:35           2017-08-16 19:03:36   \n",
       "\n",
       "  order_estimated_delivery_date  quantity                        product_id  \\\n",
       "0           2017-10-18 00:00:00         1  87285b34884572647811a353c7ac498a   \n",
       "1           2017-08-28 00:00:00         1  87285b34884572647811a353c7ac498a   \n",
       "2           2017-08-15 00:00:00         1  87285b34884572647811a353c7ac498a   \n",
       "3           2017-11-13 00:00:00         1  87285b34884572647811a353c7ac498a   \n",
       "4           2017-08-23 00:00:00         1  b00a32a0b42fd65efb58a5822009f629   \n",
       "\n",
       "                          seller_id  shipping_limit_date  product_price  \\\n",
       "0  3504c0cb71d7fa48d967e0e4c94d59d9  2017-10-06 11:07:15          29.99   \n",
       "1  3504c0cb71d7fa48d967e0e4c94d59d9  2017-08-21 20:05:16          29.99   \n",
       "2  3504c0cb71d7fa48d967e0e4c94d59d9  2017-08-08 18:37:31          29.99   \n",
       "3  3504c0cb71d7fa48d967e0e4c94d59d9  2017-10-31 02:14:11          29.99   \n",
       "4  3504c0cb71d7fa48d967e0e4c94d59d9  2017-08-16 13:50:09          75.90   \n",
       "\n",
       "   freight_value product_category  review_score  seller_lat  sellet_lng  \\\n",
       "0           8.72       housewares             4  -23.680729  -46.444238   \n",
       "1           7.78       housewares             4  -23.680729  -46.444238   \n",
       "2           7.78       housewares             5  -23.680729  -46.444238   \n",
       "3          14.10       housewares             3  -23.680729  -46.444238   \n",
       "4           7.79             baby             5  -23.680729  -46.444238   \n",
       "\n",
       "   customer_lat  customer_lng  \n",
       "0    -23.576983    -46.587161  \n",
       "1    -23.564630    -46.534268  \n",
       "2    -23.600462    -46.655318  \n",
       "3    -27.528367    -48.491914  \n",
       "4    -23.486111    -46.366721  "
      ]
     },
     "execution_count": 35,
     "metadata": {},
     "output_type": "execute_result"
    }
   ],
   "source": [
    "df = df[df['order_status'] == 'delivered']\n",
    "df.head()"
   ]
  },
  {
   "cell_type": "code",
   "execution_count": 36,
   "metadata": {},
   "outputs": [
    {
     "data": {
      "text/plain": [
       "array(['housewares', 'baby', 'cool_stuff', 'sports_leisure', 'toys',\n",
       "       'furniture_decor', 'perfumery', 'health_beauty', 'pet_shop',\n",
       "       'music', 'computers', 'construction_tools_construction',\n",
       "       'signaling_and_security', 'auto', 'watches_gifts', 'audio',\n",
       "       'electronics', 'computers_accessories', 'telephony',\n",
       "       'consoles_games', 'stationery', 'bed_bath_table', 'party_supplies',\n",
       "       'food', 'costruction_tools_tools', 'fashion_bags_accessories',\n",
       "       'garden_tools', 'office_furniture',\n",
       "       'industry_commerce_and_business', 'furniture_living_room',\n",
       "       'market_place', 'home_confort', 'furniture_bedroom', 'art',\n",
       "       'home_construction', 'air_conditioning',\n",
       "       'agro_industry_and_commerce', 'costruction_tools_garden',\n",
       "       'small_appliances', 'fixed_telephony', 'musical_instruments',\n",
       "       'luggage_accessories', 'fashion_sport', 'home_appliances',\n",
       "       'small_appliances_home_oven_and_coffee',\n",
       "       'construction_tools_lights', 'books_technical',\n",
       "       'kitchen_dining_laundry_garden_furniture', 'food_drink',\n",
       "       'fashion_male_clothing', 'fashion_shoes', 'drinks',\n",
       "       'tablets_printing_image', 'fashion_childrens_clothes',\n",
       "       'books_general_interest', 'home_appliances_2',\n",
       "       'diapers_and_hygiene', 'construction_tools_safety', 'la_cuisine',\n",
       "       'christmas_supplies', 'furniture_mattress_and_upholstery',\n",
       "       'fashio_female_clothing', 'dvds_blu_ray', 'home_comfort_2',\n",
       "       'fashion_underwear_beach', 'arts_and_craftmanship', 'flowers',\n",
       "       'cds_dvds_musicals', 'security_and_services', 'cine_photo',\n",
       "       'books_imported'], dtype=object)"
      ]
     },
     "execution_count": 36,
     "metadata": {},
     "output_type": "execute_result"
    }
   ],
   "source": [
    "df['product_category'].unique() "
   ]
  },
  {
   "cell_type": "code",
   "execution_count": 37,
   "metadata": {},
   "outputs": [],
   "source": [
    "#  # label_encoder object knows how to understand word labels. \n",
    "# label_encoder = preprocessing.LabelEncoder() \n",
    "  \n",
    "# # Encode labels in column 'species'. \n",
    "# df['product_category']= label_encoder.fit_transform(df['product_category']) \n",
    "  \n",
    "# df['product_category'].unique() "
   ]
  },
  {
   "cell_type": "code",
   "execution_count": 38,
   "metadata": {},
   "outputs": [],
   "source": [
    "df.to_csv(\"data.csv\")"
   ]
  },
  {
   "cell_type": "code",
   "execution_count": 39,
   "metadata": {},
   "outputs": [
    {
     "data": {
      "text/plain": [
       "Index(['order_id', 'customer_id', 'order_status', 'order_purchase_timestamp',\n",
       "       'order_approved_at', 'order_delivered_carrier_date',\n",
       "       'order_delivered_customer_date', 'order_estimated_delivery_date',\n",
       "       'quantity', 'product_id', 'seller_id', 'shipping_limit_date',\n",
       "       'product_price', 'freight_value', 'product_category', 'review_score',\n",
       "       'seller_lat', 'sellet_lng', 'customer_lat', 'customer_lng'],\n",
       "      dtype='object')"
      ]
     },
     "execution_count": 39,
     "metadata": {},
     "output_type": "execute_result"
    }
   ],
   "source": [
    "df.columns"
   ]
  },
  {
   "cell_type": "code",
   "execution_count": 40,
   "metadata": {},
   "outputs": [
    {
     "data": {
      "text/plain": [
       "array(['87285b34884572647811a353c7ac498a',\n",
       "       'b00a32a0b42fd65efb58a5822009f629',\n",
       "       '725cbfcaff95a4d43742fdf13cf43c75', ...,\n",
       "       '1d187e8e7a30417fda31e85679d96f0f',\n",
       "       '6e1c2008dea1929b9b6c27fa01381e90',\n",
       "       '9c1e194db1d35a79d962ea610bfe0868'], dtype=object)"
      ]
     },
     "execution_count": 40,
     "metadata": {},
     "output_type": "execute_result"
    }
   ],
   "source": [
    "df['product_id'].unique() "
   ]
  },
  {
   "cell_type": "code",
   "execution_count": 41,
   "metadata": {},
   "outputs": [
    {
     "data": {
      "text/plain": [
       "array(['9ef432eb6251297304e76186b10a928d',\n",
       "       'a20e8105f23924cd00833fd87daa0831',\n",
       "       '26c7ac168e1433912a51b924fbd34d34', ...,\n",
       "       'd531d01affc2c55769f6b9ed410d8d3c',\n",
       "       '9d8c06734fde9823ace11a4b5929b5a7',\n",
       "       '56772dfbcbe7df908a284ff0d53adf7d'], dtype=object)"
      ]
     },
     "execution_count": 41,
     "metadata": {},
     "output_type": "execute_result"
    }
   ],
   "source": [
    "df['customer_id'].unique() "
   ]
  },
  {
   "cell_type": "code",
   "execution_count": 42,
   "metadata": {},
   "outputs": [
    {
     "data": {
      "text/plain": [
       "array(['3504c0cb71d7fa48d967e0e4c94d59d9',\n",
       "       '57c764b4a836300be881e2ff86e449f9',\n",
       "       '289cdb325fb7e7f891c38608bf9e0962', ...,\n",
       "       'd263fa444c1504a75cbca5cc465f592a',\n",
       "       'edf3fabebcc20f7463cc9c53da932ea8',\n",
       "       'f3862c2188522d89860c38a3ea8b550d'], dtype=object)"
      ]
     },
     "execution_count": 42,
     "metadata": {},
     "output_type": "execute_result"
    }
   ],
   "source": [
    "df['seller_id'].unique() "
   ]
  },
  {
   "cell_type": "code",
   "execution_count": 43,
   "metadata": {},
   "outputs": [
    {
     "name": "stdout",
     "output_type": "stream",
     "text": [
      "2905\n"
     ]
    }
   ],
   "source": [
    "print(len(df['seller_id'].unique()))"
   ]
  },
  {
   "cell_type": "code",
   "execution_count": 44,
   "metadata": {},
   "outputs": [
    {
     "name": "stdout",
     "output_type": "stream",
     "text": [
      "31517\n"
     ]
    }
   ],
   "source": [
    "print(len(df['product_id'].unique()))"
   ]
  },
  {
   "cell_type": "code",
   "execution_count": 45,
   "metadata": {},
   "outputs": [
    {
     "name": "stdout",
     "output_type": "stream",
     "text": [
      "71\n"
     ]
    }
   ],
   "source": [
    "print(len(df['product_category'].unique()))"
   ]
  },
  {
   "cell_type": "code",
   "execution_count": 46,
   "metadata": {},
   "outputs": [
    {
     "name": "stdout",
     "output_type": "stream",
     "text": [
      "94657\n"
     ]
    }
   ],
   "source": [
    "print(len(df['customer_id'].unique()))"
   ]
  },
  {
   "cell_type": "code",
   "execution_count": 47,
   "metadata": {},
   "outputs": [
    {
     "name": "stdout",
     "output_type": "stream",
     "text": [
      "108742\n"
     ]
    }
   ],
   "source": [
    "print(len(df))"
   ]
  },
  {
   "cell_type": "markdown",
   "metadata": {},
   "source": [
    "### Checking Correlation "
   ]
  },
  {
   "cell_type": "code",
   "execution_count": 48,
   "metadata": {},
   "outputs": [],
   "source": [
    "corr = df.corr()"
   ]
  },
  {
   "cell_type": "code",
   "execution_count": 49,
   "metadata": {},
   "outputs": [],
   "source": [
    "# corr['seller_id']"
   ]
  },
  {
   "cell_type": "code",
   "execution_count": 50,
   "metadata": {},
   "outputs": [],
   "source": [
    "# corr['product_id']"
   ]
  },
  {
   "cell_type": "code",
   "execution_count": 51,
   "metadata": {},
   "outputs": [],
   "source": [
    "# corr['product_category']"
   ]
  },
  {
   "cell_type": "code",
   "execution_count": 52,
   "metadata": {},
   "outputs": [
    {
     "data": {
      "image/png": "[encoded data removed]",
      "text/plain": [
       "<Figure size 1440x1080 with 2 Axes>"
      ]
     },
     "metadata": {},
     "output_type": "display_data"
    }
   ],
   "source": [
    "plt.subplots(figsize=(20,15))\n",
    "ax = sns.heatmap(corr,cmap='coolwarm', annot = True)\n",
    "plt.yticks(rotation = 0)\n",
    "ax.invert_yaxis()\n",
    "plt.show()"
   ]
  },
  {
   "cell_type": "code",
   "execution_count": null,
   "metadata": {},
   "outputs": [],
   "source": []
  },
  {
   "cell_type": "markdown",
   "metadata": {},
   "source": [
    "## Data Pre-Processing"
   ]
  },
  {
   "cell_type": "markdown",
   "metadata": {},
   "source": [
    "### Checking null values"
   ]
  },
  {
   "cell_type": "code",
   "execution_count": 53,
   "metadata": {},
   "outputs": [
    {
     "data": {
      "text/plain": [
       "<matplotlib.axes._subplots.AxesSubplot at 0x275056b5b70>"
      ]
     },
     "execution_count": 53,
     "metadata": {},
     "output_type": "execute_result"
    },
    {
     "data": {
      "image/png": "[encoded data removed]",
      "text/plain": [
       "<Figure size 432x288 with 1 Axes>"
      ]
     },
     "metadata": {},
     "output_type": "display_data"
    }
   ],
   "source": [
    "sns.heatmap(df.isnull(),yticklabels=False,cbar=False,cmap='viridis')"
   ]
  },
  {
   "cell_type": "code",
   "execution_count": 54,
   "metadata": {},
   "outputs": [
    {
     "name": "stdout",
     "output_type": "stream",
     "text": [
      "<class 'pandas.core.frame.DataFrame'>\n",
      "Int64Index: 108742 entries, 0 to 111129\n",
      "Data columns (total 20 columns):\n",
      " #   Column                         Non-Null Count   Dtype  \n",
      "---  ------                         --------------   -----  \n",
      " 0   order_id                       108742 non-null  object \n",
      " 1   customer_id                    108742 non-null  object \n",
      " 2   order_status                   108742 non-null  object \n",
      " 3   order_purchase_timestamp       108742 non-null  object \n",
      " 4   order_approved_at              108728 non-null  object \n",
      " 5   order_delivered_carrier_date   108740 non-null  object \n",
      " 6   order_delivered_customer_date  108734 non-null  object \n",
      " 7   order_estimated_delivery_date  108742 non-null  object \n",
      " 8   quantity                       108742 non-null  int64  \n",
      " 9   product_id                     108742 non-null  object \n",
      " 10  seller_id                      108742 non-null  object \n",
      " 11  shipping_limit_date            108742 non-null  object \n",
      " 12  product_price                  108742 non-null  float64\n",
      " 13  freight_value                  108742 non-null  float64\n",
      " 14  product_category               108742 non-null  object \n",
      " 15  review_score                   108742 non-null  int64  \n",
      " 16  seller_lat                     108742 non-null  float64\n",
      " 17  sellet_lng                     108742 non-null  float64\n",
      " 18  customer_lat                   108742 non-null  float64\n",
      " 19  customer_lng                   108742 non-null  float64\n",
      "dtypes: float64(6), int64(2), object(12)\n",
      "memory usage: 17.4+ MB\n"
     ]
    }
   ],
   "source": [
    "df.info()"
   ]
  },
  {
   "cell_type": "markdown",
   "metadata": {},
   "source": [
    "### Dropping some columns"
   ]
  },
  {
   "cell_type": "code",
   "execution_count": 55,
   "metadata": {},
   "outputs": [],
   "source": [
    "new_df = df.drop([\"shipping_limit_date\",\"order_estimated_delivery_date\",\"order_delivered_customer_date\",\"order_delivered_carrier_date\",\"order_approved_at\",\"order_purchase_timestamp\"],axis=1)"
   ]
  },
  {
   "cell_type": "code",
   "execution_count": 56,
   "metadata": {},
   "outputs": [
    {
     "data": {
      "text/html": [
       "<div>\n",
       "<style scoped>\n",
       "    .dataframe tbody tr th:only-of-type {\n",
       "        vertical-align: middle;\n",
       "    }\n",
       "\n",
       "    .dataframe tbody tr th {\n",
       "        vertical-align: top;\n",
       "    }\n",
       "\n",
       "    .dataframe thead th {\n",
       "        text-align: right;\n",
       "    }\n",
       "</style>\n",
       "<table border=\"1\" class=\"dataframe\">\n",
       "  <thead>\n",
       "    <tr style=\"text-align: right;\">\n",
       "      <th></th>\n",
       "      <th>order_id</th>\n",
       "      <th>customer_id</th>\n",
       "      <th>order_status</th>\n",
       "      <th>quantity</th>\n",
       "      <th>product_id</th>\n",
       "      <th>seller_id</th>\n",
       "      <th>product_price</th>\n",
       "      <th>freight_value</th>\n",
       "      <th>product_category</th>\n",
       "      <th>review_score</th>\n",
       "      <th>seller_lat</th>\n",
       "      <th>sellet_lng</th>\n",
       "      <th>customer_lat</th>\n",
       "      <th>customer_lng</th>\n",
       "    </tr>\n",
       "  </thead>\n",
       "  <tbody>\n",
       "    <tr>\n",
       "      <th>0</th>\n",
       "      <td>e481f51cbdc54678b7cc49136f2d6af7</td>\n",
       "      <td>9ef432eb6251297304e76186b10a928d</td>\n",
       "      <td>delivered</td>\n",
       "      <td>1</td>\n",
       "      <td>87285b34884572647811a353c7ac498a</td>\n",
       "      <td>3504c0cb71d7fa48d967e0e4c94d59d9</td>\n",
       "      <td>29.99</td>\n",
       "      <td>8.72</td>\n",
       "      <td>housewares</td>\n",
       "      <td>4</td>\n",
       "      <td>-23.680729</td>\n",
       "      <td>-46.444238</td>\n",
       "      <td>-23.576983</td>\n",
       "      <td>-46.587161</td>\n",
       "    </tr>\n",
       "    <tr>\n",
       "      <th>1</th>\n",
       "      <td>128e10d95713541c87cd1a2e48201934</td>\n",
       "      <td>a20e8105f23924cd00833fd87daa0831</td>\n",
       "      <td>delivered</td>\n",
       "      <td>1</td>\n",
       "      <td>87285b34884572647811a353c7ac498a</td>\n",
       "      <td>3504c0cb71d7fa48d967e0e4c94d59d9</td>\n",
       "      <td>29.99</td>\n",
       "      <td>7.78</td>\n",
       "      <td>housewares</td>\n",
       "      <td>4</td>\n",
       "      <td>-23.680729</td>\n",
       "      <td>-46.444238</td>\n",
       "      <td>-23.564630</td>\n",
       "      <td>-46.534268</td>\n",
       "    </tr>\n",
       "    <tr>\n",
       "      <th>2</th>\n",
       "      <td>0e7e841ddf8f8f2de2bad69267ecfbcf</td>\n",
       "      <td>26c7ac168e1433912a51b924fbd34d34</td>\n",
       "      <td>delivered</td>\n",
       "      <td>1</td>\n",
       "      <td>87285b34884572647811a353c7ac498a</td>\n",
       "      <td>3504c0cb71d7fa48d967e0e4c94d59d9</td>\n",
       "      <td>29.99</td>\n",
       "      <td>7.78</td>\n",
       "      <td>housewares</td>\n",
       "      <td>5</td>\n",
       "      <td>-23.680729</td>\n",
       "      <td>-46.444238</td>\n",
       "      <td>-23.600462</td>\n",
       "      <td>-46.655318</td>\n",
       "    </tr>\n",
       "    <tr>\n",
       "      <th>3</th>\n",
       "      <td>bfc39df4f36c3693ff3b63fcbea9e90a</td>\n",
       "      <td>53904ddbea91e1e92b2b3f1d09a7af86</td>\n",
       "      <td>delivered</td>\n",
       "      <td>1</td>\n",
       "      <td>87285b34884572647811a353c7ac498a</td>\n",
       "      <td>3504c0cb71d7fa48d967e0e4c94d59d9</td>\n",
       "      <td>29.99</td>\n",
       "      <td>14.10</td>\n",
       "      <td>housewares</td>\n",
       "      <td>3</td>\n",
       "      <td>-23.680729</td>\n",
       "      <td>-46.444238</td>\n",
       "      <td>-27.528367</td>\n",
       "      <td>-48.491914</td>\n",
       "    </tr>\n",
       "    <tr>\n",
       "      <th>4</th>\n",
       "      <td>8736140c61ea584cb4250074756d8f3b</td>\n",
       "      <td>ab8844663ae049fda8baf15fc928f47f</td>\n",
       "      <td>delivered</td>\n",
       "      <td>1</td>\n",
       "      <td>b00a32a0b42fd65efb58a5822009f629</td>\n",
       "      <td>3504c0cb71d7fa48d967e0e4c94d59d9</td>\n",
       "      <td>75.90</td>\n",
       "      <td>7.79</td>\n",
       "      <td>baby</td>\n",
       "      <td>5</td>\n",
       "      <td>-23.680729</td>\n",
       "      <td>-46.444238</td>\n",
       "      <td>-23.486111</td>\n",
       "      <td>-46.366721</td>\n",
       "    </tr>\n",
       "  </tbody>\n",
       "</table>\n",
       "</div>"
      ],
      "text/plain": [
       "                           order_id                       customer_id  \\\n",
       "0  e481f51cbdc54678b7cc49136f2d6af7  9ef432eb6251297304e76186b10a928d   \n",
       "1  128e10d95713541c87cd1a2e48201934  a20e8105f23924cd00833fd87daa0831   \n",
       "2  0e7e841ddf8f8f2de2bad69267ecfbcf  26c7ac168e1433912a51b924fbd34d34   \n",
       "3  bfc39df4f36c3693ff3b63fcbea9e90a  53904ddbea91e1e92b2b3f1d09a7af86   \n",
       "4  8736140c61ea584cb4250074756d8f3b  ab8844663ae049fda8baf15fc928f47f   \n",
       "\n",
       "  order_status  quantity                        product_id  \\\n",
       "0    delivered         1  87285b34884572647811a353c7ac498a   \n",
       "1    delivered         1  87285b34884572647811a353c7ac498a   \n",
       "2    delivered         1  87285b34884572647811a353c7ac498a   \n",
       "3    delivered         1  87285b34884572647811a353c7ac498a   \n",
       "4    delivered         1  b00a32a0b42fd65efb58a5822009f629   \n",
       "\n",
       "                          seller_id  product_price  freight_value  \\\n",
       "0  3504c0cb71d7fa48d967e0e4c94d59d9          29.99           8.72   \n",
       "1  3504c0cb71d7fa48d967e0e4c94d59d9          29.99           7.78   \n",
       "2  3504c0cb71d7fa48d967e0e4c94d59d9          29.99           7.78   \n",
       "3  3504c0cb71d7fa48d967e0e4c94d59d9          29.99          14.10   \n",
       "4  3504c0cb71d7fa48d967e0e4c94d59d9          75.90           7.79   \n",
       "\n",
       "  product_category  review_score  seller_lat  sellet_lng  customer_lat  \\\n",
       "0       housewares             4  -23.680729  -46.444238    -23.576983   \n",
       "1       housewares             4  -23.680729  -46.444238    -23.564630   \n",
       "2       housewares             5  -23.680729  -46.444238    -23.600462   \n",
       "3       housewares             3  -23.680729  -46.444238    -27.528367   \n",
       "4             baby             5  -23.680729  -46.444238    -23.486111   \n",
       "\n",
       "   customer_lng  \n",
       "0    -46.587161  \n",
       "1    -46.534268  \n",
       "2    -46.655318  \n",
       "3    -48.491914  \n",
       "4    -46.366721  "
      ]
     },
     "execution_count": 56,
     "metadata": {},
     "output_type": "execute_result"
    }
   ],
   "source": [
    "new_df.head()"
   ]
  },
  {
   "cell_type": "code",
   "execution_count": 57,
   "metadata": {},
   "outputs": [
    {
     "data": {
      "text/plain": [
       "108742"
      ]
     },
     "execution_count": 57,
     "metadata": {},
     "output_type": "execute_result"
    }
   ],
   "source": [
    "len(new_df)"
   ]
  },
  {
   "cell_type": "markdown",
   "metadata": {},
   "source": [
    "### Label encodings for some columns"
   ]
  },
  {
   "cell_type": "code",
   "execution_count": 58,
   "metadata": {},
   "outputs": [],
   "source": [
    "# new_df['seller_id']= label_encoder.fit_transform(new_df['seller_id']) \n",
    "# new_df['seller_id'].unique()"
   ]
  },
  {
   "cell_type": "code",
   "execution_count": 59,
   "metadata": {},
   "outputs": [],
   "source": [
    "# list(le.inverse_transform([2, 2, 1]))"
   ]
  },
  {
   "cell_type": "code",
   "execution_count": 60,
   "metadata": {},
   "outputs": [],
   "source": [
    "# new_df['product_id']= label_encoder.fit_transform(new_df['product_id']) \n",
    "# new_df['product_id'].unique()"
   ]
  },
  {
   "cell_type": "code",
   "execution_count": 61,
   "metadata": {},
   "outputs": [],
   "source": [
    "import pickle"
   ]
  },
  {
   "cell_type": "code",
   "execution_count": 62,
   "metadata": {},
   "outputs": [
    {
     "name": "stdout",
     "output_type": "stream",
     "text": [
      "                           order_id                       customer_id  \\\n",
      "0  e481f51cbdc54678b7cc49136f2d6af7  9ef432eb6251297304e76186b10a928d   \n",
      "1  128e10d95713541c87cd1a2e48201934  a20e8105f23924cd00833fd87daa0831   \n",
      "2  0e7e841ddf8f8f2de2bad69267ecfbcf  26c7ac168e1433912a51b924fbd34d34   \n",
      "3  bfc39df4f36c3693ff3b63fcbea9e90a  53904ddbea91e1e92b2b3f1d09a7af86   \n",
      "4  8736140c61ea584cb4250074756d8f3b  ab8844663ae049fda8baf15fc928f47f   \n",
      "\n",
      "  order_status  quantity                        product_id  \\\n",
      "0    delivered         1  87285b34884572647811a353c7ac498a   \n",
      "1    delivered         1  87285b34884572647811a353c7ac498a   \n",
      "2    delivered         1  87285b34884572647811a353c7ac498a   \n",
      "3    delivered         1  87285b34884572647811a353c7ac498a   \n",
      "4    delivered         1  b00a32a0b42fd65efb58a5822009f629   \n",
      "\n",
      "                          seller_id  product_price  freight_value  \\\n",
      "0  3504c0cb71d7fa48d967e0e4c94d59d9          29.99           8.72   \n",
      "1  3504c0cb71d7fa48d967e0e4c94d59d9          29.99           7.78   \n",
      "2  3504c0cb71d7fa48d967e0e4c94d59d9          29.99           7.78   \n",
      "3  3504c0cb71d7fa48d967e0e4c94d59d9          29.99          14.10   \n",
      "4  3504c0cb71d7fa48d967e0e4c94d59d9          75.90           7.79   \n",
      "\n",
      "  product_category  review_score  seller_lat  sellet_lng  customer_lat  \\\n",
      "0       housewares             4  -23.680729  -46.444238    -23.576983   \n",
      "1       housewares             4  -23.680729  -46.444238    -23.564630   \n",
      "2       housewares             5  -23.680729  -46.444238    -23.600462   \n",
      "3       housewares             3  -23.680729  -46.444238    -27.528367   \n",
      "4             baby             5  -23.680729  -46.444238    -23.486111   \n",
      "\n",
      "   customer_lng  \n",
      "0    -46.587161  \n",
      "1    -46.534268  \n",
      "2    -46.655318  \n",
      "3    -48.491914  \n",
      "4    -46.366721  \n"
     ]
    }
   ],
   "source": [
    "new_df.reset_index(inplace=True)\n",
    "new_df.drop([\"index\"],axis=1,inplace=True)\n",
    "print(new_df.head())"
   ]
  },
  {
   "cell_type": "code",
   "execution_count": 63,
   "metadata": {},
   "outputs": [],
   "source": [
    "le = preprocessing.LabelEncoder()"
   ]
  },
  {
   "cell_type": "code",
   "execution_count": 64,
   "metadata": {},
   "outputs": [
    {
     "data": {
      "text/plain": [
       "LabelEncoder()"
      ]
     },
     "execution_count": 64,
     "metadata": {},
     "output_type": "execute_result"
    }
   ],
   "source": [
    "le.fit(new_df['seller_id'])"
   ]
  },
  {
   "cell_type": "code",
   "execution_count": 65,
   "metadata": {},
   "outputs": [],
   "source": [
    "new_df['seller_id']= le.fit_transform(new_df['seller_id'])"
   ]
  },
  {
   "cell_type": "code",
   "execution_count": 66,
   "metadata": {},
   "outputs": [],
   "source": [
    "seller_list = list(le.inverse_transform(new_df['seller_id']))"
   ]
  },
  {
   "cell_type": "code",
   "execution_count": 67,
   "metadata": {},
   "outputs": [
    {
     "name": "stdout",
     "output_type": "stream",
     "text": [
      "599\n"
     ]
    }
   ],
   "source": [
    "print(new_df['seller_id'][0])"
   ]
  },
  {
   "cell_type": "code",
   "execution_count": 68,
   "metadata": {},
   "outputs": [
    {
     "name": "stdout",
     "output_type": "stream",
     "text": [
      "3504c0cb71d7fa48d967e0e4c94d59d9\n"
     ]
    }
   ],
   "source": [
    "print(seller_list[0])"
   ]
  },
  {
   "cell_type": "code",
   "execution_count": 69,
   "metadata": {},
   "outputs": [],
   "source": [
    "def save_encodings(my_list,column,column_name):\n",
    "    my_dict = dict()\n",
    "    for index in range(len(column)):\n",
    "        encode = column[index]\n",
    "        value = my_list[index]\n",
    "        my_dict[encode] = value\n",
    "        \n",
    "    return my_dict"
   ]
  },
  {
   "cell_type": "code",
   "execution_count": 70,
   "metadata": {},
   "outputs": [],
   "source": [
    "seller_dict = save_encodings(seller_list,new_df['seller_id'],'seller_id')"
   ]
  },
  {
   "cell_type": "code",
   "execution_count": 71,
   "metadata": {},
   "outputs": [
    {
     "data": {
      "text/plain": [
       "'3504c0cb71d7fa48d967e0e4c94d59d9'"
      ]
     },
     "execution_count": 71,
     "metadata": {},
     "output_type": "execute_result"
    }
   ],
   "source": [
    "seller_dict[599]"
   ]
  },
  {
   "cell_type": "code",
   "execution_count": 72,
   "metadata": {},
   "outputs": [],
   "source": [
    "pickle_out=open(\"seller_dict.pickle\",\"wb\")\n",
    "pickle.dump(seller_dict,pickle_out)\n",
    "pickle_out.close()"
   ]
  },
  {
   "cell_type": "code",
   "execution_count": 73,
   "metadata": {},
   "outputs": [],
   "source": [
    "new_df['product_id']= le.fit_transform(new_df['product_id'])"
   ]
  },
  {
   "cell_type": "code",
   "execution_count": 74,
   "metadata": {},
   "outputs": [],
   "source": [
    "product_list = list(le.inverse_transform(new_df['product_id']))"
   ]
  },
  {
   "cell_type": "code",
   "execution_count": 75,
   "metadata": {},
   "outputs": [],
   "source": [
    "product_dict = save_encodings(product_list,new_df['product_id'],'product_list')"
   ]
  },
  {
   "cell_type": "code",
   "execution_count": 76,
   "metadata": {},
   "outputs": [],
   "source": [
    "pickle_out=open(\"product_dict.pickle\",\"wb\")\n",
    "pickle.dump(product_dict,pickle_out)\n",
    "pickle_out.close()"
   ]
  },
  {
   "cell_type": "code",
   "execution_count": 77,
   "metadata": {},
   "outputs": [
    {
     "name": "stdout",
     "output_type": "stream",
     "text": [
      "16672\n"
     ]
    }
   ],
   "source": [
    "print(new_df['product_id'][0])"
   ]
  },
  {
   "cell_type": "code",
   "execution_count": 78,
   "metadata": {},
   "outputs": [
    {
     "name": "stdout",
     "output_type": "stream",
     "text": [
      "87285b34884572647811a353c7ac498a\n"
     ]
    }
   ],
   "source": [
    "print(product_list[0])"
   ]
  },
  {
   "cell_type": "code",
   "execution_count": 79,
   "metadata": {},
   "outputs": [
    {
     "data": {
      "text/plain": [
       "'87285b34884572647811a353c7ac498a'"
      ]
     },
     "execution_count": 79,
     "metadata": {},
     "output_type": "execute_result"
    }
   ],
   "source": [
    "product_dict[16672]"
   ]
  },
  {
   "cell_type": "code",
   "execution_count": 80,
   "metadata": {},
   "outputs": [],
   "source": [
    "# product_category\n",
    "new_df['product_category']= le.fit_transform(new_df['product_category'])"
   ]
  },
  {
   "cell_type": "code",
   "execution_count": 81,
   "metadata": {},
   "outputs": [],
   "source": [
    "product_category_list = list(le.inverse_transform(new_df['product_category']))"
   ]
  },
  {
   "cell_type": "code",
   "execution_count": 82,
   "metadata": {},
   "outputs": [],
   "source": [
    "product_category_dict = save_encodings(product_category_list,new_df['product_category'],'product_category')"
   ]
  },
  {
   "cell_type": "code",
   "execution_count": 83,
   "metadata": {},
   "outputs": [],
   "source": [
    "pickle_out=open(\"product_category_dict.pickle\",\"wb\")\n",
    "pickle.dump(product_category_dict,pickle_out)\n",
    "pickle_out.close()"
   ]
  },
  {
   "cell_type": "code",
   "execution_count": 84,
   "metadata": {},
   "outputs": [
    {
     "name": "stdout",
     "output_type": "stream",
     "text": [
      "49\n",
      "housewares\n"
     ]
    }
   ],
   "source": [
    "print(new_df['product_category'][0])\n",
    "print(product_category_list[0])"
   ]
  },
  {
   "cell_type": "code",
   "execution_count": 85,
   "metadata": {},
   "outputs": [
    {
     "data": {
      "text/plain": [
       "'housewares'"
      ]
     },
     "execution_count": 85,
     "metadata": {},
     "output_type": "execute_result"
    }
   ],
   "source": [
    "product_category_dict[49]"
   ]
  },
  {
   "cell_type": "code",
   "execution_count": null,
   "metadata": {},
   "outputs": [],
   "source": []
  },
  {
   "cell_type": "code",
   "execution_count": 86,
   "metadata": {},
   "outputs": [
    {
     "name": "stdout",
     "output_type": "stream",
     "text": [
      "2905 31517 108742\n"
     ]
    }
   ],
   "source": [
    "print(len(new_df['seller_id'].unique()),len(new_df['product_id'].unique()),len(new_df['product_category']))"
   ]
  },
  {
   "cell_type": "code",
   "execution_count": 87,
   "metadata": {},
   "outputs": [],
   "source": [
    "# new_df['order_id'].unique() "
   ]
  },
  {
   "cell_type": "code",
   "execution_count": 88,
   "metadata": {},
   "outputs": [],
   "source": [
    "#  # label_encoder object knows how to understand word labels. \n",
    "# label_encoder = preprocessing.LabelEncoder() \n",
    "  \n",
    "# # Encode labels in column 'species'. \n",
    "# new_df['order_id']= label_encoder.fit_transform(new_df['order_id']) \n",
    "  \n",
    "# new_df['order_id'].unique() "
   ]
  },
  {
   "cell_type": "code",
   "execution_count": 89,
   "metadata": {},
   "outputs": [
    {
     "data": {
      "text/html": [
       "<div>\n",
       "<style scoped>\n",
       "    .dataframe tbody tr th:only-of-type {\n",
       "        vertical-align: middle;\n",
       "    }\n",
       "\n",
       "    .dataframe tbody tr th {\n",
       "        vertical-align: top;\n",
       "    }\n",
       "\n",
       "    .dataframe thead th {\n",
       "        text-align: right;\n",
       "    }\n",
       "</style>\n",
       "<table border=\"1\" class=\"dataframe\">\n",
       "  <thead>\n",
       "    <tr style=\"text-align: right;\">\n",
       "      <th></th>\n",
       "      <th>order_id</th>\n",
       "      <th>customer_id</th>\n",
       "      <th>order_status</th>\n",
       "      <th>quantity</th>\n",
       "      <th>product_id</th>\n",
       "      <th>seller_id</th>\n",
       "      <th>product_price</th>\n",
       "      <th>freight_value</th>\n",
       "      <th>product_category</th>\n",
       "      <th>review_score</th>\n",
       "      <th>seller_lat</th>\n",
       "      <th>sellet_lng</th>\n",
       "      <th>customer_lat</th>\n",
       "      <th>customer_lng</th>\n",
       "    </tr>\n",
       "  </thead>\n",
       "  <tbody>\n",
       "    <tr>\n",
       "      <th>0</th>\n",
       "      <td>e481f51cbdc54678b7cc49136f2d6af7</td>\n",
       "      <td>9ef432eb6251297304e76186b10a928d</td>\n",
       "      <td>delivered</td>\n",
       "      <td>1</td>\n",
       "      <td>16672</td>\n",
       "      <td>599</td>\n",
       "      <td>29.99</td>\n",
       "      <td>8.72</td>\n",
       "      <td>49</td>\n",
       "      <td>4</td>\n",
       "      <td>-23.680729</td>\n",
       "      <td>-46.444238</td>\n",
       "      <td>-23.576983</td>\n",
       "      <td>-46.587161</td>\n",
       "    </tr>\n",
       "    <tr>\n",
       "      <th>1</th>\n",
       "      <td>128e10d95713541c87cd1a2e48201934</td>\n",
       "      <td>a20e8105f23924cd00833fd87daa0831</td>\n",
       "      <td>delivered</td>\n",
       "      <td>1</td>\n",
       "      <td>16672</td>\n",
       "      <td>599</td>\n",
       "      <td>29.99</td>\n",
       "      <td>7.78</td>\n",
       "      <td>49</td>\n",
       "      <td>4</td>\n",
       "      <td>-23.680729</td>\n",
       "      <td>-46.444238</td>\n",
       "      <td>-23.564630</td>\n",
       "      <td>-46.534268</td>\n",
       "    </tr>\n",
       "  </tbody>\n",
       "</table>\n",
       "</div>"
      ],
      "text/plain": [
       "                           order_id                       customer_id  \\\n",
       "0  e481f51cbdc54678b7cc49136f2d6af7  9ef432eb6251297304e76186b10a928d   \n",
       "1  128e10d95713541c87cd1a2e48201934  a20e8105f23924cd00833fd87daa0831   \n",
       "\n",
       "  order_status  quantity  product_id  seller_id  product_price  freight_value  \\\n",
       "0    delivered         1       16672        599          29.99           8.72   \n",
       "1    delivered         1       16672        599          29.99           7.78   \n",
       "\n",
       "   product_category  review_score  seller_lat  sellet_lng  customer_lat  \\\n",
       "0                49             4  -23.680729  -46.444238    -23.576983   \n",
       "1                49             4  -23.680729  -46.444238    -23.564630   \n",
       "\n",
       "   customer_lng  \n",
       "0    -46.587161  \n",
       "1    -46.534268  "
      ]
     },
     "execution_count": 89,
     "metadata": {},
     "output_type": "execute_result"
    }
   ],
   "source": [
    "new_df.head(2)"
   ]
  },
  {
   "cell_type": "code",
   "execution_count": 90,
   "metadata": {},
   "outputs": [],
   "source": [
    "# new_df['product_id'].unique() "
   ]
  },
  {
   "cell_type": "code",
   "execution_count": 91,
   "metadata": {},
   "outputs": [],
   "source": [
    "#  # label_encoder object knows how to understand word labels. \n",
    "# label_encoder = preprocessing.LabelEncoder() \n",
    "  \n",
    "# # Encode labels in column 'species'. \n",
    "# new_df['product_id']= label_encoder.fit_transform(new_df['product_id']) \n",
    "  \n",
    "# new_df['product_id'].unique() "
   ]
  },
  {
   "cell_type": "code",
   "execution_count": 92,
   "metadata": {},
   "outputs": [],
   "source": [
    "# new_df.head(2)"
   ]
  },
  {
   "cell_type": "code",
   "execution_count": 93,
   "metadata": {},
   "outputs": [],
   "source": [
    "# new_df['seller_id'].unique() "
   ]
  },
  {
   "cell_type": "code",
   "execution_count": 94,
   "metadata": {},
   "outputs": [],
   "source": [
    "#  # label_encoder object knows how to understand word labels. \n",
    "# label_encoder = preprocessing.LabelEncoder() \n",
    "  \n",
    "# # Encode labels in column 'species'. \n",
    "# new_df['seller_id']= label_encoder.fit_transform(new_df['seller_id']) \n",
    "  \n",
    "# new_df['seller_id'].unique() "
   ]
  },
  {
   "cell_type": "code",
   "execution_count": 95,
   "metadata": {},
   "outputs": [],
   "source": [
    "# new_df['order_status'].unique() "
   ]
  },
  {
   "cell_type": "code",
   "execution_count": 96,
   "metadata": {},
   "outputs": [],
   "source": [
    "#  # label_encoder object knows how to understand word labels. \n",
    "# label_encoder = preprocessing.LabelEncoder() \n",
    "  \n",
    "# # Encode labels in column 'species'. \n",
    "# new_df['order_status']= label_encoder.fit_transform(new_df['order_status']) \n",
    "  \n",
    "# new_df['order_status'].unique() "
   ]
  },
  {
   "cell_type": "code",
   "execution_count": null,
   "metadata": {},
   "outputs": [],
   "source": []
  },
  {
   "cell_type": "code",
   "execution_count": 97,
   "metadata": {},
   "outputs": [
    {
     "data": {
      "text/html": [
       "<div>\n",
       "<style scoped>\n",
       "    .dataframe tbody tr th:only-of-type {\n",
       "        vertical-align: middle;\n",
       "    }\n",
       "\n",
       "    .dataframe tbody tr th {\n",
       "        vertical-align: top;\n",
       "    }\n",
       "\n",
       "    .dataframe thead th {\n",
       "        text-align: right;\n",
       "    }\n",
       "</style>\n",
       "<table border=\"1\" class=\"dataframe\">\n",
       "  <thead>\n",
       "    <tr style=\"text-align: right;\">\n",
       "      <th></th>\n",
       "      <th>order_id</th>\n",
       "      <th>customer_id</th>\n",
       "      <th>order_status</th>\n",
       "      <th>quantity</th>\n",
       "      <th>product_id</th>\n",
       "      <th>seller_id</th>\n",
       "      <th>product_price</th>\n",
       "      <th>freight_value</th>\n",
       "      <th>product_category</th>\n",
       "      <th>review_score</th>\n",
       "      <th>seller_lat</th>\n",
       "      <th>sellet_lng</th>\n",
       "      <th>customer_lat</th>\n",
       "      <th>customer_lng</th>\n",
       "    </tr>\n",
       "  </thead>\n",
       "  <tbody>\n",
       "    <tr>\n",
       "      <th>0</th>\n",
       "      <td>e481f51cbdc54678b7cc49136f2d6af7</td>\n",
       "      <td>9ef432eb6251297304e76186b10a928d</td>\n",
       "      <td>delivered</td>\n",
       "      <td>1</td>\n",
       "      <td>16672</td>\n",
       "      <td>599</td>\n",
       "      <td>29.99</td>\n",
       "      <td>8.72</td>\n",
       "      <td>49</td>\n",
       "      <td>4</td>\n",
       "      <td>-23.680729</td>\n",
       "      <td>-46.444238</td>\n",
       "      <td>-23.576983</td>\n",
       "      <td>-46.587161</td>\n",
       "    </tr>\n",
       "    <tr>\n",
       "      <th>1</th>\n",
       "      <td>128e10d95713541c87cd1a2e48201934</td>\n",
       "      <td>a20e8105f23924cd00833fd87daa0831</td>\n",
       "      <td>delivered</td>\n",
       "      <td>1</td>\n",
       "      <td>16672</td>\n",
       "      <td>599</td>\n",
       "      <td>29.99</td>\n",
       "      <td>7.78</td>\n",
       "      <td>49</td>\n",
       "      <td>4</td>\n",
       "      <td>-23.680729</td>\n",
       "      <td>-46.444238</td>\n",
       "      <td>-23.564630</td>\n",
       "      <td>-46.534268</td>\n",
       "    </tr>\n",
       "    <tr>\n",
       "      <th>2</th>\n",
       "      <td>0e7e841ddf8f8f2de2bad69267ecfbcf</td>\n",
       "      <td>26c7ac168e1433912a51b924fbd34d34</td>\n",
       "      <td>delivered</td>\n",
       "      <td>1</td>\n",
       "      <td>16672</td>\n",
       "      <td>599</td>\n",
       "      <td>29.99</td>\n",
       "      <td>7.78</td>\n",
       "      <td>49</td>\n",
       "      <td>5</td>\n",
       "      <td>-23.680729</td>\n",
       "      <td>-46.444238</td>\n",
       "      <td>-23.600462</td>\n",
       "      <td>-46.655318</td>\n",
       "    </tr>\n",
       "    <tr>\n",
       "      <th>3</th>\n",
       "      <td>bfc39df4f36c3693ff3b63fcbea9e90a</td>\n",
       "      <td>53904ddbea91e1e92b2b3f1d09a7af86</td>\n",
       "      <td>delivered</td>\n",
       "      <td>1</td>\n",
       "      <td>16672</td>\n",
       "      <td>599</td>\n",
       "      <td>29.99</td>\n",
       "      <td>14.10</td>\n",
       "      <td>49</td>\n",
       "      <td>3</td>\n",
       "      <td>-23.680729</td>\n",
       "      <td>-46.444238</td>\n",
       "      <td>-27.528367</td>\n",
       "      <td>-48.491914</td>\n",
       "    </tr>\n",
       "    <tr>\n",
       "      <th>4</th>\n",
       "      <td>8736140c61ea584cb4250074756d8f3b</td>\n",
       "      <td>ab8844663ae049fda8baf15fc928f47f</td>\n",
       "      <td>delivered</td>\n",
       "      <td>1</td>\n",
       "      <td>21628</td>\n",
       "      <td>599</td>\n",
       "      <td>75.90</td>\n",
       "      <td>7.79</td>\n",
       "      <td>6</td>\n",
       "      <td>5</td>\n",
       "      <td>-23.680729</td>\n",
       "      <td>-46.444238</td>\n",
       "      <td>-23.486111</td>\n",
       "      <td>-46.366721</td>\n",
       "    </tr>\n",
       "  </tbody>\n",
       "</table>\n",
       "</div>"
      ],
      "text/plain": [
       "                           order_id                       customer_id  \\\n",
       "0  e481f51cbdc54678b7cc49136f2d6af7  9ef432eb6251297304e76186b10a928d   \n",
       "1  128e10d95713541c87cd1a2e48201934  a20e8105f23924cd00833fd87daa0831   \n",
       "2  0e7e841ddf8f8f2de2bad69267ecfbcf  26c7ac168e1433912a51b924fbd34d34   \n",
       "3  bfc39df4f36c3693ff3b63fcbea9e90a  53904ddbea91e1e92b2b3f1d09a7af86   \n",
       "4  8736140c61ea584cb4250074756d8f3b  ab8844663ae049fda8baf15fc928f47f   \n",
       "\n",
       "  order_status  quantity  product_id  seller_id  product_price  freight_value  \\\n",
       "0    delivered         1       16672        599          29.99           8.72   \n",
       "1    delivered         1       16672        599          29.99           7.78   \n",
       "2    delivered         1       16672        599          29.99           7.78   \n",
       "3    delivered         1       16672        599          29.99          14.10   \n",
       "4    delivered         1       21628        599          75.90           7.79   \n",
       "\n",
       "   product_category  review_score  seller_lat  sellet_lng  customer_lat  \\\n",
       "0                49             4  -23.680729  -46.444238    -23.576983   \n",
       "1                49             4  -23.680729  -46.444238    -23.564630   \n",
       "2                49             5  -23.680729  -46.444238    -23.600462   \n",
       "3                49             3  -23.680729  -46.444238    -27.528367   \n",
       "4                 6             5  -23.680729  -46.444238    -23.486111   \n",
       "\n",
       "   customer_lng  \n",
       "0    -46.587161  \n",
       "1    -46.534268  \n",
       "2    -46.655318  \n",
       "3    -48.491914  \n",
       "4    -46.366721  "
      ]
     },
     "execution_count": 97,
     "metadata": {},
     "output_type": "execute_result"
    }
   ],
   "source": [
    "new_df.head()"
   ]
  },
  {
   "cell_type": "code",
   "execution_count": 98,
   "metadata": {},
   "outputs": [
    {
     "data": {
      "text/plain": [
       "108742"
      ]
     },
     "execution_count": 98,
     "metadata": {},
     "output_type": "execute_result"
    }
   ],
   "source": [
    "len(new_df)"
   ]
  },
  {
   "cell_type": "code",
   "execution_count": 99,
   "metadata": {},
   "outputs": [
    {
     "name": "stdout",
     "output_type": "stream",
     "text": [
      "<class 'pandas.core.frame.DataFrame'>\n",
      "RangeIndex: 108742 entries, 0 to 108741\n",
      "Data columns (total 14 columns):\n",
      " #   Column            Non-Null Count   Dtype  \n",
      "---  ------            --------------   -----  \n",
      " 0   order_id          108742 non-null  object \n",
      " 1   customer_id       108742 non-null  object \n",
      " 2   order_status      108742 non-null  object \n",
      " 3   quantity          108742 non-null  int64  \n",
      " 4   product_id        108742 non-null  int32  \n",
      " 5   seller_id         108742 non-null  int32  \n",
      " 6   product_price     108742 non-null  float64\n",
      " 7   freight_value     108742 non-null  float64\n",
      " 8   product_category  108742 non-null  int32  \n",
      " 9   review_score      108742 non-null  int64  \n",
      " 10  seller_lat        108742 non-null  float64\n",
      " 11  sellet_lng        108742 non-null  float64\n",
      " 12  customer_lat      108742 non-null  float64\n",
      " 13  customer_lng      108742 non-null  float64\n",
      "dtypes: float64(6), int32(3), int64(2), object(3)\n",
      "memory usage: 10.4+ MB\n"
     ]
    }
   ],
   "source": [
    "new_df.info()"
   ]
  },
  {
   "cell_type": "code",
   "execution_count": 100,
   "metadata": {},
   "outputs": [
    {
     "data": {
      "text/html": [
       "<div>\n",
       "<style scoped>\n",
       "    .dataframe tbody tr th:only-of-type {\n",
       "        vertical-align: middle;\n",
       "    }\n",
       "\n",
       "    .dataframe tbody tr th {\n",
       "        vertical-align: top;\n",
       "    }\n",
       "\n",
       "    .dataframe thead th {\n",
       "        text-align: right;\n",
       "    }\n",
       "</style>\n",
       "<table border=\"1\" class=\"dataframe\">\n",
       "  <thead>\n",
       "    <tr style=\"text-align: right;\">\n",
       "      <th></th>\n",
       "      <th>quantity</th>\n",
       "      <th>product_id</th>\n",
       "      <th>seller_id</th>\n",
       "      <th>product_price</th>\n",
       "      <th>freight_value</th>\n",
       "      <th>product_category</th>\n",
       "      <th>review_score</th>\n",
       "      <th>seller_lat</th>\n",
       "      <th>sellet_lng</th>\n",
       "      <th>customer_lat</th>\n",
       "      <th>customer_lng</th>\n",
       "    </tr>\n",
       "  </thead>\n",
       "  <tbody>\n",
       "    <tr>\n",
       "      <th>count</th>\n",
       "      <td>108742.00000</td>\n",
       "      <td>108742.000000</td>\n",
       "      <td>108742.000000</td>\n",
       "      <td>108742.000000</td>\n",
       "      <td>108742.000000</td>\n",
       "      <td>108742.000000</td>\n",
       "      <td>108742.000000</td>\n",
       "      <td>108742.000000</td>\n",
       "      <td>108742.000000</td>\n",
       "      <td>108742.000000</td>\n",
       "      <td>108742.000000</td>\n",
       "    </tr>\n",
       "    <tr>\n",
       "      <th>mean</th>\n",
       "      <td>1.19961</td>\n",
       "      <td>15720.598839</td>\n",
       "      <td>1423.226996</td>\n",
       "      <td>119.940882</td>\n",
       "      <td>19.962407</td>\n",
       "      <td>38.921263</td>\n",
       "      <td>4.067977</td>\n",
       "      <td>-22.796259</td>\n",
       "      <td>-47.252058</td>\n",
       "      <td>-21.246578</td>\n",
       "      <td>-46.214893</td>\n",
       "    </tr>\n",
       "    <tr>\n",
       "      <th>std</th>\n",
       "      <td>0.71152</td>\n",
       "      <td>9050.779421</td>\n",
       "      <td>840.878655</td>\n",
       "      <td>181.904394</td>\n",
       "      <td>15.720809</td>\n",
       "      <td>22.525884</td>\n",
       "      <td>1.357693</td>\n",
       "      <td>2.706806</td>\n",
       "      <td>2.344724</td>\n",
       "      <td>5.557515</td>\n",
       "      <td>4.032502</td>\n",
       "    </tr>\n",
       "    <tr>\n",
       "      <th>min</th>\n",
       "      <td>1.00000</td>\n",
       "      <td>0.000000</td>\n",
       "      <td>0.000000</td>\n",
       "      <td>0.850000</td>\n",
       "      <td>0.000000</td>\n",
       "      <td>0.000000</td>\n",
       "      <td>1.000000</td>\n",
       "      <td>-32.079231</td>\n",
       "      <td>-63.893565</td>\n",
       "      <td>-33.689948</td>\n",
       "      <td>-72.668881</td>\n",
       "    </tr>\n",
       "    <tr>\n",
       "      <th>25%</th>\n",
       "      <td>1.00000</td>\n",
       "      <td>7966.250000</td>\n",
       "      <td>737.000000</td>\n",
       "      <td>39.900000</td>\n",
       "      <td>13.070000</td>\n",
       "      <td>15.000000</td>\n",
       "      <td>4.000000</td>\n",
       "      <td>-23.609488</td>\n",
       "      <td>-48.829744</td>\n",
       "      <td>-23.591954</td>\n",
       "      <td>-48.124107</td>\n",
       "    </tr>\n",
       "    <tr>\n",
       "      <th>50%</th>\n",
       "      <td>1.00000</td>\n",
       "      <td>15543.000000</td>\n",
       "      <td>1420.000000</td>\n",
       "      <td>74.900000</td>\n",
       "      <td>16.275000</td>\n",
       "      <td>42.000000</td>\n",
       "      <td>5.000000</td>\n",
       "      <td>-23.424944</td>\n",
       "      <td>-46.755753</td>\n",
       "      <td>-22.929564</td>\n",
       "      <td>-46.634954</td>\n",
       "    </tr>\n",
       "    <tr>\n",
       "      <th>75%</th>\n",
       "      <td>1.00000</td>\n",
       "      <td>23588.000000</td>\n",
       "      <td>2218.000000</td>\n",
       "      <td>134.170000</td>\n",
       "      <td>21.150000</td>\n",
       "      <td>60.000000</td>\n",
       "      <td>5.000000</td>\n",
       "      <td>-21.757321</td>\n",
       "      <td>-46.522287</td>\n",
       "      <td>-20.188080</td>\n",
       "      <td>-43.667690</td>\n",
       "    </tr>\n",
       "    <tr>\n",
       "      <th>max</th>\n",
       "      <td>21.00000</td>\n",
       "      <td>31516.000000</td>\n",
       "      <td>2904.000000</td>\n",
       "      <td>6735.000000</td>\n",
       "      <td>409.680000</td>\n",
       "      <td>70.000000</td>\n",
       "      <td>5.000000</td>\n",
       "      <td>-2.501242</td>\n",
       "      <td>-34.855616</td>\n",
       "      <td>42.184003</td>\n",
       "      <td>-8.723762</td>\n",
       "    </tr>\n",
       "  </tbody>\n",
       "</table>\n",
       "</div>"
      ],
      "text/plain": [
       "           quantity     product_id      seller_id  product_price  \\\n",
       "count  108742.00000  108742.000000  108742.000000  108742.000000   \n",
       "mean        1.19961   15720.598839    1423.226996     119.940882   \n",
       "std         0.71152    9050.779421     840.878655     181.904394   \n",
       "min         1.00000       0.000000       0.000000       0.850000   \n",
       "25%         1.00000    7966.250000     737.000000      39.900000   \n",
       "50%         1.00000   15543.000000    1420.000000      74.900000   \n",
       "75%         1.00000   23588.000000    2218.000000     134.170000   \n",
       "max        21.00000   31516.000000    2904.000000    6735.000000   \n",
       "\n",
       "       freight_value  product_category   review_score     seller_lat  \\\n",
       "count  108742.000000     108742.000000  108742.000000  108742.000000   \n",
       "mean       19.962407         38.921263       4.067977     -22.796259   \n",
       "std        15.720809         22.525884       1.357693       2.706806   \n",
       "min         0.000000          0.000000       1.000000     -32.079231   \n",
       "25%        13.070000         15.000000       4.000000     -23.609488   \n",
       "50%        16.275000         42.000000       5.000000     -23.424944   \n",
       "75%        21.150000         60.000000       5.000000     -21.757321   \n",
       "max       409.680000         70.000000       5.000000      -2.501242   \n",
       "\n",
       "          sellet_lng   customer_lat   customer_lng  \n",
       "count  108742.000000  108742.000000  108742.000000  \n",
       "mean      -47.252058     -21.246578     -46.214893  \n",
       "std         2.344724       5.557515       4.032502  \n",
       "min       -63.893565     -33.689948     -72.668881  \n",
       "25%       -48.829744     -23.591954     -48.124107  \n",
       "50%       -46.755753     -22.929564     -46.634954  \n",
       "75%       -46.522287     -20.188080     -43.667690  \n",
       "max       -34.855616      42.184003      -8.723762  "
      ]
     },
     "execution_count": 100,
     "metadata": {},
     "output_type": "execute_result"
    }
   ],
   "source": [
    "new_df.describe()"
   ]
  },
  {
   "cell_type": "code",
   "execution_count": 101,
   "metadata": {},
   "outputs": [
    {
     "data": {
      "text/plain": [
       "Index(['order_id', 'customer_id', 'order_status', 'quantity', 'product_id',\n",
       "       'seller_id', 'product_price', 'freight_value', 'product_category',\n",
       "       'review_score', 'seller_lat', 'sellet_lng', 'customer_lat',\n",
       "       'customer_lng'],\n",
       "      dtype='object')"
      ]
     },
     "execution_count": 101,
     "metadata": {},
     "output_type": "execute_result"
    }
   ],
   "source": [
    "new_df.columns"
   ]
  },
  {
   "cell_type": "markdown",
   "metadata": {},
   "source": [
    "### Outlier Checking And Handling"
   ]
  },
  {
   "cell_type": "code",
   "execution_count": 102,
   "metadata": {},
   "outputs": [
    {
     "data": {
      "image/png": "[encoded data removed]",
      "text/plain": [
       "<Figure size 1296x1080 with 8 Axes>"
      ]
     },
     "metadata": {},
     "output_type": "display_data"
    }
   ],
   "source": [
    "fig = plt.figure(figsize = (18,15))\n",
    "for i, item in enumerate (new_df.drop(['order_id', 'order_status', 'quantity', 'product_id', 'seller_id','customer_id'],axis=1)):\n",
    "    plt.subplot(3,3,i+1)\n",
    "    sns.boxplot(new_df[item])"
   ]
  },
  {
   "cell_type": "code",
   "execution_count": 104,
   "metadata": {},
   "outputs": [
    {
     "data": {
      "text/plain": [
       "Index(['order_id', 'customer_id', 'order_status', 'quantity', 'product_id',\n",
       "       'seller_id', 'product_price', 'freight_value', 'product_category',\n",
       "       'review_score', 'seller_lat', 'sellet_lng', 'customer_lat',\n",
       "       'customer_lng'],\n",
       "      dtype='object')"
      ]
     },
     "execution_count": 104,
     "metadata": {},
     "output_type": "execute_result"
    }
   ],
   "source": [
    "new_df.columns"
   ]
  },
  {
   "cell_type": "code",
   "execution_count": 105,
   "metadata": {},
   "outputs": [
    {
     "data": {
      "text/plain": [
       "<matplotlib.axes._subplots.AxesSubplot at 0x27505c7b278>"
      ]
     },
     "execution_count": 105,
     "metadata": {},
     "output_type": "execute_result"
    },
    {
     "data": {
      "image/png": "[encoded data removed]",
      "text/plain": [
       "<Figure size 432x288 with 1 Axes>"
      ]
     },
     "metadata": {},
     "output_type": "display_data"
    }
   ],
   "source": [
    "sns.boxplot(new_df['seller_lat'])"
   ]
  },
  {
   "cell_type": "code",
   "execution_count": 106,
   "metadata": {},
   "outputs": [],
   "source": [
    "Q1 =  new_df['seller_lat'].quantile(0.25)\n",
    "Q3 = new_df['seller_lat'].quantile(0.75)\n",
    "IQR = Q3 - Q1"
   ]
  },
  {
   "cell_type": "code",
   "execution_count": 107,
   "metadata": {},
   "outputs": [
    {
     "name": "stdout",
     "output_type": "stream",
     "text": [
      "509      -28.633921\n",
      "1034      -6.837169\n",
      "2200     -18.507265\n",
      "2279     -18.507265\n",
      "4669     -30.008182\n",
      "            ...    \n",
      "108713   -26.876415\n",
      "108717   -27.681688\n",
      "108722   -29.151062\n",
      "108736   -27.978665\n",
      "108737   -27.978665\n",
      "Name: seller_lat, Length: 9729, dtype: float64\n"
     ]
    }
   ],
   "source": [
    "outliers_df =new_df[(new_df['seller_lat'] < Q1-1.5*IQR ) | (new_df['seller_lat'] > Q3+1.5*IQR)]['seller_lat']\n",
    "print(outliers_df)"
   ]
  },
  {
   "cell_type": "code",
   "execution_count": 108,
   "metadata": {},
   "outputs": [
    {
     "name": "stderr",
     "output_type": "stream",
     "text": [
      "C:\\ProgramData\\Anaconda3\\lib\\site-packages\\ipykernel_launcher.py:2: SettingWithCopyWarning: \n",
      "A value is trying to be set on a copy of a slice from a DataFrame\n",
      "\n",
      "See the caveats in the documentation: https://pandas.pydata.org/pandas-docs/stable/user_guide/indexing.html#returning-a-view-versus-a-copy\n",
      "  \n"
     ]
    },
    {
     "name": "stdout",
     "output_type": "stream",
     "text": [
      "509      -22.796259\n",
      "1034     -22.796205\n",
      "2200     -22.796352\n",
      "2279     -22.796392\n",
      "4669     -22.796431\n",
      "            ...    \n",
      "108713   -22.887060\n",
      "108717   -22.887023\n",
      "108722   -22.886979\n",
      "108736   -22.886921\n",
      "108737   -22.886875\n",
      "Name: seller_lat, Length: 9729, dtype: float64\n"
     ]
    }
   ],
   "source": [
    "for i in range(len(outliers_df)):\n",
    "    new_df['seller_lat'][outliers_df.index[i]]  = new_df.seller_lat.mean()\n",
    "print(new_df['seller_lat'][outliers_df.index])"
   ]
  },
  {
   "cell_type": "code",
   "execution_count": 109,
   "metadata": {},
   "outputs": [
    {
     "data": {
      "text/plain": [
       "<matplotlib.axes._subplots.AxesSubplot at 0x2750a2a48d0>"
      ]
     },
     "execution_count": 109,
     "metadata": {},
     "output_type": "execute_result"
    },
    {
     "data": {
      "image/png": "[encoded data removed]",
      "text/plain": [
       "<Figure size 432x288 with 1 Axes>"
      ]
     },
     "metadata": {},
     "output_type": "display_data"
    }
   ],
   "source": [
    "sns.boxplot(new_df['seller_lat'])"
   ]
  },
  {
   "cell_type": "code",
   "execution_count": 110,
   "metadata": {},
   "outputs": [
    {
     "name": "stdout",
     "output_type": "stream",
     "text": [
      "Int64Index([    41,     54,     55,     56,     57,     58,     59,     60,\n",
      "                61,     62,\n",
      "            ...\n",
      "            108712, 108714, 108721, 108728, 108729, 108731, 108732, 108733,\n",
      "            108738, 108741],\n",
      "           dtype='int64', length=35674) <class 'pandas.core.indexes.numeric.Int64Index'>\n"
     ]
    }
   ],
   "source": [
    "a = new_df[(new_df.seller_lat > -22.5) | (new_df.seller_lat<-24)].index\n",
    "print(a,type(a))"
   ]
  },
  {
   "cell_type": "code",
   "execution_count": 111,
   "metadata": {},
   "outputs": [],
   "source": [
    "new_df.loc[a,\"seller_lat\"] = new_df.seller_lat.mean()"
   ]
  },
  {
   "cell_type": "code",
   "execution_count": 112,
   "metadata": {},
   "outputs": [
    {
     "data": {
      "text/plain": [
       "<matplotlib.axes._subplots.AxesSubplot at 0x2750a2f1c50>"
      ]
     },
     "execution_count": 112,
     "metadata": {},
     "output_type": "execute_result"
    },
    {
     "data": {
      "image/png": "[encoded data removed]",
      "text/plain": [
       "<Figure size 432x288 with 1 Axes>"
      ]
     },
     "metadata": {},
     "output_type": "display_data"
    }
   ],
   "source": [
    "sns.boxplot(new_df['seller_lat'])"
   ]
  },
  {
   "cell_type": "code",
   "execution_count": 114,
   "metadata": {},
   "outputs": [
    {
     "data": {
      "text/plain": [
       "Index(['order_id', 'customer_id', 'order_status', 'quantity', 'product_id',\n",
       "       'seller_id', 'product_price', 'freight_value', 'product_category',\n",
       "       'review_score', 'seller_lat', 'sellet_lng', 'customer_lat',\n",
       "       'customer_lng'],\n",
       "      dtype='object')"
      ]
     },
     "execution_count": 114,
     "metadata": {},
     "output_type": "execute_result"
    }
   ],
   "source": [
    "new_df.columns"
   ]
  },
  {
   "cell_type": "markdown",
   "metadata": {},
   "source": [
    "Review Score cleaning"
   ]
  },
  {
   "cell_type": "code",
   "execution_count": 115,
   "metadata": {},
   "outputs": [
    {
     "data": {
      "text/plain": [
       "<matplotlib.axes._subplots.AxesSubplot at 0x2750adf8748>"
      ]
     },
     "execution_count": 115,
     "metadata": {},
     "output_type": "execute_result"
    },
    {
     "data": {
      "image/png": "[encoded data removed]",
      "text/plain": [
       "<Figure size 432x288 with 1 Axes>"
      ]
     },
     "metadata": {},
     "output_type": "display_data"
    }
   ],
   "source": [
    "sns.boxplot(new_df['review_score'])"
   ]
  },
  {
   "cell_type": "code",
   "execution_count": 116,
   "metadata": {},
   "outputs": [],
   "source": [
    "Q1 =  new_df['review_score'].quantile(0.25)\n",
    "Q3 = new_df['review_score'].quantile(0.75)\n",
    "IQR = Q3 - Q1"
   ]
  },
  {
   "cell_type": "code",
   "execution_count": 117,
   "metadata": {},
   "outputs": [
    {
     "name": "stdout",
     "output_type": "stream",
     "text": [
      "7        -23.680729\n",
      "40       -23.680729\n",
      "41       -22.886828\n",
      "79       -22.886828\n",
      "86       -22.886828\n",
      "            ...    \n",
      "108708   -23.585607\n",
      "108709   -23.585607\n",
      "108713   -22.887060\n",
      "108721   -22.886828\n",
      "108729   -22.886828\n",
      "Name: seller_lat, Length: 16460, dtype: float64\n"
     ]
    }
   ],
   "source": [
    "outliers_df =new_df[(new_df['review_score'] < Q1-1.5*IQR ) | (new_df['review_score'] > Q3+1.5*IQR)]['seller_lat']\n",
    "print(outliers_df)"
   ]
  },
  {
   "cell_type": "code",
   "execution_count": 118,
   "metadata": {},
   "outputs": [
    {
     "name": "stderr",
     "output_type": "stream",
     "text": [
      "C:\\ProgramData\\Anaconda3\\lib\\site-packages\\ipykernel_launcher.py:2: SettingWithCopyWarning: \n",
      "A value is trying to be set on a copy of a slice from a DataFrame\n",
      "\n",
      "See the caveats in the documentation: https://pandas.pydata.org/pandas-docs/stable/user_guide/indexing.html#returning-a-view-versus-a-copy\n",
      "  \n"
     ]
    },
    {
     "name": "stdout",
     "output_type": "stream",
     "text": [
      "7        -23\n",
      "40       -23\n",
      "41       -23\n",
      "79       -23\n",
      "86       -23\n",
      "          ..\n",
      "108708   -23\n",
      "108709   -23\n",
      "108713   -23\n",
      "108721   -23\n",
      "108729   -23\n",
      "Name: review_score, Length: 16460, dtype: int64\n"
     ]
    }
   ],
   "source": [
    "for i in range(len(outliers_df)):\n",
    "    new_df['review_score'][outliers_df.index[i]]  = new_df.seller_lat.mean()\n",
    "print(new_df['review_score'][outliers_df.index])"
   ]
  },
  {
   "cell_type": "code",
   "execution_count": 119,
   "metadata": {},
   "outputs": [
    {
     "data": {
      "text/plain": [
       "<matplotlib.axes._subplots.AxesSubplot at 0x27505cb2dd8>"
      ]
     },
     "execution_count": 119,
     "metadata": {},
     "output_type": "execute_result"
    },
    {
     "data": {
      "image/png": "[encoded data removed]",
      "text/plain": [
       "<Figure size 432x288 with 1 Axes>"
      ]
     },
     "metadata": {},
     "output_type": "display_data"
    }
   ],
   "source": [
    "sns.boxplot(new_df['review_score'])"
   ]
  },
  {
   "cell_type": "code",
   "execution_count": 120,
   "metadata": {},
   "outputs": [
    {
     "name": "stdout",
     "output_type": "stream",
     "text": [
      "Int64Index([     7,     40,     41,     79,     86,     87,    102,    126,\n",
      "               130,    162,\n",
      "            ...\n",
      "            108693, 108695, 108700, 108706, 108707, 108708, 108709, 108713,\n",
      "            108721, 108729],\n",
      "           dtype='int64', length=16460) <class 'pandas.core.indexes.numeric.Int64Index'>\n"
     ]
    }
   ],
   "source": [
    "a = new_df[(new_df.review_score<3)].index\n",
    "print(a,type(a))"
   ]
  },
  {
   "cell_type": "code",
   "execution_count": 121,
   "metadata": {},
   "outputs": [],
   "source": [
    "new_df.loc[a,\"review_score\"] = new_df.review_score.mean()"
   ]
  },
  {
   "cell_type": "code",
   "execution_count": 122,
   "metadata": {},
   "outputs": [
    {
     "data": {
      "text/plain": [
       "<matplotlib.axes._subplots.AxesSubplot at 0x2750aeaab70>"
      ]
     },
     "execution_count": 122,
     "metadata": {},
     "output_type": "execute_result"
    },
    {
     "data": {
      "image/png": "[encoded data removed]",
      "text/plain": [
       "<Figure size 432x288 with 1 Axes>"
      ]
     },
     "metadata": {},
     "output_type": "display_data"
    }
   ],
   "source": [
    "sns.boxplot(new_df['review_score'])"
   ]
  },
  {
   "cell_type": "code",
   "execution_count": 124,
   "metadata": {},
   "outputs": [
    {
     "data": {
      "text/plain": [
       "Index(['order_id', 'customer_id', 'order_status', 'quantity', 'product_id',\n",
       "       'seller_id', 'product_price', 'freight_value', 'product_category',\n",
       "       'review_score', 'seller_lat', 'sellet_lng', 'customer_lat',\n",
       "       'customer_lng'],\n",
       "      dtype='object')"
      ]
     },
     "execution_count": 124,
     "metadata": {},
     "output_type": "execute_result"
    }
   ],
   "source": [
    "new_df.columns"
   ]
  },
  {
   "cell_type": "markdown",
   "metadata": {},
   "source": [
    "Sellet_lng"
   ]
  },
  {
   "cell_type": "code",
   "execution_count": 125,
   "metadata": {},
   "outputs": [
    {
     "data": {
      "text/plain": [
       "<matplotlib.axes._subplots.AxesSubplot at 0x2750adf0a90>"
      ]
     },
     "execution_count": 125,
     "metadata": {},
     "output_type": "execute_result"
    },
    {
     "data": {
      "image/png": "[encoded data removed]",
      "text/plain": [
       "<Figure size 432x288 with 1 Axes>"
      ]
     },
     "metadata": {},
     "output_type": "display_data"
    }
   ],
   "source": [
    "sns.boxplot(new_df['sellet_lng'])"
   ]
  },
  {
   "cell_type": "code",
   "execution_count": 126,
   "metadata": {},
   "outputs": [],
   "source": [
    "Q1 =  new_df['sellet_lng'].quantile(0.25)\n",
    "Q3 = new_df['sellet_lng'].quantile(0.75)\n",
    "IQR = Q3 - Q1"
   ]
  },
  {
   "cell_type": "code",
   "execution_count": 127,
   "metadata": {},
   "outputs": [
    {
     "name": "stdout",
     "output_type": "stream",
     "text": [
      "81       -43.013995\n",
      "87       -43.013995\n",
      "144      -43.013995\n",
      "185      -43.013995\n",
      "186      -43.013995\n",
      "            ...    \n",
      "108697   -54.251185\n",
      "108698   -52.341272\n",
      "108702   -43.034765\n",
      "108711   -53.466730\n",
      "108713   -52.403995\n",
      "Name: sellet_lng, Length: 4740, dtype: float64\n"
     ]
    }
   ],
   "source": [
    "outliers_df =new_df[(new_df['sellet_lng'] < Q1-1.5*IQR ) | (new_df['sellet_lng'] > Q3+1.5*IQR)]['sellet_lng']\n",
    "print(outliers_df)"
   ]
  },
  {
   "cell_type": "code",
   "execution_count": 128,
   "metadata": {},
   "outputs": [
    {
     "name": "stderr",
     "output_type": "stream",
     "text": [
      "C:\\ProgramData\\Anaconda3\\lib\\site-packages\\ipykernel_launcher.py:2: SettingWithCopyWarning: \n",
      "A value is trying to be set on a copy of a slice from a DataFrame\n",
      "\n",
      "See the caveats in the documentation: https://pandas.pydata.org/pandas-docs/stable/user_guide/indexing.html#returning-a-view-versus-a-copy\n",
      "  \n"
     ]
    },
    {
     "name": "stdout",
     "output_type": "stream",
     "text": [
      "81       -47.252058\n",
      "87       -47.252097\n",
      "144      -47.252136\n",
      "185      -47.252175\n",
      "186      -47.252214\n",
      "            ...    \n",
      "108697   -47.343096\n",
      "108698   -47.343033\n",
      "108702   -47.342987\n",
      "108711   -47.343026\n",
      "108713   -47.342970\n",
      "Name: sellet_lng, Length: 4740, dtype: float64\n"
     ]
    }
   ],
   "source": [
    "for i in range(len(outliers_df)):\n",
    "    new_df['sellet_lng'][outliers_df.index[i]]  = new_df.sellet_lng.mean()\n",
    "print(new_df['sellet_lng'][outliers_df.index])"
   ]
  },
  {
   "cell_type": "code",
   "execution_count": 129,
   "metadata": {},
   "outputs": [
    {
     "data": {
      "text/plain": [
       "<matplotlib.axes._subplots.AxesSubplot at 0x2750b0a5390>"
      ]
     },
     "execution_count": 129,
     "metadata": {},
     "output_type": "execute_result"
    },
    {
     "data": {
      "image/png": "[encoded data removed]",
      "text/plain": [
       "<Figure size 432x288 with 1 Axes>"
      ]
     },
     "metadata": {},
     "output_type": "display_data"
    }
   ],
   "source": [
    "sns.boxplot(new_df['sellet_lng'])"
   ]
  },
  {
   "cell_type": "code",
   "execution_count": 130,
   "metadata": {},
   "outputs": [
    {
     "name": "stdout",
     "output_type": "stream",
     "text": [
      "Int64Index([    41,     54,     55,     56,     57,     58,     59,     60,\n",
      "                61,     62,\n",
      "            ...\n",
      "            108728, 108729, 108731, 108732, 108733, 108736, 108737, 108738,\n",
      "            108739, 108741],\n",
      "           dtype='int64', length=62098) <class 'pandas.core.indexes.numeric.Int64Index'>\n"
     ]
    }
   ],
   "source": [
    "a = new_df[(new_df.sellet_lng > -46) | (new_df.sellet_lng<-47)].index\n",
    "print(a,type(a))"
   ]
  },
  {
   "cell_type": "code",
   "execution_count": 131,
   "metadata": {},
   "outputs": [],
   "source": [
    "new_df.loc[a,\"sellet_lng\"] = new_df.sellet_lng.mean()"
   ]
  },
  {
   "cell_type": "code",
   "execution_count": 132,
   "metadata": {},
   "outputs": [
    {
     "data": {
      "text/plain": [
       "<matplotlib.axes._subplots.AxesSubplot at 0x2750b104dd8>"
      ]
     },
     "execution_count": 132,
     "metadata": {},
     "output_type": "execute_result"
    },
    {
     "data": {
      "image/png": "[encoded data removed]",
      "text/plain": [
       "<Figure size 432x288 with 1 Axes>"
      ]
     },
     "metadata": {},
     "output_type": "display_data"
    }
   ],
   "source": [
    "sns.boxplot(new_df['sellet_lng'])"
   ]
  },
  {
   "cell_type": "code",
   "execution_count": 133,
   "metadata": {},
   "outputs": [
    {
     "data": {
      "text/plain": [
       "Index(['order_id', 'customer_id', 'order_status', 'quantity', 'product_id',\n",
       "       'seller_id', 'product_price', 'freight_value', 'product_category',\n",
       "       'review_score', 'seller_lat', 'sellet_lng', 'customer_lat',\n",
       "       'customer_lng'],\n",
       "      dtype='object')"
      ]
     },
     "execution_count": 133,
     "metadata": {},
     "output_type": "execute_result"
    }
   ],
   "source": [
    "new_df.columns"
   ]
  },
  {
   "cell_type": "markdown",
   "metadata": {},
   "source": [
    "customer_lat\n"
   ]
  },
  {
   "cell_type": "code",
   "execution_count": 134,
   "metadata": {},
   "outputs": [
    {
     "data": {
      "text/plain": [
       "<matplotlib.axes._subplots.AxesSubplot at 0x2750b163240>"
      ]
     },
     "execution_count": 134,
     "metadata": {},
     "output_type": "execute_result"
    },
    {
     "data": {
      "image/png": "[encoded data removed]",
      "text/plain": [
       "<Figure size 432x288 with 1 Axes>"
      ]
     },
     "metadata": {},
     "output_type": "display_data"
    }
   ],
   "source": [
    "sns.boxplot(new_df['customer_lat'])"
   ]
  },
  {
   "cell_type": "code",
   "execution_count": 135,
   "metadata": {},
   "outputs": [],
   "source": [
    "Q1 =  new_df['customer_lat'].quantile(0.25)\n",
    "Q3 = new_df['customer_lat'].quantile(0.75)\n",
    "IQR = Q3 - Q1"
   ]
  },
  {
   "cell_type": "code",
   "execution_count": 136,
   "metadata": {},
   "outputs": [
    {
     "name": "stdout",
     "output_type": "stream",
     "text": [
      "21       -29.917005\n",
      "23       -29.922320\n",
      "43        -3.800697\n",
      "51        -3.074262\n",
      "52       -12.993950\n",
      "            ...    \n",
      "108723    -7.137367\n",
      "108725    -3.795743\n",
      "108733    -8.058867\n",
      "108734   -14.855443\n",
      "108739    -3.741776\n",
      "Name: customer_lat, Length: 17596, dtype: float64\n"
     ]
    }
   ],
   "source": [
    "outliers_df =new_df[(new_df['customer_lat'] < Q1-1.5*IQR ) | (new_df['customer_lat'] > Q3+1.5*IQR)]['customer_lat']\n",
    "print(outliers_df)"
   ]
  },
  {
   "cell_type": "code",
   "execution_count": 137,
   "metadata": {},
   "outputs": [
    {
     "name": "stderr",
     "output_type": "stream",
     "text": [
      "C:\\ProgramData\\Anaconda3\\lib\\site-packages\\ipykernel_launcher.py:2: SettingWithCopyWarning: \n",
      "A value is trying to be set on a copy of a slice from a DataFrame\n",
      "\n",
      "See the caveats in the documentation: https://pandas.pydata.org/pandas-docs/stable/user_guide/indexing.html#returning-a-view-versus-a-copy\n",
      "  \n"
     ]
    },
    {
     "name": "stdout",
     "output_type": "stream",
     "text": [
      "21       -21.246578\n",
      "23       -21.246499\n",
      "43       -21.246419\n",
      "51       -21.246579\n",
      "52       -21.246746\n",
      "            ...    \n",
      "108723   -22.382383\n",
      "108725   -22.382524\n",
      "108733   -22.382695\n",
      "108734   -22.382826\n",
      "108739   -22.382895\n",
      "Name: customer_lat, Length: 17596, dtype: float64\n"
     ]
    }
   ],
   "source": [
    "for i in range(len(outliers_df)):\n",
    "    new_df['customer_lat'][outliers_df.index[i]]  = new_df.customer_lat.mean()\n",
    "print(new_df['customer_lat'][outliers_df.index])"
   ]
  },
  {
   "cell_type": "code",
   "execution_count": 138,
   "metadata": {
    "scrolled": true
   },
   "outputs": [
    {
     "data": {
      "text/plain": [
       "<matplotlib.axes._subplots.AxesSubplot at 0x2750b1b6160>"
      ]
     },
     "execution_count": 138,
     "metadata": {},
     "output_type": "execute_result"
    },
    {
     "data": {
      "image/png": "[encoded data removed]",
      "text/plain": [
       "<Figure size 432x288 with 1 Axes>"
      ]
     },
     "metadata": {},
     "output_type": "display_data"
    }
   ],
   "source": [
    "sns.boxplot(new_df['customer_lat'])"
   ]
  },
  {
   "cell_type": "code",
   "execution_count": 139,
   "metadata": {},
   "outputs": [
    {
     "name": "stdout",
     "output_type": "stream",
     "text": [
      "Int64Index([     3,      6,     14,     20,     29,     31,     36,     44,\n",
      "                49,     55,\n",
      "            ...\n",
      "            108720, 108726, 108727, 108728, 108729, 108731, 108732, 108736,\n",
      "            108737, 108740],\n",
      "           dtype='int64', length=27851) <class 'pandas.core.indexes.numeric.Int64Index'>\n"
     ]
    }
   ],
   "source": [
    "a = new_df[(new_df.customer_lat > -21) | (new_df.customer_lat<-25)].index\n",
    "print(a,type(a))"
   ]
  },
  {
   "cell_type": "code",
   "execution_count": 140,
   "metadata": {},
   "outputs": [],
   "source": [
    "new_df.loc[a,\"customer_lat\"] = new_df.customer_lat.mean()"
   ]
  },
  {
   "cell_type": "code",
   "execution_count": 141,
   "metadata": {},
   "outputs": [
    {
     "data": {
      "text/plain": [
       "<matplotlib.axes._subplots.AxesSubplot at 0x2750b22d668>"
      ]
     },
     "execution_count": 141,
     "metadata": {},
     "output_type": "execute_result"
    },
    {
     "data": {
      "image/png": "[encoded data removed]",
      "text/plain": [
       "<Figure size 432x288 with 1 Axes>"
      ]
     },
     "metadata": {},
     "output_type": "display_data"
    }
   ],
   "source": [
    "sns.boxplot(new_df['customer_lat'])"
   ]
  },
  {
   "cell_type": "markdown",
   "metadata": {},
   "source": [
    "customer_lng"
   ]
  },
  {
   "cell_type": "code",
   "execution_count": 142,
   "metadata": {},
   "outputs": [
    {
     "data": {
      "text/plain": [
       "<matplotlib.axes._subplots.AxesSubplot at 0x2750b2836d8>"
      ]
     },
     "execution_count": 142,
     "metadata": {},
     "output_type": "execute_result"
    },
    {
     "data": {
      "image/png": "[encoded data removed]",
      "text/plain": [
       "<Figure size 432x288 with 1 Axes>"
      ]
     },
     "metadata": {},
     "output_type": "display_data"
    }
   ],
   "source": [
    "sns.boxplot(new_df['customer_lng'])"
   ]
  },
  {
   "cell_type": "code",
   "execution_count": 143,
   "metadata": {},
   "outputs": [],
   "source": [
    "Q1 =  new_df['customer_lng'].quantile(0.25)\n",
    "Q3 = new_df['customer_lng'].quantile(0.75)\n",
    "IQR = Q3 - Q1"
   ]
  },
  {
   "cell_type": "code",
   "execution_count": 144,
   "metadata": {},
   "outputs": [
    {
     "name": "stdout",
     "output_type": "stream",
     "text": [
      "51       -60.028003\n",
      "113      -34.912978\n",
      "139      -56.083163\n",
      "140      -56.083163\n",
      "157      -57.056368\n",
      "            ...    \n",
      "108683   -35.203849\n",
      "108691   -56.121603\n",
      "108697   -34.855616\n",
      "108723   -34.909921\n",
      "108733   -34.900211\n",
      "Name: customer_lng, Length: 4585, dtype: float64\n"
     ]
    }
   ],
   "source": [
    "outliers_df =new_df[(new_df['customer_lng'] < Q1-1.5*IQR ) | (new_df['customer_lng'] > Q3+1.5*IQR)]['customer_lng']\n",
    "print(outliers_df)"
   ]
  },
  {
   "cell_type": "code",
   "execution_count": 145,
   "metadata": {},
   "outputs": [
    {
     "name": "stderr",
     "output_type": "stream",
     "text": [
      "C:\\ProgramData\\Anaconda3\\lib\\site-packages\\ipykernel_launcher.py:2: SettingWithCopyWarning: \n",
      "A value is trying to be set on a copy of a slice from a DataFrame\n",
      "\n",
      "See the caveats in the documentation: https://pandas.pydata.org/pandas-docs/stable/user_guide/indexing.html#returning-a-view-versus-a-copy\n",
      "  \n"
     ]
    },
    {
     "name": "stdout",
     "output_type": "stream",
     "text": [
      "51       -46.214893\n",
      "113      -46.214766\n",
      "139      -46.214870\n",
      "140      -46.214780\n",
      "157      -46.214689\n",
      "            ...    \n",
      "108683   -46.296878\n",
      "108691   -46.296980\n",
      "108697   -46.296889\n",
      "108723   -46.296995\n",
      "108733   -46.297099\n",
      "Name: customer_lng, Length: 4585, dtype: float64\n"
     ]
    }
   ],
   "source": [
    "for i in range(len(outliers_df)):\n",
    "    new_df['customer_lng'][outliers_df.index[i]]  = new_df.customer_lng.mean()\n",
    "print(new_df['customer_lng'][outliers_df.index])"
   ]
  },
  {
   "cell_type": "code",
   "execution_count": 146,
   "metadata": {},
   "outputs": [
    {
     "data": {
      "text/plain": [
       "<matplotlib.axes._subplots.AxesSubplot at 0x2750a1dab00>"
      ]
     },
     "execution_count": 146,
     "metadata": {},
     "output_type": "execute_result"
    },
    {
     "data": {
      "image/png": "[encoded data removed]",
      "text/plain": [
       "<Figure size 432x288 with 1 Axes>"
      ]
     },
     "metadata": {},
     "output_type": "display_data"
    }
   ],
   "source": [
    "sns.boxplot(new_df['customer_lng'])"
   ]
  },
  {
   "cell_type": "code",
   "execution_count": 147,
   "metadata": {},
   "outputs": [
    {
     "name": "stdout",
     "output_type": "stream",
     "text": [
      "Int64Index([     0,      1,      2,      3,      5,      6,      7,      8,\n",
      "                 9,     10,\n",
      "            ...\n",
      "            108730, 108731, 108732, 108734, 108735, 108736, 108737, 108739,\n",
      "            108740, 108741],\n",
      "           dtype='int64', length=102636) <class 'pandas.core.indexes.numeric.Int64Index'>\n"
     ]
    }
   ],
   "source": [
    "a = new_df[(new_df.customer_lng > -46.25) | (new_df.customer_lng<-46.43)].index\n",
    "print(a,type(a))"
   ]
  },
  {
   "cell_type": "code",
   "execution_count": 148,
   "metadata": {},
   "outputs": [],
   "source": [
    "new_df.loc[a,\"customer_lng\"] = new_df.customer_lng.mean()"
   ]
  },
  {
   "cell_type": "code",
   "execution_count": 149,
   "metadata": {},
   "outputs": [
    {
     "data": {
      "text/plain": [
       "<matplotlib.axes._subplots.AxesSubplot at 0x2750b3419b0>"
      ]
     },
     "execution_count": 149,
     "metadata": {},
     "output_type": "execute_result"
    },
    {
     "data": {
      "image/png": "[encoded data removed]",
      "text/plain": [
       "<Figure size 432x288 with 1 Axes>"
      ]
     },
     "metadata": {},
     "output_type": "display_data"
    }
   ],
   "source": [
    "sns.boxplot(new_df['customer_lng'])"
   ]
  },
  {
   "cell_type": "code",
   "execution_count": 150,
   "metadata": {},
   "outputs": [
    {
     "data": {
      "text/plain": [
       "Index(['order_id', 'customer_id', 'order_status', 'quantity', 'product_id',\n",
       "       'seller_id', 'product_price', 'freight_value', 'product_category',\n",
       "       'review_score', 'seller_lat', 'sellet_lng', 'customer_lat',\n",
       "       'customer_lng'],\n",
       "      dtype='object')"
      ]
     },
     "execution_count": 150,
     "metadata": {},
     "output_type": "execute_result"
    }
   ],
   "source": [
    "new_df.columns"
   ]
  },
  {
   "cell_type": "markdown",
   "metadata": {},
   "source": [
    "product_price"
   ]
  },
  {
   "cell_type": "code",
   "execution_count": 151,
   "metadata": {},
   "outputs": [
    {
     "data": {
      "text/plain": [
       "<matplotlib.axes._subplots.AxesSubplot at 0x2750b39c128>"
      ]
     },
     "execution_count": 151,
     "metadata": {},
     "output_type": "execute_result"
    },
    {
     "data": {
      "image/png": "[encoded data removed]",
      "text/plain": [
       "<Figure size 432x288 with 1 Axes>"
      ]
     },
     "metadata": {},
     "output_type": "display_data"
    }
   ],
   "source": [
    "sns.boxplot(new_df['product_price'])"
   ]
  },
  {
   "cell_type": "code",
   "execution_count": 152,
   "metadata": {},
   "outputs": [],
   "source": [
    "Q1 =  new_df['product_price'].quantile(0.25)\n",
    "Q3 = new_df['product_price'].quantile(0.75)\n",
    "IQR = Q3 - Q1"
   ]
  },
  {
   "cell_type": "code",
   "execution_count": 153,
   "metadata": {},
   "outputs": [
    {
     "name": "stdout",
     "output_type": "stream",
     "text": [
      "404       319.90\n",
      "1025      344.90\n",
      "1027      579.00\n",
      "1028      615.00\n",
      "1029      579.00\n",
      "           ...  \n",
      "108715    789.89\n",
      "108721    975.00\n",
      "108723    899.90\n",
      "108731    289.90\n",
      "108739    399.00\n",
      "Name: product_price, Length: 8075, dtype: float64\n"
     ]
    }
   ],
   "source": [
    "outliers_df =new_df[(new_df['product_price'] < Q1-1.5*IQR ) | (new_df['product_price'] > Q3+1.5*IQR)]['product_price']\n",
    "print(outliers_df)"
   ]
  },
  {
   "cell_type": "code",
   "execution_count": 154,
   "metadata": {},
   "outputs": [
    {
     "name": "stderr",
     "output_type": "stream",
     "text": [
      "C:\\ProgramData\\Anaconda3\\lib\\site-packages\\ipykernel_launcher.py:2: SettingWithCopyWarning: \n",
      "A value is trying to be set on a copy of a slice from a DataFrame\n",
      "\n",
      "See the caveats in the documentation: https://pandas.pydata.org/pandas-docs/stable/user_guide/indexing.html#returning-a-view-versus-a-copy\n",
      "  \n"
     ]
    },
    {
     "name": "stdout",
     "output_type": "stream",
     "text": [
      "404       119.940882\n",
      "1025      119.939043\n",
      "1027      119.936974\n",
      "1028      119.932753\n",
      "1029      119.928200\n",
      "             ...    \n",
      "108715     85.310263\n",
      "108721     85.303784\n",
      "108723     85.295602\n",
      "108731     85.288111\n",
      "108739     85.286229\n",
      "Name: product_price, Length: 8075, dtype: float64\n"
     ]
    }
   ],
   "source": [
    "for i in range(len(outliers_df)):\n",
    "    new_df['product_price'][outliers_df.index[i]]  = new_df.product_price.mean()\n",
    "print(new_df['product_price'][outliers_df.index])"
   ]
  },
  {
   "cell_type": "code",
   "execution_count": 155,
   "metadata": {},
   "outputs": [
    {
     "data": {
      "text/plain": [
       "<matplotlib.axes._subplots.AxesSubplot at 0x2750b3ec048>"
      ]
     },
     "execution_count": 155,
     "metadata": {},
     "output_type": "execute_result"
    },
    {
     "data": {
      "image/png": "[encoded data removed]",
      "text/plain": [
       "<Figure size 432x288 with 1 Axes>"
      ]
     },
     "metadata": {},
     "output_type": "display_data"
    }
   ],
   "source": [
    "sns.boxplot(new_df['product_price'])"
   ]
  },
  {
   "cell_type": "code",
   "execution_count": 156,
   "metadata": {},
   "outputs": [
    {
     "name": "stdout",
     "output_type": "stream",
     "text": [
      "Int64Index([   406,    407,    408,    409,    412,    413,    414,    415,\n",
      "               416,    417,\n",
      "            ...\n",
      "            108592, 108601, 108602, 108603, 108613, 108617, 108623, 108639,\n",
      "            108722, 108740],\n",
      "           dtype='int64', length=4746) <class 'pandas.core.indexes.numeric.Int64Index'>\n"
     ]
    }
   ],
   "source": [
    "a = new_df[(new_df.product_price>200)].index\n",
    "print(a,type(a))"
   ]
  },
  {
   "cell_type": "code",
   "execution_count": 157,
   "metadata": {},
   "outputs": [],
   "source": [
    "new_df.loc[a,\"product_price\"] = new_df.product_price.mean()"
   ]
  },
  {
   "cell_type": "code",
   "execution_count": 158,
   "metadata": {},
   "outputs": [
    {
     "data": {
      "text/plain": [
       "<matplotlib.axes._subplots.AxesSubplot at 0x2750b45cac8>"
      ]
     },
     "execution_count": 158,
     "metadata": {},
     "output_type": "execute_result"
    },
    {
     "data": {
      "image/png": "[encoded data removed]",
      "text/plain": [
       "<Figure size 432x288 with 1 Axes>"
      ]
     },
     "metadata": {},
     "output_type": "display_data"
    }
   ],
   "source": [
    "sns.boxplot(new_df['product_price'])"
   ]
  },
  {
   "cell_type": "code",
   "execution_count": 159,
   "metadata": {},
   "outputs": [
    {
     "data": {
      "text/plain": [
       "Index(['order_id', 'customer_id', 'order_status', 'quantity', 'product_id',\n",
       "       'seller_id', 'product_price', 'freight_value', 'product_category',\n",
       "       'review_score', 'seller_lat', 'sellet_lng', 'customer_lat',\n",
       "       'customer_lng'],\n",
       "      dtype='object')"
      ]
     },
     "execution_count": 159,
     "metadata": {},
     "output_type": "execute_result"
    }
   ],
   "source": [
    "new_df.columns"
   ]
  },
  {
   "cell_type": "markdown",
   "metadata": {},
   "source": [
    "freight_value"
   ]
  },
  {
   "cell_type": "code",
   "execution_count": 160,
   "metadata": {},
   "outputs": [
    {
     "data": {
      "text/plain": [
       "<matplotlib.axes._subplots.AxesSubplot at 0x2750b4b2fd0>"
      ]
     },
     "execution_count": 160,
     "metadata": {},
     "output_type": "execute_result"
    },
    {
     "data": {
      "image/png": "[encoded data removed]",
      "text/plain": [
       "<Figure size 432x288 with 1 Axes>"
      ]
     },
     "metadata": {},
     "output_type": "display_data"
    }
   ],
   "source": [
    "sns.boxplot(new_df['freight_value'])"
   ]
  },
  {
   "cell_type": "code",
   "execution_count": 161,
   "metadata": {},
   "outputs": [],
   "source": [
    "Q1 =  new_df['freight_value'].quantile(0.25)\n",
    "Q3 = new_df['freight_value'].quantile(0.75)\n",
    "IQR = Q3 - Q1"
   ]
  },
  {
   "cell_type": "code",
   "execution_count": 162,
   "metadata": {},
   "outputs": [
    {
     "name": "stdout",
     "output_type": "stream",
     "text": [
      "40         67.70\n",
      "119        37.52\n",
      "202        51.32\n",
      "303        38.04\n",
      "304        34.69\n",
      "           ...  \n",
      "108715    132.95\n",
      "108721    108.96\n",
      "108731     37.35\n",
      "108733     34.22\n",
      "108739     45.07\n",
      "Name: freight_value, Length: 11674, dtype: float64\n"
     ]
    }
   ],
   "source": [
    "outliers_df =new_df[(new_df['freight_value'] < Q1-1.5*IQR ) | (new_df['freight_value'] > Q3+1.5*IQR)]['freight_value']\n",
    "print(outliers_df)"
   ]
  },
  {
   "cell_type": "code",
   "execution_count": 163,
   "metadata": {},
   "outputs": [
    {
     "name": "stderr",
     "output_type": "stream",
     "text": [
      "C:\\ProgramData\\Anaconda3\\lib\\site-packages\\ipykernel_launcher.py:2: SettingWithCopyWarning: \n",
      "A value is trying to be set on a copy of a slice from a DataFrame\n",
      "\n",
      "See the caveats in the documentation: https://pandas.pydata.org/pandas-docs/stable/user_guide/indexing.html#returning-a-view-versus-a-copy\n",
      "  \n"
     ]
    },
    {
     "name": "stdout",
     "output_type": "stream",
     "text": [
      "40        19.962407\n",
      "119       19.961968\n",
      "202       19.961807\n",
      "303       19.961518\n",
      "304       19.961352\n",
      "            ...    \n",
      "108715    16.368395\n",
      "108721    16.367323\n",
      "108731    16.366472\n",
      "108733    16.366279\n",
      "108739    16.366115\n",
      "Name: freight_value, Length: 11674, dtype: float64\n"
     ]
    }
   ],
   "source": [
    "for i in range(len(outliers_df)):\n",
    "    new_df['freight_value'][outliers_df.index[i]]  = new_df.freight_value.mean()\n",
    "print(new_df['freight_value'][outliers_df.index])"
   ]
  },
  {
   "cell_type": "code",
   "execution_count": 164,
   "metadata": {},
   "outputs": [
    {
     "data": {
      "text/plain": [
       "<matplotlib.axes._subplots.AxesSubplot at 0x2750b513748>"
      ]
     },
     "execution_count": 164,
     "metadata": {},
     "output_type": "execute_result"
    },
    {
     "data": {
      "image/png": "[encoded data removed]",
      "text/plain": [
       "<Figure size 432x288 with 1 Axes>"
      ]
     },
     "metadata": {},
     "output_type": "display_data"
    }
   ],
   "source": [
    "sns.boxplot(new_df['freight_value'])"
   ]
  },
  {
   "cell_type": "code",
   "execution_count": 165,
   "metadata": {},
   "outputs": [
    {
     "name": "stdout",
     "output_type": "stream",
     "text": [
      "Int64Index([    41,     67,     80,     87,    124,    134,    140,    143,\n",
      "               144,    157,\n",
      "            ...\n",
      "            108582, 108592, 108609, 108614, 108668, 108669, 108684, 108720,\n",
      "            108723, 108725],\n",
      "           dtype='int64', length=8526) <class 'pandas.core.indexes.numeric.Int64Index'>\n"
     ]
    }
   ],
   "source": [
    "a = new_df[(new_df.freight_value > 25) | (new_df.freight_value<7)].index\n",
    "print(a,type(a))"
   ]
  },
  {
   "cell_type": "code",
   "execution_count": 166,
   "metadata": {},
   "outputs": [],
   "source": [
    "new_df.loc[a,\"freight_value\"] = new_df.freight_value.mean()"
   ]
  },
  {
   "cell_type": "code",
   "execution_count": 167,
   "metadata": {},
   "outputs": [
    {
     "data": {
      "text/plain": [
       "<matplotlib.axes._subplots.AxesSubplot at 0x2750b57c550>"
      ]
     },
     "execution_count": 167,
     "metadata": {},
     "output_type": "execute_result"
    },
    {
     "data": {
      "image/png": "[encoded data removed]",
      "text/plain": [
       "<Figure size 432x288 with 1 Axes>"
      ]
     },
     "metadata": {},
     "output_type": "display_data"
    }
   ],
   "source": [
    "sns.boxplot(new_df['freight_value'])"
   ]
  },
  {
   "cell_type": "code",
   "execution_count": 168,
   "metadata": {},
   "outputs": [
    {
     "data": {
      "text/plain": [
       "Index(['order_id', 'customer_id', 'order_status', 'quantity', 'product_id',\n",
       "       'seller_id', 'product_price', 'freight_value', 'product_category',\n",
       "       'review_score', 'seller_lat', 'sellet_lng', 'customer_lat',\n",
       "       'customer_lng'],\n",
       "      dtype='object')"
      ]
     },
     "execution_count": 168,
     "metadata": {},
     "output_type": "execute_result"
    }
   ],
   "source": [
    "new_df.columns"
   ]
  },
  {
   "cell_type": "code",
   "execution_count": 169,
   "metadata": {},
   "outputs": [
    {
     "data": {
      "text/plain": [
       "Index(['order_id', 'customer_id', 'order_status', 'quantity', 'product_id',\n",
       "       'seller_id', 'product_price', 'freight_value', 'product_category',\n",
       "       'review_score', 'seller_lat', 'sellet_lng', 'customer_lat',\n",
       "       'customer_lng'],\n",
       "      dtype='object')"
      ]
     },
     "execution_count": 169,
     "metadata": {},
     "output_type": "execute_result"
    }
   ],
   "source": [
    "new_df.columns"
   ]
  },
  {
   "cell_type": "code",
   "execution_count": null,
   "metadata": {},
   "outputs": [],
   "source": []
  },
  {
   "cell_type": "code",
   "execution_count": null,
   "metadata": {},
   "outputs": [],
   "source": []
  },
  {
   "cell_type": "code",
   "execution_count": null,
   "metadata": {},
   "outputs": [],
   "source": []
  },
  {
   "cell_type": "code",
   "execution_count": null,
   "metadata": {},
   "outputs": [],
   "source": []
  },
  {
   "cell_type": "code",
   "execution_count": 170,
   "metadata": {},
   "outputs": [
    {
     "data": {
      "text/html": [
       "<div>\n",
       "<style scoped>\n",
       "    .dataframe tbody tr th:only-of-type {\n",
       "        vertical-align: middle;\n",
       "    }\n",
       "\n",
       "    .dataframe tbody tr th {\n",
       "        vertical-align: top;\n",
       "    }\n",
       "\n",
       "    .dataframe thead th {\n",
       "        text-align: right;\n",
       "    }\n",
       "</style>\n",
       "<table border=\"1\" class=\"dataframe\">\n",
       "  <thead>\n",
       "    <tr style=\"text-align: right;\">\n",
       "      <th></th>\n",
       "      <th>order_id</th>\n",
       "      <th>customer_id</th>\n",
       "      <th>order_status</th>\n",
       "      <th>quantity</th>\n",
       "      <th>product_id</th>\n",
       "      <th>seller_id</th>\n",
       "      <th>product_price</th>\n",
       "      <th>freight_value</th>\n",
       "      <th>product_category</th>\n",
       "      <th>review_score</th>\n",
       "      <th>seller_lat</th>\n",
       "      <th>sellet_lng</th>\n",
       "      <th>customer_lat</th>\n",
       "      <th>customer_lng</th>\n",
       "    </tr>\n",
       "  </thead>\n",
       "  <tbody>\n",
       "    <tr>\n",
       "      <th>0</th>\n",
       "      <td>e481f51cbdc54678b7cc49136f2d6af7</td>\n",
       "      <td>9ef432eb6251297304e76186b10a928d</td>\n",
       "      <td>delivered</td>\n",
       "      <td>1</td>\n",
       "      <td>16672</td>\n",
       "      <td>599</td>\n",
       "      <td>29.99</td>\n",
       "      <td>8.72</td>\n",
       "      <td>49</td>\n",
       "      <td>4.0</td>\n",
       "      <td>-23.680729</td>\n",
       "      <td>-46.444238</td>\n",
       "      <td>-23.576983</td>\n",
       "      <td>-46.297204</td>\n",
       "    </tr>\n",
       "    <tr>\n",
       "      <th>1</th>\n",
       "      <td>128e10d95713541c87cd1a2e48201934</td>\n",
       "      <td>a20e8105f23924cd00833fd87daa0831</td>\n",
       "      <td>delivered</td>\n",
       "      <td>1</td>\n",
       "      <td>16672</td>\n",
       "      <td>599</td>\n",
       "      <td>29.99</td>\n",
       "      <td>7.78</td>\n",
       "      <td>49</td>\n",
       "      <td>4.0</td>\n",
       "      <td>-23.680729</td>\n",
       "      <td>-46.444238</td>\n",
       "      <td>-23.564630</td>\n",
       "      <td>-46.297204</td>\n",
       "    </tr>\n",
       "    <tr>\n",
       "      <th>2</th>\n",
       "      <td>0e7e841ddf8f8f2de2bad69267ecfbcf</td>\n",
       "      <td>26c7ac168e1433912a51b924fbd34d34</td>\n",
       "      <td>delivered</td>\n",
       "      <td>1</td>\n",
       "      <td>16672</td>\n",
       "      <td>599</td>\n",
       "      <td>29.99</td>\n",
       "      <td>7.78</td>\n",
       "      <td>49</td>\n",
       "      <td>5.0</td>\n",
       "      <td>-23.680729</td>\n",
       "      <td>-46.444238</td>\n",
       "      <td>-23.600462</td>\n",
       "      <td>-46.297204</td>\n",
       "    </tr>\n",
       "    <tr>\n",
       "      <th>3</th>\n",
       "      <td>bfc39df4f36c3693ff3b63fcbea9e90a</td>\n",
       "      <td>53904ddbea91e1e92b2b3f1d09a7af86</td>\n",
       "      <td>delivered</td>\n",
       "      <td>1</td>\n",
       "      <td>16672</td>\n",
       "      <td>599</td>\n",
       "      <td>29.99</td>\n",
       "      <td>14.10</td>\n",
       "      <td>49</td>\n",
       "      <td>3.0</td>\n",
       "      <td>-23.680729</td>\n",
       "      <td>-46.444238</td>\n",
       "      <td>-22.383067</td>\n",
       "      <td>-46.297204</td>\n",
       "    </tr>\n",
       "    <tr>\n",
       "      <th>4</th>\n",
       "      <td>8736140c61ea584cb4250074756d8f3b</td>\n",
       "      <td>ab8844663ae049fda8baf15fc928f47f</td>\n",
       "      <td>delivered</td>\n",
       "      <td>1</td>\n",
       "      <td>21628</td>\n",
       "      <td>599</td>\n",
       "      <td>75.90</td>\n",
       "      <td>7.79</td>\n",
       "      <td>6</td>\n",
       "      <td>5.0</td>\n",
       "      <td>-23.680729</td>\n",
       "      <td>-46.444238</td>\n",
       "      <td>-23.486111</td>\n",
       "      <td>-46.366721</td>\n",
       "    </tr>\n",
       "  </tbody>\n",
       "</table>\n",
       "</div>"
      ],
      "text/plain": [
       "                           order_id                       customer_id  \\\n",
       "0  e481f51cbdc54678b7cc49136f2d6af7  9ef432eb6251297304e76186b10a928d   \n",
       "1  128e10d95713541c87cd1a2e48201934  a20e8105f23924cd00833fd87daa0831   \n",
       "2  0e7e841ddf8f8f2de2bad69267ecfbcf  26c7ac168e1433912a51b924fbd34d34   \n",
       "3  bfc39df4f36c3693ff3b63fcbea9e90a  53904ddbea91e1e92b2b3f1d09a7af86   \n",
       "4  8736140c61ea584cb4250074756d8f3b  ab8844663ae049fda8baf15fc928f47f   \n",
       "\n",
       "  order_status  quantity  product_id  seller_id  product_price  freight_value  \\\n",
       "0    delivered         1       16672        599          29.99           8.72   \n",
       "1    delivered         1       16672        599          29.99           7.78   \n",
       "2    delivered         1       16672        599          29.99           7.78   \n",
       "3    delivered         1       16672        599          29.99          14.10   \n",
       "4    delivered         1       21628        599          75.90           7.79   \n",
       "\n",
       "   product_category  review_score  seller_lat  sellet_lng  customer_lat  \\\n",
       "0                49           4.0  -23.680729  -46.444238    -23.576983   \n",
       "1                49           4.0  -23.680729  -46.444238    -23.564630   \n",
       "2                49           5.0  -23.680729  -46.444238    -23.600462   \n",
       "3                49           3.0  -23.680729  -46.444238    -22.383067   \n",
       "4                 6           5.0  -23.680729  -46.444238    -23.486111   \n",
       "\n",
       "   customer_lng  \n",
       "0    -46.297204  \n",
       "1    -46.297204  \n",
       "2    -46.297204  \n",
       "3    -46.297204  \n",
       "4    -46.366721  "
      ]
     },
     "execution_count": 170,
     "metadata": {},
     "output_type": "execute_result"
    }
   ],
   "source": [
    "new_df.head()"
   ]
  },
  {
   "cell_type": "code",
   "execution_count": 171,
   "metadata": {},
   "outputs": [],
   "source": [
    "new_df.to_csv(\"update_data.csv\")"
   ]
  },
  {
   "cell_type": "markdown",
   "metadata": {},
   "source": [
    "### Checking Correlation After Data Pre-Processing"
   ]
  },
  {
   "cell_type": "code",
   "execution_count": 172,
   "metadata": {},
   "outputs": [],
   "source": [
    "new_corr = new_df.corr()"
   ]
  },
  {
   "cell_type": "code",
   "execution_count": 173,
   "metadata": {},
   "outputs": [
    {
     "data": {
      "image/png": "[encoded data removed]",
      "text/plain": [
       "<Figure size 1440x1080 with 2 Axes>"
      ]
     },
     "metadata": {},
     "output_type": "display_data"
    }
   ],
   "source": [
    "plt.subplots(figsize=(20,15))\n",
    "ax = sns.heatmap(new_corr,cmap='coolwarm', annot = True)\n",
    "plt.yticks(rotation = 0)\n",
    "ax.invert_yaxis()\n",
    "plt.show()"
   ]
  },
  {
   "cell_type": "code",
   "execution_count": 174,
   "metadata": {},
   "outputs": [],
   "source": [
    "new_df = new_df.drop(['order_status','quantity','order_id'],axis=1)"
   ]
  },
  {
   "cell_type": "code",
   "execution_count": 175,
   "metadata": {},
   "outputs": [],
   "source": [
    "new_corr = new_df.corr()"
   ]
  },
  {
   "cell_type": "code",
   "execution_count": 176,
   "metadata": {},
   "outputs": [
    {
     "data": {
      "image/png": "[encoded data removed]",
      "text/plain": [
       "<Figure size 1440x1080 with 2 Axes>"
      ]
     },
     "metadata": {},
     "output_type": "display_data"
    }
   ],
   "source": [
    "plt.subplots(figsize=(20,15))\n",
    "ax = sns.heatmap(new_corr,cmap='coolwarm', annot = True)\n",
    "plt.yticks(rotation = 0)\n",
    "ax.invert_yaxis()\n",
    "plt.show()"
   ]
  },
  {
   "cell_type": "code",
   "execution_count": 177,
   "metadata": {},
   "outputs": [],
   "source": [
    "new_df.to_csv(\"update_data2.csv\")"
   ]
  },
  {
   "cell_type": "markdown",
   "metadata": {},
   "source": [
    "### Splitting Data After Cleaning"
   ]
  },
  {
   "cell_type": "markdown",
   "metadata": {},
   "source": [
    "#### Model 1 for Predicting 'review_score'"
   ]
  },
  {
   "cell_type": "code",
   "execution_count": 178,
   "metadata": {},
   "outputs": [],
   "source": [
    "from sklearn.model_selection import train_test_split"
   ]
  },
  {
   "cell_type": "code",
   "execution_count": 179,
   "metadata": {},
   "outputs": [
    {
     "data": {
      "text/plain": [
       "Index(['customer_id', 'product_id', 'seller_id', 'product_price',\n",
       "       'freight_value', 'product_category', 'review_score', 'seller_lat',\n",
       "       'sellet_lng', 'customer_lat', 'customer_lng'],\n",
       "      dtype='object')"
      ]
     },
     "execution_count": 179,
     "metadata": {},
     "output_type": "execute_result"
    }
   ],
   "source": [
    "new_df.columns"
   ]
  },
  {
   "cell_type": "code",
   "execution_count": 190,
   "metadata": {},
   "outputs": [],
   "source": [
    "X1 = new_df.drop(['product_id','product_category','seller_id','customer_id'], axis=1)\n",
    "y1 = new_df['product_category']"
   ]
  },
  {
   "cell_type": "code",
   "execution_count": 191,
   "metadata": {},
   "outputs": [],
   "source": [
    "xTrain1, xTest1, yTrain1, yTest1 = train_test_split(\n",
    "    X1,\n",
    "    y1,\n",
    "    test_size = .1\n",
    ")"
   ]
  },
  {
   "cell_type": "code",
   "execution_count": 192,
   "metadata": {},
   "outputs": [
    {
     "name": "stdout",
     "output_type": "stream",
     "text": [
      "108742 108742\n"
     ]
    }
   ],
   "source": [
    "print(len(X1),len(y1))"
   ]
  },
  {
   "cell_type": "code",
   "execution_count": 193,
   "metadata": {},
   "outputs": [
    {
     "name": "stdout",
     "output_type": "stream",
     "text": [
      "97867 97867 10875 10875\n"
     ]
    }
   ],
   "source": [
    "print(len(xTrain1),len(yTrain1),len(xTest1),len(yTest1))"
   ]
  },
  {
   "cell_type": "code",
   "execution_count": 194,
   "metadata": {},
   "outputs": [
    {
     "data": {
      "text/plain": [
       "Index(['product_price', 'freight_value', 'review_score', 'seller_lat',\n",
       "       'sellet_lng', 'customer_lat', 'customer_lng'],\n",
       "      dtype='object')"
      ]
     },
     "execution_count": 194,
     "metadata": {},
     "output_type": "execute_result"
    }
   ],
   "source": [
    "xTrain1.columns"
   ]
  },
  {
   "cell_type": "code",
   "execution_count": 195,
   "metadata": {},
   "outputs": [
    {
     "data": {
      "text/plain": [
       "29957     20\n",
       "28828      6\n",
       "77139     53\n",
       "105284    43\n",
       "15751     39\n",
       "          ..\n",
       "105884    54\n",
       "15278     64\n",
       "59417     48\n",
       "57709     31\n",
       "104754    39\n",
       "Name: product_category, Length: 97867, dtype: int32"
      ]
     },
     "execution_count": 195,
     "metadata": {},
     "output_type": "execute_result"
    }
   ],
   "source": [
    "yTrain1"
   ]
  },
  {
   "cell_type": "code",
   "execution_count": 196,
   "metadata": {},
   "outputs": [
    {
     "data": {
      "text/plain": [
       "71"
      ]
     },
     "execution_count": 196,
     "metadata": {},
     "output_type": "execute_result"
    }
   ],
   "source": [
    "len(new_df[\"product_category\"].unique())"
   ]
  },
  {
   "cell_type": "code",
   "execution_count": 197,
   "metadata": {},
   "outputs": [
    {
     "data": {
      "text/plain": [
       "7"
      ]
     },
     "execution_count": 197,
     "metadata": {},
     "output_type": "execute_result"
    }
   ],
   "source": [
    "len(xTrain1.columns)"
   ]
  },
  {
   "cell_type": "code",
   "execution_count": 212,
   "metadata": {},
   "outputs": [
    {
     "data": {
      "text/plain": [
       "(97867, 7)"
      ]
     },
     "execution_count": 212,
     "metadata": {},
     "output_type": "execute_result"
    }
   ],
   "source": [
    "xTrain1.shape"
   ]
  },
  {
   "cell_type": "code",
   "execution_count": 213,
   "metadata": {},
   "outputs": [
    {
     "data": {
      "text/plain": [
       "(97867,)"
      ]
     },
     "execution_count": 213,
     "metadata": {},
     "output_type": "execute_result"
    }
   ],
   "source": [
    "yTrain1.shape"
   ]
  },
  {
   "cell_type": "markdown",
   "metadata": {},
   "source": [
    "### ANN Model"
   ]
  },
  {
   "cell_type": "code",
   "execution_count": 187,
   "metadata": {},
   "outputs": [],
   "source": [
    "import tensorflow as tf\n",
    "from tensorflow import keras\n",
    "from tensorflow.keras import layers"
   ]
  },
  {
   "cell_type": "code",
   "execution_count": 188,
   "metadata": {},
   "outputs": [],
   "source": [
    "import seaborn as sns"
   ]
  },
  {
   "cell_type": "code",
   "execution_count": 223,
   "metadata": {},
   "outputs": [],
   "source": [
    "model1=tf.keras.models.Sequential([\n",
    "tf.keras.layers.Dense(10,input_dim=7,kernel_initializer=\"normal\",activation=\"relu\"),\n",
    "tf.keras.layers.Dense(10,kernel_initializer=\"normal\",activation=\"relu\"),\n",
    "tf.keras.layers.Dense(6,kernel_initializer=\"normal\",activation=\"relu\"),\n",
    "tf.keras.layers.Dense(71, activation='softmax')\n",
    "])\n"
   ]
  },
  {
   "cell_type": "code",
   "execution_count": 224,
   "metadata": {},
   "outputs": [
    {
     "name": "stdout",
     "output_type": "stream",
     "text": [
      "Model: \"sequential_5\"\n",
      "_________________________________________________________________\n",
      "Layer (type)                 Output Shape              Param #   \n",
      "=================================================================\n",
      "dense_20 (Dense)             (None, 10)                80        \n",
      "_________________________________________________________________\n",
      "dense_21 (Dense)             (None, 10)                110       \n",
      "_________________________________________________________________\n",
      "dense_22 (Dense)             (None, 6)                 66        \n",
      "_________________________________________________________________\n",
      "dense_23 (Dense)             (None, 71)                497       \n",
      "=================================================================\n",
      "Total params: 753\n",
      "Trainable params: 753\n",
      "Non-trainable params: 0\n",
      "_________________________________________________________________\n"
     ]
    }
   ],
   "source": [
    "model1.summary()"
   ]
  },
  {
   "cell_type": "code",
   "execution_count": 225,
   "metadata": {},
   "outputs": [],
   "source": [
    "model1.compile(loss='sparse_categorical_crossentropy', optimizer='adam', metrics=['accuracy'])"
   ]
  },
  {
   "cell_type": "code",
   "execution_count": 226,
   "metadata": {},
   "outputs": [
    {
     "name": "stdout",
     "output_type": "stream",
     "text": [
      "WARNING:tensorflow:Falling back from v2 loop because of error: Failed to find data adapter that can handle input: <class 'pandas.core.frame.DataFrame'>, <class 'NoneType'>\n",
      "Train on 97867 samples\n",
      "Epoch 1/5\n",
      "97867/97867 [==============================] - 12s 127us/sample - loss: 3.2949 - accuracy: 0.0989\n",
      "Epoch 2/5\n",
      "97867/97867 [==============================] - 13s 131us/sample - loss: 3.2183 - accuracy: 0.1054\n",
      "Epoch 3/5\n",
      "97867/97867 [==============================] - 12s 122us/sample - loss: 3.2014 - accuracy: 0.1103\n",
      "Epoch 4/5\n",
      "97867/97867 [==============================] - 14s 140us/sample - loss: 3.1988 - accuracy: 0.1116\n",
      "Epoch 5/5\n",
      "97867/97867 [==============================] - 14s 142us/sample - loss: 3.1978 - accuracy: 0.1122\n"
     ]
    },
    {
     "data": {
      "text/plain": [
       "<tensorflow.python.keras.callbacks.History at 0x2751e4f9fd0>"
      ]
     },
     "execution_count": 226,
     "metadata": {},
     "output_type": "execute_result"
    }
   ],
   "source": [
    "model1.fit(xTrain1,yTrain1,epochs=10)"
   ]
  },
  {
   "cell_type": "code",
   "execution_count": 227,
   "metadata": {},
   "outputs": [
    {
     "name": "stdout",
     "output_type": "stream",
     "text": [
      "Generate predictions for 3 samples\n",
      "WARNING:tensorflow:Falling back from v2 loop because of error: Failed to find data adapter that can handle input: <class 'pandas.core.frame.DataFrame'>, <class 'NoneType'>\n",
      "predictions shape: (3, 71)\n"
     ]
    }
   ],
   "source": [
    "print(\"Generate predictions for 3 samples\")\n",
    "predictions1 = model1.predict(xTest1[:3])\n",
    "print(\"predictions shape:\", predictions1.shape)"
   ]
  },
  {
   "cell_type": "code",
   "execution_count": 228,
   "metadata": {},
   "outputs": [
    {
     "name": "stdout",
     "output_type": "stream",
     "text": [
      "[[2.19874596e-03 3.55671486e-03 2.25363113e-03 2.16476343e-04\n",
      "  3.20261531e-03 3.70573997e-02 2.98218280e-02 1.04697049e-01\n",
      "  3.50018102e-03 6.48635207e-04 2.03486905e-03 1.22137266e-04\n",
      "  6.92791946e-04 6.55223615e-04 2.66955304e-03 7.52480477e-02\n",
      "  7.16831861e-03 1.08640511e-02 3.02822958e-03 2.13304558e-03\n",
      "  3.96460779e-02 1.60509208e-03 8.51426506e-04 2.20470974e-04\n",
      "  2.15938687e-03 1.26100262e-04 5.54957381e-03 2.90626456e-04\n",
      "  1.50787113e-02 7.70747647e-05 1.24565745e-03 2.82966718e-03\n",
      "  3.66218621e-04 1.43878569e-03 2.03325553e-03 1.01192214e-04\n",
      "  2.52979295e-03 1.20463385e-03 9.83464066e-04 7.33998492e-02\n",
      "  6.34773867e-03 4.91225393e-04 3.65169793e-02 8.74715075e-02\n",
      "  6.06884528e-03 2.87386891e-03 2.59164717e-05 4.46697790e-03\n",
      "  5.50917070e-03 4.96658422e-02 3.05464771e-03 3.21764592e-03\n",
      "  1.82858974e-04 1.34995608e-02 2.68200971e-03 3.72664072e-04\n",
      "  7.07767718e-03 2.00782362e-02 3.84911400e-04 3.33302692e-02\n",
      "  2.02320609e-02 2.46514010e-05 1.37196691e-03 6.71030534e-03\n",
      "  8.21708294e-04 9.02242512e-02 2.29833852e-02 9.20149439e-04\n",
      "  1.45480949e-02 4.22392115e-02 7.30989724e-02]\n",
      " [1.92981749e-03 3.74842901e-03 2.00331979e-03 1.66826896e-04\n",
      "  2.52927304e-03 3.41520719e-02 2.82839686e-02 1.08640641e-01\n",
      "  2.86319898e-03 5.06272481e-04 1.59284670e-03 9.05240158e-05\n",
      "  4.89265774e-04 4.90125094e-04 3.21167917e-03 7.86795765e-02\n",
      "  5.62404050e-03 1.00689428e-02 2.61746044e-03 2.02112412e-03\n",
      "  4.25680950e-02 1.29270728e-03 7.08302599e-04 1.61854463e-04\n",
      "  1.63274724e-03 7.73962965e-05 3.75599810e-03 2.13147345e-04\n",
      "  1.31872743e-02 5.58229913e-05 1.05993042e-03 2.56025023e-03\n",
      "  3.01737949e-04 1.22247823e-03 1.57698675e-03 6.33488235e-05\n",
      "  1.95830665e-03 8.62817222e-04 9.85763851e-04 6.90792277e-02\n",
      "  6.74631819e-03 4.36996866e-04 3.67818289e-02 8.66192356e-02\n",
      "  5.04689524e-03 3.12442449e-03 1.30807621e-05 4.35485924e-03\n",
      "  5.35100186e-03 4.29131873e-02 3.17125046e-03 3.05068400e-03\n",
      "  1.70634841e-04 1.41041037e-02 2.40826211e-03 2.89018295e-04\n",
      "  6.79194881e-03 3.25470343e-02 3.05072957e-04 3.05340439e-02\n",
      "  1.92436948e-02 2.18291607e-05 1.10260060e-03 6.60549477e-03\n",
      "  7.69838400e-04 9.21161100e-02 2.12768856e-02 8.69956741e-04\n",
      "  1.16597498e-02 4.28967699e-02 8.56435895e-02]\n",
      " [2.17812834e-03 8.76389677e-04 1.12336432e-03 5.91275690e-04\n",
      "  5.84382424e-03 3.31912525e-02 2.10025739e-02 6.36775494e-02\n",
      "  9.18519218e-03 1.09289668e-03 5.87979704e-03 2.79415573e-04\n",
      "  4.37909737e-03 1.16389350e-03 7.78486137e-05 4.63301428e-02\n",
      "  1.77564714e-02 1.01124197e-02 2.41747219e-03 9.43767081e-04\n",
      "  9.89739969e-03 4.20305366e-03 1.57948036e-03 1.38634583e-03\n",
      "  9.17320698e-03 2.97624595e-03 9.79268178e-02 1.05939398e-03\n",
      "  3.33103649e-02 1.76712390e-04 1.46396097e-03 3.00057605e-03\n",
      "  4.15554066e-04 2.27527809e-03 5.53528219e-03 1.58963527e-03\n",
      "  9.52320546e-03 7.86407944e-03 2.16118322e-04 7.58175999e-02\n",
      "  7.65501929e-04 2.16324421e-04 3.30269486e-02 6.84139431e-02\n",
      "  1.51037844e-02 4.01811587e-04 2.41211266e-03 1.38541730e-03\n",
      "  2.98475614e-03 7.44059011e-02 5.27930621e-04 1.53834722e-03\n",
      "  3.28447495e-05 3.51638813e-03 4.58634505e-03 9.16395511e-04\n",
      "  3.91710596e-03 1.02516438e-04 1.01774978e-03 2.55828556e-02\n",
      "  1.53155066e-02 4.94849291e-06 3.15236673e-03 4.90546040e-03\n",
      "  3.28099064e-04 5.46008013e-02 1.90595333e-02 4.06660867e-04\n",
      "  1.27096862e-01 2.27658823e-02 1.40157910e-02]]\n"
     ]
    }
   ],
   "source": [
    "print(predictions1)"
   ]
  },
  {
   "cell_type": "code",
   "execution_count": 229,
   "metadata": {},
   "outputs": [
    {
     "name": "stdout",
     "output_type": "stream",
     "text": [
      "50149    69\n",
      "97980    49\n",
      "28475    68\n",
      "Name: product_category, dtype: int32\n"
     ]
    }
   ],
   "source": [
    "print(yTest1[:3])"
   ]
  },
  {
   "cell_type": "code",
   "execution_count": 230,
   "metadata": {},
   "outputs": [
    {
     "name": "stdout",
     "output_type": "stream",
     "text": [
      "[ 7  7 68]\n"
     ]
    }
   ],
   "source": [
    "labels = np.argmax(predictions1, axis=-1)    \n",
    "print(labels)"
   ]
  },
  {
   "cell_type": "code",
   "execution_count": 241,
   "metadata": {},
   "outputs": [
    {
     "name": "stdout",
     "output_type": "stream",
     "text": [
      "[39, 15, 43, 65, 7]\n"
     ]
    }
   ],
   "source": [
    "# initialize N  \n",
    "N = 5\n",
    "test_list=predictions1[0]\n",
    "# Indices of N largest elements in list \n",
    "# using sorted() + lambda + list slicing \n",
    "res = sorted(range(len(test_list)), key = lambda sub: test_list[sub])[-N:] \n",
    "\n",
    "print(res)"
   ]
  },
  {
   "cell_type": "code",
   "execution_count": 240,
   "metadata": {},
   "outputs": [
    {
     "name": "stdout",
     "output_type": "stream",
     "text": [
      "0.99999994\n",
      "[2.19874596e-03 3.55671486e-03 2.25363113e-03 2.16476343e-04\n",
      " 3.20261531e-03 3.70573997e-02 2.98218280e-02 1.04697049e-01\n",
      " 3.50018102e-03 6.48635207e-04 2.03486905e-03 1.22137266e-04\n",
      " 6.92791946e-04 6.55223615e-04 2.66955304e-03 7.52480477e-02\n",
      " 7.16831861e-03 1.08640511e-02 3.02822958e-03 2.13304558e-03\n",
      " 3.96460779e-02 1.60509208e-03 8.51426506e-04 2.20470974e-04\n",
      " 2.15938687e-03 1.26100262e-04 5.54957381e-03 2.90626456e-04\n",
      " 1.50787113e-02 7.70747647e-05 1.24565745e-03 2.82966718e-03\n",
      " 3.66218621e-04 1.43878569e-03 2.03325553e-03 1.01192214e-04\n",
      " 2.52979295e-03 1.20463385e-03 9.83464066e-04 7.33998492e-02\n",
      " 6.34773867e-03 4.91225393e-04 3.65169793e-02 8.74715075e-02\n",
      " 6.06884528e-03 2.87386891e-03 2.59164717e-05 4.46697790e-03\n",
      " 5.50917070e-03 4.96658422e-02 3.05464771e-03 3.21764592e-03\n",
      " 1.82858974e-04 1.34995608e-02 2.68200971e-03 3.72664072e-04\n",
      " 7.07767718e-03 2.00782362e-02 3.84911400e-04 3.33302692e-02\n",
      " 2.02320609e-02 2.46514010e-05 1.37196691e-03 6.71030534e-03\n",
      " 8.21708294e-04 9.02242512e-02 2.29833852e-02 9.20149439e-04\n",
      " 1.45480949e-02 4.22392115e-02 7.30989724e-02]\n"
     ]
    }
   ],
   "source": [
    "print(np.sum(predictions1[0]))\n",
    "print(predictions1[0])"
   ]
  },
  {
   "cell_type": "code",
   "execution_count": null,
   "metadata": {},
   "outputs": [],
   "source": [
    "model1.save(\"product_category_model.h5\")"
   ]
  },
  {
   "cell_type": "code",
   "execution_count": null,
   "metadata": {},
   "outputs": [],
   "source": []
  }
 ],
 "metadata": {
  "kernelspec": {
   "display_name": "Python 3",
   "language": "python",
   "name": "python3"
  },
  "language_info": {
   "codemirror_mode": {
    "name": "ipython",
    "version": 3
   },
   "file_extension": ".py",
   "mimetype": "text/x-python",
   "name": "python",
   "nbconvert_exporter": "python",
   "pygments_lexer": "ipython3",
   "version": "3.7.3"
  }
 },
 "nbformat": 4,
 "nbformat_minor": 4
}
