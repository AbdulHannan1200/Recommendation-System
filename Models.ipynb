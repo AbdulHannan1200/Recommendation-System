{
 "cells": [
  {
   "cell_type": "code",
   "execution_count": 1,
   "metadata": {},
   "outputs": [],
   "source": [
    "import pandas as pd\n",
    "import numpy as np\n",
    "import h5py"
   ]
  },
  {
   "cell_type": "code",
   "execution_count": 2,
   "metadata": {},
   "outputs": [],
   "source": [
    "import matplotlib.pyplot as plt\n",
    "import seaborn as sns  \n",
    "# %matplotlib inline\n",
    "plt.style.use(\"ggplot\")\n",
    "plt.rc(\"font\", size=14)\n",
    "\n"
   ]
  },
  {
   "cell_type": "code",
   "execution_count": 3,
   "metadata": {},
   "outputs": [],
   "source": [
    "new_df = pd.read_csv(\"update_data2.csv\")"
   ]
  },
  {
   "cell_type": "code",
   "execution_count": 4,
   "metadata": {},
   "outputs": [
    {
     "data": {
      "text/html": [
       "<div>\n",
       "<style scoped>\n",
       "    .dataframe tbody tr th:only-of-type {\n",
       "        vertical-align: middle;\n",
       "    }\n",
       "\n",
       "    .dataframe tbody tr th {\n",
       "        vertical-align: top;\n",
       "    }\n",
       "\n",
       "    .dataframe thead th {\n",
       "        text-align: right;\n",
       "    }\n",
       "</style>\n",
       "<table border=\"1\" class=\"dataframe\">\n",
       "  <thead>\n",
       "    <tr style=\"text-align: right;\">\n",
       "      <th></th>\n",
       "      <th>Unnamed: 0</th>\n",
       "      <th>customer_id</th>\n",
       "      <th>product_id</th>\n",
       "      <th>seller_id</th>\n",
       "      <th>product_price</th>\n",
       "      <th>freight_value</th>\n",
       "      <th>product_category</th>\n",
       "      <th>review_score</th>\n",
       "      <th>seller_lat</th>\n",
       "      <th>sellet_lng</th>\n",
       "      <th>customer_lat</th>\n",
       "      <th>customer_lng</th>\n",
       "    </tr>\n",
       "  </thead>\n",
       "  <tbody>\n",
       "    <tr>\n",
       "      <th>0</th>\n",
       "      <td>0</td>\n",
       "      <td>9ef432eb6251297304e76186b10a928d</td>\n",
       "      <td>16672</td>\n",
       "      <td>599</td>\n",
       "      <td>29.99</td>\n",
       "      <td>8.72</td>\n",
       "      <td>49</td>\n",
       "      <td>4.0</td>\n",
       "      <td>-23.680729</td>\n",
       "      <td>-46.444238</td>\n",
       "      <td>-23.576983</td>\n",
       "      <td>-46.297204</td>\n",
       "    </tr>\n",
       "    <tr>\n",
       "      <th>1</th>\n",
       "      <td>1</td>\n",
       "      <td>a20e8105f23924cd00833fd87daa0831</td>\n",
       "      <td>16672</td>\n",
       "      <td>599</td>\n",
       "      <td>29.99</td>\n",
       "      <td>7.78</td>\n",
       "      <td>49</td>\n",
       "      <td>4.0</td>\n",
       "      <td>-23.680729</td>\n",
       "      <td>-46.444238</td>\n",
       "      <td>-23.564630</td>\n",
       "      <td>-46.297204</td>\n",
       "    </tr>\n",
       "    <tr>\n",
       "      <th>2</th>\n",
       "      <td>2</td>\n",
       "      <td>26c7ac168e1433912a51b924fbd34d34</td>\n",
       "      <td>16672</td>\n",
       "      <td>599</td>\n",
       "      <td>29.99</td>\n",
       "      <td>7.78</td>\n",
       "      <td>49</td>\n",
       "      <td>5.0</td>\n",
       "      <td>-23.680729</td>\n",
       "      <td>-46.444238</td>\n",
       "      <td>-23.600462</td>\n",
       "      <td>-46.297204</td>\n",
       "    </tr>\n",
       "    <tr>\n",
       "      <th>3</th>\n",
       "      <td>3</td>\n",
       "      <td>53904ddbea91e1e92b2b3f1d09a7af86</td>\n",
       "      <td>16672</td>\n",
       "      <td>599</td>\n",
       "      <td>29.99</td>\n",
       "      <td>14.10</td>\n",
       "      <td>49</td>\n",
       "      <td>3.0</td>\n",
       "      <td>-23.680729</td>\n",
       "      <td>-46.444238</td>\n",
       "      <td>-22.383067</td>\n",
       "      <td>-46.297204</td>\n",
       "    </tr>\n",
       "    <tr>\n",
       "      <th>4</th>\n",
       "      <td>4</td>\n",
       "      <td>ab8844663ae049fda8baf15fc928f47f</td>\n",
       "      <td>21628</td>\n",
       "      <td>599</td>\n",
       "      <td>75.90</td>\n",
       "      <td>7.79</td>\n",
       "      <td>6</td>\n",
       "      <td>5.0</td>\n",
       "      <td>-23.680729</td>\n",
       "      <td>-46.444238</td>\n",
       "      <td>-23.486111</td>\n",
       "      <td>-46.366721</td>\n",
       "    </tr>\n",
       "  </tbody>\n",
       "</table>\n",
       "</div>"
      ],
      "text/plain": [
       "   Unnamed: 0                       customer_id  product_id  seller_id  \\\n",
       "0           0  9ef432eb6251297304e76186b10a928d       16672        599   \n",
       "1           1  a20e8105f23924cd00833fd87daa0831       16672        599   \n",
       "2           2  26c7ac168e1433912a51b924fbd34d34       16672        599   \n",
       "3           3  53904ddbea91e1e92b2b3f1d09a7af86       16672        599   \n",
       "4           4  ab8844663ae049fda8baf15fc928f47f       21628        599   \n",
       "\n",
       "   product_price  freight_value  product_category  review_score  seller_lat  \\\n",
       "0          29.99           8.72                49           4.0  -23.680729   \n",
       "1          29.99           7.78                49           4.0  -23.680729   \n",
       "2          29.99           7.78                49           5.0  -23.680729   \n",
       "3          29.99          14.10                49           3.0  -23.680729   \n",
       "4          75.90           7.79                 6           5.0  -23.680729   \n",
       "\n",
       "   sellet_lng  customer_lat  customer_lng  \n",
       "0  -46.444238    -23.576983    -46.297204  \n",
       "1  -46.444238    -23.564630    -46.297204  \n",
       "2  -46.444238    -23.600462    -46.297204  \n",
       "3  -46.444238    -22.383067    -46.297204  \n",
       "4  -46.444238    -23.486111    -46.366721  "
      ]
     },
     "execution_count": 4,
     "metadata": {},
     "output_type": "execute_result"
    }
   ],
   "source": [
    "new_df.head()"
   ]
  },
  {
   "cell_type": "code",
   "execution_count": 5,
   "metadata": {},
   "outputs": [
    {
     "data": {
      "text/html": [
       "<div>\n",
       "<style scoped>\n",
       "    .dataframe tbody tr th:only-of-type {\n",
       "        vertical-align: middle;\n",
       "    }\n",
       "\n",
       "    .dataframe tbody tr th {\n",
       "        vertical-align: top;\n",
       "    }\n",
       "\n",
       "    .dataframe thead th {\n",
       "        text-align: right;\n",
       "    }\n",
       "</style>\n",
       "<table border=\"1\" class=\"dataframe\">\n",
       "  <thead>\n",
       "    <tr style=\"text-align: right;\">\n",
       "      <th></th>\n",
       "      <th>Unnamed: 0</th>\n",
       "      <th>customer_id</th>\n",
       "      <th>product_id</th>\n",
       "      <th>seller_id</th>\n",
       "      <th>product_price</th>\n",
       "      <th>freight_value</th>\n",
       "      <th>product_category</th>\n",
       "      <th>review_score</th>\n",
       "      <th>seller_lat</th>\n",
       "      <th>sellet_lng</th>\n",
       "      <th>customer_lat</th>\n",
       "      <th>customer_lng</th>\n",
       "    </tr>\n",
       "  </thead>\n",
       "  <tbody>\n",
       "    <tr>\n",
       "      <th>108737</th>\n",
       "      <td>108737</td>\n",
       "      <td>5a1470d43d8ad960d4199134d3df48e0</td>\n",
       "      <td>14006</td>\n",
       "      <td>1634</td>\n",
       "      <td>44.990000</td>\n",
       "      <td>22.250000</td>\n",
       "      <td>65</td>\n",
       "      <td>5.0</td>\n",
       "      <td>-22.886875</td>\n",
       "      <td>-47.342924</td>\n",
       "      <td>-22.383067</td>\n",
       "      <td>-46.297204</td>\n",
       "    </tr>\n",
       "    <tr>\n",
       "      <th>108738</th>\n",
       "      <td>108738</td>\n",
       "      <td>a0b67404d84a70ef420a7f99ad6b190a</td>\n",
       "      <td>6218</td>\n",
       "      <td>2106</td>\n",
       "      <td>79.000000</td>\n",
       "      <td>14.130000</td>\n",
       "      <td>18</td>\n",
       "      <td>5.0</td>\n",
       "      <td>-22.886828</td>\n",
       "      <td>-47.342924</td>\n",
       "      <td>-23.554080</td>\n",
       "      <td>-46.374398</td>\n",
       "    </tr>\n",
       "    <tr>\n",
       "      <th>108739</th>\n",
       "      <td>108739</td>\n",
       "      <td>d531d01affc2c55769f6b9ed410d8d3c</td>\n",
       "      <td>3698</td>\n",
       "      <td>2397</td>\n",
       "      <td>85.286229</td>\n",
       "      <td>16.366115</td>\n",
       "      <td>39</td>\n",
       "      <td>5.0</td>\n",
       "      <td>-22.743647</td>\n",
       "      <td>-47.342924</td>\n",
       "      <td>-22.382895</td>\n",
       "      <td>-46.297204</td>\n",
       "    </tr>\n",
       "    <tr>\n",
       "      <th>108740</th>\n",
       "      <td>108740</td>\n",
       "      <td>9d8c06734fde9823ace11a4b5929b5a7</td>\n",
       "      <td>13611</td>\n",
       "      <td>2707</td>\n",
       "      <td>85.283344</td>\n",
       "      <td>24.120000</td>\n",
       "      <td>39</td>\n",
       "      <td>4.0</td>\n",
       "      <td>-23.627052</td>\n",
       "      <td>-46.473162</td>\n",
       "      <td>-22.383067</td>\n",
       "      <td>-46.297204</td>\n",
       "    </tr>\n",
       "    <tr>\n",
       "      <th>108741</th>\n",
       "      <td>108741</td>\n",
       "      <td>56772dfbcbe7df908a284ff0d53adf7d</td>\n",
       "      <td>19197</td>\n",
       "      <td>2768</td>\n",
       "      <td>15.500000</td>\n",
       "      <td>12.790000</td>\n",
       "      <td>59</td>\n",
       "      <td>5.0</td>\n",
       "      <td>-22.886828</td>\n",
       "      <td>-47.342924</td>\n",
       "      <td>-23.673394</td>\n",
       "      <td>-46.297204</td>\n",
       "    </tr>\n",
       "  </tbody>\n",
       "</table>\n",
       "</div>"
      ],
      "text/plain": [
       "        Unnamed: 0                       customer_id  product_id  seller_id  \\\n",
       "108737      108737  5a1470d43d8ad960d4199134d3df48e0       14006       1634   \n",
       "108738      108738  a0b67404d84a70ef420a7f99ad6b190a        6218       2106   \n",
       "108739      108739  d531d01affc2c55769f6b9ed410d8d3c        3698       2397   \n",
       "108740      108740  9d8c06734fde9823ace11a4b5929b5a7       13611       2707   \n",
       "108741      108741  56772dfbcbe7df908a284ff0d53adf7d       19197       2768   \n",
       "\n",
       "        product_price  freight_value  product_category  review_score  \\\n",
       "108737      44.990000      22.250000                65           5.0   \n",
       "108738      79.000000      14.130000                18           5.0   \n",
       "108739      85.286229      16.366115                39           5.0   \n",
       "108740      85.283344      24.120000                39           4.0   \n",
       "108741      15.500000      12.790000                59           5.0   \n",
       "\n",
       "        seller_lat  sellet_lng  customer_lat  customer_lng  \n",
       "108737  -22.886875  -47.342924    -22.383067    -46.297204  \n",
       "108738  -22.886828  -47.342924    -23.554080    -46.374398  \n",
       "108739  -22.743647  -47.342924    -22.382895    -46.297204  \n",
       "108740  -23.627052  -46.473162    -22.383067    -46.297204  \n",
       "108741  -22.886828  -47.342924    -23.673394    -46.297204  "
      ]
     },
     "execution_count": 5,
     "metadata": {},
     "output_type": "execute_result"
    }
   ],
   "source": [
    "new_df.tail()"
   ]
  },
  {
   "cell_type": "markdown",
   "metadata": {},
   "source": [
    "### Splitting Data After Cleaning"
   ]
  },
  {
   "cell_type": "markdown",
   "metadata": {},
   "source": [
    "#### Model  for Predicting 'product_category'"
   ]
  },
  {
   "cell_type": "code",
   "execution_count": 6,
   "metadata": {},
   "outputs": [],
   "source": [
    "from sklearn.model_selection import train_test_split"
   ]
  },
  {
   "cell_type": "code",
   "execution_count": 7,
   "metadata": {},
   "outputs": [
    {
     "data": {
      "text/plain": [
       "Index(['Unnamed: 0', 'customer_id', 'product_id', 'seller_id', 'product_price',\n",
       "       'freight_value', 'product_category', 'review_score', 'seller_lat',\n",
       "       'sellet_lng', 'customer_lat', 'customer_lng'],\n",
       "      dtype='object')"
      ]
     },
     "execution_count": 7,
     "metadata": {},
     "output_type": "execute_result"
    }
   ],
   "source": [
    "new_df.columns"
   ]
  },
  {
   "cell_type": "code",
   "execution_count": 8,
   "metadata": {},
   "outputs": [],
   "source": [
    "new_df = new_df.drop('Unnamed: 0',axis = 1)"
   ]
  },
  {
   "cell_type": "code",
   "execution_count": 9,
   "metadata": {},
   "outputs": [
    {
     "data": {
      "text/plain": [
       "Index(['customer_id', 'product_id', 'seller_id', 'product_price',\n",
       "       'freight_value', 'product_category', 'review_score', 'seller_lat',\n",
       "       'sellet_lng', 'customer_lat', 'customer_lng'],\n",
       "      dtype='object')"
      ]
     },
     "execution_count": 9,
     "metadata": {},
     "output_type": "execute_result"
    }
   ],
   "source": [
    "new_df.columns"
   ]
  },
  {
   "cell_type": "code",
   "execution_count": 10,
   "metadata": {},
   "outputs": [],
   "source": [
    "X1 = new_df.drop(['product_id','product_category','seller_id','customer_id'], axis=1)\n",
    "y1 = new_df['product_category']"
   ]
  },
  {
   "cell_type": "code",
   "execution_count": 11,
   "metadata": {},
   "outputs": [],
   "source": [
    "xTrain1, xTest1, yTrain1, yTest1 = train_test_split(\n",
    "    X1,\n",
    "    y1,\n",
    "    test_size = .1\n",
    ")"
   ]
  },
  {
   "cell_type": "code",
   "execution_count": 12,
   "metadata": {},
   "outputs": [
    {
     "name": "stdout",
     "output_type": "stream",
     "text": [
      "108742 108742\n"
     ]
    }
   ],
   "source": [
    "print(len(X1),len(y1))"
   ]
  },
  {
   "cell_type": "code",
   "execution_count": 13,
   "metadata": {},
   "outputs": [
    {
     "name": "stdout",
     "output_type": "stream",
     "text": [
      "97867 97867 10875 10875\n"
     ]
    }
   ],
   "source": [
    "print(len(xTrain1),len(yTrain1),len(xTest1),len(yTest1))"
   ]
  },
  {
   "cell_type": "code",
   "execution_count": 14,
   "metadata": {},
   "outputs": [
    {
     "data": {
      "text/plain": [
       "Index(['product_price', 'freight_value', 'review_score', 'seller_lat',\n",
       "       'sellet_lng', 'customer_lat', 'customer_lng'],\n",
       "      dtype='object')"
      ]
     },
     "execution_count": 14,
     "metadata": {},
     "output_type": "execute_result"
    }
   ],
   "source": [
    "xTrain1.columns"
   ]
  },
  {
   "cell_type": "code",
   "execution_count": 15,
   "metadata": {},
   "outputs": [
    {
     "data": {
      "text/plain": [
       "44708    10\n",
       "4074     57\n",
       "31966    70\n",
       "30391    41\n",
       "54027    42\n",
       "         ..\n",
       "8645      7\n",
       "6253     43\n",
       "4912     26\n",
       "43044    66\n",
       "97361    49\n",
       "Name: product_category, Length: 97867, dtype: int64"
      ]
     },
     "execution_count": 15,
     "metadata": {},
     "output_type": "execute_result"
    }
   ],
   "source": [
    "yTrain1"
   ]
  },
  {
   "cell_type": "code",
   "execution_count": 16,
   "metadata": {},
   "outputs": [
    {
     "data": {
      "text/plain": [
       "71"
      ]
     },
     "execution_count": 16,
     "metadata": {},
     "output_type": "execute_result"
    }
   ],
   "source": [
    "len(new_df[\"product_category\"].unique())"
   ]
  },
  {
   "cell_type": "code",
   "execution_count": 17,
   "metadata": {},
   "outputs": [
    {
     "data": {
      "text/plain": [
       "7"
      ]
     },
     "execution_count": 17,
     "metadata": {},
     "output_type": "execute_result"
    }
   ],
   "source": [
    "len(xTrain1.columns)"
   ]
  },
  {
   "cell_type": "code",
   "execution_count": 18,
   "metadata": {},
   "outputs": [
    {
     "data": {
      "text/plain": [
       "(97867, 7)"
      ]
     },
     "execution_count": 18,
     "metadata": {},
     "output_type": "execute_result"
    }
   ],
   "source": [
    "xTrain1.shape"
   ]
  },
  {
   "cell_type": "code",
   "execution_count": 19,
   "metadata": {},
   "outputs": [
    {
     "data": {
      "text/plain": [
       "(97867,)"
      ]
     },
     "execution_count": 19,
     "metadata": {},
     "output_type": "execute_result"
    }
   ],
   "source": [
    "yTrain1.shape"
   ]
  },
  {
   "cell_type": "markdown",
   "metadata": {},
   "source": [
    "### ANN Model"
   ]
  },
  {
   "cell_type": "code",
   "execution_count": 20,
   "metadata": {},
   "outputs": [],
   "source": [
    "import tensorflow as tf\n",
    "from tensorflow import keras\n",
    "from tensorflow.keras import layers"
   ]
  },
  {
   "cell_type": "code",
   "execution_count": 21,
   "metadata": {},
   "outputs": [],
   "source": [
    "import seaborn as sns"
   ]
  },
  {
   "cell_type": "code",
   "execution_count": 22,
   "metadata": {},
   "outputs": [],
   "source": [
    "model1=tf.keras.models.Sequential([\n",
    "tf.keras.layers.Dense(10,input_dim=7,kernel_initializer=\"normal\",activation=\"relu\"),\n",
    "tf.keras.layers.Dense(10,kernel_initializer=\"normal\",activation=\"relu\"),\n",
    "tf.keras.layers.Dense(6,kernel_initializer=\"normal\",activation=\"relu\"),\n",
    "tf.keras.layers.Dense(71, activation='softmax')\n",
    "])\n"
   ]
  },
  {
   "cell_type": "code",
   "execution_count": 23,
   "metadata": {},
   "outputs": [
    {
     "name": "stdout",
     "output_type": "stream",
     "text": [
      "Model: \"sequential\"\n",
      "_________________________________________________________________\n",
      "Layer (type)                 Output Shape              Param #   \n",
      "=================================================================\n",
      "dense (Dense)                (None, 10)                80        \n",
      "_________________________________________________________________\n",
      "dense_1 (Dense)              (None, 10)                110       \n",
      "_________________________________________________________________\n",
      "dense_2 (Dense)              (None, 6)                 66        \n",
      "_________________________________________________________________\n",
      "dense_3 (Dense)              (None, 71)                497       \n",
      "=================================================================\n",
      "Total params: 753\n",
      "Trainable params: 753\n",
      "Non-trainable params: 0\n",
      "_________________________________________________________________\n"
     ]
    }
   ],
   "source": [
    "model1.summary()"
   ]
  },
  {
   "cell_type": "code",
   "execution_count": 24,
   "metadata": {},
   "outputs": [],
   "source": [
    "model1.compile(loss='sparse_categorical_crossentropy', optimizer='adam', metrics=['accuracy'])"
   ]
  },
  {
   "cell_type": "code",
   "execution_count": 25,
   "metadata": {},
   "outputs": [
    {
     "name": "stdout",
     "output_type": "stream",
     "text": [
      "WARNING:tensorflow:Falling back from v2 loop because of error: Failed to find data adapter that can handle input: <class 'pandas.core.frame.DataFrame'>, <class 'NoneType'>\n",
      "Train on 97867 samples\n",
      "Epoch 1/30\n",
      "97867/97867 [==============================] - 14s 143us/sample - loss: 3.3059 - accuracy: 0.0994\n",
      "Epoch 2/30\n",
      "97867/97867 [==============================] - 14s 141us/sample - loss: 3.2636 - accuracy: 0.1012\n",
      "Epoch 3/30\n",
      "97867/97867 [==============================] - 15s 154us/sample - loss: 3.2137 - accuracy: 0.1072s - loss: 3.2137 - accuracy: 0.10\n",
      "Epoch 4/30\n",
      "97867/97867 [==============================] - 16s 167us/sample - loss: 3.2000 - accuracy: 0.1104\n",
      "Epoch 5/30\n",
      "97867/97867 [==============================] - 13s 133us/sample - loss: 3.1980 - accuracy: 0.1100\n",
      "Epoch 6/30\n",
      "97867/97867 [==============================] - 13s 132us/sample - loss: 3.1968 - accuracy: 0.1108\n",
      "Epoch 7/30\n",
      "97867/97867 [==============================] - 13s 132us/sample - loss: 3.1944 - accuracy: 0.1108\n",
      "Epoch 8/30\n",
      "97867/97867 [==============================] - 13s 129us/sample - loss: 3.1879 - accuracy: 0.1112\n",
      "Epoch 9/30\n",
      "97867/97867 [==============================] - 11s 117us/sample - loss: 3.1804 - accuracy: 0.1122\n",
      "Epoch 10/30\n",
      "97867/97867 [==============================] - 15s 154us/sample - loss: 3.1770 - accuracy: 0.1129\n",
      "Epoch 11/30\n",
      "97867/97867 [==============================] - 12s 120us/sample - loss: 3.1754 - accuracy: 0.1134\n",
      "Epoch 12/30\n",
      "97867/97867 [==============================] - 13s 135us/sample - loss: 3.1744 - accuracy: 0.1137\n",
      "Epoch 13/30\n",
      "97867/97867 [==============================] - 19s 192us/sample - loss: 3.1740 - accuracy: 0.1144- loss: 3.174\n",
      "Epoch 14/30\n",
      "97867/97867 [==============================] - 20s 207us/sample - loss: 3.1738 - accuracy: 0.1146\n",
      "Epoch 15/30\n",
      "97867/97867 [==============================] - 12s 126us/sample - loss: 3.1727 - accuracy: 0.1142\n",
      "Epoch 16/30\n",
      "97867/97867 [==============================] - 14s 142us/sample - loss: 3.1728 - accuracy: 0.1148\n",
      "Epoch 17/30\n",
      "97867/97867 [==============================] - 14s 145us/sample - loss: 3.1719 - accuracy: 0.1147- loss: 3.1717 - accuracy:  - E\n",
      "Epoch 18/30\n",
      "97867/97867 [==============================] - 17s 170us/sample - loss: 3.1716 - accuracy: 0.1145\n",
      "Epoch 19/30\n",
      "97867/97867 [==============================] - 16s 161us/sample - loss: 3.1711 - accuracy: 0.1148\n",
      "Epoch 20/30\n",
      "97867/97867 [==============================] - 16s 165us/sample - loss: 3.1707 - accuracy: 0.1141\n",
      "Epoch 21/30\n",
      "97867/97867 [==============================] - 11s 114us/sample - loss: 3.1705 - accuracy: 0.1150\n",
      "Epoch 22/30\n",
      "97867/97867 [==============================] - 11s 114us/sample - loss: 3.1700 - accuracy: 0.1147\n",
      "Epoch 23/30\n",
      "97867/97867 [==============================] - 9s 95us/sample - loss: 3.1695 - accuracy: 0.1155\n",
      "Epoch 24/30\n",
      "97867/97867 [==============================] - 10s 98us/sample - loss: 3.1688 - accuracy: 0.1150\n",
      "Epoch 25/30\n",
      "97867/97867 [==============================] - 11s 109us/sample - loss: 3.1683 - accuracy: 0.1154\n",
      "Epoch 26/30\n",
      "97867/97867 [==============================] - 9s 88us/sample - loss: 3.1676 - accuracy: 0.1147\n",
      "Epoch 27/30\n",
      "97867/97867 [==============================] - 9s 94us/sample - loss: 3.1668 - accuracy: 0.1167\n",
      "Epoch 28/30\n",
      "97867/97867 [==============================] - 9s 94us/sample - loss: 3.1658 - accuracy: 0.1160\n",
      "Epoch 29/30\n",
      "97867/97867 [==============================] - 10s 102us/sample - loss: 3.1647 - accuracy: 0.1162\n",
      "Epoch 30/30\n",
      "97867/97867 [==============================] - 9s 90us/sample - loss: 3.1629 - accuracy: 0.1169\n"
     ]
    },
    {
     "data": {
      "text/plain": [
       "<tensorflow.python.keras.callbacks.History at 0x25f806f67f0>"
      ]
     },
     "execution_count": 25,
     "metadata": {},
     "output_type": "execute_result"
    }
   ],
   "source": [
    "model1.fit(xTrain1,yTrain1,epochs=30)"
   ]
  },
  {
   "cell_type": "code",
   "execution_count": 26,
   "metadata": {},
   "outputs": [
    {
     "name": "stdout",
     "output_type": "stream",
     "text": [
      "Generate predictions for 3 samples\n",
      "WARNING:tensorflow:Falling back from v2 loop because of error: Failed to find data adapter that can handle input: <class 'pandas.core.frame.DataFrame'>, <class 'NoneType'>\n",
      "predictions shape: (3, 71)\n"
     ]
    }
   ],
   "source": [
    "print(\"Generate predictions for 3 samples\")\n",
    "predictions1 = model1.predict(xTest1[:3])\n",
    "print(\"predictions shape:\", predictions1.shape)"
   ]
  },
  {
   "cell_type": "code",
   "execution_count": 27,
   "metadata": {},
   "outputs": [
    {
     "name": "stdout",
     "output_type": "stream",
     "text": [
      "[[1.5576076e-03 3.5807877e-03 1.0996466e-03 6.4938940e-05 4.5718523e-03\n",
      "  5.2596852e-02 2.6253238e-02 1.1021879e-01 2.0537255e-03 8.6537744e-05\n",
      "  5.6616100e-04 7.8566376e-07 6.6492404e-04 2.7394539e-04 2.0203907e-03\n",
      "  9.6769333e-02 5.3823558e-03 6.9335308e-03 1.8231329e-03 1.8668281e-03\n",
      "  5.3772088e-02 8.4080570e-04 4.1590005e-04 9.1266675e-06 2.7624410e-04\n",
      "  1.1405474e-04 1.5043578e-02 2.8344737e-05 4.0889489e-03 1.1978577e-05\n",
      "  3.8409975e-04 1.8071035e-03 1.3132503e-05 3.1664746e-04 1.8541376e-03\n",
      "  3.8167755e-06 9.2565664e-04 2.6255366e-04 1.9222222e-03 5.9910484e-02\n",
      "  5.8265352e-03 1.6036669e-04 1.5117730e-02 8.1860028e-02 4.1707982e-03\n",
      "  3.3472287e-03 1.9272882e-05 4.3989490e-03 5.1339981e-03 5.2676920e-02\n",
      "  1.6942155e-03 1.3152125e-03 1.9008706e-04 7.8738891e-03 1.2203052e-03\n",
      "  1.3167680e-04 3.4357044e-03 7.4486911e-02 1.6876521e-04 2.6162200e-02\n",
      "  1.3938742e-02 1.4177186e-05 1.4028291e-03 5.4934723e-03 4.8553696e-04\n",
      "  7.8310423e-02 2.1025315e-02 1.8772553e-04 1.2762703e-02 2.7152525e-02\n",
      "  8.9449398e-02]\n",
      " [2.3195678e-03 3.6178257e-03 3.3624284e-03 2.2269305e-04 3.3197487e-03\n",
      "  4.2271584e-02 3.1010024e-02 1.0560125e-01 4.3199481e-03 5.7207525e-04\n",
      "  2.3150574e-03 5.2420062e-05 1.1257275e-03 8.7874441e-04 3.1818324e-03\n",
      "  6.7351535e-02 9.2500970e-03 9.4150817e-03 3.6606952e-03 2.4738647e-03\n",
      "  4.3383140e-02 2.1392412e-03 9.6370059e-04 1.1999906e-04 1.4472276e-03\n",
      "  2.6952042e-04 8.0914339e-03 3.0288953e-04 1.1534757e-02 1.0581239e-04\n",
      "  1.3557458e-03 3.4531564e-03 2.5934534e-04 1.2757515e-03 2.4757057e-03\n",
      "  7.1443021e-05 3.0740383e-03 1.1631923e-03 1.4284272e-03 6.7759037e-02\n",
      "  7.4622859e-03 7.2417955e-04 3.3675969e-02 9.4861016e-02 6.5225628e-03\n",
      "  3.1654432e-03 3.3707071e-05 6.6004307e-03 8.4013809e-03 4.9077578e-02\n",
      "  4.4893711e-03 4.1005169e-03 2.3944315e-04 1.5392953e-02 2.6479424e-03\n",
      "  4.2210196e-04 7.6986691e-03 1.5338328e-02 4.6739494e-04 3.1940680e-02\n",
      "  2.0011056e-02 2.3909028e-05 2.0989773e-03 8.0479020e-03 1.1332764e-03\n",
      "  7.7885337e-02 2.5537975e-02 1.2539967e-03 1.4955187e-02 4.1543618e-02\n",
      "  6.7250840e-02]\n",
      " [7.5116393e-04 9.4594801e-04 1.3609075e-03 1.0356951e-04 1.1499535e-03\n",
      "  3.8891230e-02 3.4559958e-02 1.2877235e-01 5.0128140e-03 5.1656587e-04\n",
      "  3.4212295e-03 1.8669627e-04 7.5303565e-04 5.1405368e-04 8.7749260e-07\n",
      "  6.1527427e-02 1.1073736e-02 7.1397605e-03 2.1895701e-03 5.6531350e-04\n",
      "  1.6803591e-02 2.4213553e-03 5.3822139e-04 3.5690411e-04 4.6031135e-03\n",
      "  1.7641642e-04 8.5728671e-03 5.4541399e-04 3.1132603e-02 2.4024228e-05\n",
      "  1.1540200e-03 2.2022398e-03 3.7390887e-04 1.4075227e-03 1.3574292e-03\n",
      "  3.4222085e-04 5.7192608e-03 3.1864212e-03 9.2956856e-05 1.0485879e-01\n",
      "  9.4620918e-04 4.0190138e-05 6.3866325e-02 9.2022203e-02 7.4119973e-03\n",
      "  2.8047885e-04 1.5409678e-05 1.3874348e-03 4.7038975e-03 7.6409325e-02\n",
      "  6.6255417e-04 2.0632735e-03 3.4855661e-06 5.7216519e-03 2.1773782e-03\n",
      "  1.8181522e-04 4.4578640e-03 1.9693647e-04 1.8954428e-04 3.3903755e-02\n",
      "  1.5099734e-02 1.9247745e-10 1.2140811e-03 4.4168392e-03 2.0733369e-04\n",
      "  7.9009175e-02 1.9481439e-02 5.2768440e-04 2.6439268e-02 3.6326826e-02\n",
      "  3.5330433e-02]]\n"
     ]
    }
   ],
   "source": [
    "print(predictions1)"
   ]
  },
  {
   "cell_type": "code",
   "execution_count": 28,
   "metadata": {},
   "outputs": [
    {
     "name": "stdout",
     "output_type": "stream",
     "text": [
      "85482     6\n",
      "34847    47\n",
      "24291     7\n",
      "Name: product_category, dtype: int64\n"
     ]
    }
   ],
   "source": [
    "print(yTest1[:3])"
   ]
  },
  {
   "cell_type": "code",
   "execution_count": 29,
   "metadata": {},
   "outputs": [
    {
     "name": "stdout",
     "output_type": "stream",
     "text": [
      "1.0\n",
      "[1.5576076e-03 3.5807877e-03 1.0996466e-03 6.4938940e-05 4.5718523e-03\n",
      " 5.2596852e-02 2.6253238e-02 1.1021879e-01 2.0537255e-03 8.6537744e-05\n",
      " 5.6616100e-04 7.8566376e-07 6.6492404e-04 2.7394539e-04 2.0203907e-03\n",
      " 9.6769333e-02 5.3823558e-03 6.9335308e-03 1.8231329e-03 1.8668281e-03\n",
      " 5.3772088e-02 8.4080570e-04 4.1590005e-04 9.1266675e-06 2.7624410e-04\n",
      " 1.1405474e-04 1.5043578e-02 2.8344737e-05 4.0889489e-03 1.1978577e-05\n",
      " 3.8409975e-04 1.8071035e-03 1.3132503e-05 3.1664746e-04 1.8541376e-03\n",
      " 3.8167755e-06 9.2565664e-04 2.6255366e-04 1.9222222e-03 5.9910484e-02\n",
      " 5.8265352e-03 1.6036669e-04 1.5117730e-02 8.1860028e-02 4.1707982e-03\n",
      " 3.3472287e-03 1.9272882e-05 4.3989490e-03 5.1339981e-03 5.2676920e-02\n",
      " 1.6942155e-03 1.3152125e-03 1.9008706e-04 7.8738891e-03 1.2203052e-03\n",
      " 1.3167680e-04 3.4357044e-03 7.4486911e-02 1.6876521e-04 2.6162200e-02\n",
      " 1.3938742e-02 1.4177186e-05 1.4028291e-03 5.4934723e-03 4.8553696e-04\n",
      " 7.8310423e-02 2.1025315e-02 1.8772553e-04 1.2762703e-02 2.7152525e-02\n",
      " 8.9449398e-02]\n"
     ]
    }
   ],
   "source": [
    "print(np.sum(predictions1[0]))\n",
    "print(predictions1[0])"
   ]
  },
  {
   "cell_type": "code",
   "execution_count": 30,
   "metadata": {},
   "outputs": [
    {
     "name": "stdout",
     "output_type": "stream",
     "text": [
      "[65, 43, 70, 15, 7]\n"
     ]
    }
   ],
   "source": [
    "# initialize N  \n",
    "N = 5\n",
    "test_list=predictions1[0]\n",
    "# Indices of N largest elements in list \n",
    "# using sorted() + lambda + list slicing \n",
    "res = sorted(range(len(test_list)), key = lambda sub: test_list[sub])[-N:] \n",
    "\n",
    "print(res)"
   ]
  },
  {
   "cell_type": "code",
   "execution_count": 31,
   "metadata": {},
   "outputs": [],
   "source": [
    "def prob_to_class(test_list):\n",
    "    #test_list=predictions1[0]\n",
    " \n",
    "    res = sorted(range(len(test_list)), key = lambda sub: test_list[sub])[-N:] \n",
    "    \n",
    "    return res\n",
    "    "
   ]
  },
  {
   "cell_type": "code",
   "execution_count": 32,
   "metadata": {},
   "outputs": [],
   "source": [
    "classes_product_category = prob_to_class(predictions1[0])"
   ]
  },
  {
   "cell_type": "code",
   "execution_count": 33,
   "metadata": {},
   "outputs": [
    {
     "name": "stdout",
     "output_type": "stream",
     "text": [
      "[65, 43, 70, 15, 7]\n"
     ]
    }
   ],
   "source": [
    "print(classes_product_category)"
   ]
  },
  {
   "cell_type": "code",
   "execution_count": 34,
   "metadata": {},
   "outputs": [],
   "source": [
    "model1.save(\"product_category_model.h5\")"
   ]
  },
  {
   "cell_type": "markdown",
   "metadata": {},
   "source": [
    "#### Model  for Predicting 'seller_id'"
   ]
  },
  {
   "cell_type": "code",
   "execution_count": 35,
   "metadata": {},
   "outputs": [],
   "source": [
    "X2 = new_df.drop(['product_id','product_category','seller_id','customer_id'], axis=1)\n",
    "y2 = new_df['seller_id']"
   ]
  },
  {
   "cell_type": "code",
   "execution_count": 36,
   "metadata": {},
   "outputs": [],
   "source": [
    "xTrain2, xTest2, yTrain2, yTest2 = train_test_split(\n",
    "    X2,\n",
    "    y2,\n",
    "    test_size = .1\n",
    ")"
   ]
  },
  {
   "cell_type": "code",
   "execution_count": 37,
   "metadata": {},
   "outputs": [
    {
     "name": "stdout",
     "output_type": "stream",
     "text": [
      "108742 108742\n"
     ]
    }
   ],
   "source": [
    "print(len(X2),len(y2))"
   ]
  },
  {
   "cell_type": "code",
   "execution_count": 38,
   "metadata": {},
   "outputs": [
    {
     "name": "stdout",
     "output_type": "stream",
     "text": [
      "97867 97867 10875 10875\n"
     ]
    }
   ],
   "source": [
    "print(len(xTrain2),len(yTrain2),len(xTest2),len(yTest2))"
   ]
  },
  {
   "cell_type": "code",
   "execution_count": 39,
   "metadata": {},
   "outputs": [
    {
     "data": {
      "text/plain": [
       "Index(['product_price', 'freight_value', 'review_score', 'seller_lat',\n",
       "       'sellet_lng', 'customer_lat', 'customer_lng'],\n",
       "      dtype='object')"
      ]
     },
     "execution_count": 39,
     "metadata": {},
     "output_type": "execute_result"
    }
   ],
   "source": [
    "xTrain2.columns"
   ]
  },
  {
   "cell_type": "code",
   "execution_count": 40,
   "metadata": {},
   "outputs": [
    {
     "data": {
      "text/plain": [
       "9823     2666\n",
       "31276    1164\n",
       "96559     136\n",
       "17473    1717\n",
       "29851    1416\n",
       "         ... \n",
       "36448     310\n",
       "64215       7\n",
       "81858     240\n",
       "88643    2043\n",
       "75703    2500\n",
       "Name: seller_id, Length: 97867, dtype: int64"
      ]
     },
     "execution_count": 40,
     "metadata": {},
     "output_type": "execute_result"
    }
   ],
   "source": [
    "yTrain2"
   ]
  },
  {
   "cell_type": "code",
   "execution_count": 41,
   "metadata": {},
   "outputs": [
    {
     "data": {
      "text/plain": [
       "2905"
      ]
     },
     "execution_count": 41,
     "metadata": {},
     "output_type": "execute_result"
    }
   ],
   "source": [
    "len(new_df[\"seller_id\"].unique())"
   ]
  },
  {
   "cell_type": "code",
   "execution_count": 42,
   "metadata": {},
   "outputs": [
    {
     "data": {
      "text/plain": [
       "7"
      ]
     },
     "execution_count": 42,
     "metadata": {},
     "output_type": "execute_result"
    }
   ],
   "source": [
    "len(xTrain2.columns)"
   ]
  },
  {
   "cell_type": "code",
   "execution_count": 43,
   "metadata": {},
   "outputs": [
    {
     "data": {
      "text/plain": [
       "(97867, 7)"
      ]
     },
     "execution_count": 43,
     "metadata": {},
     "output_type": "execute_result"
    }
   ],
   "source": [
    "xTrain2.shape"
   ]
  },
  {
   "cell_type": "code",
   "execution_count": 44,
   "metadata": {},
   "outputs": [
    {
     "data": {
      "text/plain": [
       "(97867,)"
      ]
     },
     "execution_count": 44,
     "metadata": {},
     "output_type": "execute_result"
    }
   ],
   "source": [
    "yTrain2.shape"
   ]
  },
  {
   "cell_type": "code",
   "execution_count": 45,
   "metadata": {},
   "outputs": [],
   "source": [
    "model2=tf.keras.models.Sequential([\n",
    "tf.keras.layers.Dense(10,input_dim=7,kernel_initializer=\"normal\",activation=\"relu\"),\n",
    "tf.keras.layers.Dense(10,kernel_initializer=\"normal\",activation=\"relu\"),\n",
    "tf.keras.layers.Dense(6,kernel_initializer=\"normal\",activation=\"relu\"),\n",
    "tf.keras.layers.Dense(10,kernel_initializer=\"normal\",activation=\"relu\"),\n",
    "tf.keras.layers.Dense(2905, activation='softmax')\n",
    "])\n"
   ]
  },
  {
   "cell_type": "code",
   "execution_count": 46,
   "metadata": {},
   "outputs": [
    {
     "name": "stdout",
     "output_type": "stream",
     "text": [
      "Model: \"sequential_1\"\n",
      "_________________________________________________________________\n",
      "Layer (type)                 Output Shape              Param #   \n",
      "=================================================================\n",
      "dense_4 (Dense)              (None, 10)                80        \n",
      "_________________________________________________________________\n",
      "dense_5 (Dense)              (None, 10)                110       \n",
      "_________________________________________________________________\n",
      "dense_6 (Dense)              (None, 6)                 66        \n",
      "_________________________________________________________________\n",
      "dense_7 (Dense)              (None, 10)                70        \n",
      "_________________________________________________________________\n",
      "dense_8 (Dense)              (None, 2905)              31955     \n",
      "=================================================================\n",
      "Total params: 32,281\n",
      "Trainable params: 32,281\n",
      "Non-trainable params: 0\n",
      "_________________________________________________________________\n"
     ]
    }
   ],
   "source": [
    "model2.summary()"
   ]
  },
  {
   "cell_type": "code",
   "execution_count": 47,
   "metadata": {},
   "outputs": [],
   "source": [
    "model2.compile(loss='sparse_categorical_crossentropy', optimizer='adam', metrics=['accuracy'])"
   ]
  },
  {
   "cell_type": "code",
   "execution_count": 48,
   "metadata": {},
   "outputs": [
    {
     "name": "stdout",
     "output_type": "stream",
     "text": [
      "WARNING:tensorflow:Falling back from v2 loop because of error: Failed to find data adapter that can handle input: <class 'pandas.core.frame.DataFrame'>, <class 'NoneType'>\n",
      "Train on 97867 samples\n",
      "Epoch 1/50\n",
      "97867/97867 [==============================] - 33s 336us/sample - loss: 6.6451 - accuracy: 0.0177\n",
      "Epoch 2/50\n",
      "97867/97867 [==============================] - 33s 336us/sample - loss: 6.5501 - accuracy: 0.0181\n",
      "Epoch 3/50\n",
      "97867/97867 [==============================] - 34s 346us/sample - loss: 6.5322 - accuracy: 0.0204\n",
      "Epoch 4/50\n",
      "97867/97867 [==============================] - 33s 342us/sample - loss: 6.2493 - accuracy: 0.0388\n",
      "Epoch 5/50\n",
      "97867/97867 [==============================] - 33s 339us/sample - loss: 6.1678 - accuracy: 0.0441\n",
      "Epoch 6/50\n",
      "97867/97867 [==============================] - 35s 354us/sample - loss: 6.1473 - accuracy: 0.0465\n",
      "Epoch 7/50\n",
      "97867/97867 [==============================] - 33s 334us/sample - loss: 6.1369 - accuracy: 0.0482\n",
      "Epoch 8/50\n",
      "97867/97867 [==============================] - 33s 340us/sample - loss: 6.1298 - accuracy: 0.0489\n",
      "Epoch 9/50\n",
      "97867/97867 [==============================] - 34s 344us/sample - loss: 6.1247 - accuracy: 0.0496- loss: 6.1252 - accu\n",
      "Epoch 10/50\n",
      "97867/97867 [==============================] - 33s 335us/sample - loss: 6.1215 - accuracy: 0.0508\n",
      "Epoch 11/50\n",
      "97867/97867 [==============================] - 34s 347us/sample - loss: 6.1182 - accuracy: 0.0503- loss: 6.1185 - accuracy\n",
      "Epoch 12/50\n",
      "97867/97867 [==============================] - 35s 358us/sample - loss: 6.1145 - accuracy: 0.0518\n",
      "Epoch 13/50\n",
      "97867/97867 [==============================] - 33s 339us/sample - loss: 6.1121 - accuracy: 0.0521\n",
      "Epoch 14/50\n",
      "97867/97867 [==============================] - 33s 339us/sample - loss: 6.1083 - accuracy: 0.0530\n",
      "Epoch 15/50\n",
      "97867/97867 [==============================] - 33s 339us/sample - loss: 6.1047 - accuracy: 0.0526\n",
      "Epoch 16/50\n",
      "97867/97867 [==============================] - 33s 341us/sample - loss: 6.1004 - accuracy: 0.0528\n",
      "Epoch 17/50\n",
      "97867/97867 [==============================] - 34s 350us/sample - loss: 6.0967 - accuracy: 0.0537\n",
      "Epoch 18/50\n",
      "97867/97867 [==============================] - 36s 364us/sample - loss: 6.0915 - accuracy: 0.0539- loss: 6.0911 \n",
      "Epoch 19/50\n",
      "97867/97867 [==============================] - 35s 358us/sample - loss: 6.0829 - accuracy: 0.0549\n",
      "Epoch 20/50\n",
      "97867/97867 [==============================] - 34s 351us/sample - loss: 6.0734 - accuracy: 0.0566\n",
      "Epoch 21/50\n",
      "97867/97867 [==============================] - 34s 345us/sample - loss: 6.0621 - accuracy: 0.0580\n",
      "Epoch 22/50\n",
      "97867/97867 [==============================] - 33s 339us/sample - loss: 6.0480 - accuracy: 0.0587\n",
      "Epoch 23/50\n",
      "97867/97867 [==============================] - 33s 341us/sample - loss: 6.0264 - accuracy: 0.0600\n",
      "Epoch 24/50\n",
      "97867/97867 [==============================] - 33s 342us/sample - loss: 5.9969 - accuracy: 0.0610- loss: 5.9968 \n",
      "Epoch 25/50\n",
      "97867/97867 [==============================] - 34s 351us/sample - loss: 5.9594 - accuracy: 0.0620\n",
      "Epoch 26/50\n",
      "97867/97867 [==============================] - 34s 349us/sample - loss: 5.9150 - accuracy: 0.0644\n",
      "Epoch 27/50\n",
      "97867/97867 [==============================] - 35s 357us/sample - loss: 5.8396 - accuracy: 0.0690\n",
      "Epoch 28/50\n",
      "97867/97867 [==============================] - 34s 348us/sample - loss: 5.7586 - accuracy: 0.0730\n",
      "Epoch 29/50\n",
      "97867/97867 [==============================] - 34s 345us/sample - loss: 5.6994 - accuracy: 0.0750\n",
      "Epoch 30/50\n",
      "97867/97867 [==============================] - 34s 348us/sample - loss: 5.6379 - accuracy: 0.0765- loss: 5.6378 - accuracy: 0.\n",
      "Epoch 31/50\n",
      "97867/97867 [==============================] - 34s 345us/sample - loss: 5.5967 - accuracy: 0.0771\n",
      "Epoch 32/50\n",
      "97867/97867 [==============================] - 34s 350us/sample - loss: 5.5752 - accuracy: 0.0756\n",
      "Epoch 33/50\n",
      "97867/97867 [==============================] - 35s 359us/sample - loss: 5.5209 - accuracy: 0.0765\n",
      "Epoch 34/50\n",
      "97867/97867 [==============================] - 37s 374us/sample - loss: 5.5069 - accuracy: 0.0774\n",
      "Epoch 35/50\n",
      "97867/97867 [==============================] - 41s 415us/sample - loss: 5.4663 - accuracy: 0.0800\n",
      "Epoch 36/50\n",
      "97867/97867 [==============================] - 39s 400us/sample - loss: 5.4447 - accuracy: 0.0817- loss: 5.4447 - accuracy: 0. - ETA: 0s - loss: 5.4445 - accuracy: \n",
      "Epoch 37/50\n",
      "97867/97867 [==============================] - 45s 461us/sample - loss: 5.4184 - accuracy: 0.0847\n",
      "Epoch 38/50\n",
      "97867/97867 [==============================] - 44s 449us/sample - loss: 5.3838 - accuracy: 0.0880\n",
      "Epoch 39/50\n",
      "97867/97867 [==============================] - 45s 463us/sample - loss: 5.3806 - accuracy: 0.0885\n",
      "Epoch 40/50\n",
      "97867/97867 [==============================] - 47s 476us/sample - loss: 5.3495 - accuracy: 0.0913\n",
      "Epoch 41/50\n",
      "97867/97867 [==============================] - 47s 483us/sample - loss: 5.3289 - accuracy: 0.0935\n",
      "Epoch 42/50\n",
      "97867/97867 [==============================] - 47s 479us/sample - loss: 5.3166 - accuracy: 0.0951- loss: 5.3185 - ac - ETA: 0s - loss: 5\n",
      "Epoch 43/50\n",
      "97867/97867 [==============================] - 48s 486us/sample - loss: 5.2893 - accuracy: 0.0975\n",
      "Epoch 44/50\n",
      "97867/97867 [==============================] - 47s 484us/sample - loss: 5.2669 - accuracy: 0.0988\n",
      "Epoch 45/50\n",
      "97867/97867 [==============================] - 48s 487us/sample - loss: 5.2592 - accuracy: 0.1007\n",
      "Epoch 46/50\n",
      "97867/97867 [==============================] - 49s 500us/sample - loss: 5.2494 - accuracy: 0.1010- l - ETA: 1s - loss: 5.252 - ETA: 1s - loss: 5.2517 - accuracy\n",
      "Epoch 47/50\n",
      "97867/97867 [==============================] - 47s 481us/sample - loss: 5.2449 - accuracy: 0.1027- loss: 5.2470 - accura - ETA: 0s - loss: 5.2476 - accuracy:  - ETA: 0s - loss: 5.2\n",
      "Epoch 48/50\n",
      "97867/97867 [==============================] - 46s 473us/sample - loss: 5.2261 - accuracy: 0.1035\n",
      "Epoch 49/50\n",
      "97867/97867 [==============================] - 46s 470us/sample - loss: 5.2103 - accuracy: 0.1055\n",
      "Epoch 50/50\n",
      "97867/97867 [==============================] - 46s 472us/sample - loss: 5.1993 - accuracy: 0.1055\n"
     ]
    },
    {
     "data": {
      "text/plain": [
       "<tensorflow.python.keras.callbacks.History at 0x25f807e1668>"
      ]
     },
     "execution_count": 48,
     "metadata": {},
     "output_type": "execute_result"
    }
   ],
   "source": [
    "model2.fit(xTrain2,yTrain2,epochs=50)"
   ]
  },
  {
   "cell_type": "code",
   "execution_count": 49,
   "metadata": {},
   "outputs": [
    {
     "name": "stdout",
     "output_type": "stream",
     "text": [
      "Generate predictions for 3 samples\n",
      "WARNING:tensorflow:Falling back from v2 loop because of error: Failed to find data adapter that can handle input: <class 'pandas.core.frame.DataFrame'>, <class 'NoneType'>\n",
      "predictions shape: (3, 2905)\n"
     ]
    }
   ],
   "source": [
    "print(\"Generate predictions for 3 samples\")\n",
    "predictions2 = model2.predict(xTest2[:3])\n",
    "print(\"predictions shape:\", predictions2.shape)"
   ]
  },
  {
   "cell_type": "code",
   "execution_count": 50,
   "metadata": {},
   "outputs": [
    {
     "name": "stdout",
     "output_type": "stream",
     "text": [
      "[[1.7957418e-23 6.9705147e-06 2.5675198e-04 ... 1.4493658e-26\n",
      "  6.7173981e-04 2.3038113e-04]\n",
      " [1.2598043e-21 1.2911373e-05 4.7548962e-04 ... 1.3580255e-24\n",
      "  8.0101978e-04 3.0130771e-04]\n",
      " [9.7005303e-13 6.5232394e-03 1.7908188e-04 ... 5.3808762e-04\n",
      "  9.7959675e-04 4.2685846e-05]]\n"
     ]
    }
   ],
   "source": [
    "print(predictions2)"
   ]
  },
  {
   "cell_type": "code",
   "execution_count": 51,
   "metadata": {},
   "outputs": [
    {
     "name": "stdout",
     "output_type": "stream",
     "text": [
      "89174    2516\n",
      "69235    2860\n",
      "48986     960\n",
      "Name: seller_id, dtype: int64\n"
     ]
    }
   ],
   "source": [
    "print(yTest2[:3])"
   ]
  },
  {
   "cell_type": "code",
   "execution_count": 52,
   "metadata": {},
   "outputs": [
    {
     "name": "stdout",
     "output_type": "stream",
     "text": [
      "1.0000025\n",
      "[1.7957418e-23 6.9705147e-06 2.5675198e-04 ... 1.4493658e-26 6.7173981e-04\n",
      " 2.3038113e-04]\n"
     ]
    }
   ],
   "source": [
    "print(np.sum(predictions2[0]))\n",
    "print(predictions2[0])"
   ]
  },
  {
   "cell_type": "code",
   "execution_count": 53,
   "metadata": {},
   "outputs": [],
   "source": [
    "classes_seller_id = prob_to_class(predictions2[0])"
   ]
  },
  {
   "cell_type": "code",
   "execution_count": 54,
   "metadata": {},
   "outputs": [
    {
     "name": "stdout",
     "output_type": "stream",
     "text": [
      "[634, 2337, 278, 270, 349]\n"
     ]
    }
   ],
   "source": [
    "print(classes_seller_id)"
   ]
  },
  {
   "cell_type": "code",
   "execution_count": 55,
   "metadata": {},
   "outputs": [],
   "source": [
    "model2.save(\"seller_id_model.h5\")"
   ]
  },
  {
   "cell_type": "markdown",
   "metadata": {},
   "source": [
    "#### Model for Predicting 'product_id'"
   ]
  },
  {
   "cell_type": "code",
   "execution_count": 56,
   "metadata": {},
   "outputs": [],
   "source": [
    "X3 = new_df.drop(['product_id','product_category','seller_id','customer_id'], axis=1)\n",
    "y3 = new_df['product_id']"
   ]
  },
  {
   "cell_type": "code",
   "execution_count": 57,
   "metadata": {},
   "outputs": [],
   "source": [
    "xTrain3, xTest3, yTrain3, yTest3 = train_test_split(\n",
    "    X3,\n",
    "    y3,\n",
    "    test_size = .1\n",
    ")"
   ]
  },
  {
   "cell_type": "code",
   "execution_count": 58,
   "metadata": {},
   "outputs": [
    {
     "name": "stdout",
     "output_type": "stream",
     "text": [
      "108742 108742\n"
     ]
    }
   ],
   "source": [
    "print(len(X3),len(y3))"
   ]
  },
  {
   "cell_type": "code",
   "execution_count": 59,
   "metadata": {},
   "outputs": [
    {
     "name": "stdout",
     "output_type": "stream",
     "text": [
      "97867 97867 10875 10875\n"
     ]
    }
   ],
   "source": [
    "print(len(xTrain3),len(yTrain3),len(xTest3),len(yTest3))"
   ]
  },
  {
   "cell_type": "code",
   "execution_count": 60,
   "metadata": {},
   "outputs": [
    {
     "data": {
      "text/plain": [
       "Index(['product_price', 'freight_value', 'review_score', 'seller_lat',\n",
       "       'sellet_lng', 'customer_lat', 'customer_lng'],\n",
       "      dtype='object')"
      ]
     },
     "execution_count": 60,
     "metadata": {},
     "output_type": "execute_result"
    }
   ],
   "source": [
    "xTrain3.columns"
   ]
  },
  {
   "cell_type": "code",
   "execution_count": 61,
   "metadata": {},
   "outputs": [
    {
     "data": {
      "text/plain": [
       "8920      6817\n",
       "36990    13468\n",
       "50477     3962\n",
       "88685    13360\n",
       "94099     9586\n",
       "         ...  \n",
       "24401    22057\n",
       "82966     6689\n",
       "53882     7413\n",
       "11761     9454\n",
       "21256    14268\n",
       "Name: product_id, Length: 97867, dtype: int64"
      ]
     },
     "execution_count": 61,
     "metadata": {},
     "output_type": "execute_result"
    }
   ],
   "source": [
    "yTrain3"
   ]
  },
  {
   "cell_type": "code",
   "execution_count": 62,
   "metadata": {},
   "outputs": [
    {
     "data": {
      "text/plain": [
       "31517"
      ]
     },
     "execution_count": 62,
     "metadata": {},
     "output_type": "execute_result"
    }
   ],
   "source": [
    "len(new_df[\"product_id\"].unique())"
   ]
  },
  {
   "cell_type": "code",
   "execution_count": 63,
   "metadata": {},
   "outputs": [
    {
     "data": {
      "text/plain": [
       "7"
      ]
     },
     "execution_count": 63,
     "metadata": {},
     "output_type": "execute_result"
    }
   ],
   "source": [
    "len(xTrain3.columns)"
   ]
  },
  {
   "cell_type": "code",
   "execution_count": 64,
   "metadata": {},
   "outputs": [
    {
     "data": {
      "text/plain": [
       "(97867, 7)"
      ]
     },
     "execution_count": 64,
     "metadata": {},
     "output_type": "execute_result"
    }
   ],
   "source": [
    "xTrain3.shape"
   ]
  },
  {
   "cell_type": "code",
   "execution_count": 65,
   "metadata": {},
   "outputs": [
    {
     "data": {
      "text/plain": [
       "(97867,)"
      ]
     },
     "execution_count": 65,
     "metadata": {},
     "output_type": "execute_result"
    }
   ],
   "source": [
    "yTrain3.shape"
   ]
  },
  {
   "cell_type": "code",
   "execution_count": 66,
   "metadata": {},
   "outputs": [],
   "source": [
    "model3=tf.keras.models.Sequential([\n",
    "tf.keras.layers.Dense(10,input_dim=7,kernel_initializer=\"normal\",activation=\"relu\"),\n",
    "tf.keras.layers.Dense(10,kernel_initializer=\"normal\",activation=\"relu\"),\n",
    "tf.keras.layers.Dense(6,kernel_initializer=\"normal\",activation=\"relu\"),\n",
    "tf.keras.layers.Dense(10,kernel_initializer=\"normal\",activation=\"relu\"),\n",
    "tf.keras.layers.Dense(31517, activation='softmax')\n",
    "])\n"
   ]
  },
  {
   "cell_type": "code",
   "execution_count": 67,
   "metadata": {},
   "outputs": [
    {
     "name": "stdout",
     "output_type": "stream",
     "text": [
      "Model: \"sequential_2\"\n",
      "_________________________________________________________________\n",
      "Layer (type)                 Output Shape              Param #   \n",
      "=================================================================\n",
      "dense_9 (Dense)              (None, 10)                80        \n",
      "_________________________________________________________________\n",
      "dense_10 (Dense)             (None, 10)                110       \n",
      "_________________________________________________________________\n",
      "dense_11 (Dense)             (None, 6)                 66        \n",
      "_________________________________________________________________\n",
      "dense_12 (Dense)             (None, 10)                70        \n",
      "_________________________________________________________________\n",
      "dense_13 (Dense)             (None, 31517)             346687    \n",
      "=================================================================\n",
      "Total params: 347,013\n",
      "Trainable params: 347,013\n",
      "Non-trainable params: 0\n",
      "_________________________________________________________________\n"
     ]
    }
   ],
   "source": [
    "model3.summary()"
   ]
  },
  {
   "cell_type": "code",
   "execution_count": 68,
   "metadata": {},
   "outputs": [],
   "source": [
    "model3.compile(loss='sparse_categorical_crossentropy', optimizer='adam', metrics=['accuracy'])"
   ]
  },
  {
   "cell_type": "code",
   "execution_count": 69,
   "metadata": {},
   "outputs": [
    {
     "name": "stdout",
     "output_type": "stream",
     "text": [
      "WARNING:tensorflow:Falling back from v2 loop because of error: Failed to find data adapter that can handle input: <class 'pandas.core.frame.DataFrame'>, <class 'NoneType'>\n",
      "Train on 97867 samples\n",
      "Epoch 1/50\n",
      "97867/97867 [==============================] - 338s 3ms/sample - loss: 9.9867 - accuracy: 0.0045\n",
      "Epoch 2/50\n",
      "97867/97867 [==============================] - 346s 4ms/sample - loss: 9.5662 - accuracy: 0.0047\n",
      "Epoch 3/50\n",
      "97867/97867 [==============================] - 351s 4ms/sample - loss: 9.3548 - accuracy: 0.0068\n",
      "Epoch 4/50\n",
      "97867/97867 [==============================] - 348s 4ms/sample - loss: 9.0220 - accuracy: 0.0089\n",
      "Epoch 5/50\n",
      "97867/97867 [==============================] - 364s 4ms/sample - loss: 8.8138 - accuracy: 0.0113\n",
      "Epoch 6/50\n",
      "97867/97867 [==============================] - 374s 4ms/sample - loss: 8.6807 - accuracy: 0.0126\n",
      "Epoch 7/50\n",
      "97867/97867 [==============================] - 346s 4ms/sample - loss: 8.5696 - accuracy: 0.0133\n",
      "Epoch 8/50\n",
      "97867/97867 [==============================] - 345s 4ms/sample - loss: 8.4850 - accuracy: 0.0143\n",
      "Epoch 9/50\n",
      "97867/97867 [==============================] - 337s 3ms/sample - loss: 8.4194 - accuracy: 0.0160 - loss: 8.4\n",
      "Epoch 10/50\n",
      "97867/97867 [==============================] - 348s 4ms/sample - loss: 8.3634 - accuracy: 0.0168\n",
      "Epoch 11/50\n",
      "97867/97867 [==============================] - 366s 4ms/sample - loss: 8.3154 - accuracy: 0.0171\n",
      "Epoch 12/50\n",
      "97867/97867 [==============================] - 353s 4ms/sample - loss: 8.2739 - accuracy: 0.0173\n",
      "Epoch 13/50\n",
      "97867/97867 [==============================] - 354s 4ms/sample - loss: 8.2360 - accuracy: 0.0181\n",
      "Epoch 14/50\n",
      "97867/97867 [==============================] - 354s 4ms/sample - loss: 8.2029 - accuracy: 0.0186\n",
      "Epoch 15/50\n",
      "97867/97867 [==============================] - 360s 4ms/sample - loss: 8.1692 - accuracy: 0.0199\n",
      "Epoch 16/50\n",
      "97867/97867 [==============================] - 359s 4ms/sample - loss: 8.1391 - accuracy: 0.0209\n",
      "Epoch 17/50\n",
      "97867/97867 [==============================] - 388s 4ms/sample - loss: 8.1112 - accuracy: 0.0205\n",
      "Epoch 18/50\n",
      "97867/97867 [==============================] - 364s 4ms/sample - loss: 8.0833 - accuracy: 0.0214\n",
      "Epoch 19/50\n",
      "97867/97867 [==============================] - 363s 4ms/sample - loss: 8.0482 - accuracy: 0.0213\n",
      "Epoch 20/50\n",
      "97867/97867 [==============================] - 367s 4ms/sample - loss: 7.9568 - accuracy: 0.0237\n",
      "Epoch 21/50\n",
      "97867/97867 [==============================] - 365s 4ms/sample - loss: 7.8807 - accuracy: 0.0237\n",
      "Epoch 22/50\n",
      "97867/97867 [==============================] - 366s 4ms/sample - loss: 7.8174 - accuracy: 0.0238 -\n",
      "Epoch 23/50\n",
      "97867/97867 [==============================] - 369s 4ms/sample - loss: 7.7686 - accuracy: 0.0242\n",
      "Epoch 24/50\n",
      "97867/97867 [==============================] - 370s 4ms/sample - loss: 7.7253 - accuracy: 0.0250\n",
      "Epoch 25/50\n",
      "97867/97867 [==============================] - 372s 4ms/sample - loss: 7.6954 - accuracy: 0.0252\n",
      "Epoch 26/50\n",
      "97867/97867 [==============================] - 369s 4ms/sample - loss: 7.6657 - accuracy: 0.0251 - loss: 7.665\n",
      "Epoch 27/50\n",
      "97867/97867 [==============================] - 375s 4ms/sample - loss: 7.6394 - accuracy: 0.0260\n",
      "Epoch 28/50\n",
      "97867/97867 [==============================] - 373s 4ms/sample - loss: 7.6202 - accuracy: 0.0256 - loss: 7.6200 - accuracy: 0.\n",
      "Epoch 29/50\n",
      "97867/97867 [==============================] - 370s 4ms/sample - loss: 7.5993 - accuracy: 0.0259\n",
      "Epoch 30/50\n",
      "97867/97867 [==============================] - 373s 4ms/sample - loss: 7.5825 - accuracy: 0.0262\n",
      "Epoch 31/50\n",
      "97867/97867 [==============================] - 372s 4ms/sample - loss: 7.5680 - accuracy: 0.0262\n",
      "Epoch 32/50\n",
      "97867/97867 [==============================] - 373s 4ms/sample - loss: 7.5530 - accuracy: 0.0269\n",
      "Epoch 33/50\n",
      "97867/97867 [==============================] - 373s 4ms/sample - loss: 7.5452 - accuracy: 0.0270\n",
      "Epoch 34/50\n",
      "97867/97867 [==============================] - 15232s 156ms/sample - loss: 7.5295 - accuracy: 0.0269\n",
      "Epoch 35/50\n",
      "97867/97867 [==============================] - 408s 4ms/sample - loss: 7.5196 - accuracy: 0.0270\n",
      "Epoch 36/50\n",
      "97867/97867 [==============================] - 385s 4ms/sample - loss: 7.5077 - accuracy: 0.0273\n",
      "Epoch 37/50\n",
      "97867/97867 [==============================] - 382s 4ms/sample - loss: 7.4989 - accuracy: 0.0277\n",
      "Epoch 38/50\n",
      "97867/97867 [==============================] - 2282s 23ms/sample - loss: 7.4911 - accuracy: 0.0274\n",
      "Epoch 39/50\n",
      "97867/97867 [==============================] - 348s 4ms/sample - loss: 7.4818 - accuracy: 0.0273\n",
      "Epoch 40/50\n",
      "97867/97867 [==============================] - 309s 3ms/sample - loss: 7.4719 - accuracy: 0.0281\n",
      "Epoch 41/50\n",
      "97867/97867 [==============================] - 304s 3ms/sample - loss: 7.4613 - accuracy: 0.0277\n",
      "Epoch 42/50\n",
      "97867/97867 [==============================] - 9867s 101ms/sample - loss: 7.4562 - accuracy: 0.0285\n",
      "Epoch 43/50\n",
      "97867/97867 [==============================] - 360s 4ms/sample - loss: 7.4526 - accuracy: 0.0281\n",
      "Epoch 44/50\n",
      "97867/97867 [==============================] - 452s 5ms/sample - loss: 7.4435 - accuracy: 0.0280\n",
      "Epoch 45/50\n",
      "97867/97867 [==============================] - 386s 4ms/sample - loss: 7.4358 - accuracy: 0.0285\n",
      "Epoch 46/50\n",
      "97867/97867 [==============================] - 432s 4ms/sample - loss: 7.4326 - accuracy: 0.0285\n",
      "Epoch 47/50\n",
      "97867/97867 [==============================] - 414s 4ms/sample - loss: 7.4232 - accuracy: 0.0281\n",
      "Epoch 48/50\n",
      "97867/97867 [==============================] - 383s 4ms/sample - loss: 7.4163 - accuracy: 0.0287\n",
      "Epoch 49/50\n",
      "97867/97867 [==============================] - 420s 4ms/sample - loss: 7.4111 - accuracy: 0.0289\n",
      "Epoch 50/50\n",
      "97867/97867 [==============================] - 362s 4ms/sample - loss: 7.4054 - accuracy: 0.0290\n"
     ]
    },
    {
     "data": {
      "text/plain": [
       "<tensorflow.python.keras.callbacks.History at 0x25f82a4f978>"
      ]
     },
     "execution_count": 69,
     "metadata": {},
     "output_type": "execute_result"
    }
   ],
   "source": [
    "model3.fit(xTrain3,yTrain3,epochs=50)"
   ]
  },
  {
   "cell_type": "code",
   "execution_count": 70,
   "metadata": {},
   "outputs": [
    {
     "name": "stdout",
     "output_type": "stream",
     "text": [
      "Generate predictions for 3 samples\n",
      "WARNING:tensorflow:Falling back from v2 loop because of error: Failed to find data adapter that can handle input: <class 'pandas.core.frame.DataFrame'>, <class 'NoneType'>\n",
      "predictions shape: (3, 71)\n"
     ]
    }
   ],
   "source": [
    "print(\"Generate predictions for 3 samples\")\n",
    "predictions3 = model1.predict(xTest3[:3])\n",
    "print(\"predictions shape:\", predictions3.shape)"
   ]
  },
  {
   "cell_type": "code",
   "execution_count": 71,
   "metadata": {},
   "outputs": [
    {
     "name": "stdout",
     "output_type": "stream",
     "text": [
      "[[1.90449774e-03 3.42191430e-03 2.85983295e-03 1.42344928e-04\n",
      "  2.94885365e-03 4.24261913e-02 3.12776528e-02 1.16117410e-01\n",
      "  3.42189963e-03 3.82102880e-04 1.66491512e-03 2.46515210e-05\n",
      "  8.47224379e-04 6.44277141e-04 4.21660999e-03 7.20622167e-02\n",
      "  7.76933553e-03 8.65023118e-03 3.09712766e-03 2.15545506e-03\n",
      "  4.55183350e-02 1.65803044e-03 7.09309010e-04 6.20505016e-05\n",
      "  9.76311509e-04 1.67725710e-04 6.91332715e-03 1.82828458e-04\n",
      "  9.35039576e-03 6.53845636e-05 1.04913290e-03 2.95599271e-03\n",
      "  1.52810477e-04 9.83229140e-04 1.97994779e-03 3.37608944e-05\n",
      "  2.24651350e-03 7.67786405e-04 1.29244139e-03 6.79928362e-02\n",
      "  7.59863062e-03 6.02173619e-04 3.41492482e-02 9.16743875e-02\n",
      "  5.41059673e-03 2.95294821e-03 1.76293270e-05 6.15230156e-03\n",
      "  7.76982773e-03 4.82608899e-02 4.12072614e-03 3.58137139e-03\n",
      "  2.00559691e-04 1.49285151e-02 2.11386965e-03 2.91044591e-04\n",
      "  6.78908033e-03 2.00098548e-02 3.23102198e-04 3.19408141e-02\n",
      "  1.90435592e-02 2.58118162e-05 1.70597469e-03 7.24971155e-03\n",
      "  8.94752971e-04 7.89916888e-02 2.39693467e-02 9.48397152e-04\n",
      "  1.18996352e-02 3.96917537e-02 7.55989701e-02]\n",
      " [2.22735689e-03 1.86773750e-03 1.69915636e-03 5.60273940e-04\n",
      "  3.91542632e-03 4.58765179e-02 2.71573067e-02 7.22791180e-02\n",
      "  9.33008362e-03 1.03650347e-03 5.85077703e-03 2.59095337e-04\n",
      "  2.63674953e-03 1.27194740e-03 1.37673339e-06 5.72817624e-02\n",
      "  1.73997805e-02 9.45163053e-03 3.56334099e-03 1.46840501e-03\n",
      "  1.99069940e-02 4.37653763e-03 1.73346582e-03 1.19093701e-03\n",
      "  7.30028050e-03 1.36773719e-03 3.34818289e-02 1.05392956e-03\n",
      "  3.10086254e-02 8.82034219e-05 1.74213690e-03 3.43154254e-03\n",
      "  5.29150653e-04 1.80223316e-03 4.37111501e-03 1.22361770e-03\n",
      "  9.93235130e-03 6.86686905e-03 4.59738862e-04 7.97843784e-02\n",
      "  1.25553471e-03 7.41630720e-05 2.44849809e-02 9.73327085e-02\n",
      "  1.37243150e-02 8.71860888e-04 4.53298941e-04 2.28037522e-03\n",
      "  5.61905466e-03 7.64374509e-02 8.19924113e-04 2.04731454e-03\n",
      "  2.66761417e-05 5.09553961e-03 4.18660464e-03 6.95748138e-04\n",
      "  5.29634533e-03 5.90574811e-04 8.22417205e-04 2.75925342e-02\n",
      "  1.56859625e-02 2.57157473e-09 3.19587090e-03 6.74748421e-03\n",
      "  6.23374654e-04 7.14582279e-02 2.50679497e-02 6.55431184e-04\n",
      "  6.90328628e-02 3.34996320e-02 2.75396593e-02]\n",
      " [2.23771948e-03 3.40561359e-03 3.40905902e-03 2.25951866e-04\n",
      "  3.10261315e-03 4.17392924e-02 3.15310881e-02 1.07006736e-01\n",
      "  4.49256366e-03 6.20564388e-04 2.51152832e-03 6.74468247e-05\n",
      "  1.12622883e-03 9.02857690e-04 2.27320008e-03 6.61501512e-02\n",
      "  9.55378357e-03 9.44002625e-03 3.69430869e-03 2.34007440e-03\n",
      "  4.12602760e-02 2.24268669e-03 9.71345522e-04 1.41065801e-04\n",
      "  1.64315780e-03 2.72049161e-04 7.82056060e-03 3.46379093e-04\n",
      "  1.26742739e-02 1.09085617e-04 1.42734696e-03 3.48760514e-03\n",
      "  3.02985543e-04 1.36845745e-03 2.42979196e-03 8.71320663e-05\n",
      "  3.33546288e-03 1.29894819e-03 1.23928662e-03 6.97632581e-02\n",
      "  6.90274872e-03 6.83872204e-04 3.62891592e-02 9.55816358e-02\n",
      "  6.68381806e-03 2.82457168e-03 3.27083835e-05 6.27798727e-03\n",
      "  8.39240476e-03 4.99859862e-02 4.32728464e-03 4.20780201e-03\n",
      "  1.98871217e-04 1.52637530e-02 2.71609542e-03 4.26577782e-04\n",
      "  7.81625044e-03 1.17189772e-02 4.67469770e-04 3.24504897e-02\n",
      "  2.01476086e-02 1.44664427e-05 2.07893667e-03 7.97650311e-03\n",
      "  1.08903239e-03 7.81578198e-02 2.54840832e-02 1.32107385e-03\n",
      "  1.53742358e-02 4.22586128e-02 6.47971556e-02]]\n"
     ]
    }
   ],
   "source": [
    "print(predictions3)"
   ]
  },
  {
   "cell_type": "code",
   "execution_count": 72,
   "metadata": {},
   "outputs": [
    {
     "name": "stdout",
     "output_type": "stream",
     "text": [
      "46964    15799\n",
      "75136    26118\n",
      "58015     6568\n",
      "Name: product_id, dtype: int64\n"
     ]
    }
   ],
   "source": [
    "print(yTest3[:3])"
   ]
  },
  {
   "cell_type": "code",
   "execution_count": 73,
   "metadata": {},
   "outputs": [
    {
     "name": "stdout",
     "output_type": "stream",
     "text": [
      "1.0\n",
      "[1.9044977e-03 3.4219143e-03 2.8598330e-03 1.4234493e-04 2.9488537e-03\n",
      " 4.2426191e-02 3.1277653e-02 1.1611741e-01 3.4218996e-03 3.8210288e-04\n",
      " 1.6649151e-03 2.4651521e-05 8.4722438e-04 6.4427714e-04 4.2166100e-03\n",
      " 7.2062217e-02 7.7693355e-03 8.6502312e-03 3.0971277e-03 2.1554551e-03\n",
      " 4.5518335e-02 1.6580304e-03 7.0930901e-04 6.2050502e-05 9.7631151e-04\n",
      " 1.6772571e-04 6.9133271e-03 1.8282846e-04 9.3503958e-03 6.5384564e-05\n",
      " 1.0491329e-03 2.9559927e-03 1.5281048e-04 9.8322914e-04 1.9799478e-03\n",
      " 3.3760894e-05 2.2465135e-03 7.6778641e-04 1.2924414e-03 6.7992836e-02\n",
      " 7.5986306e-03 6.0217362e-04 3.4149248e-02 9.1674387e-02 5.4105967e-03\n",
      " 2.9529482e-03 1.7629327e-05 6.1523016e-03 7.7698277e-03 4.8260890e-02\n",
      " 4.1207261e-03 3.5813714e-03 2.0055969e-04 1.4928515e-02 2.1138696e-03\n",
      " 2.9104459e-04 6.7890803e-03 2.0009855e-02 3.2310220e-04 3.1940814e-02\n",
      " 1.9043559e-02 2.5811816e-05 1.7059747e-03 7.2497115e-03 8.9475297e-04\n",
      " 7.8991689e-02 2.3969347e-02 9.4839715e-04 1.1899635e-02 3.9691754e-02\n",
      " 7.5598970e-02]\n"
     ]
    }
   ],
   "source": [
    "print(np.sum(predictions3[0]))\n",
    "print(predictions3[0])"
   ]
  },
  {
   "cell_type": "code",
   "execution_count": 74,
   "metadata": {},
   "outputs": [],
   "source": [
    "classes_product_id = prob_to_class(predictions3[0])"
   ]
  },
  {
   "cell_type": "code",
   "execution_count": 75,
   "metadata": {},
   "outputs": [
    {
     "name": "stdout",
     "output_type": "stream",
     "text": [
      "[15, 70, 65, 43, 7]\n"
     ]
    }
   ],
   "source": [
    "print(classes_product_id)"
   ]
  },
  {
   "cell_type": "code",
   "execution_count": 76,
   "metadata": {},
   "outputs": [],
   "source": [
    "model3.save(\"product_id_model.h5\")"
   ]
  },
  {
   "cell_type": "code",
   "execution_count": 77,
   "metadata": {},
   "outputs": [],
   "source": [
    "pred_data = new_df[['product_price', 'freight_value', 'review_score', 'seller_lat',\n",
    "            'sellet_lng', 'customer_lat', 'customer_lng']]"
   ]
  },
  {
   "cell_type": "code",
   "execution_count": 78,
   "metadata": {},
   "outputs": [
    {
     "data": {
      "text/plain": [
       "108742"
      ]
     },
     "execution_count": 78,
     "metadata": {},
     "output_type": "execute_result"
    }
   ],
   "source": [
    "len(pred_data)"
   ]
  },
  {
   "cell_type": "code",
   "execution_count": null,
   "metadata": {},
   "outputs": [],
   "source": []
  }
 ],
 "metadata": {
  "kernelspec": {
   "display_name": "Python 3",
   "language": "python",
   "name": "python3"
  },
  "language_info": {
   "codemirror_mode": {
    "name": "ipython",
    "version": 3
   },
   "file_extension": ".py",
   "mimetype": "text/x-python",
   "name": "python",
   "nbconvert_exporter": "python",
   "pygments_lexer": "ipython3",
   "version": "3.7.3"
  }
 },
 "nbformat": 4,
 "nbformat_minor": 4
}
